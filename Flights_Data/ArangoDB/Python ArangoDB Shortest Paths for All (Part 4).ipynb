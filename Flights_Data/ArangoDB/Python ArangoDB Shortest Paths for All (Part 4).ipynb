{
 "cells": [
  {
   "cell_type": "markdown",
   "metadata": {
    "vscode": {
     "languageId": "plaintext"
    }
   },
   "source": [
    "## Graph Analytics with ArangoDB (Python-Arango Library) (Part 4)"
   ]
  },
  {
   "cell_type": "markdown",
   "metadata": {
    "vscode": {
     "languageId": "plaintext"
    }
   },
   "source": [
    "### Install Required Libraries"
   ]
  },
  {
   "cell_type": "code",
   "execution_count": 1,
   "metadata": {},
   "outputs": [],
   "source": [
    "!pip3 install --upgrade pip"
   ]
  },
  {
   "cell_type": "code",
   "execution_count": 2,
   "metadata": {},
   "outputs": [],
   "source": [
    "%pip install python-arango\n",
    "%pip install networkx\n",
    "%pip install numpy\n",
    "%pip install scipy\n",
    "%pip install tabulate\n",
    "%pip install geopandas"
   ]
  },
  {
   "cell_type": "markdown",
   "metadata": {
    "vscode": {
     "languageId": "plaintext"
    }
   },
   "source": [
    "### Library Imports"
   ]
  },
  {
   "cell_type": "code",
   "execution_count": 3,
   "metadata": {},
   "outputs": [],
   "source": [
    "import sys, csv\n",
    "from statistics import mode, StatisticsError\n",
    "from typing import Dict\n",
    "\n",
    "from arango import ArangoClient\n",
    "import networkx as nx\n",
    "import pkg_resources\n",
    "\n",
    "import numpy as np\n",
    "import scipy\n",
    "from tabulate import tabulate\n",
    "import geopandas as gpd"
   ]
  },
  {
   "cell_type": "markdown",
   "metadata": {},
   "source": [
    "### Library Versions"
   ]
  },
  {
   "cell_type": "code",
   "execution_count": 4,
   "metadata": {},
   "outputs": [
    {
     "name": "stdout",
     "output_type": "stream",
     "text": [
      " Software & Library Versions \n",
      "----------------|------------\n",
      "         Python | 3.11.4\n",
      "  Arango Client | 8.1.2\n",
      "       NetworkX | 3.4.2\n",
      "          NumPy | 2.1.3\n",
      "          SciPy | 1.14.1\n"
     ]
    }
   ],
   "source": [
    "l = 15\n",
    "r = 14\n",
    "\n",
    "arango_version = pkg_resources.get_distribution(\"python-arango\").version\n",
    "\n",
    "print(\"Software & Library Versions\".center(l+r))\n",
    "print('-'* (l + 1) + '|' + '-' * (r - 2))\n",
    "print('Python'.rjust(l), '|', sys.version[0:6])\n",
    "print('Arango Client'.rjust(l), '|', arango_version)\n",
    "print('NetworkX'.rjust(l), '|', nx.__version__)\n",
    "print('NumPy'.rjust(l), '|', np.__version__)\n",
    "print('SciPy'.rjust(l), '|', scipy.__version__)"
   ]
  },
  {
   "cell_type": "markdown",
   "metadata": {},
   "source": [
    "### Import Dataset"
   ]
  },
  {
   "cell_type": "code",
   "execution_count": 5,
   "metadata": {},
   "outputs": [],
   "source": [
    "# Connect to ArangoDB\n",
    "client = ArangoClient()\n",
    "db = client.db('_system', username='root', password='testpassword')\n",
    "\n",
    "# Access collections\n",
    "nodes = db.collection('airports')\n",
    "edges = db.collection('flights')\n",
    "\n",
    "# Fetch graph data\n",
    "graph_data = {\n",
    "    'nodes': list(nodes.all()),\n",
    "    'edges': list(edges.all())\n",
    "}\n",
    "\n",
    "flightGraph = nx.MultiDiGraph()\n",
    "\n",
    "# Add nodes\n",
    "for node in graph_data['nodes']:\n",
    "    flightGraph.add_node(node['_key'], **node)\n",
    "\n",
    "# Add edges\n",
    "for edge in graph_data['edges']:\n",
    "    flightGraph.add_edge(\n",
    "        edge['_from'].split('/')[-1],\n",
    "        edge['_to'].split('/')[-1],\n",
    "        **edge\n",
    "    )"
   ]
  },
  {
   "cell_type": "markdown",
   "metadata": {},
   "source": [
    "### Some Introductory Commands"
   ]
  },
  {
   "cell_type": "markdown",
   "metadata": {},
   "source": [
    "#### Show Number of Airports"
   ]
  },
  {
   "cell_type": "code",
   "execution_count": 6,
   "metadata": {},
   "outputs": [
    {
     "name": "stdout",
     "output_type": "stream",
     "text": [
      "[{'NumberOfAirports': 365}]\n"
     ]
    }
   ],
   "source": [
    "query = \"\"\"\n",
    "FOR airport IN airports\n",
    "    COLLECT WITH COUNT INTO numAirports\n",
    "RETURN { NumberOfAirports: numAirports }\n",
    "\"\"\"\n",
    "result = db.aql.execute(query)\n",
    "print(list(result))"
   ]
  },
  {
   "cell_type": "markdown",
   "metadata": {},
   "source": [
    "#### Show Number of Flights"
   ]
  },
  {
   "cell_type": "code",
   "execution_count": 7,
   "metadata": {},
   "outputs": [
    {
     "name": "stdout",
     "output_type": "stream",
     "text": [
      "[{'NumberOfFlights': 992298}]\n"
     ]
    }
   ],
   "source": [
    "query = \"\"\"\n",
    "FOR flight IN flights\n",
    "    COLLECT WITH COUNT INTO numFlights\n",
    "RETURN { NumberOfFlights: numFlights }\n",
    "\"\"\"\n",
    "result = db.aql.execute(query)\n",
    "\n",
    "print(list(result))"
   ]
  },
  {
   "cell_type": "markdown",
   "metadata": {},
   "source": [
    "#### Add Airline Names for Each Airline Code"
   ]
  },
  {
   "cell_type": "code",
   "execution_count": 8,
   "metadata": {},
   "outputs": [],
   "source": [
    "# Load CSV file\n",
    "with open('../import/airlines.csv', 'r') as file:\n",
    "    reader = csv.DictReader(file)\n",
    "    for row in reader:\n",
    "        query = \"\"\"\n",
    "        FOR flight IN flights\n",
    "            FILTER flight.airline_id == @airline_id\n",
    "            UPDATE flight WITH {\n",
    "                airline_name: @airline_name,\n",
    "                airline_code: @airline_code\n",
    "            } IN flights\n",
    "        \"\"\"\n",
    "        db.aql.execute(query, bind_vars={\n",
    "            'airline_id': row['airline_id'],\n",
    "            'airline_name': row['airline_name'],\n",
    "            'airline_code': row['airline_code']\n",
    "        })"
   ]
  },
  {
   "cell_type": "markdown",
   "metadata": {},
   "source": [
    "#### Add Airport Name, City, & State"
   ]
  },
  {
   "cell_type": "code",
   "execution_count": 9,
   "metadata": {},
   "outputs": [],
   "source": [
    "with open('../import/airports.csv', 'r') as file:\n",
    "    reader = csv.DictReader(file)\n",
    "    for row in reader:\n",
    "        query = \"\"\"\n",
    "        FOR airport IN airports\n",
    "            FILTER airport.unique_id == @unique_id\n",
    "            UPDATE airport WITH {\n",
    "                airport_code: @airport_code,\n",
    "                airport_name: @airport_name,\n",
    "                airport_city: @city_name,\n",
    "                airportState_code: @state,\n",
    "                airportState_name: @state_name\n",
    "            } IN airports\n",
    "        \"\"\"\n",
    "        db.aql.execute(query, bind_vars={\n",
    "            'unique_id': row['unique_id'],\n",
    "            'airport_code': row['airport_code'],\n",
    "            'airport_name': row['airport_name'],\n",
    "            'city_name': row['city_name'],\n",
    "            'state': row['state'],\n",
    "            'state_name': row['state_name']\n",
    "        })"
   ]
  },
  {
   "cell_type": "markdown",
   "metadata": {},
   "source": [
    "#### Retrieve Number of Distinct States"
   ]
  },
  {
   "cell_type": "code",
   "execution_count": 10,
   "metadata": {},
   "outputs": [
    {
     "name": "stdout",
     "output_type": "stream",
     "text": [
      "[992298]\n"
     ]
    }
   ],
   "source": [
    "query = \"\"\"\n",
    "FOR flight IN flights\n",
    "    COLLECT state_name = flight.state_name\n",
    "    WITH COUNT INTO distinct_state_names\n",
    "RETURN distinct_state_names\n",
    "\"\"\"\n",
    "result = db.aql.execute(query)\n",
    "\n",
    "print(list(result))"
   ]
  },
  {
   "cell_type": "markdown",
   "metadata": {},
   "source": [
    "### Utility Functions"
   ]
  },
  {
   "cell_type": "markdown",
   "metadata": {},
   "source": [
    "### Functions to Create Maps Between Ids & Attribute Values"
   ]
  },
  {
   "cell_type": "code",
   "execution_count": 11,
   "metadata": {},
   "outputs": [
    {
     "name": "stdout",
     "output_type": "stream",
     "text": [
      "{'189': 'FWA', '191': 'BZN', '193': 'RDM', '195': 'BKG', '197': 'MQT', '199': 'JAC', '201': 'MSP', '203': 'HIB', '205': 'UCA', '207': 'AUS', '209': 'HDN', '211': 'MAZ', '213': 'ANI', '215': 'CDC', '217': 'AMA', '219': 'PSC', '221': 'PVD', '223': 'AGS', '225': 'AVL', '227': 'CVG', '229': 'PLN', '231': 'PBI', '233': 'LMT', '235': 'BTM', '237': 'CPR', '239': 'ITH', '241': 'UTM', '243': 'CRW', '245': 'YUM', '247': 'DHN', '249': 'ATL', '251': 'MKG', '253': 'JAN', '255': 'LCH', '257': 'DIK', '259': 'LNY', '261': 'EWN', '263': 'ROW', '265': 'ITO', '267': 'ELM', '269': 'MWH', '271': 'HOB', '273': 'MCO', '275': 'EGE', '277': 'SLC', '279': 'CHO', '281': 'ECP', '283': 'ORD', '285': 'ISN', '287': 'SAN', '289': 'PDX', '291': 'GSO', '293': 'PIH', '295': 'MCN', '297': 'BNA', '299': 'SEA', '301': 'SAT', '303': 'SMX', '305': 'FSD', '307': 'BRD', '309': 'HOU', '311': 'EKO', '313': 'ERI', '315': 'GRR', '317': 'BFL', '319': 'SPN', '321': 'TUL', '323': 'INL', '325': 'DUT', '327': 'ATW', '329': 'HRL', '331': 'BOI', '333': 'ACK', '335': 'GJT', '337': 'LNK', '339': 'PBG', '341': 'RDU', '343': 'DRO', '345': 'SAF', '347': 'RAP', '349': 'GEG', '351': 'FOE', '353': 'AEX', '355': 'HYA', '357': 'VPS', '359': 'BOS', '361': 'EWR', '363': 'JNU', '365': 'RFD', '367': 'TYR', '369': 'ABR', '371': 'SBP', '373': 'MOT', '375': 'TUS', '377': 'OGG', '379': 'JMS', '381': 'UST', '383': 'XNA', '385': 'CLD', '387': 'SYR', '389': 'CAK', '391': 'VCT', '393': 'PFN', '395': 'PSP', '397': 'MDW', '399': 'IAH', '401': 'PIA', '403': 'ACY', '405': 'CEC', '407': 'HYS', '409': 'STL', '411': 'GST', '413': 'ONT', '415': 'OKC', '417': 'SGF', '419': 'PHL', '421': 'MIA', '423': 'LBB', '425': 'FNT', '427': 'HLN', '429': 'LFT', '431': 'TWF', '433': 'FAR', '435': 'BIL', '437': 'MSY', '439': 'GUC', '441': 'EFD', '443': 'BIS', '445': 'SBN', '447': 'STX', '449': 'COU', '451': 'MIB', '453': 'IDA', '455': 'HTS', '457': 'BJI', '459': 'DCA', '461': 'EYW', '463': 'SMF', '465': 'SGU', '467': 'RKS', '469': 'SUN', '471': 'MSN', '473': 'MFR', '475': 'ALO', '477': 'DVL', '479': 'FLG', '481': 'FLL', '483': 'FCA', '485': 'CAE', '487': 'SCE', '489': 'ABE', '491': 'BGM', '493': 'WYS', '495': 'RSW', '497': 'HNL', '499': 'AZA', '501': 'MEI', '503': 'LAX', '505': 'MVY', '507': 'DRT', '509': 'TEX', '511': 'LRD', '513': 'BRO', '515': 'PHF', '517': 'STT', '519': 'MKE', '521': 'HPN', '523': 'ILE', '525': 'BHM', '527': 'MBS', '529': 'HVN', '531': 'DSM', '533': 'TVC', '535': 'CIU', '537': 'LGB', '539': 'BWI', '541': 'CYS', '543': 'SJC', '545': 'DAY', '547': 'MYR', '549': 'LGA', '551': 'CMX', '553': 'ILG', '555': 'ESC', '557': 'BUR', '559': 'LAW', '561': 'VEL', '563': 'RIC', '565': 'ISO', '567': 'MTJ', '569': 'SHV', '571': 'SIT', '573': 'GCK', '575': 'PNS', '577': 'BQN', '579': 'FAT', '581': 'APF', '583': 'KSM', '585': 'DTW', '587': 'FAY', '589': 'MLB', '591': 'PAH', '593': 'BTR', '595': 'MHT', '597': 'MLI', '599': 'TYS', '601': 'CMI', '603': 'YAK', '605': 'WRG', '607': 'PUB', '609': 'GPT', '611': 'LWB', '613': 'JLN', '615': 'GSP', '617': 'ART', '619': 'PSG', '621': 'SHD', '623': 'SWF', '625': 'TLH', '627': 'SPS', '629': 'OTZ', '631': 'FLO', '633': 'MSO', '635': 'GCC', '637': 'IAG', '639': 'LBE', '641': 'CNY', '643': 'EVV', '645': 'GGG', '647': 'PPG', '649': 'OXR', '651': 'IPL', '653': 'GTF', '655': 'TOL', '657': 'ANC', '659': 'CMH', '661': 'ABQ', '663': 'BRW', '665': 'LIH', '667': 'ROP', '669': 'IMT', '671': 'RDD', '673': 'CLT', '675': 'SNA', '677': 'MAF', '679': 'ASE', '681': 'LAS', '683': 'CWA', '685': 'OME', '687': 'SUX', '689': 'TXK', '691': 'CRP', '693': 'ROR', '695': 'CLL', '697': 'LWS', '699': 'PIE', '701': 'MFE', '703': 'AZO', '705': 'GUM', '707': 'SJU', '709': 'BUF', '711': 'LIT', '713': 'ROA', '715': 'MHK', '717': 'BTV', '719': 'VLD', '721': 'GTR', '723': 'ROC', '725': 'PHX', '727': 'SJT', '729': 'MGM', '731': 'APN', '733': 'IYK', '735': 'CIC', '737': 'EAU', '739': 'PSE', '741': 'TRI', '743': 'DFW', '745': 'COD', '747': 'PIT', '749': 'PIB', '751': 'GFK', '753': 'BQK', '755': 'LAN', '757': 'CID', '759': 'BMI', '761': 'KOA', '763': 'DAL', '765': 'OTH', '767': 'RHI', '769': 'OAK', '771': 'BDL', '773': 'SFO', '775': 'ILM', '777': 'ADK', '779': 'BET', '781': 'HSV', '783': 'DBQ', '785': 'JAX', '787': 'IAD', '789': 'BGR', '791': 'ABI', '793': 'RST', '795': 'ELP', '797': 'OMA', '799': 'MRY', '801': 'GRI', '803': 'LAR', '805': 'TPA', '807': 'GRB', '809': 'DEN', '811': 'LSE', '813': 'KTN', '815': 'MKK', '817': 'CHS', '819': 'ISP', '821': 'CLE', '823': 'ICT', '825': 'GRK', '827': 'ORH', '829': 'EUG', '831': 'CHA', '833': 'MEM', '835': 'VIS', '837': 'RNO', '839': 'IND', '841': 'BPT', '843': 'SBA', '845': 'CDV', '847': 'CSG', '849': 'AKN', '851': 'DAB', '853': 'ACT', '855': 'ALB', '857': 'MCI', '859': 'PWM', '861': 'STC', '863': 'ORF', '865': 'SRQ', '867': 'FAI', '869': 'SPI', '871': 'COS', '873': 'ABY', '875': 'SDF', '877': 'MMH', '879': 'TTN', '881': 'MDT', '883': 'MOB', '885': 'JFK', '887': 'SAV', '889': 'DET', '891': 'GNV', '893': 'ACV', '895': 'LYH', '897': 'MOD', '899': 'DLG', '901': 'ADQ', '903': 'MLU', '905': 'SCC', '907': 'OAJ', '909': 'BLI', '911': 'FSM', '913': 'AVP', '915': 'LEX', '917': 'DLH'}\n",
      "365\n"
     ]
    }
   ],
   "source": [
    "def create_airport_code_dict(G):\n",
    "    \"\"\"\n",
    "    Extracts a dictionary mapping node IDs to their respective airport_code attributes from a NetworkX graph.\n",
    "\n",
    "    Args:\n",
    "        G (networkx.Graph): A NetworkX graph with nodes containing an 'airport_code' attribute.\n",
    "\n",
    "    Returns:\n",
    "        dict: A dictionary with node IDs as keys and airport_code as values.\n",
    "    \"\"\"\n",
    "    airport_code_dict = {}\n",
    "\n",
    "    for node, attributes in G.nodes(data=True):\n",
    "        airport_code = attributes.get('airport_code')\n",
    "        if airport_code:\n",
    "            airport_code_dict[node] = airport_code\n",
    "\n",
    "    return airport_code_dict\n",
    "\n",
    "### --------------------------------------------------------------------\n",
    "# Example output:\n",
    "\n",
    "# {\n",
    "#     1: \"JFK\",\n",
    "#     2: \"LAX\"\n",
    "# }\n",
    "### --------------------------------------------------------------------\n",
    "\n",
    "id_to_airport_code_mapping_dict = create_airport_code_dict(flightGraph)\n",
    "\n",
    "print(id_to_airport_code_mapping_dict)\n",
    "print(len(id_to_airport_code_mapping_dict))"
   ]
  },
  {
   "cell_type": "markdown",
   "metadata": {},
   "source": [
    "### Apply Dictionary to Keys in Dictionary Results"
   ]
  },
  {
   "cell_type": "code",
   "execution_count": 12,
   "metadata": {},
   "outputs": [],
   "source": [
    "def convert_output_keys_to_airport_codes(\n",
    "    nx_output_dict, \n",
    "    node_to_airport_code_dict=id_to_airport_code_mapping_dict\n",
    "    ):\n",
    "    \n",
    "    \"\"\"\n",
    "    Converts the keys of a NetworkX output dictionary from node IDs to airport codes.\n",
    "\n",
    "    Args:\n",
    "        nx_output_dict (dict): A dictionary output from NetworkX with node IDs as keys.\n",
    "        node_to_airport_code_dict (dict): A dictionary mapping node IDs to airport codes.\n",
    "\n",
    "    Returns:\n",
    "        dict: A dictionary with airport codes as keys and the original values preserved.\n",
    "    \"\"\"\n",
    "    converted_dict = {}\n",
    "\n",
    "    for node_id, value in nx_output_dict.items():\n",
    "        airport_code = node_to_airport_code_dict.get(node_id, f\"({node_id})\")\n",
    "        converted_dict[airport_code] = value\n",
    "\n",
    "    return converted_dict\n",
    "\n",
    "# Example Use:\n",
    "# converted_dict = convert_output_keys_to_airport_codes(nx_output_dict, id_to_airport_code_mapping_dict)\n",
    "\n",
    "# Example Output:\n",
    "# {\n",
    "#     \"JFK\": 3,\n",
    "#     \"LAX\": 5,\n",
    "#     \"ORD\": 2\n",
    "# }"
   ]
  },
  {
   "cell_type": "markdown",
   "metadata": {},
   "source": [
    "#### Create Function to Return Statisics About Path Lengths (Dictionary Input)"
   ]
  },
  {
   "cell_type": "code",
   "execution_count": 13,
   "metadata": {},
   "outputs": [],
   "source": [
    "def analysis_all_flights_all_orig_all_dest(\n",
    "    cleaned_data: Dict[str, Dict[str, int]],\n",
    "    node_to_airport_code_dict: Dict[int, str]\n",
    "):\n",
    "    \"\"\"\n",
    "    Analyze the values in a dictionary of path lengths.\n",
    "\n",
    "    Parameters:\n",
    "        cleaned_data (dict): A dictionary of dictionaries. The keys in the outer \n",
    "            dictionaries are the origin airport codes. The inner dictionary is \n",
    "            the destination airports and their respective path lengths.\n",
    "        node_to_airport_code_dict (dict): A dictionary mapping node IDs to airport codes.\n",
    "\n",
    "    Returns:\n",
    "        None\n",
    "    \"\"\"\n",
    "    metrics = {\n",
    "        \"average_min_length\": None,\n",
    "        \"average_max_length\": None,\n",
    "        \"max_length\": None,\n",
    "        \"mean_per_key\": {},\n",
    "        \"average_of_means\": None,\n",
    "        \"std_dev_per_key\": {},\n",
    "        \"average_std_dev\": None,\n",
    "        \"mode_per_key\": {},\n",
    "        \"average_mode\": None,\n",
    "    }\n",
    "\n",
    "    min_lengths = []\n",
    "    max_lengths = []\n",
    "    means = []\n",
    "    std_devs = []\n",
    "    modes = []\n",
    "\n",
    "    for outer_key, inner_dict in cleaned_data.items():\n",
    "        values = list(inner_dict.values())\n",
    "        if not values:\n",
    "            continue\n",
    "\n",
    "        min_lengths.append(min(values))\n",
    "        max_lengths.append(max(values))\n",
    "        means.append(np.mean(values))\n",
    "        std_devs.append(np.std(values))\n",
    "\n",
    "        try:\n",
    "            mode_value = mode(values)\n",
    "        except StatisticsError:\n",
    "            mode_value = None\n",
    "        if mode_value is not None:\n",
    "            modes.append(mode_value)\n",
    "            metrics[\"mode_per_key\"][outer_key] = mode_value\n",
    "\n",
    "        metrics[\"mean_per_key\"][outer_key] = np.mean(values)\n",
    "        metrics[\"std_dev_per_key\"][outer_key] = np.std(values)\n",
    "\n",
    "    metrics[\"average_min_length\"] = np.mean(min_lengths)\n",
    "    metrics[\"average_max_length\"] = np.mean(max_lengths)\n",
    "    metrics[\"max_length\"] = max(max_lengths)\n",
    "    metrics[\"average_of_means\"] = np.mean(means)\n",
    "    metrics[\"average_std_dev\"] = np.mean(std_devs)\n",
    "    metrics[\"average_mode\"] = np.mean(modes) if modes else None\n",
    "\n",
    "    # Convert dictionary keys to airport codes\n",
    "    metrics[\"mean_per_key\"] = convert_output_keys_to_airport_codes(\n",
    "        metrics[\"mean_per_key\"], node_to_airport_code_dict\n",
    "    )\n",
    "    metrics[\"std_dev_per_key\"] = convert_output_keys_to_airport_codes(\n",
    "        metrics[\"std_dev_per_key\"], node_to_airport_code_dict\n",
    "    )\n",
    "    metrics[\"mode_per_key\"] = convert_output_keys_to_airport_codes(\n",
    "        metrics[\"mode_per_key\"], node_to_airport_code_dict\n",
    "    )\n",
    "\n",
    "    # Print the results\n",
    "    for metric, value in metrics.items():\n",
    "        print(f\"{metric}: {value}\")\n",
    "\n",
    "\n",
    "# The above function requires that the data input has the following applied to it:\n",
    "# cleaned_data = {\n",
    "#     outer_key: {inner_key: value for inner_key, value in inner_dict.items() if inner_key != outer_key}\n",
    "#     for outer_key, inner_dict in unw_dijk_all_path_len.items()\n",
    "# }"
   ]
  },
  {
   "cell_type": "markdown",
   "metadata": {},
   "source": [
    "#### Return Both the number of States Inlcuded in Dataset & Their Names"
   ]
  },
  {
   "cell_type": "code",
   "execution_count": 14,
   "metadata": {},
   "outputs": [
    {
     "name": "stdout",
     "output_type": "stream",
     "text": [
      "Number of unique states: 52\n",
      "States in alphabetical order:\n",
      "\n",
      "Alabama\n",
      "Alaska\n",
      "Arizona\n",
      "Arkansas\n",
      "California\n",
      "Colorado\n",
      "Connecticut\n",
      "Delaware\n",
      "Florida\n",
      "Georgia\n",
      "Hawaii\n",
      "Idaho\n",
      "Illinois\n",
      "Indiana\n",
      "Iowa\n",
      "Kentucky\n",
      "Louisiana\n",
      "Maine\n",
      "Maryland\n",
      "Massachusetts\n",
      "Michigan\n",
      "Minnesota\n",
      "Mississippi\n",
      "Missouri\n",
      "Montana\n",
      "Nebraska\n",
      "Nevada\n",
      "New Hampshire\n",
      "New Jersey\n",
      "New Mexico\n",
      "New York\n",
      "North Carolina\n",
      "North Dakota\n",
      "Ohio\n",
      "Oregon\n",
      "Pennsylvania\n",
      "Puerto Rico\n",
      "Rhode Island\n",
      "South Carolina\n",
      "South Dakota\n",
      "Tennessee\n",
      "Texas\n",
      "U.S. Pacific Trust Territories and Possessions\n",
      "U.S. Virgin Islands\n",
      "Utah\n",
      "Vermont\n",
      "Virginia\n",
      "Washington\n",
      "West Virginia\n",
      "Wisconsin\n",
      "Wyoming\n"
     ]
    }
   ],
   "source": [
    "# Return the names of all of the states\n",
    "\n",
    "query = \"\"\"\n",
    "LET uniqueStates = UNIQUE(\n",
    "    FOR airport IN airports\n",
    "        SORT airport.airportState_name\n",
    "        RETURN airport.airportState_name\n",
    ")\n",
    "RETURN {\n",
    "    uniqueStates: uniqueStates,\n",
    "    count: LENGTH(uniqueStates)\n",
    "}\n",
    "\"\"\"\n",
    "result = db.aql.execute(query)\n",
    "output = list(result)[0]\n",
    "print(f\"Number of unique states: {output['count']}\")\n",
    "print(\"States in alphabetical order:\")\n",
    "for state in output['uniqueStates']:\n",
    "    print(state)\n"
   ]
  },
  {
   "cell_type": "markdown",
   "metadata": {},
   "source": [
    "#### Results for Source Target Dijkstra's Unweighted Shortest Path Algorithm"
   ]
  },
  {
   "cell_type": "code",
   "execution_count": 15,
   "metadata": {},
   "outputs": [
    {
     "name": "stdout",
     "output_type": "stream",
     "text": [
      "Analysis for Unweighted Dijkstra Shortest Path\n",
      "average_min_length: 1.0\n",
      "average_max_length: 3.98\n",
      "max_length: 5\n",
      "mean_per_key: {'FWA': np.float64(2.2464183381088825), 'BZN': np.float64(2.128939828080229), 'RDM': np.float64(2.504297994269341), 'BKG': np.float64(2.340974212034384), 'MQT': np.float64(2.495702005730659), 'JAC': np.float64(2.1174785100286533), 'MSP': np.float64(1.6361031518624642), 'HIB': np.float64(2.6303724928366763), 'AUS': np.float64(1.9312320916905443), 'HDN': np.float64(2.1002865329512894), 'MAZ': np.float64(3.0888252148997135), 'ANI': np.float64(3.9312320916905446), 'CDC': np.float64(2.7392550143266474), 'AMA': np.float64(2.3810888252148996), 'PSC': np.float64(2.4011461318051577), 'PVD': np.float64(2.0773638968481376), 'AGS': np.float64(2.372492836676218), 'AVL': np.float64(2.2091690544412605), 'CVG': np.float64(1.6962750716332378), 'PLN': np.float64(2.6303724928366763), 'PBI': np.float64(2.0744985673352434), 'LMT': np.float64(2.7650429799426934), 'BTM': np.float64(2.7421203438395416), 'CPR': np.float64(2.5702005730659025), 'ITH': np.float64(2.616045845272206), 'UTM': np.float64(2.507163323782235), 'CRW': np.float64(2.2464183381088825), 'YUM': np.float64(2.7106017191977076), 'DHN': np.float64(2.507163323782235), 'ATL': np.float64(1.510028653295129), 'MKG': np.float64(2.541547277936963), 'JAN': np.float64(2.2406876790830945), 'LCH': np.float64(2.530085959885387), 'DIK': np.float64(2.501432664756447), 'LNY': np.float64(4.054441260744985), 'EWN': np.float64(2.507163323782235), 'ROW': np.float64(2.4842406876790832), 'ITO': np.float64(2.7277936962750715), 'ELM': np.float64(2.498567335243553), 'MWH': np.float64(2.799426934097421), 'HOB': np.float64(2.63323782234957), 'MCO': np.float64(1.7965616045845272), 'EGE': np.float64(2.097421203438395), 'SLC': np.float64(1.7449856733524356), 'CHO': np.float64(2.3753581661891117), 'ECP': np.float64(2.4011461318051577), 'ORD': np.float64(1.5444126074498568), 'ISN': np.float64(2.3954154727793697), 'SAN': np.float64(1.9054441260744985), 'PDX': np.float64(1.8767908309455588), 'GSO': np.float64(2.0830945558739256), 'PIH': np.float64(2.7421203438395416), 'MCN': np.float64(2.507163323782235), 'BNA': np.float64(1.8968481375358166), 'SEA': np.float64(1.8022922636103151), 'SAT': np.float64(1.9742120343839542), 'SMX': np.float64(2.7106017191977076), 'FSD': np.float64(2.194842406876791), 'BRD': np.float64(2.6303724928366763), 'HOU': np.float64(1.9770773638968482), 'EKO': np.float64(2.7363896848137537), 'ERI': np.float64(2.481375358166189), 'GRR': np.float64(2.1260744985673354), 'BFL': np.float64(2.340974212034384), 'SPN': np.float64(3.922857142857143), 'INL': np.float64(2.627507163323782), 'DUT': np.float64(2.9398280802292263), 'ATW': np.float64(2.2464183381088825), 'HRL': np.float64(2.383954154727794), 'BOI': np.float64(2.108882521489971), 'ACK': np.float64(2.673352435530086), 'GJT': np.float64(2.3638968481375358), 'LNK': np.float64(2.2693409742120343), 'PBG': np.float64(2.8624641833810887), 'RDU': np.float64(1.9197707736389684), 'DRO': np.float64(2.3954154727793697), 'SAF': np.float64(2.3982808022922635), 'RAP': np.float64(2.2406876790830945), 'GEG': np.float64(2.232091690544413), 'AEX': np.float64(2.383954154727794), 'HYA': np.float64(2.7857142857142856), 'VPS': np.float64(2.36676217765043), 'BOS': np.float64(1.8624641833810889), 'EWR': np.float64(1.7736389684813754), 'JNU': np.float64(2.7306590257879657), 'TYR': np.float64(2.5272206303724927), 'ABR': np.float64(2.63323782234957), 'SBP': np.float64(2.673352435530086), 'MOT': np.float64(2.469914040114613), 'TUS': np.float64(2.0401146131805157), 'OGG': np.float64(2.0716332378223496), 'JMS': np.float64(2.5959885386819486), 'UST': np.float64(3.2750716332378222), 'XNA': np.float64(2.1060171919770774), 'CLD': np.float64(2.7507163323782233), 'SYR': np.float64(2.2607449856733526), 'CAK': np.float64(2.2234957020057307), 'VCT': np.float64(2.63323782234957), 'PFN': np.float64(2.4040114613180514), 'PSP': np.float64(2.0687679083094554), 'MDW': np.float64(1.8624641833810889), 'IAH': np.float64(1.6361031518624642), 'PIA': np.float64(2.180515759312321), 'ACY': np.float64(2.2779369627507164), 'CEC': np.float64(2.7707736389684814), 'STL': np.float64(1.7822349570200573), 'GST': np.float64(3.7277936962750715), 'ONT': np.float64(2.01432664756447), 'SGF': np.float64(2.206303724928367), 'PHL': np.float64(1.8624641833810889), 'MIA': np.float64(1.8911174785100286), 'LBB': np.float64(2.3753581661891117), 'FNT': np.float64(2.2722063037249285), 'HLN': np.float64(2.4613180515759314), 'LFT': np.float64(2.2893982808022924), 'TWF': np.float64(2.7421203438395416), 'FAR': np.float64(2.189111747851003), 'BIL': np.float64(2.332378223495702), 'MSY': np.float64(1.9369627507163323), 'GUC': np.float64(2.2664756446991405), 'EFD': np.float64(2.63323782234957), 'BIS': np.float64(2.2406876790830945), 'SBN': np.float64(2.1919770773638967), 'STX': np.float64(2.481375358166189), 'COU': np.float64(2.318051575931232), 'MIB': np.float64(2.63323782234957), 'IDA': np.float64(2.4355300859598854), 'HTS': np.float64(2.475644699140401), 'BJI': np.float64(2.63323782234957), 'DCA': np.float64(1.8796561604584527), 'EYW': np.float64(2.4785100286532953), 'SMF': np.float64(1.9770773638968482), 'SGU': np.float64(2.530085959885387), 'RKS': np.float64(2.567335243553009), 'SUN': np.float64(2.535816618911175), 'MSN': np.float64(2.134670487106017), 'MFR': np.float64(2.501432664756447), 'ALO': np.float64(2.475644699140401), 'DVL': np.float64(2.5959885386819486), 'FLG': np.float64(2.7822349570200573), 'FLL': np.float64(1.8710601719197708), 'FCA': np.float64(2.332378223495702), 'CAE': np.float64(2.2464183381088825), 'SCE': np.float64(2.383954154727794), 'ABE': np.float64(2.355300859598854), 'BGM': np.float64(2.5730659025787967), 'WYS': np.float64(2.7421203438395416), 'RSW': np.float64(2.0601719197707737), 'HNL': np.float64(1.9340974212034383), 'AZA': np.float64(2.6017191977077365), 'MEI': np.float64(2.3982808022922635), 'LAX': np.float64(1.7535816618911175), 'MVY': np.float64(2.7564469914040113), 'DRT': np.float64(2.63323782234957), 'TEX': np.float64(2.7822349570200573), 'LRD': np.float64(2.530085959885387), 'BRO': np.float64(2.530085959885387), 'PHF': np.float64(2.306590257879656), 'STT': np.float64(2.35243553008596), 'MKE': np.float64(1.9340974212034383), 'HPN': np.float64(2.2750716332378222), 'ILE': np.float64(2.530085959885387), 'BHM': np.float64(2.0659025787965617), 'MBS': np.float64(2.335243553008596), 'HVN': np.float64(2.504297994269341), 'DSM': np.float64(2.0859598853868193), 'TVC': np.float64(2.340974212034384), 'CIU': np.float64(2.63323782234957), 'LGB': np.float64(2.0802292263610314), 'BWI': np.float64(1.851002865329513), 'CYS': np.float64(2.555873925501433), 'SJC': np.float64(1.9598853868194843), 'DAY': np.float64(2.0945558739255015), 'MYR': np.float64(2.2464183381088825), 'LGA': np.float64(1.9455587392550144), 'CMX': np.float64(2.475644699140401), 'ILG': np.float64(2.297994269340974), 'ESC': np.float64(2.63323782234957), 'BUR': np.float64(2.2607449856733526), 'VEL': np.float64(2.7421203438395416), 'RIC': np.float64(2.1117478510028653), 'MTJ': np.float64(2.151862464183381), 'SHV': np.float64(2.2234957020057307), 'SIT': np.float64(2.7822349570200573), 'PNS': np.float64(2.2693409742120343), 'BQN': np.float64(2.6131805157593124), 'FAT': np.float64(2.2693409742120343), 'APF': np.float64(2.8882521489971347), 'KSM': np.float64(2.9369627507163325), 'DTW': np.float64(1.6361031518624642), 'FAY': np.float64(2.4040114613180514), 'MLB': np.float64(2.464183381088825), 'PAH': np.float64(2.541547277936963), 'BTR': np.float64(2.303724928366762), 'MHT': np.float64(2.160458452722063), 'MLI': np.float64(2.177650429799427), 'TYS': np.float64(2.1375358166189113), 'CMI': np.float64(2.358166189111748), 'YAK': np.float64(3.7220630372492836), 'WRG': np.float64(3.7707736389684814), 'PUB': np.float64(2.6017191977077365), 'GPT': np.float64(2.36676217765043), 'LWB': np.float64(2.487106017191977), 'JLN': np.float64(2.555873925501433), 'GSP': np.float64(2.2292263610315186), 'ART': np.float64(2.541547277936963), 'PSG': np.float64(3.71919770773639), 'SWF': np.float64(2.349570200573066), 'TLH': np.float64(2.329512893982808), 'SPS': np.float64(2.555873925501433), 'OTZ': np.float64(2.9369627507163325), 'FLO': np.float64(2.507163323782235), 'MSO': np.float64(2.174785100286533), 'GCC': np.float64(2.567335243553009), 'IAG': np.float64(2.8624641833810887), 'LBE': np.float64(2.4613180515759314), 'CNY': np.float64(2.7421203438395416), 'EVV': np.float64(2.292263610315186), 'GGG': np.float64(2.555873925501433), 'PPG': np.float64(2.9312320916905446), 'OXR': np.float64(2.7507163323782233), 'IPL': np.float64(2.7392550143266474), 'GTF': np.float64(2.458452722063037), 'TOL': np.float64(2.3810888252148996), 'ANC': np.float64(1.9426934097421202), 'CMH': np.float64(2.0343839541547277), 'ABQ': np.float64(1.994269340974212), 'BRW': np.float64(2.9340974212034383), 'LIH': np.float64(2.464183381088825), 'IMT': np.float64(2.6303724928366763), 'RDD': np.float64(2.7765042979942693), 'CLT': np.float64(1.7621776504297995), 'SNA': np.float64(1.9770773638968482), 'MAF': np.float64(2.3753581661891117), 'ASE': np.float64(2.1489971346704873), 'LAS': np.float64(1.7879656160458453), 'CWA': np.float64(2.4498567335243555), 'OME': np.float64(2.9369627507163325), 'SUX': np.float64(2.3753581661891117), 'TXK': np.float64(2.530085959885387), 'CRP': np.float64(2.3868194842406876), 'CLL': np.float64(2.530085959885387), 'LWS': np.float64(2.7421203438395416), 'PIE': np.float64(2.5472779369627507), 'MFE': np.float64(2.383954154727794), 'AZO': np.float64(2.4240687679083095), 'GUM': np.float64(2.9312320916905446), 'SJU': np.float64(2.0916905444126073), 'BUF': np.float64(2.1432664756446993), 'LIT': np.float64(2.1489971346704873), 'ROA': np.float64(2.3638968481375358), 'BTV': np.float64(2.332378223495702), 'VLD': np.float64(2.507163323782235), 'GTR': np.float64(2.4011461318051577), 'ROC': np.float64(2.2664756446991405), 'PHX': np.float64(1.7851002865329513), 'SJT': np.float64(2.530085959885387), 'MGM': np.float64(2.3982808022922635), 'APN': np.float64(2.5214899713467047), 'IYK': np.float64(2.7507163323782233), 'CIC': np.float64(2.7765042979942693), 'EAU': np.float64(2.5386819484240686), 'PSE': np.float64(2.684813753581662), 'TRI': np.float64(2.383954154727794), 'DFW': np.float64(1.5587392550143266), 'COD': np.float64(2.5702005730659025), 'PIT': np.float64(1.833810888252149), 'PIB': np.float64(2.5501432664756445), 'GFK': np.float64(2.501432664756447), 'BQK': np.float64(2.507163323782235), 'LAN': np.float64(2.4212034383954153), 'CID': np.float64(2.180515759312321), 'BMI': np.float64(2.189111747851003), 'KOA': np.float64(2.2378223495702008), 'DAL': np.float64(1.9627507163323783), 'OTH': np.float64(2.7650429799426934), 'RHI': np.float64(2.6303724928366763), 'OAK': np.float64(2.011461318051576), 'BDL': np.float64(2.01432664756447), 'SFO': np.float64(1.7793696275071633), 'ILM': np.float64(2.4011461318051577), 'ADK': np.float64(2.9398280802292263), 'BET': np.float64(2.9398280802292263), 'HSV': np.float64(2.166189111747851), 'DBQ': np.float64(2.541547277936963), 'JAX': np.float64(2.0659025787965617), 'IAD': np.float64(1.816618911174785), 'BGR': np.float64(2.518624641833811), 'ABI': np.float64(2.530085959885387), 'RST': np.float64(2.332378223495702), 'ELP': np.float64(2.1260744985673354), 'OMA': np.float64(2.0458452722063036), 'MRY': np.float64(2.524355300859599), 'GRI': np.float64(2.555873925501433), 'LAR': np.float64(2.6017191977077365), 'TPA': np.float64(1.8882521489971347), 'GRB': np.float64(2.32378223495702), 'DEN': np.float64(1.6045845272206303), 'LSE': np.float64(2.4527220630372493), 'KTN': np.float64(2.7793696275071635), 'MKK': np.float64(3.0630372492836675), 'CHS': np.float64(2.160458452722063), 'ISP': np.float64(2.315186246418338), 'CLE': np.float64(1.8825214899713467), 'GRK': np.float64(2.3896848137535818), 'ORH': np.float64(2.4785100286532953), 'EUG': np.float64(2.504297994269341), 'CHA': np.float64(2.297994269340974), 'MEM': np.float64(1.822349570200573), 'VIS': np.float64(2.7478510028653296), 'RNO': np.float64(2.0573065902578795), 'IND': np.float64(1.9656160458452723), 'BPT': np.float64(2.530085959885387), 'SBA': np.float64(2.286532951289398), 'CDV': np.float64(2.9340974212034383), 'CSG': np.float64(2.4068767908309456), 'AKN': np.float64(2.9340974212034383), 'DAB': np.float64(2.4555873925501435), 'ACT': np.float64(2.530085959885387), 'ALB': np.float64(2.2349570200573066), 'MCI': np.float64(1.9340974212034383), 'PWM': np.float64(2.320916905444126), 'STC': np.float64(2.541547277936963), 'ORF': np.float64(2.1489971346704873), 'SRQ': np.float64(2.2148997134670485), 'FAI': np.float64(2.4126074498567336), 'SPI': np.float64(2.3925501432664755), 'COS': np.float64(2.031518624641834), 'ABY': np.float64(2.507163323782235), 'SDF': np.float64(2.0859598853868193), 'MMH': np.float64(2.7535816618911175), 'TTN': np.float64(2.2779369627507164), 'MDT': np.float64(2.2206303724928365), 'MOB': np.float64(2.2951289398280803), 'JFK': np.float64(1.7908309455587392), 'SAV': np.float64(2.2406876790830945), 'GNV': np.float64(2.498567335243553), 'ACV': np.float64(2.67621776504298), 'LYH': np.float64(2.507163323782235), 'MOD': np.float64(2.7765042979942693), 'DLG': np.float64(2.9369627507163325), 'ADQ': np.float64(2.9398280802292263), 'MLU': np.float64(2.3753581661891117), 'SCC': np.float64(2.9340974212034383), 'OAJ': np.float64(2.504297994269341), 'BLI': np.float64(2.5272206303724927), 'FSM': np.float64(2.4040114613180514), 'AVP': np.float64(2.36676217765043), 'LEX': np.float64(2.189111747851003), 'DLH': np.float64(2.4527220630372493)}\n",
      "average_of_means: 2.3925525290918666\n",
      "std_dev_per_key: {'FWA': np.float64(0.5212065100700091), 'BZN': np.float64(0.4322185976448882), 'RDM': np.float64(0.5645789896504441), 'BKG': np.float64(0.5624956383604431), 'MQT': np.float64(0.5746396728440286), 'JAC': np.float64(0.44200435984581454), 'MSP': np.float64(0.5266129548913573), 'HIB': np.float64(0.5388038635435259), 'AUS': np.float64(0.4738114981912753), 'HDN': np.float64(0.40586661798569107), 'MAZ': np.float64(0.5620429842592466), 'ANI': np.float64(0.4018209632841389), 'CDC': np.float64(0.5057610971627051), 'AMA': np.float64(0.5570984651266514), 'PSC': np.float64(0.5401887114472204), 'PVD': np.float64(0.5377209009258901), 'AGS': np.float64(0.5551941017665496), 'AVL': np.float64(0.523736462923273), 'CVG': np.float64(0.5809910453894299), 'PLN': np.float64(0.5388038635435259), 'PBI': np.float64(0.5564496472128762), 'LMT': np.float64(0.4927367127247214), 'BTM': np.float64(0.4986825937978003), 'CPR': np.float64(0.5498895069003396), 'ITH': np.float64(0.5473304404824628), 'UTM': np.float64(0.5438694319399598), 'CRW': np.float64(0.548005037630402), 'YUM': np.float64(0.5183475331808164), 'DHN': np.float64(0.5438694319399598), 'ATL': np.float64(0.5385295157125577), 'MKG': np.float64(0.5475853859701887), 'JAN': np.float64(0.5709847597487931), 'LCH': np.float64(0.5483345386257066), 'DIK': np.float64(0.5491574261573701), 'LNY': np.float64(0.48462201631652796), 'EWN': np.float64(0.5438694319399598), 'ROW': np.float64(0.5541283554674419), 'ITO': np.float64(0.5110257148334202), 'ELM': np.float64(0.564593531472998), 'MWH': np.float64(0.4412793506292203), 'HOB': np.float64(0.5327509867917993), 'MCO': np.float64(0.5628312432537178), 'EGE': np.float64(0.45637063019059126), 'SLC': np.float64(0.4914854535834661), 'CHO': np.float64(0.5558443852370036), 'ECP': np.float64(0.5711285303062141), 'ORD': np.float64(0.5421003527999301), 'ISN': np.float64(0.5443975265593305), 'SAN': np.float64(0.4784156522067242), 'PDX': np.float64(0.42723206463302693), 'GSO': np.float64(0.5526447427503126), 'PIH': np.float64(0.4986825937978003), 'MCN': np.float64(0.5438694319399598), 'BNA': np.float64(0.5029612395169399), 'SEA': np.float64(0.4327501386369409), 'SAT': np.float64(0.44389493939340025), 'SMX': np.float64(0.512789923973599), 'FSD': np.float64(0.4869374392263152), 'BRD': np.float64(0.5388038635435259), 'HOU': np.float64(0.5710710264266577), 'EKO': np.float64(0.5071066615588103), 'ERI': np.float64(0.5642880745027472), 'GRR': np.float64(0.5257079332920336), 'BFL': np.float64(0.5470003346408103), 'SPN': np.float64(0.4032622077051919), 'INL': np.float64(0.5447744235780438), 'DUT': np.float64(0.3698384596048723), 'ATW': np.float64(0.5100930386584221), 'HRL': np.float64(0.562816655897896), 'BOI': np.float64(0.46004380065349926), 'ACK': np.float64(0.5373237770704391), 'GJT': np.float64(0.5426906866132593), 'LNK': np.float64(0.5097388185200478), 'PBG': np.float64(0.5336748331275623), 'RDU': np.float64(0.47803796009816724), 'DRO': np.float64(0.5443975265593305), 'SAF': np.float64(0.5396564982002775), 'RAP': np.float64(0.49577653182089565), 'GEG': np.float64(0.5250203245237699), 'AEX': np.float64(0.5525407406739477), 'HYA': np.float64(0.46882397375491264), 'VPS': np.float64(0.5486488777032174), 'BOS': np.float64(0.5228264620905826), 'EWR': np.float64(0.5488134596525345), 'JNU': np.float64(0.5153293336614967), 'TYR': np.float64(0.5536836890680489), 'ABR': np.float64(0.5327509867917993), 'SBP': np.float64(0.5373237770704391), 'MOT': np.float64(0.5535353875549914), 'TUS': np.float64(0.41957269645295614), 'OGG': np.float64(0.4453168250297304), 'JMS': np.float64(0.5459787456482017), 'UST': np.float64(0.5950924495588684), 'XNA': np.float64(0.4638118007596618), 'CLD': np.float64(0.48858699523309446), 'SYR': np.float64(0.5943193508894176), 'CAK': np.float64(0.5525853153892343), 'VCT': np.float64(0.5327509867917993), 'PFN': np.float64(0.5459787456482017), 'PSP': np.float64(0.40888964961268126), 'MDW': np.float64(0.554735489775878), 'IAH': np.float64(0.5266129548913573), 'PIA': np.float64(0.4836214483860663), 'ACY': np.float64(0.5563906262488564), 'CEC': np.float64(0.49542864748540943), 'STL': np.float64(0.4649609674394079), 'GST': np.float64(0.5275786749844728), 'ONT': np.float64(0.403879350059545), 'SGF': np.float64(0.4939349394101202), 'PHL': np.float64(0.5228264620905826), 'MIA': np.float64(0.5017518427472214), 'LBB': np.float64(0.5660603312819918), 'FNT': np.float64(0.5643171727662447), 'HLN': np.float64(0.5683328903040552), 'LFT': np.float64(0.5238461837032179), 'TWF': np.float64(0.4986825937978003), 'FAR': np.float64(0.4712922691761421), 'BIL': np.float64(0.5391389879715608), 'MSY': np.float64(0.4685317568836496), 'GUC': np.float64(0.5084325174150307), 'EFD': np.float64(0.5327509867917993), 'BIS': np.float64(0.49577653182089565), 'SBN': np.float64(0.4910007785304752), 'STX': np.float64(0.5693432093665524), 'COU': np.float64(0.5344742082536326), 'MIB': np.float64(0.5327509867917993), 'IDA': np.float64(0.5557705277066497), 'HTS': np.float64(0.5538171264758053), 'BJI': np.float64(0.5327509867917993), 'DCA': np.float64(0.5104791803024102), 'EYW': np.float64(0.564186218762009), 'SMF': np.float64(0.42086218950329735), 'SGU': np.float64(0.5535353875549914), 'RKS': np.float64(0.5554306565713892), 'SUN': np.float64(0.5583497283006765), 'MSN': np.float64(0.49255339362954403), 'MFR': np.float64(0.569645955666271), 'ALO': np.float64(0.5538171264758053), 'DVL': np.float64(0.5459787456482017), 'FLG': np.float64(0.47712683774208936), 'FLL': np.float64(0.5167612045337239), 'FCA': np.float64(0.5548538775464786), 'CAE': np.float64(0.553208984285402), 'SCE': np.float64(0.5525407406739477), 'ABE': np.float64(0.5813300957778986), 'BGM': np.float64(0.5649424229207693), 'WYS': np.float64(0.4986825937978003), 'RSW': np.float64(0.5857339081283168), 'HNL': np.float64(0.36100877719797925), 'AZA': np.float64(0.5396564982002775), 'MEI': np.float64(0.5501731128484579), 'LAX': np.float64(0.48118771073131394), 'MVY': np.float64(0.4914687486073866), 'DRT': np.float64(0.5327509867917993), 'TEX': np.float64(0.47712683774208936), 'LRD': np.float64(0.5483345386257066), 'BRO': np.float64(0.5483345386257066), 'PHF': np.float64(0.5411302043075896), 'STT': np.float64(0.5855236184260613), 'MKE': np.float64(0.47723007098502873), 'HPN': np.float64(0.5853833833227574), 'ILE': np.float64(0.5483345386257066), 'BHM': np.float64(0.5497700501006026), 'MBS': np.float64(0.5346892204434612), 'HVN': np.float64(0.5543357443852419), 'DSM': np.float64(0.48890616299364376), 'TVC': np.float64(0.5470003346408103), 'CIU': np.float64(0.5327509867917993), 'LGB': np.float64(0.43405722907734323), 'BWI': np.float64(0.5305890898112652), 'CYS': np.float64(0.5410391636983076), 'SJC': np.float64(0.45243181004184974), 'DAY': np.float64(0.5130940366356961), 'MYR': np.float64(0.578526987635863), 'LGA': np.float64(0.6511299766941313), 'CMX': np.float64(0.5538171264758053), 'ILG': np.float64(0.5217575433710381), 'ESC': np.float64(0.5327509867917993), 'BUR': np.float64(0.5279364767719457), 'VEL': np.float64(0.4986825937978003), 'RIC': np.float64(0.5207494979092594), 'MTJ': np.float64(0.4634222065701555), 'SHV': np.float64(0.5314394553292667), 'SIT': np.float64(0.46496096743940796), 'PNS': np.float64(0.573237796569338), 'BQN': np.float64(0.5582909082079875), 'FAT': np.float64(0.5424183046883116), 'APF': np.float64(0.5096260604807898), 'KSM': np.float64(0.3732194807984276), 'DTW': np.float64(0.5266129548913573), 'FAY': np.float64(0.5459787456482017), 'MLB': np.float64(0.5685206567443396), 'PAH': np.float64(0.5475853859701887), 'BTR': np.float64(0.5453769170419545), 'MHT': np.float64(0.5537429985523459), 'MLI': np.float64(0.4934693080931186), 'TYS': np.float64(0.5061181012222261), 'CMI': np.float64(0.5412212296026304), 'YAK': np.float64(0.5459937828638882), 'WRG': np.float64(0.5068637517132174), 'PUB': np.float64(0.5396564982002775), 'GPT': np.float64(0.55384677486719), 'LWB': np.float64(0.5593487235088804), 'JLN': np.float64(0.5410391636983076), 'GSP': np.float64(0.5806376573749154), 'ART': np.float64(0.5475853859701887), 'PSG': np.float64(0.5575256822901378), 'SWF': np.float64(0.5798736042745382), 'TLH': np.float64(0.5642298734738158), 'SPS': np.float64(0.5410391636983076), 'OTZ': np.float64(0.3808194321108573), 'FLO': np.float64(0.5438694319399598), 'MSO': np.float64(0.4489341368867367), 'GCC': np.float64(0.5554306565713892), 'IAG': np.float64(0.5336748331275623), 'LBE': np.float64(0.5733523639326424), 'CNY': np.float64(0.4986825937978003), 'EVV': np.float64(0.546384605212598), 'GGG': np.float64(0.5410391636983076), 'PPG': np.float64(0.37220619343509237), 'OXR': np.float64(0.48858699523309446), 'IPL': np.float64(0.5057610971627051), 'GTF': np.float64(0.5731518560181589), 'TOL': np.float64(0.5570984651266514), 'ANC': np.float64(0.3584984132547015), 'CMH': np.float64(0.5395195585072629), 'ABQ': np.float64(0.44781717860049647), 'BRW': np.float64(0.3914715485410556), 'LIH': np.float64(0.5685206567443396), 'IMT': np.float64(0.5388038635435259), 'RDD': np.float64(0.4804705646015955), 'CLT': np.float64(0.5543801747739949), 'SNA': np.float64(0.42086218950329735), 'MAF': np.float64(0.5660603312819918), 'ASE': np.float64(0.4550013350436495), 'LAS': np.float64(0.4676021120647645), 'CWA': np.float64(0.5623642601878324), 'OME': np.float64(0.3808194321108573), 'SUX': np.float64(0.5401583133879719), 'TXK': np.float64(0.5483345386257066), 'CRP': np.float64(0.5479301234063735), 'CLL': np.float64(0.5483345386257066), 'LWS': np.float64(0.4986825937978003), 'PIE': np.float64(0.5776890877135951), 'MFE': np.float64(0.5525407406739477), 'AZO': np.float64(0.5696171296178419), 'GUM': np.float64(0.37220619343509237), 'SJU': np.float64(0.5538764216715293), 'BUF': np.float64(0.5686072972655423), 'LIT': np.float64(0.5251610450147258), 'ROA': np.float64(0.5734955409517135), 'BTV': np.float64(0.5947336358695936), 'VLD': np.float64(0.5438694319399598), 'GTR': np.float64(0.5506951625233186), 'ROC': np.float64(0.5965943581726035), 'PHX': np.float64(0.46935461843996035), 'SJT': np.float64(0.5483345386257066), 'MGM': np.float64(0.5553567440187883), 'APN': np.float64(0.559084457318557), 'IYK': np.float64(0.48858699523309446), 'CIC': np.float64(0.4804705646015955), 'EAU': np.float64(0.5530011728052638), 'PSE': np.float64(0.5226379882336687), 'TRI': np.float64(0.5525407406739477), 'DFW': np.float64(0.535410415570035), 'COD': np.float64(0.5498895069003396), 'PIT': np.float64(0.5872597515688249), 'PIB': np.float64(0.5468652339098219), 'GFK': np.float64(0.5491574261573701), 'BQK': np.float64(0.5438694319399598), 'LAN': np.float64(0.5742394859865649), 'CID': np.float64(0.4836214483860663), 'BMI': np.float64(0.4773332819016344), 'KOA': np.float64(0.5169359389730311), 'DAL': np.float64(0.5258796950034916), 'OTH': np.float64(0.4927367127247214), 'RHI': np.float64(0.5388038635435259), 'OAK': np.float64(0.49046540884308565), 'BDL': np.float64(0.5104309285720409), 'SFO': np.float64(0.47278805236448235), 'ILM': np.float64(0.5506951625233186), 'ADK': np.float64(0.3698384596048723), 'BET': np.float64(0.3698384596048723), 'HSV': np.float64(0.5254579978487552), 'DBQ': np.float64(0.5475853859701887), 'JAX': np.float64(0.5651894240562034), 'IAD': np.float64(0.5251923111145371), 'BGR': np.float64(0.5939738926760549), 'ABI': np.float64(0.5483345386257066), 'RST': np.float64(0.5391389879715608), 'ELP': np.float64(0.5034343999202173), 'OMA': np.float64(0.4518870831797438), 'MRY': np.float64(0.5589669655746268), 'GRI': np.float64(0.5410391636983076), 'LAR': np.float64(0.5396564982002775), 'TPA': np.float64(0.5423123414379369), 'GRB': np.float64(0.5521840134140761), 'DEN': np.float64(0.5337671298163095), 'LSE': np.float64(0.5574962295479798), 'KTN': np.float64(0.47278805236448235), 'MKK': np.float64(0.4561367000767461), 'CHS': np.float64(0.5639970092982048), 'ISP': np.float64(0.5992581681810903), 'CLE': np.float64(0.5567594046250748), 'GRK': np.float64(0.5432652666435593), 'ORH': np.float64(0.564186218762009), 'EUG': np.float64(0.5645789896504441), 'CHA': np.float64(0.5379804003325257), 'MEM': np.float64(0.5484692774329123), 'VIS': np.float64(0.4958593254508077), 'RNO': np.float64(0.46312093203930893), 'IND': np.float64(0.5122773261456455), 'BPT': np.float64(0.5483345386257066), 'SBA': np.float64(0.5226851130692753), 'CDV': np.float64(0.3840824316358977), 'CSG': np.float64(0.5412060597832846), 'AKN': np.float64(0.3914715485410556), 'DAB': np.float64(0.5679138029972053), 'ACT': np.float64(0.5483345386257066), 'ALB': np.float64(0.5978316222671095), 'MCI': np.float64(0.4711877350129008), 'PWM': np.float64(0.6104564185431807), 'STC': np.float64(0.5475853859701887), 'ORF': np.float64(0.5820922370935956), 'SRQ': np.float64(0.5885305908941828), 'FAI': np.float64(0.54216092944028), 'SPI': np.float64(0.5385447609252519), 'COS': np.float64(0.40290241813079775), 'ABY': np.float64(0.5438694319399598), 'SDF': np.float64(0.5337363660267782), 'MMH': np.float64(0.5044444955215535), 'TTN': np.float64(0.5864763278533264), 'MDT': np.float64(0.5299388009161814), 'MOB': np.float64(0.5578348421963413), 'JFK': np.float64(0.4596331507971475), 'SAV': np.float64(0.560858518535478), 'GNV': np.float64(0.5491574261573701), 'ACV': np.float64(0.5417064395209832), 'LYH': np.float64(0.5438694319399598), 'MOD': np.float64(0.4804705646015955), 'DLG': np.float64(0.3808194321108573), 'ADQ': np.float64(0.3698384596048723), 'MLU': np.float64(0.5660603312819918), 'SCC': np.float64(0.3914715485410556), 'OAJ': np.float64(0.549142475572007), 'BLI': np.float64(0.5432350407405876), 'FSM': np.float64(0.5459787456482017), 'AVP': np.float64(0.5691557142892899), 'LEX': np.float64(0.5393369181640106), 'DLH': np.float64(0.5574962295479798)}\n",
      "average_std_dev: 0.5221168279396573\n",
      "mode_per_key: {'FWA': 2, 'BZN': 2, 'RDM': 2, 'BKG': 2, 'MQT': 2, 'JAC': 2, 'MSP': 2, 'HIB': 3, 'AUS': 2, 'HDN': 2, 'MAZ': 3, 'ANI': 4, 'CDC': 3, 'AMA': 2, 'PSC': 2, 'PVD': 2, 'AGS': 2, 'AVL': 2, 'CVG': 2, 'PLN': 3, 'PBI': 2, 'LMT': 3, 'BTM': 3, 'CPR': 3, 'ITH': 3, 'UTM': 2, 'CRW': 2, 'YUM': 3, 'DHN': 2, 'ATL': 1, 'MKG': 3, 'JAN': 2, 'LCH': 3, 'DIK': 2, 'LNY': 4, 'EWN': 2, 'ROW': 2, 'ITO': 3, 'ELM': 2, 'MWH': 3, 'HOB': 3, 'MCO': 2, 'EGE': 2, 'SLC': 2, 'CHO': 2, 'ECP': 2, 'ORD': 2, 'ISN': 2, 'SAN': 2, 'PDX': 2, 'GSO': 2, 'PIH': 3, 'MCN': 2, 'BNA': 2, 'SEA': 2, 'SAT': 2, 'SMX': 3, 'FSD': 2, 'BRD': 3, 'HOU': 2, 'EKO': 3, 'ERI': 2, 'GRR': 2, 'BFL': 2, 'SPN': 4, 'INL': 3, 'DUT': 3, 'ATW': 2, 'HRL': 2, 'BOI': 2, 'ACK': 3, 'GJT': 2, 'LNK': 2, 'PBG': 3, 'RDU': 2, 'DRO': 2, 'SAF': 2, 'RAP': 2, 'GEG': 2, 'AEX': 2, 'HYA': 3, 'VPS': 2, 'BOS': 2, 'EWR': 2, 'JNU': 3, 'TYR': 3, 'ABR': 3, 'SBP': 3, 'MOT': 2, 'TUS': 2, 'OGG': 2, 'JMS': 3, 'UST': 3, 'XNA': 2, 'CLD': 3, 'SYR': 2, 'CAK': 2, 'VCT': 3, 'PFN': 2, 'PSP': 2, 'MDW': 2, 'IAH': 2, 'PIA': 2, 'ACY': 2, 'CEC': 3, 'STL': 2, 'GST': 4, 'ONT': 2, 'SGF': 2, 'PHL': 2, 'MIA': 2, 'LBB': 2, 'FNT': 2, 'HLN': 2, 'LFT': 2, 'TWF': 3, 'FAR': 2, 'BIL': 2, 'MSY': 2, 'GUC': 2, 'EFD': 3, 'BIS': 2, 'SBN': 2, 'STX': 2, 'COU': 2, 'MIB': 3, 'IDA': 2, 'HTS': 2, 'BJI': 3, 'DCA': 2, 'EYW': 2, 'SMF': 2, 'SGU': 3, 'RKS': 3, 'SUN': 3, 'MSN': 2, 'MFR': 2, 'ALO': 2, 'DVL': 3, 'FLG': 3, 'FLL': 2, 'FCA': 2, 'CAE': 2, 'SCE': 2, 'ABE': 2, 'BGM': 3, 'WYS': 3, 'RSW': 2, 'HNL': 2, 'AZA': 3, 'MEI': 2, 'LAX': 2, 'MVY': 3, 'DRT': 3, 'TEX': 3, 'LRD': 3, 'BRO': 3, 'PHF': 2, 'STT': 2, 'MKE': 2, 'HPN': 2, 'ILE': 3, 'BHM': 2, 'MBS': 2, 'HVN': 2, 'DSM': 2, 'TVC': 2, 'CIU': 3, 'LGB': 2, 'BWI': 2, 'CYS': 3, 'SJC': 2, 'DAY': 2, 'MYR': 2, 'LGA': 2, 'CMX': 2, 'ILG': 2, 'ESC': 3, 'BUR': 2, 'VEL': 3, 'RIC': 2, 'MTJ': 2, 'SHV': 2, 'SIT': 3, 'PNS': 2, 'BQN': 3, 'FAT': 2, 'APF': 3, 'KSM': 3, 'DTW': 2, 'FAY': 2, 'MLB': 2, 'PAH': 3, 'BTR': 2, 'MHT': 2, 'MLI': 2, 'TYS': 2, 'CMI': 2, 'YAK': 4, 'WRG': 4, 'PUB': 3, 'GPT': 2, 'LWB': 2, 'JLN': 3, 'GSP': 2, 'ART': 3, 'PSG': 4, 'SWF': 2, 'TLH': 2, 'SPS': 3, 'OTZ': 3, 'FLO': 2, 'MSO': 2, 'GCC': 3, 'IAG': 3, 'LBE': 2, 'CNY': 3, 'EVV': 2, 'GGG': 3, 'PPG': 3, 'OXR': 3, 'IPL': 3, 'GTF': 2, 'TOL': 2, 'ANC': 2, 'CMH': 2, 'ABQ': 2, 'BRW': 3, 'LIH': 3, 'IMT': 3, 'RDD': 3, 'CLT': 2, 'SNA': 2, 'MAF': 2, 'ASE': 2, 'LAS': 2, 'CWA': 2, 'OME': 3, 'SUX': 2, 'TXK': 3, 'CRP': 2, 'CLL': 3, 'LWS': 3, 'PIE': 3, 'MFE': 2, 'AZO': 2, 'GUM': 3, 'SJU': 2, 'BUF': 2, 'LIT': 2, 'ROA': 2, 'BTV': 2, 'VLD': 2, 'GTR': 2, 'ROC': 2, 'PHX': 2, 'SJT': 3, 'MGM': 2, 'APN': 2, 'IYK': 3, 'CIC': 3, 'EAU': 3, 'PSE': 3, 'TRI': 2, 'DFW': 2, 'COD': 3, 'PIT': 2, 'PIB': 3, 'GFK': 2, 'BQK': 2, 'LAN': 2, 'CID': 2, 'BMI': 2, 'KOA': 2, 'DAL': 2, 'OTH': 3, 'RHI': 3, 'OAK': 2, 'BDL': 2, 'SFO': 2, 'ILM': 2, 'ADK': 3, 'BET': 3, 'HSV': 2, 'DBQ': 3, 'JAX': 2, 'IAD': 2, 'BGR': 3, 'ABI': 3, 'RST': 2, 'ELP': 2, 'OMA': 2, 'MRY': 3, 'GRI': 3, 'LAR': 3, 'TPA': 2, 'GRB': 2, 'DEN': 2, 'LSE': 2, 'KTN': 3, 'MKK': 3, 'CHS': 2, 'ISP': 2, 'CLE': 2, 'GRK': 2, 'ORH': 2, 'EUG': 2, 'CHA': 2, 'MEM': 2, 'VIS': 3, 'RNO': 2, 'IND': 2, 'BPT': 3, 'SBA': 2, 'CDV': 3, 'CSG': 2, 'AKN': 3, 'DAB': 2, 'ACT': 3, 'ALB': 2, 'MCI': 2, 'PWM': 2, 'STC': 3, 'ORF': 2, 'SRQ': 2, 'FAI': 2, 'SPI': 2, 'COS': 2, 'ABY': 2, 'SDF': 2, 'MMH': 3, 'TTN': 2, 'MDT': 2, 'MOB': 2, 'JFK': 2, 'SAV': 2, 'GNV': 2, 'ACV': 3, 'LYH': 2, 'MOD': 3, 'DLG': 3, 'ADQ': 3, 'MLU': 2, 'SCC': 3, 'OAJ': 2, 'BLI': 3, 'FSM': 2, 'AVP': 2, 'LEX': 2, 'DLH': 2}\n",
      "average_mode: 2.36\n"
     ]
    }
   ],
   "source": [
    "# Unweighted dijkstra\n",
    "weighted_field = None\n",
    "method = \"dijkstra\"\n",
    "\n",
    "unw_dijk_all_path_len = dict(nx.shortest_path_length(flightGraph, weight=weighted_field, method=method))\n",
    "\n",
    "# print(unw_dijk_all_path_len)\n",
    "unw_dijk_all_path_len_prepped = {\n",
    "    outer_key: {inner_key: value for inner_key, value in inner_dict.items() if inner_key != outer_key}\n",
    "    for outer_key, inner_dict in unw_dijk_all_path_len.items()\n",
    "}\n",
    "\n",
    "print(f\"Analysis for Unweighted {method.title()} Shortest Path\")\n",
    "analysis_all_flights_all_orig_all_dest(unw_dijk_all_path_len_prepped, id_to_airport_code_mapping_dict)"
   ]
  },
  {
   "cell_type": "markdown",
   "metadata": {},
   "source": [
    "#### Results for Source Target Bellman-Ford's Unweighted Shortest Path Algorithm"
   ]
  },
  {
   "cell_type": "code",
   "execution_count": 16,
   "metadata": {},
   "outputs": [
    {
     "name": "stdout",
     "output_type": "stream",
     "text": [
      "Analysis for Unweighted Bellman-Ford Shortest Path\n",
      "average_min_length: 1.0\n",
      "average_max_length: 3.98\n",
      "max_length: 5\n",
      "mean_per_key: {'FWA': np.float64(2.2464183381088825), 'BZN': np.float64(2.128939828080229), 'RDM': np.float64(2.504297994269341), 'BKG': np.float64(2.340974212034384), 'MQT': np.float64(2.495702005730659), 'JAC': np.float64(2.1174785100286533), 'MSP': np.float64(1.6361031518624642), 'HIB': np.float64(2.6303724928366763), 'AUS': np.float64(1.9312320916905443), 'HDN': np.float64(2.1002865329512894), 'MAZ': np.float64(3.0888252148997135), 'ANI': np.float64(3.9312320916905446), 'CDC': np.float64(2.7392550143266474), 'AMA': np.float64(2.3810888252148996), 'PSC': np.float64(2.4011461318051577), 'PVD': np.float64(2.0773638968481376), 'AGS': np.float64(2.372492836676218), 'AVL': np.float64(2.2091690544412605), 'CVG': np.float64(1.6962750716332378), 'PLN': np.float64(2.6303724928366763), 'PBI': np.float64(2.0744985673352434), 'LMT': np.float64(2.7650429799426934), 'BTM': np.float64(2.7421203438395416), 'CPR': np.float64(2.5702005730659025), 'ITH': np.float64(2.616045845272206), 'UTM': np.float64(2.507163323782235), 'CRW': np.float64(2.2464183381088825), 'YUM': np.float64(2.7106017191977076), 'DHN': np.float64(2.507163323782235), 'ATL': np.float64(1.510028653295129), 'MKG': np.float64(2.541547277936963), 'JAN': np.float64(2.2406876790830945), 'LCH': np.float64(2.530085959885387), 'DIK': np.float64(2.501432664756447), 'LNY': np.float64(4.054441260744985), 'EWN': np.float64(2.507163323782235), 'ROW': np.float64(2.4842406876790832), 'ITO': np.float64(2.7277936962750715), 'ELM': np.float64(2.498567335243553), 'MWH': np.float64(2.799426934097421), 'HOB': np.float64(2.63323782234957), 'MCO': np.float64(1.7965616045845272), 'EGE': np.float64(2.097421203438395), 'SLC': np.float64(1.7449856733524356), 'CHO': np.float64(2.3753581661891117), 'ECP': np.float64(2.4011461318051577), 'ORD': np.float64(1.5444126074498568), 'ISN': np.float64(2.3954154727793697), 'SAN': np.float64(1.9054441260744985), 'PDX': np.float64(1.8767908309455588), 'GSO': np.float64(2.0830945558739256), 'PIH': np.float64(2.7421203438395416), 'MCN': np.float64(2.507163323782235), 'BNA': np.float64(1.8968481375358166), 'SEA': np.float64(1.8022922636103151), 'SAT': np.float64(1.9742120343839542), 'SMX': np.float64(2.7106017191977076), 'FSD': np.float64(2.194842406876791), 'BRD': np.float64(2.6303724928366763), 'HOU': np.float64(1.9770773638968482), 'EKO': np.float64(2.7363896848137537), 'ERI': np.float64(2.481375358166189), 'GRR': np.float64(2.1260744985673354), 'BFL': np.float64(2.340974212034384), 'SPN': np.float64(3.922857142857143), 'INL': np.float64(2.627507163323782), 'DUT': np.float64(2.9398280802292263), 'ATW': np.float64(2.2464183381088825), 'HRL': np.float64(2.383954154727794), 'BOI': np.float64(2.108882521489971), 'ACK': np.float64(2.673352435530086), 'GJT': np.float64(2.3638968481375358), 'LNK': np.float64(2.2693409742120343), 'PBG': np.float64(2.8624641833810887), 'RDU': np.float64(1.9197707736389684), 'DRO': np.float64(2.3954154727793697), 'SAF': np.float64(2.3982808022922635), 'RAP': np.float64(2.2406876790830945), 'GEG': np.float64(2.232091690544413), 'AEX': np.float64(2.383954154727794), 'HYA': np.float64(2.7857142857142856), 'VPS': np.float64(2.36676217765043), 'BOS': np.float64(1.8624641833810889), 'EWR': np.float64(1.7736389684813754), 'JNU': np.float64(2.7306590257879657), 'TYR': np.float64(2.5272206303724927), 'ABR': np.float64(2.63323782234957), 'SBP': np.float64(2.673352435530086), 'MOT': np.float64(2.469914040114613), 'TUS': np.float64(2.0401146131805157), 'OGG': np.float64(2.0716332378223496), 'JMS': np.float64(2.5959885386819486), 'UST': np.float64(3.2750716332378222), 'XNA': np.float64(2.1060171919770774), 'CLD': np.float64(2.7507163323782233), 'SYR': np.float64(2.2607449856733526), 'CAK': np.float64(2.2234957020057307), 'VCT': np.float64(2.63323782234957), 'PFN': np.float64(2.4040114613180514), 'PSP': np.float64(2.0687679083094554), 'MDW': np.float64(1.8624641833810889), 'IAH': np.float64(1.6361031518624642), 'PIA': np.float64(2.180515759312321), 'ACY': np.float64(2.2779369627507164), 'CEC': np.float64(2.7707736389684814), 'STL': np.float64(1.7822349570200573), 'GST': np.float64(3.7277936962750715), 'ONT': np.float64(2.01432664756447), 'SGF': np.float64(2.206303724928367), 'PHL': np.float64(1.8624641833810889), 'MIA': np.float64(1.8911174785100286), 'LBB': np.float64(2.3753581661891117), 'FNT': np.float64(2.2722063037249285), 'HLN': np.float64(2.4613180515759314), 'LFT': np.float64(2.2893982808022924), 'TWF': np.float64(2.7421203438395416), 'FAR': np.float64(2.189111747851003), 'BIL': np.float64(2.332378223495702), 'MSY': np.float64(1.9369627507163323), 'GUC': np.float64(2.2664756446991405), 'EFD': np.float64(2.63323782234957), 'BIS': np.float64(2.2406876790830945), 'SBN': np.float64(2.1919770773638967), 'STX': np.float64(2.481375358166189), 'COU': np.float64(2.318051575931232), 'MIB': np.float64(2.63323782234957), 'IDA': np.float64(2.4355300859598854), 'HTS': np.float64(2.475644699140401), 'BJI': np.float64(2.63323782234957), 'DCA': np.float64(1.8796561604584527), 'EYW': np.float64(2.4785100286532953), 'SMF': np.float64(1.9770773638968482), 'SGU': np.float64(2.530085959885387), 'RKS': np.float64(2.567335243553009), 'SUN': np.float64(2.535816618911175), 'MSN': np.float64(2.134670487106017), 'MFR': np.float64(2.501432664756447), 'ALO': np.float64(2.475644699140401), 'DVL': np.float64(2.5959885386819486), 'FLG': np.float64(2.7822349570200573), 'FLL': np.float64(1.8710601719197708), 'FCA': np.float64(2.332378223495702), 'CAE': np.float64(2.2464183381088825), 'SCE': np.float64(2.383954154727794), 'ABE': np.float64(2.355300859598854), 'BGM': np.float64(2.5730659025787967), 'WYS': np.float64(2.7421203438395416), 'RSW': np.float64(2.0601719197707737), 'HNL': np.float64(1.9340974212034383), 'AZA': np.float64(2.6017191977077365), 'MEI': np.float64(2.3982808022922635), 'LAX': np.float64(1.7535816618911175), 'MVY': np.float64(2.7564469914040113), 'DRT': np.float64(2.63323782234957), 'TEX': np.float64(2.7822349570200573), 'LRD': np.float64(2.530085959885387), 'BRO': np.float64(2.530085959885387), 'PHF': np.float64(2.306590257879656), 'STT': np.float64(2.35243553008596), 'MKE': np.float64(1.9340974212034383), 'HPN': np.float64(2.2750716332378222), 'ILE': np.float64(2.530085959885387), 'BHM': np.float64(2.0659025787965617), 'MBS': np.float64(2.335243553008596), 'HVN': np.float64(2.504297994269341), 'DSM': np.float64(2.0859598853868193), 'TVC': np.float64(2.340974212034384), 'CIU': np.float64(2.63323782234957), 'LGB': np.float64(2.0802292263610314), 'BWI': np.float64(1.851002865329513), 'CYS': np.float64(2.555873925501433), 'SJC': np.float64(1.9598853868194843), 'DAY': np.float64(2.0945558739255015), 'MYR': np.float64(2.2464183381088825), 'LGA': np.float64(1.9455587392550144), 'CMX': np.float64(2.475644699140401), 'ILG': np.float64(2.297994269340974), 'ESC': np.float64(2.63323782234957), 'BUR': np.float64(2.2607449856733526), 'VEL': np.float64(2.7421203438395416), 'RIC': np.float64(2.1117478510028653), 'MTJ': np.float64(2.151862464183381), 'SHV': np.float64(2.2234957020057307), 'SIT': np.float64(2.7822349570200573), 'PNS': np.float64(2.2693409742120343), 'BQN': np.float64(2.6131805157593124), 'FAT': np.float64(2.2693409742120343), 'APF': np.float64(2.8882521489971347), 'KSM': np.float64(2.9369627507163325), 'DTW': np.float64(1.6361031518624642), 'FAY': np.float64(2.4040114613180514), 'MLB': np.float64(2.464183381088825), 'PAH': np.float64(2.541547277936963), 'BTR': np.float64(2.303724928366762), 'MHT': np.float64(2.160458452722063), 'MLI': np.float64(2.177650429799427), 'TYS': np.float64(2.1375358166189113), 'CMI': np.float64(2.358166189111748), 'YAK': np.float64(3.7220630372492836), 'WRG': np.float64(3.7707736389684814), 'PUB': np.float64(2.6017191977077365), 'GPT': np.float64(2.36676217765043), 'LWB': np.float64(2.487106017191977), 'JLN': np.float64(2.555873925501433), 'GSP': np.float64(2.2292263610315186), 'ART': np.float64(2.541547277936963), 'PSG': np.float64(3.71919770773639), 'SWF': np.float64(2.349570200573066), 'TLH': np.float64(2.329512893982808), 'SPS': np.float64(2.555873925501433), 'OTZ': np.float64(2.9369627507163325), 'FLO': np.float64(2.507163323782235), 'MSO': np.float64(2.174785100286533), 'GCC': np.float64(2.567335243553009), 'IAG': np.float64(2.8624641833810887), 'LBE': np.float64(2.4613180515759314), 'CNY': np.float64(2.7421203438395416), 'EVV': np.float64(2.292263610315186), 'GGG': np.float64(2.555873925501433), 'PPG': np.float64(2.9312320916905446), 'OXR': np.float64(2.7507163323782233), 'IPL': np.float64(2.7392550143266474), 'GTF': np.float64(2.458452722063037), 'TOL': np.float64(2.3810888252148996), 'ANC': np.float64(1.9426934097421202), 'CMH': np.float64(2.0343839541547277), 'ABQ': np.float64(1.994269340974212), 'BRW': np.float64(2.9340974212034383), 'LIH': np.float64(2.464183381088825), 'IMT': np.float64(2.6303724928366763), 'RDD': np.float64(2.7765042979942693), 'CLT': np.float64(1.7621776504297995), 'SNA': np.float64(1.9770773638968482), 'MAF': np.float64(2.3753581661891117), 'ASE': np.float64(2.1489971346704873), 'LAS': np.float64(1.7879656160458453), 'CWA': np.float64(2.4498567335243555), 'OME': np.float64(2.9369627507163325), 'SUX': np.float64(2.3753581661891117), 'TXK': np.float64(2.530085959885387), 'CRP': np.float64(2.3868194842406876), 'CLL': np.float64(2.530085959885387), 'LWS': np.float64(2.7421203438395416), 'PIE': np.float64(2.5472779369627507), 'MFE': np.float64(2.383954154727794), 'AZO': np.float64(2.4240687679083095), 'GUM': np.float64(2.9312320916905446), 'SJU': np.float64(2.0916905444126073), 'BUF': np.float64(2.1432664756446993), 'LIT': np.float64(2.1489971346704873), 'ROA': np.float64(2.3638968481375358), 'BTV': np.float64(2.332378223495702), 'VLD': np.float64(2.507163323782235), 'GTR': np.float64(2.4011461318051577), 'ROC': np.float64(2.2664756446991405), 'PHX': np.float64(1.7851002865329513), 'SJT': np.float64(2.530085959885387), 'MGM': np.float64(2.3982808022922635), 'APN': np.float64(2.5214899713467047), 'IYK': np.float64(2.7507163323782233), 'CIC': np.float64(2.7765042979942693), 'EAU': np.float64(2.5386819484240686), 'PSE': np.float64(2.684813753581662), 'TRI': np.float64(2.383954154727794), 'DFW': np.float64(1.5587392550143266), 'COD': np.float64(2.5702005730659025), 'PIT': np.float64(1.833810888252149), 'PIB': np.float64(2.5501432664756445), 'GFK': np.float64(2.501432664756447), 'BQK': np.float64(2.507163323782235), 'LAN': np.float64(2.4212034383954153), 'CID': np.float64(2.180515759312321), 'BMI': np.float64(2.189111747851003), 'KOA': np.float64(2.2378223495702008), 'DAL': np.float64(1.9627507163323783), 'OTH': np.float64(2.7650429799426934), 'RHI': np.float64(2.6303724928366763), 'OAK': np.float64(2.011461318051576), 'BDL': np.float64(2.01432664756447), 'SFO': np.float64(1.7793696275071633), 'ILM': np.float64(2.4011461318051577), 'ADK': np.float64(2.9398280802292263), 'BET': np.float64(2.9398280802292263), 'HSV': np.float64(2.166189111747851), 'DBQ': np.float64(2.541547277936963), 'JAX': np.float64(2.0659025787965617), 'IAD': np.float64(1.816618911174785), 'BGR': np.float64(2.518624641833811), 'ABI': np.float64(2.530085959885387), 'RST': np.float64(2.332378223495702), 'ELP': np.float64(2.1260744985673354), 'OMA': np.float64(2.0458452722063036), 'MRY': np.float64(2.524355300859599), 'GRI': np.float64(2.555873925501433), 'LAR': np.float64(2.6017191977077365), 'TPA': np.float64(1.8882521489971347), 'GRB': np.float64(2.32378223495702), 'DEN': np.float64(1.6045845272206303), 'LSE': np.float64(2.4527220630372493), 'KTN': np.float64(2.7793696275071635), 'MKK': np.float64(3.0630372492836675), 'CHS': np.float64(2.160458452722063), 'ISP': np.float64(2.315186246418338), 'CLE': np.float64(1.8825214899713467), 'GRK': np.float64(2.3896848137535818), 'ORH': np.float64(2.4785100286532953), 'EUG': np.float64(2.504297994269341), 'CHA': np.float64(2.297994269340974), 'MEM': np.float64(1.822349570200573), 'VIS': np.float64(2.7478510028653296), 'RNO': np.float64(2.0573065902578795), 'IND': np.float64(1.9656160458452723), 'BPT': np.float64(2.530085959885387), 'SBA': np.float64(2.286532951289398), 'CDV': np.float64(2.9340974212034383), 'CSG': np.float64(2.4068767908309456), 'AKN': np.float64(2.9340974212034383), 'DAB': np.float64(2.4555873925501435), 'ACT': np.float64(2.530085959885387), 'ALB': np.float64(2.2349570200573066), 'MCI': np.float64(1.9340974212034383), 'PWM': np.float64(2.320916905444126), 'STC': np.float64(2.541547277936963), 'ORF': np.float64(2.1489971346704873), 'SRQ': np.float64(2.2148997134670485), 'FAI': np.float64(2.4126074498567336), 'SPI': np.float64(2.3925501432664755), 'COS': np.float64(2.031518624641834), 'ABY': np.float64(2.507163323782235), 'SDF': np.float64(2.0859598853868193), 'MMH': np.float64(2.7535816618911175), 'TTN': np.float64(2.2779369627507164), 'MDT': np.float64(2.2206303724928365), 'MOB': np.float64(2.2951289398280803), 'JFK': np.float64(1.7908309455587392), 'SAV': np.float64(2.2406876790830945), 'GNV': np.float64(2.498567335243553), 'ACV': np.float64(2.67621776504298), 'LYH': np.float64(2.507163323782235), 'MOD': np.float64(2.7765042979942693), 'DLG': np.float64(2.9369627507163325), 'ADQ': np.float64(2.9398280802292263), 'MLU': np.float64(2.3753581661891117), 'SCC': np.float64(2.9340974212034383), 'OAJ': np.float64(2.504297994269341), 'BLI': np.float64(2.5272206303724927), 'FSM': np.float64(2.4040114613180514), 'AVP': np.float64(2.36676217765043), 'LEX': np.float64(2.189111747851003), 'DLH': np.float64(2.4527220630372493)}\n",
      "average_of_means: 2.3925525290918666\n",
      "std_dev_per_key: {'FWA': np.float64(0.5212065100700091), 'BZN': np.float64(0.4322185976448882), 'RDM': np.float64(0.5645789896504441), 'BKG': np.float64(0.5624956383604431), 'MQT': np.float64(0.5746396728440286), 'JAC': np.float64(0.44200435984581454), 'MSP': np.float64(0.5266129548913573), 'HIB': np.float64(0.5388038635435259), 'AUS': np.float64(0.4738114981912753), 'HDN': np.float64(0.40586661798569107), 'MAZ': np.float64(0.5620429842592466), 'ANI': np.float64(0.4018209632841389), 'CDC': np.float64(0.5057610971627051), 'AMA': np.float64(0.5570984651266514), 'PSC': np.float64(0.5401887114472204), 'PVD': np.float64(0.5377209009258901), 'AGS': np.float64(0.5551941017665496), 'AVL': np.float64(0.523736462923273), 'CVG': np.float64(0.5809910453894299), 'PLN': np.float64(0.5388038635435259), 'PBI': np.float64(0.5564496472128762), 'LMT': np.float64(0.4927367127247214), 'BTM': np.float64(0.4986825937978003), 'CPR': np.float64(0.5498895069003396), 'ITH': np.float64(0.5473304404824628), 'UTM': np.float64(0.5438694319399598), 'CRW': np.float64(0.548005037630402), 'YUM': np.float64(0.5183475331808164), 'DHN': np.float64(0.5438694319399598), 'ATL': np.float64(0.5385295157125577), 'MKG': np.float64(0.5475853859701887), 'JAN': np.float64(0.5709847597487931), 'LCH': np.float64(0.5483345386257066), 'DIK': np.float64(0.5491574261573701), 'LNY': np.float64(0.48462201631652796), 'EWN': np.float64(0.5438694319399598), 'ROW': np.float64(0.5541283554674419), 'ITO': np.float64(0.5110257148334202), 'ELM': np.float64(0.564593531472998), 'MWH': np.float64(0.4412793506292203), 'HOB': np.float64(0.5327509867917993), 'MCO': np.float64(0.5628312432537178), 'EGE': np.float64(0.45637063019059126), 'SLC': np.float64(0.4914854535834661), 'CHO': np.float64(0.5558443852370036), 'ECP': np.float64(0.5711285303062141), 'ORD': np.float64(0.5421003527999301), 'ISN': np.float64(0.5443975265593305), 'SAN': np.float64(0.4784156522067242), 'PDX': np.float64(0.42723206463302693), 'GSO': np.float64(0.5526447427503126), 'PIH': np.float64(0.4986825937978003), 'MCN': np.float64(0.5438694319399598), 'BNA': np.float64(0.5029612395169399), 'SEA': np.float64(0.4327501386369409), 'SAT': np.float64(0.44389493939340025), 'SMX': np.float64(0.512789923973599), 'FSD': np.float64(0.4869374392263152), 'BRD': np.float64(0.5388038635435259), 'HOU': np.float64(0.5710710264266577), 'EKO': np.float64(0.5071066615588103), 'ERI': np.float64(0.5642880745027472), 'GRR': np.float64(0.5257079332920336), 'BFL': np.float64(0.5470003346408103), 'SPN': np.float64(0.4032622077051919), 'INL': np.float64(0.5447744235780438), 'DUT': np.float64(0.3698384596048723), 'ATW': np.float64(0.5100930386584221), 'HRL': np.float64(0.562816655897896), 'BOI': np.float64(0.46004380065349926), 'ACK': np.float64(0.5373237770704391), 'GJT': np.float64(0.5426906866132593), 'LNK': np.float64(0.5097388185200478), 'PBG': np.float64(0.5336748331275623), 'RDU': np.float64(0.47803796009816724), 'DRO': np.float64(0.5443975265593305), 'SAF': np.float64(0.5396564982002775), 'RAP': np.float64(0.49577653182089565), 'GEG': np.float64(0.5250203245237699), 'AEX': np.float64(0.5525407406739477), 'HYA': np.float64(0.46882397375491264), 'VPS': np.float64(0.5486488777032174), 'BOS': np.float64(0.5228264620905826), 'EWR': np.float64(0.5488134596525345), 'JNU': np.float64(0.5153293336614967), 'TYR': np.float64(0.5536836890680489), 'ABR': np.float64(0.5327509867917993), 'SBP': np.float64(0.5373237770704391), 'MOT': np.float64(0.5535353875549914), 'TUS': np.float64(0.41957269645295614), 'OGG': np.float64(0.4453168250297304), 'JMS': np.float64(0.5459787456482017), 'UST': np.float64(0.5950924495588684), 'XNA': np.float64(0.4638118007596618), 'CLD': np.float64(0.48858699523309446), 'SYR': np.float64(0.5943193508894176), 'CAK': np.float64(0.5525853153892343), 'VCT': np.float64(0.5327509867917993), 'PFN': np.float64(0.5459787456482017), 'PSP': np.float64(0.40888964961268126), 'MDW': np.float64(0.554735489775878), 'IAH': np.float64(0.5266129548913573), 'PIA': np.float64(0.4836214483860663), 'ACY': np.float64(0.5563906262488564), 'CEC': np.float64(0.49542864748540943), 'STL': np.float64(0.4649609674394079), 'GST': np.float64(0.5275786749844728), 'ONT': np.float64(0.403879350059545), 'SGF': np.float64(0.4939349394101202), 'PHL': np.float64(0.5228264620905826), 'MIA': np.float64(0.5017518427472214), 'LBB': np.float64(0.5660603312819918), 'FNT': np.float64(0.5643171727662447), 'HLN': np.float64(0.5683328903040552), 'LFT': np.float64(0.5238461837032179), 'TWF': np.float64(0.4986825937978003), 'FAR': np.float64(0.4712922691761421), 'BIL': np.float64(0.5391389879715608), 'MSY': np.float64(0.4685317568836496), 'GUC': np.float64(0.5084325174150307), 'EFD': np.float64(0.5327509867917993), 'BIS': np.float64(0.49577653182089565), 'SBN': np.float64(0.4910007785304752), 'STX': np.float64(0.5693432093665524), 'COU': np.float64(0.5344742082536326), 'MIB': np.float64(0.5327509867917993), 'IDA': np.float64(0.5557705277066497), 'HTS': np.float64(0.5538171264758053), 'BJI': np.float64(0.5327509867917993), 'DCA': np.float64(0.5104791803024102), 'EYW': np.float64(0.564186218762009), 'SMF': np.float64(0.42086218950329735), 'SGU': np.float64(0.5535353875549914), 'RKS': np.float64(0.5554306565713892), 'SUN': np.float64(0.5583497283006765), 'MSN': np.float64(0.49255339362954403), 'MFR': np.float64(0.569645955666271), 'ALO': np.float64(0.5538171264758053), 'DVL': np.float64(0.5459787456482017), 'FLG': np.float64(0.47712683774208936), 'FLL': np.float64(0.5167612045337239), 'FCA': np.float64(0.5548538775464786), 'CAE': np.float64(0.553208984285402), 'SCE': np.float64(0.5525407406739477), 'ABE': np.float64(0.5813300957778986), 'BGM': np.float64(0.5649424229207693), 'WYS': np.float64(0.4986825937978003), 'RSW': np.float64(0.5857339081283168), 'HNL': np.float64(0.36100877719797925), 'AZA': np.float64(0.5396564982002775), 'MEI': np.float64(0.5501731128484579), 'LAX': np.float64(0.48118771073131394), 'MVY': np.float64(0.4914687486073866), 'DRT': np.float64(0.5327509867917993), 'TEX': np.float64(0.47712683774208936), 'LRD': np.float64(0.5483345386257066), 'BRO': np.float64(0.5483345386257066), 'PHF': np.float64(0.5411302043075896), 'STT': np.float64(0.5855236184260613), 'MKE': np.float64(0.47723007098502873), 'HPN': np.float64(0.5853833833227574), 'ILE': np.float64(0.5483345386257066), 'BHM': np.float64(0.5497700501006026), 'MBS': np.float64(0.5346892204434612), 'HVN': np.float64(0.5543357443852419), 'DSM': np.float64(0.48890616299364376), 'TVC': np.float64(0.5470003346408103), 'CIU': np.float64(0.5327509867917993), 'LGB': np.float64(0.43405722907734323), 'BWI': np.float64(0.5305890898112652), 'CYS': np.float64(0.5410391636983076), 'SJC': np.float64(0.45243181004184974), 'DAY': np.float64(0.5130940366356961), 'MYR': np.float64(0.578526987635863), 'LGA': np.float64(0.6511299766941313), 'CMX': np.float64(0.5538171264758053), 'ILG': np.float64(0.5217575433710381), 'ESC': np.float64(0.5327509867917993), 'BUR': np.float64(0.5279364767719457), 'VEL': np.float64(0.4986825937978003), 'RIC': np.float64(0.5207494979092594), 'MTJ': np.float64(0.4634222065701555), 'SHV': np.float64(0.5314394553292667), 'SIT': np.float64(0.46496096743940796), 'PNS': np.float64(0.573237796569338), 'BQN': np.float64(0.5582909082079875), 'FAT': np.float64(0.5424183046883116), 'APF': np.float64(0.5096260604807898), 'KSM': np.float64(0.3732194807984276), 'DTW': np.float64(0.5266129548913573), 'FAY': np.float64(0.5459787456482017), 'MLB': np.float64(0.5685206567443396), 'PAH': np.float64(0.5475853859701887), 'BTR': np.float64(0.5453769170419545), 'MHT': np.float64(0.5537429985523459), 'MLI': np.float64(0.4934693080931186), 'TYS': np.float64(0.5061181012222261), 'CMI': np.float64(0.5412212296026304), 'YAK': np.float64(0.5459937828638882), 'WRG': np.float64(0.5068637517132174), 'PUB': np.float64(0.5396564982002775), 'GPT': np.float64(0.55384677486719), 'LWB': np.float64(0.5593487235088804), 'JLN': np.float64(0.5410391636983076), 'GSP': np.float64(0.5806376573749154), 'ART': np.float64(0.5475853859701887), 'PSG': np.float64(0.5575256822901378), 'SWF': np.float64(0.5798736042745382), 'TLH': np.float64(0.5642298734738158), 'SPS': np.float64(0.5410391636983076), 'OTZ': np.float64(0.3808194321108573), 'FLO': np.float64(0.5438694319399598), 'MSO': np.float64(0.4489341368867367), 'GCC': np.float64(0.5554306565713892), 'IAG': np.float64(0.5336748331275623), 'LBE': np.float64(0.5733523639326424), 'CNY': np.float64(0.4986825937978003), 'EVV': np.float64(0.546384605212598), 'GGG': np.float64(0.5410391636983076), 'PPG': np.float64(0.37220619343509237), 'OXR': np.float64(0.48858699523309446), 'IPL': np.float64(0.5057610971627051), 'GTF': np.float64(0.5731518560181589), 'TOL': np.float64(0.5570984651266514), 'ANC': np.float64(0.3584984132547015), 'CMH': np.float64(0.5395195585072629), 'ABQ': np.float64(0.44781717860049647), 'BRW': np.float64(0.3914715485410556), 'LIH': np.float64(0.5685206567443396), 'IMT': np.float64(0.5388038635435259), 'RDD': np.float64(0.4804705646015955), 'CLT': np.float64(0.5543801747739949), 'SNA': np.float64(0.42086218950329735), 'MAF': np.float64(0.5660603312819918), 'ASE': np.float64(0.4550013350436495), 'LAS': np.float64(0.4676021120647645), 'CWA': np.float64(0.5623642601878324), 'OME': np.float64(0.3808194321108573), 'SUX': np.float64(0.5401583133879719), 'TXK': np.float64(0.5483345386257066), 'CRP': np.float64(0.5479301234063735), 'CLL': np.float64(0.5483345386257066), 'LWS': np.float64(0.4986825937978003), 'PIE': np.float64(0.5776890877135951), 'MFE': np.float64(0.5525407406739477), 'AZO': np.float64(0.5696171296178419), 'GUM': np.float64(0.37220619343509237), 'SJU': np.float64(0.5538764216715293), 'BUF': np.float64(0.5686072972655423), 'LIT': np.float64(0.5251610450147258), 'ROA': np.float64(0.5734955409517135), 'BTV': np.float64(0.5947336358695936), 'VLD': np.float64(0.5438694319399598), 'GTR': np.float64(0.5506951625233186), 'ROC': np.float64(0.5965943581726035), 'PHX': np.float64(0.46935461843996035), 'SJT': np.float64(0.5483345386257066), 'MGM': np.float64(0.5553567440187883), 'APN': np.float64(0.559084457318557), 'IYK': np.float64(0.48858699523309446), 'CIC': np.float64(0.4804705646015955), 'EAU': np.float64(0.5530011728052638), 'PSE': np.float64(0.5226379882336687), 'TRI': np.float64(0.5525407406739477), 'DFW': np.float64(0.535410415570035), 'COD': np.float64(0.5498895069003396), 'PIT': np.float64(0.5872597515688249), 'PIB': np.float64(0.5468652339098219), 'GFK': np.float64(0.5491574261573701), 'BQK': np.float64(0.5438694319399598), 'LAN': np.float64(0.5742394859865649), 'CID': np.float64(0.4836214483860663), 'BMI': np.float64(0.4773332819016344), 'KOA': np.float64(0.5169359389730311), 'DAL': np.float64(0.5258796950034916), 'OTH': np.float64(0.4927367127247214), 'RHI': np.float64(0.5388038635435259), 'OAK': np.float64(0.49046540884308565), 'BDL': np.float64(0.5104309285720409), 'SFO': np.float64(0.47278805236448235), 'ILM': np.float64(0.5506951625233186), 'ADK': np.float64(0.3698384596048723), 'BET': np.float64(0.3698384596048723), 'HSV': np.float64(0.5254579978487552), 'DBQ': np.float64(0.5475853859701887), 'JAX': np.float64(0.5651894240562034), 'IAD': np.float64(0.5251923111145371), 'BGR': np.float64(0.5939738926760549), 'ABI': np.float64(0.5483345386257066), 'RST': np.float64(0.5391389879715608), 'ELP': np.float64(0.5034343999202173), 'OMA': np.float64(0.4518870831797438), 'MRY': np.float64(0.5589669655746268), 'GRI': np.float64(0.5410391636983076), 'LAR': np.float64(0.5396564982002775), 'TPA': np.float64(0.5423123414379369), 'GRB': np.float64(0.5521840134140761), 'DEN': np.float64(0.5337671298163095), 'LSE': np.float64(0.5574962295479798), 'KTN': np.float64(0.47278805236448235), 'MKK': np.float64(0.4561367000767461), 'CHS': np.float64(0.5639970092982048), 'ISP': np.float64(0.5992581681810903), 'CLE': np.float64(0.5567594046250748), 'GRK': np.float64(0.5432652666435593), 'ORH': np.float64(0.564186218762009), 'EUG': np.float64(0.5645789896504441), 'CHA': np.float64(0.5379804003325257), 'MEM': np.float64(0.5484692774329123), 'VIS': np.float64(0.4958593254508077), 'RNO': np.float64(0.46312093203930893), 'IND': np.float64(0.5122773261456455), 'BPT': np.float64(0.5483345386257066), 'SBA': np.float64(0.5226851130692753), 'CDV': np.float64(0.3840824316358977), 'CSG': np.float64(0.5412060597832846), 'AKN': np.float64(0.3914715485410556), 'DAB': np.float64(0.5679138029972053), 'ACT': np.float64(0.5483345386257066), 'ALB': np.float64(0.5978316222671095), 'MCI': np.float64(0.4711877350129008), 'PWM': np.float64(0.6104564185431807), 'STC': np.float64(0.5475853859701887), 'ORF': np.float64(0.5820922370935956), 'SRQ': np.float64(0.5885305908941828), 'FAI': np.float64(0.54216092944028), 'SPI': np.float64(0.5385447609252519), 'COS': np.float64(0.40290241813079775), 'ABY': np.float64(0.5438694319399598), 'SDF': np.float64(0.5337363660267782), 'MMH': np.float64(0.5044444955215535), 'TTN': np.float64(0.5864763278533264), 'MDT': np.float64(0.5299388009161814), 'MOB': np.float64(0.5578348421963413), 'JFK': np.float64(0.4596331507971475), 'SAV': np.float64(0.560858518535478), 'GNV': np.float64(0.5491574261573701), 'ACV': np.float64(0.5417064395209832), 'LYH': np.float64(0.5438694319399598), 'MOD': np.float64(0.4804705646015955), 'DLG': np.float64(0.3808194321108573), 'ADQ': np.float64(0.3698384596048723), 'MLU': np.float64(0.5660603312819918), 'SCC': np.float64(0.3914715485410556), 'OAJ': np.float64(0.549142475572007), 'BLI': np.float64(0.5432350407405876), 'FSM': np.float64(0.5459787456482017), 'AVP': np.float64(0.5691557142892899), 'LEX': np.float64(0.5393369181640106), 'DLH': np.float64(0.5574962295479798)}\n",
      "average_std_dev: 0.5221168279396573\n",
      "mode_per_key: {'FWA': 2, 'BZN': 2, 'RDM': 2, 'BKG': 2, 'MQT': 2, 'JAC': 2, 'MSP': 2, 'HIB': 3, 'AUS': 2, 'HDN': 2, 'MAZ': 3, 'ANI': 4, 'CDC': 3, 'AMA': 2, 'PSC': 2, 'PVD': 2, 'AGS': 2, 'AVL': 2, 'CVG': 2, 'PLN': 3, 'PBI': 2, 'LMT': 3, 'BTM': 3, 'CPR': 3, 'ITH': 3, 'UTM': 2, 'CRW': 2, 'YUM': 3, 'DHN': 2, 'ATL': 1, 'MKG': 3, 'JAN': 2, 'LCH': 3, 'DIK': 2, 'LNY': 4, 'EWN': 2, 'ROW': 2, 'ITO': 3, 'ELM': 2, 'MWH': 3, 'HOB': 3, 'MCO': 2, 'EGE': 2, 'SLC': 2, 'CHO': 2, 'ECP': 2, 'ORD': 2, 'ISN': 2, 'SAN': 2, 'PDX': 2, 'GSO': 2, 'PIH': 3, 'MCN': 2, 'BNA': 2, 'SEA': 2, 'SAT': 2, 'SMX': 3, 'FSD': 2, 'BRD': 3, 'HOU': 2, 'EKO': 3, 'ERI': 2, 'GRR': 2, 'BFL': 2, 'SPN': 4, 'INL': 3, 'DUT': 3, 'ATW': 2, 'HRL': 2, 'BOI': 2, 'ACK': 3, 'GJT': 2, 'LNK': 2, 'PBG': 3, 'RDU': 2, 'DRO': 2, 'SAF': 2, 'RAP': 2, 'GEG': 2, 'AEX': 2, 'HYA': 3, 'VPS': 2, 'BOS': 2, 'EWR': 2, 'JNU': 3, 'TYR': 3, 'ABR': 3, 'SBP': 3, 'MOT': 2, 'TUS': 2, 'OGG': 2, 'JMS': 3, 'UST': 3, 'XNA': 2, 'CLD': 3, 'SYR': 2, 'CAK': 2, 'VCT': 3, 'PFN': 2, 'PSP': 2, 'MDW': 2, 'IAH': 2, 'PIA': 2, 'ACY': 2, 'CEC': 3, 'STL': 2, 'GST': 4, 'ONT': 2, 'SGF': 2, 'PHL': 2, 'MIA': 2, 'LBB': 2, 'FNT': 2, 'HLN': 2, 'LFT': 2, 'TWF': 3, 'FAR': 2, 'BIL': 2, 'MSY': 2, 'GUC': 2, 'EFD': 3, 'BIS': 2, 'SBN': 2, 'STX': 2, 'COU': 2, 'MIB': 3, 'IDA': 2, 'HTS': 2, 'BJI': 3, 'DCA': 2, 'EYW': 2, 'SMF': 2, 'SGU': 3, 'RKS': 3, 'SUN': 3, 'MSN': 2, 'MFR': 2, 'ALO': 2, 'DVL': 3, 'FLG': 3, 'FLL': 2, 'FCA': 2, 'CAE': 2, 'SCE': 2, 'ABE': 2, 'BGM': 3, 'WYS': 3, 'RSW': 2, 'HNL': 2, 'AZA': 3, 'MEI': 2, 'LAX': 2, 'MVY': 3, 'DRT': 3, 'TEX': 3, 'LRD': 3, 'BRO': 3, 'PHF': 2, 'STT': 2, 'MKE': 2, 'HPN': 2, 'ILE': 3, 'BHM': 2, 'MBS': 2, 'HVN': 2, 'DSM': 2, 'TVC': 2, 'CIU': 3, 'LGB': 2, 'BWI': 2, 'CYS': 3, 'SJC': 2, 'DAY': 2, 'MYR': 2, 'LGA': 2, 'CMX': 2, 'ILG': 2, 'ESC': 3, 'BUR': 2, 'VEL': 3, 'RIC': 2, 'MTJ': 2, 'SHV': 2, 'SIT': 3, 'PNS': 2, 'BQN': 3, 'FAT': 2, 'APF': 3, 'KSM': 3, 'DTW': 2, 'FAY': 2, 'MLB': 2, 'PAH': 3, 'BTR': 2, 'MHT': 2, 'MLI': 2, 'TYS': 2, 'CMI': 2, 'YAK': 4, 'WRG': 4, 'PUB': 3, 'GPT': 2, 'LWB': 2, 'JLN': 3, 'GSP': 2, 'ART': 3, 'PSG': 4, 'SWF': 2, 'TLH': 2, 'SPS': 3, 'OTZ': 3, 'FLO': 2, 'MSO': 2, 'GCC': 3, 'IAG': 3, 'LBE': 2, 'CNY': 3, 'EVV': 2, 'GGG': 3, 'PPG': 3, 'OXR': 3, 'IPL': 3, 'GTF': 2, 'TOL': 2, 'ANC': 2, 'CMH': 2, 'ABQ': 2, 'BRW': 3, 'LIH': 3, 'IMT': 3, 'RDD': 3, 'CLT': 2, 'SNA': 2, 'MAF': 2, 'ASE': 2, 'LAS': 2, 'CWA': 2, 'OME': 3, 'SUX': 2, 'TXK': 3, 'CRP': 2, 'CLL': 3, 'LWS': 3, 'PIE': 3, 'MFE': 2, 'AZO': 2, 'GUM': 3, 'SJU': 2, 'BUF': 2, 'LIT': 2, 'ROA': 2, 'BTV': 2, 'VLD': 2, 'GTR': 2, 'ROC': 2, 'PHX': 2, 'SJT': 3, 'MGM': 2, 'APN': 2, 'IYK': 3, 'CIC': 3, 'EAU': 3, 'PSE': 3, 'TRI': 2, 'DFW': 2, 'COD': 3, 'PIT': 2, 'PIB': 3, 'GFK': 2, 'BQK': 2, 'LAN': 2, 'CID': 2, 'BMI': 2, 'KOA': 2, 'DAL': 2, 'OTH': 3, 'RHI': 3, 'OAK': 2, 'BDL': 2, 'SFO': 2, 'ILM': 2, 'ADK': 3, 'BET': 3, 'HSV': 2, 'DBQ': 3, 'JAX': 2, 'IAD': 2, 'BGR': 3, 'ABI': 3, 'RST': 2, 'ELP': 2, 'OMA': 2, 'MRY': 3, 'GRI': 3, 'LAR': 3, 'TPA': 2, 'GRB': 2, 'DEN': 2, 'LSE': 2, 'KTN': 3, 'MKK': 3, 'CHS': 2, 'ISP': 2, 'CLE': 2, 'GRK': 2, 'ORH': 2, 'EUG': 2, 'CHA': 2, 'MEM': 2, 'VIS': 3, 'RNO': 2, 'IND': 2, 'BPT': 3, 'SBA': 2, 'CDV': 3, 'CSG': 2, 'AKN': 3, 'DAB': 2, 'ACT': 3, 'ALB': 2, 'MCI': 2, 'PWM': 2, 'STC': 3, 'ORF': 2, 'SRQ': 2, 'FAI': 2, 'SPI': 2, 'COS': 2, 'ABY': 2, 'SDF': 2, 'MMH': 3, 'TTN': 2, 'MDT': 2, 'MOB': 2, 'JFK': 2, 'SAV': 2, 'GNV': 2, 'ACV': 3, 'LYH': 2, 'MOD': 3, 'DLG': 3, 'ADQ': 3, 'MLU': 2, 'SCC': 3, 'OAJ': 2, 'BLI': 3, 'FSM': 2, 'AVP': 2, 'LEX': 2, 'DLH': 2}\n",
      "average_mode: 2.36\n"
     ]
    }
   ],
   "source": [
    "# Unweighted bellman-ford\n",
    "weighted_field = None\n",
    "method = \"bellman-ford\"\n",
    "\n",
    "unw_bf_all_path_len = dict(nx.shortest_path_length(flightGraph, weight=weighted_field, method=method))\n",
    "\n",
    "unw_bf_all_path_len_prepped = {\n",
    "    outer_key: {inner_key: value for inner_key, value in inner_dict.items() if inner_key != outer_key}\n",
    "    for outer_key, inner_dict in unw_bf_all_path_len.items()\n",
    "}\n",
    "\n",
    "print(f\"Analysis for Unweighted {method.title()} Shortest Path\")\n",
    "analysis_all_flights_all_orig_all_dest(unw_bf_all_path_len_prepped, id_to_airport_code_mapping_dict)"
   ]
  },
  {
   "cell_type": "markdown",
   "metadata": {},
   "source": [
    "### Convert edge property (flight_distance) from string to float"
   ]
  },
  {
   "cell_type": "code",
   "execution_count": 17,
   "metadata": {},
   "outputs": [],
   "source": [
    "# Convert edge property (flight_distance) from string to float\n",
    "\n",
    "for u, v, data in flightGraph.edges(data=True):\n",
    "    if 'flight_distance' in data:\n",
    "        try:\n",
    "            data['flight_distance'] = float(data['flight_distance'])\n",
    "        except ValueError:\n",
    "            print(f\"Invalid flight_distance value on edge ({u}, {v}): {data['flight_distance']}\")"
   ]
  },
  {
   "cell_type": "markdown",
   "metadata": {},
   "source": [
    "#### Results for Source Target Dijkstra's Weighted Shortest Path Algorithm"
   ]
  },
  {
   "cell_type": "code",
   "execution_count": 18,
   "metadata": {},
   "outputs": [
    {
     "name": "stdout",
     "output_type": "stream",
     "text": [
      "Analysis for Unweighted Dijkstra Shortest Path\n",
      "average_min_length: 188.22285714285715\n",
      "average_max_length: 7787.705714285714\n",
      "max_length: 9935.0\n",
      "mean_per_key: {'FWA': np.float64(1229.7392550143265), 'BZN': np.float64(1487.3295128939828), 'RDM': np.float64(1776.1919770773638), 'BKG': np.float64(1247.7048710601719), 'MQT': np.float64(1369.4555873925501), 'JAC': np.float64(1453.888252148997), 'MSP': np.float64(1210.054441260745), 'HIB': np.float64(1382.432664756447), 'AUS': np.float64(1329.5845272206304), 'HDN': np.float64(1315.3724928366762), 'MAZ': np.float64(2697.8997134670485), 'ANI': np.float64(3466.223495702006), 'CDC': np.float64(1584.6332378223497), 'AMA': np.float64(1308.6389684813753), 'PSC': np.float64(1714.0601719197707), 'PVD': np.float64(1686.9856733524355), 'AGS': np.float64(1380.5100286532952), 'AVL': np.float64(1330.2521489971348), 'CVG': np.float64(1215.5558739255014), 'PLN': np.float64(1432.0315186246419), 'PBI': np.float64(1678.9942693409741), 'LMT': np.float64(1967.9283667621776), 'BTM': np.float64(1763.919770773639), 'CPR': np.float64(1411.10888252149), 'ITH': np.float64(1536.0114613180515), 'UTM': np.float64(1631.220630372493), 'CRW': np.float64(1307.1432664756446), 'YUM': np.float64(1634.595988538682), 'DHN': np.float64(1454.727793696275), 'ATL': np.float64(1285.214899713467), 'MKG': np.float64(1296.7507163323783), 'JAN': np.float64(1282.1489971346705), 'LCH': np.float64(1429.8997134670487), 'DIK': np.float64(1485.9255014326648), 'LNY': np.float64(3953.478510028653), 'EWN': np.float64(1716.974212034384), 'ROW': np.float64(1474.8853868194842), 'ITO': np.float64(3902.9255014326645), 'ELM': np.float64(1509.8710601719197), 'MWH': np.float64(1944.429799426934), 'HOB': np.float64(1817.080229226361), 'MCO': np.float64(1563.2836676217764), 'EGE': np.float64(1336.896848137536), 'SLC': np.float64(1407.942693409742), 'CHO': np.float64(1426.1060171919771), 'ECP': np.float64(1406.733524355301), 'ORD': np.float64(1179.0888252148998), 'ISN': np.float64(1558.7879656160458), 'SAN': np.float64(1693.137535816619), 'PDX': np.float64(1790.4641833810888), 'GSO': np.float64(1372.1977077363897), 'PIH': np.float64(1557.512893982808), 'MCN': np.float64(1363.9885386819485), 'BNA': np.float64(1214.5300859598854), 'SEA': np.float64(1803.8338108882522), 'SAT': np.float64(1369.8767908309455), 'SMX': np.float64(1801.8252148997135), 'FSD': np.float64(1246.9369627507162), 'BRD': np.float64(1322.9684813753581), 'HOU': np.float64(1333.6561604584526), 'EKO': np.float64(1566.8796561604584), 'ERI': np.float64(1368.5444126074499), 'GRR': np.float64(1240.6876790830945), 'BFL': np.float64(1722.6446991404011), 'SPN': np.float64(7835.042857142857), 'INL': np.float64(1462.7220630372492), 'DUT': np.float64(3690.4126074498568), 'ATW': np.float64(1242.054441260745), 'HRL': np.float64(1542.4527220630373), 'BOI': np.float64(1572.6934097421204), 'ACK': np.float64(1757.919770773639), 'GJT': np.float64(1351.9598853868195), 'LNK': np.float64(1238.487106017192), 'PBG': np.float64(2277.8538681948426), 'RDU': np.float64(1415.2034383954156), 'DRO': np.float64(1406.1690544412606), 'SAF': np.float64(1413.323782234957), 'RAP': np.float64(1349.8424068767908), 'GEG': np.float64(1689.2636103151863), 'AEX': np.float64(1317.0229226361032), 'HYA': np.float64(1764.96), 'VPS': np.float64(1405.4383954154728), 'BOS': np.float64(1706.3381088825215), 'EWR': np.float64(1559.5730659025787), 'JNU': np.float64(2599.833810888252), 'TYR': np.float64(1299.5042979942693), 'ABR': np.float64(1466.3180515759311), 'SBP': np.float64(1808.0372492836677), 'MOT': np.float64(1472.6647564469913), 'TUS': np.float64(1533.083094555874), 'OGG': np.float64(3881.679083094556), 'JMS': np.float64(1808.9054441260746), 'UST': np.float64(2403.5501432664755), 'XNA': np.float64(1192.7621776504297), 'CLD': np.float64(1783.6418338108883), 'SYR': np.float64(1516.6045845272206), 'CAK': np.float64(1307.945558739255), 'VCT': np.float64(1440.163323782235), 'PFN': np.float64(1444.8338108882522), 'PSP': np.float64(1644.6189111747851), 'MDW': np.float64(1201.9140401146133), 'IAH': np.float64(1317.5157593123208), 'PIA': np.float64(1181.272206303725), 'ACY': np.float64(1604.9914040114613), 'CEC': np.float64(1945.9083094555874), 'STL': np.float64(1157.352435530086), 'GST': np.float64(2640.7163323782233), 'ONT': np.float64(1672.0028653295128), 'SGF': np.float64(1186.4785100286533), 'PHL': np.float64(1511.9598853868195), 'MIA': np.float64(1712.7421203438396), 'LBB': np.float64(1326.7765042979943), 'FNT': np.float64(1281.8424068767908), 'HLN': np.float64(1550.9971346704872), 'LFT': np.float64(1355.323782234957), 'TWF': np.float64(1582.4412607449856), 'FAR': np.float64(1345.2005730659025), 'BIL': np.float64(1446.5157593123208), 'MSY': np.float64(1353.1318051575931), 'GUC': np.float64(1332.1260744985673), 'EFD': np.float64(1345.43553008596), 'BIS': np.float64(1393.7249283667622), 'SBN': np.float64(1213.512893982808), 'STX': np.float64(2711.7621776504297), 'COU': np.float64(1311.292263610315), 'MIB': np.float64(1665.7449856733524), 'IDA': np.float64(1493.9541547277936), 'HTS': np.float64(1303.0716332378224), 'BJI': np.float64(1408.4842406876792), 'DCA': np.float64(1448.458452722063), 'EYW': np.float64(1749.650429799427), 'SMF': np.float64(1747.3209169054442), 'SGU': np.float64(1559.1260744985673), 'RKS': np.float64(1385.836676217765), 'SUN': np.float64(1595.0458452722064), 'MSN': np.float64(1199.2005730659025), 'MFR': np.float64(1818.5616045845272), 'ALO': np.float64(1274.1833810888252), 'DVL': np.float64(1873.7191977077364), 'FLG': np.float64(1633.7163323782236), 'FLL': np.float64(1703.8252148997135), 'FCA': np.float64(1646.0744985673352), 'CAE': np.float64(1382.4928366762178), 'SCE': np.float64(1445.8510028653295), 'ABE': np.float64(1514.538681948424), 'BGM': np.float64(1521.0085959885387), 'WYS': np.float64(1680.160458452722), 'RSW': np.float64(1642.1661891117478), 'HNL': np.float64(3938.0143266475643), 'AZA': np.float64(1834.1260744985673), 'MEI': np.float64(1366.4154727793696), 'LAX': np.float64(1697.888252148997), 'MVY': np.float64(1735.297994269341), 'DRT': np.float64(1655.5444126074499), 'TEX': np.float64(1900.948424068768), 'LRD': np.float64(1569.4383954154728), 'BRO': np.float64(1612.4555873925501), 'PHF': np.float64(1519.6446991404011), 'STT': np.float64(2674.9856733524357), 'MKE': np.float64(1203.266475644699), 'HPN': np.float64(1584.4126074498568), 'ILE': np.float64(1343.214899713467), 'BHM': np.float64(1262.4727793696275), 'MBS': np.float64(1296.67335243553), 'HVN': np.float64(1816.6418338108883), 'DSM': np.float64(1173.621776504298), 'TVC': np.float64(1303.5530085959886), 'CIU': np.float64(1546.727793696275), 'LGB': np.float64(1724.779369627507), 'BWI': np.float64(1459.0114613180515), 'CYS': np.float64(1941.2893982808023), 'SJC': np.float64(1779.189111747851), 'DAY': np.float64(1232.3982808022922), 'MYR': np.float64(1469.3667621776503), 'LGA': np.float64(1574.2005730659025), 'CMX': np.float64(1391.7650429799428), 'ILG': np.float64(1623.0085959885387), 'ESC': np.float64(1568.6647564469913), 'BUR': np.float64(1721.3839541547277), 'VEL': np.float64(1539.56446991404), 'RIC': np.float64(1451.5873925501432), 'MTJ': np.float64(1338.3094555873924), 'SHV': np.float64(1258.7736389684815), 'SIT': np.float64(2563.4355300859597), 'PNS': np.float64(1373.7306590257879), 'BQN': np.float64(2636.7679083094554), 'FAT': np.float64(1700.4842406876792), 'APF': np.float64(1808.4670487106018), 'KSM': np.float64(3341.404011461318), 'DTW': np.float64(1263.541547277937), 'FAY': np.float64(1462.7478510028652), 'MLB': np.float64(1635.0458452722064), 'PAH': np.float64(1520.10888252149), 'BTR': np.float64(1336.1919770773638), 'MHT': np.float64(1703.9856733524355), 'MLI': np.float64(1177.1174785100286), 'TYS': np.float64(1270.3438395415474), 'CMI': np.float64(1246.0429799426934), 'YAK': np.float64(2771.6876790830947), 'WRG': np.float64(2473.859598853868), 'PUB': np.float64(1349.5186246418339), 'GPT': np.float64(1366.220630372493), 'LWB': np.float64(1402.9340974212034), 'JLN': np.float64(1556.3954154727794), 'GSP': np.float64(1324.0601719197707), 'ART': np.float64(1795.3180515759311), 'PSG': np.float64(2501.3954154727794), 'SWF': np.float64(1596.7449856733524), 'TLH': np.float64(1422.974212034384), 'SPS': np.float64(1343.0085959885387), 'OTZ': np.float64(3444.521489971347), 'FLO': np.float64(1557.432664756447), 'MSO': np.float64(1587.2005730659025), 'GCC': np.float64(1494.9140401146133), 'IAG': np.float64(2117.4097421203437), 'LBE': np.float64(1550.8939828080229), 'CNY': np.float64(1591.4154727793696), 'EVV': np.float64(1240.1404011461318), 'GGG': np.float64(1369.9312320916906), 'PPG': np.float64(6529.567335243553), 'OXR': np.float64(1746.7478510028652), 'IPL': np.float64(1667.246418338109), 'GTF': np.float64(1550.836676217765), 'TOL': np.float64(1260.948424068768), 'ANC': np.float64(2900.6819484240687), 'CMH': np.float64(1264.1318051575931), 'ABQ': np.float64(1350.2177650429799), 'BRW': np.float64(3426.6590257879657), 'LIH': np.float64(3997.206303724928), 'IMT': np.float64(1465.2292263610316), 'RDD': np.float64(1979.349570200573), 'CLT': np.float64(1346.8137535816618), 'SNA': np.float64(1688.89111747851), 'MAF': np.float64(1360.9684813753581), 'ASE': np.float64(1311.9627507163323), 'LAS': np.float64(1550.6332378223497), 'CWA': np.float64(1255.6848137535817), 'OME': np.float64(3435.547277936963), 'SUX': np.float64(1291.733524355301), 'TXK': np.float64(1400.6160458452723), 'CRP': np.float64(1495.080229226361), 'CLL': np.float64(1340.2865329512895), 'LWS': np.float64(1867.621776504298), 'PIE': np.float64(1957.8022922636103), 'MFE': np.float64(1569.7908309455588), 'AZO': np.float64(1235.0916905444126), 'GUM': np.float64(7728.1232091690545), 'SJU': np.float64(2622.117478510029), 'BUF': np.float64(1422.1232091690545), 'LIT': np.float64(1210.0744985673352), 'ROA': np.float64(1368.6189111747851), 'BTV': np.float64(1672.5100286532952), 'VLD': np.float64(1492.6189111747851), 'GTR': np.float64(1275.1862464183382), 'ROC': np.float64(1462.2263610315185), 'PHX': np.float64(1515.057306590258), 'SJT': np.float64(1450.1919770773638), 'MGM': np.float64(1328.5300859598854), 'APN': np.float64(1377.194842406877), 'IYK': np.float64(1820.5358166189112), 'CIC': np.float64(1933.4813753581661), 'EAU': np.float64(1330.6790830945558), 'PSE': np.float64(2707.2893982808023), 'TRI': np.float64(1334.3553008595989), 'DFW': np.float64(1230.3323782234957), 'COD': np.float64(1519.10888252149), 'PIT': np.float64(1334.4126074498568), 'PIB': np.float64(1395.942693409742), 'GFK': np.float64(1429.5873925501432), 'BQK': np.float64(1522.5329512893982), 'LAN': np.float64(1264.0429799426934), 'CID': np.float64(1182.0859598853867), 'BMI': np.float64(1203.9541547277936), 'KOA': np.float64(3911.3409742120343), 'DAL': np.float64(1263.4011461318053), 'OTH': np.float64(1936.8710601719197), 'RHI': np.float64(1398.4212034383954), 'OAK': np.float64(1796.7679083094556), 'BDL': np.float64(1635.4383954154728), 'SFO': np.float64(1780.919770773639), 'ILM': np.float64(1515.2779369627508), 'ADK': np.float64(4089.2664756446993), 'BET': np.float64(3298.5386819484243), 'HSV': np.float64(1242.2607449856735), 'DBQ': np.float64(1325.6676217765043), 'JAX': np.float64(1475.1661891117478), 'IAD': np.float64(1430.6103151862465), 'BGR': np.float64(1859.1002865329513), 'ABI': np.float64(1385.8853868194842), 'RST': np.float64(1233.9799426934098), 'ELP': np.float64(1436.3381088825215), 'OMA': np.float64(1185.5329512893982), 'MRY': np.float64(1800.4842406876792), 'GRI': np.float64(1789.7249283667622), 'LAR': np.float64(1353.5071633237822), 'TPA': np.float64(1554.4154727793696), 'GRB': np.float64(1254.2951289398281), 'DEN': np.float64(1240.8309455587394), 'LSE': np.float64(1237.6704871060172), 'KTN': np.float64(2401.323782234957), 'MKK': np.float64(3927.106017191977), 'CHS': np.float64(1445.4441260744986), 'ISP': np.float64(1626.404011461318), 'CLE': np.float64(1295.4555873925501), 'GRK': np.float64(1343.6045845272206), 'ORH': np.float64(1701.1547277936963), 'EUG': np.float64(1835.8424068767908), 'CHA': np.float64(1275.9770773638968), 'MEM': np.float64(1195.9713467048712), 'VIS': np.float64(1732.836676217765), 'RNO': np.float64(1674.5214899713467), 'IND': np.float64(1195.1747851002865), 'BPT': np.float64(1389.2521489971348), 'SBA': np.float64(1750.9885386819485), 'CDV': np.float64(2937.3581661891117), 'CSG': np.float64(1351.624641833811), 'AKN': np.float64(3185.6618911174787), 'DAB': np.float64(1621.7994269340975), 'ACT': np.float64(1308.753581661891), 'ALB': np.float64(1599.5329512893982), 'MCI': np.float64(1168.7621776504297), 'PWM': np.float64(1763.2435530085959), 'STC': np.float64(1571.9598853868195), 'ORF': np.float64(1503.779369627507), 'SRQ': np.float64(1584.9541547277936), 'FAI': np.float64(2929.484240687679), 'SPI': np.float64(1315.512893982808), 'COS': np.float64(1259.2578796561604), 'ABY': np.float64(1429.7994269340975), 'SDF': np.float64(1208.1461318051577), 'MMH': np.float64(1895.4240687679082), 'TTN': np.float64(1604.8452722063037), 'MDT': np.float64(1462.0429799426934), 'MOB': np.float64(1351.647564469914), 'JFK': np.float64(1573.4555873925501), 'SAV': np.float64(1432.942693409742), 'GNV': np.float64(1564.2063037249284), 'ACV': np.float64(1891.8223495702007), 'LYH': np.float64(1673.1002865329513), 'MOD': np.float64(1858.6962750716332), 'DLG': np.float64(3225.6361031518622), 'ADQ': np.float64(3152.9570200573066), 'MLU': np.float64(1269.9770773638968), 'SCC': np.float64(3298.9856733524357), 'OAJ': np.float64(1534.8997134670487), 'BLI': np.float64(1886.8252148997135), 'FSM': np.float64(1297.595988538682), 'AVP': np.float64(1510.3008595988538), 'LEX': np.float64(1231.6045845272206), 'DLH': np.float64(1322.429799426934)}\n",
      "average_of_means: 1711.7668522074732\n",
      "std_dev_per_key: {'FWA': np.float64(1017.9794066744172), 'BZN': np.float64(720.27949268441), 'RDM': np.float64(784.1175540076679), 'BKG': np.float64(889.8650401548201), 'MQT': np.float64(940.6562522995694), 'JAC': np.float64(752.7270700284922), 'MSP': np.float64(856.9926660718313), 'HIB': np.float64(859.1173748703224), 'AUS': np.float64(880.2567852042544), 'HDN': np.float64(756.6617295707097), 'MAZ': np.float64(1196.8547456588965), 'ANI': np.float64(892.8387562183583), 'CDC': np.float64(782.1057335037814), 'AMA': np.float64(791.8418638074266), 'PSC': np.float64(743.3653086152814), 'PVD': np.float64(1145.6546769263539), 'AGS': np.float64(1119.7468466647979), 'AVL': np.float64(1110.7461053872382), 'CVG': np.float64(1047.0479311317479), 'PLN': np.float64(984.5427031115154), 'PBI': np.float64(1132.0173842010329), 'LMT': np.float64(829.2646675528189), 'BTM': np.float64(781.096730530728), 'CPR': np.float64(758.0387033810871), 'ITH': np.float64(1080.7214081558154), 'UTM': np.float64(1092.83683314225), 'CRW': np.float64(1088.6337311870118), 'YUM': np.float64(782.110824035017), 'DHN': np.float64(1092.360595631956), 'ATL': np.float64(1091.8253726500982), 'MKG': np.float64(971.0546821561128), 'JAN': np.float64(991.9065839128178), 'LCH': np.float64(918.6652013221475), 'DIK': np.float64(803.926114694851), 'LNY': np.float64(945.3565951243255), 'EWN': np.float64(1093.03842012697), 'ROW': np.float64(770.230195590294), 'ITO': np.float64(914.6196699075352), 'ELM': np.float64(1082.664813313752), 'MWH': np.float64(766.0874727115165), 'HOB': np.float64(925.3794354644278), 'MCO': np.float64(1123.68932745353), 'EGE': np.float64(762.0246938642039), 'SLC': np.float64(779.4856633028932), 'CHO': np.float64(1116.894337037779), 'ECP': np.float64(1056.0609247774173), 'ORD': np.float64(970.6646620192214), 'ISN': np.float64(806.5306690290209), 'SAN': np.float64(802.4035337289042), 'PDX': np.float64(778.9762711097987), 'GSO': np.float64(1131.6778290497052), 'PIH': np.float64(780.2201680158818), 'MCN': np.float64(1092.0835845953202), 'BNA': np.float64(1027.9086049341645), 'SEA': np.float64(765.172925304471), 'SAT': np.float64(867.681836804129), 'SMX': np.float64(822.4865234142258), 'FSD': np.float64(830.9992545539889), 'BRD': np.float64(858.3718389522629), 'HOU': np.float64(924.0351472793702), 'EKO': np.float64(773.6165078879021), 'ERI': np.float64(1067.035985946799), 'GRR': np.float64(994.2892192178186), 'BFL': np.float64(804.3425440709698), 'SPN': np.float64(1057.3008064435223), 'INL': np.float64(860.1609965250818), 'DUT': np.float64(888.1293959916163), 'ATW': np.float64(926.7408244894599), 'HRL': np.float64(887.7403697574956), 'BOI': np.float64(760.1805776175428), 'ACK': np.float64(1152.6369713975914), 'GJT': np.float64(762.4933828232679), 'LNK': np.float64(822.9913137790752), 'PBG': np.float64(1145.5090503248564), 'RDU': np.float64(1140.790939308692), 'DRO': np.float64(771.8753685674337), 'SAF': np.float64(762.1409454074076), 'RAP': np.float64(774.6777171329296), 'GEG': np.float64(729.055513641396), 'AEX': np.float64(945.5064406306177), 'HYA': np.float64(1143.621590062527), 'VPS': np.float64(1038.874192180693), 'BOS': np.float64(1145.4495771617007), 'EWR': np.float64(1148.5078638952727), 'JNU': np.float64(889.5554093193824), 'TYR': np.float64(896.2788773103823), 'ABR': np.float64(857.9211959727744), 'SBP': np.float64(826.9534041951288), 'MOT': np.float64(786.1522556013679), 'TUS': np.float64(767.6035655095499), 'OGG': np.float64(940.5181344321442), 'JMS': np.float64(783.1714561583148), 'UST': np.float64(1089.430121488293), 'XNA': np.float64(890.314746284701), 'CLD': np.float64(818.938533452734), 'SYR': np.float64(1103.519206995605), 'CAK': np.float64(1070.6942930839095), 'VCT': np.float64(924.202845065289), 'PFN': np.float64(1044.0762692681033), 'PSP': np.float64(798.9563362688501), 'MDW': np.float64(956.6101525777935), 'IAH': np.float64(923.7238190485934), 'PIA': np.float64(939.6039267075482), 'ACY': np.float64(1107.9598135086749), 'CEC': np.float64(814.1468772430742), 'STL': np.float64(942.4112031322618), 'GST': np.float64(889.8959742768325), 'ONT': np.float64(811.0475998120236), 'SGF': np.float64(906.3637970664632), 'PHL': np.float64(1149.388278113013), 'MIA': np.float64(1129.2484566137598), 'LBB': np.float64(803.7801032295247), 'FNT': np.float64(1020.6666038127336), 'HLN': np.float64(730.36305882727), 'LFT': np.float64(952.9046627607593), 'TWF': np.float64(780.334462943207), 'FAR': np.float64(820.5226302208505), 'BIL': np.float64(727.4831069894906), 'MSY': np.float64(985.2523711092492), 'GUC': np.float64(763.0344384795446), 'EFD': np.float64(923.8370243516049), 'BIS': np.float64(791.6236906523656), 'SBN': np.float64(991.4715051557209), 'STX': np.float64(1199.0772565697196), 'COU': np.float64(972.9045017864337), 'MIB': np.float64(858.4901390941237), 'IDA': np.float64(756.7862591407733), 'HTS': np.float64(1067.3987785555137), 'BJI': np.float64(857.7310663196638), 'DCA': np.float64(1138.034288573986), 'EYW': np.float64(1106.0295691737335), 'SMF': np.float64(817.1246359346341), 'SGU': np.float64(770.5343668300931), 'RKS': np.float64(757.4135367082849), 'SUN': np.float64(763.9261865707861), 'MSN': np.float64(926.6992352777833), 'MFR': np.float64(801.4960186934052), 'ALO': np.float64(888.2286552582088), 'DVL': np.float64(783.5894897746626), 'FLG': np.float64(779.6243069157263), 'FLL': np.float64(1131.0076349476017), 'FCA': np.float64(716.516845486159), 'CAE': np.float64(1129.7966107905636), 'SCE': np.float64(1094.5758376342887), 'ABE': np.float64(1135.0667510353737), 'BGM': np.float64(1105.7273079662405), 'WYS': np.float64(780.7601560303195), 'RSW': np.float64(1111.7817914279792), 'HNL': np.float64(951.9377205802464), 'AZA': np.float64(778.3686975832386), 'MEI': np.float64(1005.847329521238), 'LAX': np.float64(818.440463729654), 'MVY': np.float64(1151.5738389764192), 'DRT': np.float64(924.929723283447), 'TEX': np.float64(780.8656959825248), 'LRD': np.float64(910.417426735679), 'BRO': np.float64(919.8832748949901), 'PHF': np.float64(1135.9453505241108), 'STT': np.float64(1199.56717711106), 'MKE': np.float64(957.0058731855555), 'HPN': np.float64(1145.9762952594785), 'ILE': np.float64(894.4904824306894), 'BHM': np.float64(1042.9216991042404), 'MBS': np.float64(1005.4411094308111), 'HVN': np.float64(1031.118776809394), 'DSM': np.float64(868.2336415815281), 'TVC': np.float64(962.4043468554415), 'CIU': np.float64(1038.0410180383476), 'LGB': np.float64(786.8301025939633), 'BWI': np.float64(1140.572238565915), 'CYS': np.float64(887.8570959557022), 'SJC': np.float64(818.733478397796), 'DAY': np.float64(1043.6721093067952), 'MYR': np.float64(1143.2835096934973), 'LGA': np.float64(1149.1554416663653), 'CMX': np.float64(886.0547188816869), 'ILG': np.float64(1060.8060742410648), 'ESC': np.float64(1038.099781790139), 'BUR': np.float64(790.5289305996483), 'VEL': np.float64(780.1364398326775), 'RIC': np.float64(1143.49646103635), 'MTJ': np.float64(763.5978077323357), 'SHV': np.float64(922.1220933609651), 'SIT': np.float64(880.4779826522187), 'PNS': np.float64(1040.499732099158), 'BQN': np.float64(1154.9145097928283), 'FAT': np.float64(814.8448639651848), 'APF': np.float64(1129.6538619276616), 'KSM': np.float64(885.5807154274064), 'DTW': np.float64(1037.1617522946076), 'FAY': np.float64(1129.4852008514204), 'MLB': np.float64(1130.235580669911), 'PAH': np.float64(971.6813594807516), 'BTR': np.float64(974.1486388609587), 'MHT': np.float64(1135.2934550243422), 'MLI': np.float64(920.8667092622325), 'TYS': np.float64(1075.1328094668745), 'CMI': np.float64(992.0213342794693), 'YAK': np.float64(906.6962588949181), 'WRG': np.float64(870.4926479882288), 'PUB': np.float64(776.7787040703735), 'GPT': np.float64(1002.865307629963), 'LWB': np.float64(1123.7097019355956), 'JLN': np.float64(886.9736405677886), 'GSP': np.float64(1109.4942157205908), 'ART': np.float64(972.2490479111367), 'PSG': np.float64(876.8179402704578), 'SWF': np.float64(1119.5746407580148), 'TLH': np.float64(1081.4816944800496), 'SPS': np.float64(886.2753408895018), 'OTZ': np.float64(894.5495338154036), 'FLO': np.float64(1092.647775987948), 'MSO': np.float64(717.1699313877971), 'GCC': np.float64(759.8916968171849), 'IAG': np.float64(1145.1784215621954), 'LBE': np.float64(998.3704302416941), 'CNY': np.float64(780.3750416343831), 'EVV': np.float64(1029.6045338122935), 'GGG': np.float64(886.3716586929052), 'PPG': np.float64(972.331195222263), 'OXR': np.float64(818.7274663858417), 'IPL': np.float64(784.7630905773053), 'GTF': np.float64(716.5343760122682), 'TOL': np.float64(1033.7373748155958), 'ANC': np.float64(881.7091465937249), 'CMH': np.float64(1061.9696841880957), 'ABQ': np.float64(768.8068034314308), 'BRW': np.float64(853.9187073768908), 'LIH': np.float64(950.4623986209841), 'IMT': np.float64(859.4539341545802), 'RDD': np.float64(832.2196704034371), 'CLT': np.float64(1128.1704474216124), 'SNA': np.float64(812.7349135607056), 'MAF': np.float64(805.226873035266), 'ASE': np.float64(763.0013021949392), 'LAS': np.float64(790.9338122023436), 'CWA': np.float64(900.1362891546177), 'OME': np.float64(894.455635494544), 'SUX': np.float64(826.4871153946484), 'TXK': np.float64(891.5307632734131), 'CRP': np.float64(917.9504230821094), 'CLL': np.float64(908.8691347742457), 'LWS': np.float64(781.4772948660207), 'PIE': np.float64(960.63329660134), 'MFE': np.float64(894.6998756136561), 'AZO': np.float64(999.2866095282818), 'GUM': np.float64(974.9094435971559), 'SJU': np.float64(1196.3844986960878), 'BUF': np.float64(1079.5057100093125), 'LIT': np.float64(940.0721030431004), 'ROA': np.float64(1119.7715028826885), 'BTV': np.float64(1116.3446633959197), 'VLD': np.float64(1092.469802898042), 'GTR': np.float64(1001.2375964897606), 'ROC': np.float64(1087.8459079917166), 'PHX': np.float64(778.9875231259283), 'SJT': np.float64(890.3934903902482), 'MGM': np.float64(1046.9217956607386), 'APN': np.float64(977.9040254305849), 'IYK': np.float64(819.1447437305285), 'CIC': np.float64(831.9655277341342), 'EAU': np.float64(904.9998022088256), 'PSE': np.float64(1145.9231908066865), 'TRI': np.float64(1096.5584583403936), 'DFW': np.float64(885.8464610540393), 'COD': np.float64(756.639107409159), 'PIT': np.float64(1094.0012003268996), 'PIB': np.float64(981.1626266159027), 'GFK': np.float64(835.2684838243799), 'BQK': np.float64(1092.5533287372489), 'LAN': np.float64(1010.5845259613914), 'CID': np.float64(895.1706844035291), 'BMI': np.float64(945.0593032838871), 'KOA': np.float64(936.9289166801138), 'DAL': np.float64(864.6031831404975), 'OTH': np.float64(809.9128808038549), 'RHI': np.float64(859.1490177041742), 'OAK': np.float64(800.750647473092), 'BDL': np.float64(1137.4175292695681), 'SFO': np.float64(831.0670321348213), 'ILM': np.float64(1134.44525407747), 'ADK': np.float64(890.5854875600781), 'BET': np.float64(885.2039616163611), 'HSV': np.float64(1038.0225708111964), 'DBQ': np.float64(971.1442036638106), 'JAX': np.float64(1118.587092777773), 'IAD': np.float64(1135.222330322666), 'BGR': np.float64(1139.8772058357304), 'ABI': np.float64(887.9985276703004), 'RST': np.float64(870.0101749225493), 'ELP': np.float64(773.2335745129132), 'OMA': np.float64(841.8437788892983), 'MRY': np.float64(823.2513275537302), 'GRI': np.float64(887.566890159562), 'LAR': np.float64(776.7953697791274), 'TPA': np.float64(1105.3207248334152), 'GRB': np.float64(931.4386207920094), 'DEN': np.float64(776.3016299765598), 'LSE': np.float64(884.5899785229319), 'KTN': np.float64(853.7070996955035), 'MKK': np.float64(942.8193546301571), 'CHS': np.float64(1136.6580963363301), 'ISP': np.float64(1143.0638890892242), 'CLE': np.float64(1062.612214282125), 'GRK': np.float64(895.0207748908097), 'ORH': np.float64(1129.267777123298), 'EUG': np.float64(795.0264819297311), 'CHA': np.float64(1062.3338876609528), 'MEM': np.float64(981.10812403193), 'VIS': np.float64(820.8614206385129), 'RNO': np.float64(802.9953435384821), 'IND': np.float64(1011.0168054545319), 'BPT': np.float64(920.8736660985153), 'SBA': np.float64(823.6599987646075), 'CDV': np.float64(926.4364920072566), 'CSG': np.float64(1080.387439562632), 'AKN': np.float64(892.9453566919335), 'DAB': np.float64(1109.2436153369829), 'ACT': np.float64(891.271354278306), 'ALB': np.float64(1125.7374162252806), 'MCI': np.float64(869.0849010407638), 'PWM': np.float64(1142.3932631174036), 'STC': np.float64(971.8055618109772), 'ORF': np.float64(1155.0999857632257), 'SRQ': np.float64(1104.2334935209117), 'FAI': np.float64(839.9603537569194), 'SPI': np.float64(976.2840478556204), 'COS': np.float64(773.815846966646), 'ABY': np.float64(1092.2866710735004), 'SDF': np.float64(1031.5246172302848), 'MMH': np.float64(828.3560846482043), 'TTN': np.float64(1086.8923598256063), 'MDT': np.float64(1128.2861668789924), 'MOB': np.float64(1023.6660782140069), 'JFK': np.float64(1142.1664561890996), 'SAV': np.float64(1125.6902636968382), 'GNV': np.float64(1102.3539818399147), 'ACV': np.float64(812.9176695673223), 'LYH': np.float64(1092.937716618287), 'MOD': np.float64(831.5353180202659), 'DLG': np.float64(893.1232548654056), 'ADQ': np.float64(883.986798568758), 'MLU': np.float64(955.112795536012), 'SCC': np.float64(850.291524133054), 'OAJ': np.float64(1130.102142466244), 'BLI': np.float64(761.6325557418932), 'FSM': np.float64(924.1810934596441), 'AVP': np.float64(1125.1144474224336), 'LEX': np.float64(1050.682751734669), 'DLH': np.float64(866.1594272311161)}\n",
      "average_std_dev: 943.8637685353629\n",
      "mode_per_key: {'FWA': 748.0, 'BZN': 935.0, 'RDM': 1909.0, 'BKG': 766.0, 'MQT': 731.0, 'JAC': 793.0, 'MSP': 257.0, 'HIB': 431.0, 'AUS': 955.0, 'HDN': 1687.0, 'MAZ': 1735.0, 'ANI': 3550.0, 'CDC': 2113.0, 'AMA': 997.0, 'PSC': 2066.0, 'PVD': 144.0, 'AGS': 946.0, 'AVL': 247.0, 'CVG': 411.0, 'PLN': 625.0, 'PBI': 1160.0, 'LMT': 1902.0, 'BTM': 945.0, 'CPR': 908.0, 'ITH': 498.0, 'UTM': 1039.0, 'CRW': 587.0, 'YUM': 410.0, 'DHN': 862.0, 'ATL': 692.0, 'MKG': 386.0, 'JAN': 510.0, 'LCH': 286.0, 'DIK': 738.0, 'LNY': 3269.0, 'EWN': 1125.0, 'ROW': 1461.0, 'ITO': 2558.0, 'ELM': 451.0, 'MWH': 1001.0, 'HOB': 660.0, 'MCO': 653.0, 'EGE': 683.0, 'SLC': 588.0, 'CHO': 478.0, 'ECP': 796.0, 'ORD': 268.0, 'ISN': 1358.0, 'SAN': 94.0, 'PDX': 1662.0, 'GSO': 365.0, 'PIH': 738.0, 'MCN': 771.0, 'BNA': 328.0, 'SEA': 860.0, 'SAT': 843.0, 'SMX': 243.0, 'FSD': 874.0, 'BRD': 371.0, 'HOU': 937.0, 'EKO': 418.0, 'ERI': 1016.0, 'GRR': 880.0, 'BFL': 1679.0, 'SPN': 4030.0, 'INL': 512.0, 'DUT': 3773.0, 'ATW': 678.0, 'HRL': 454.0, 'BOI': 692.0, 'ACK': 646.0, 'GJT': 438.0, 'LNK': 588.0, 'PBG': 1576.0, 'RDU': 315.0, 'DRO': 844.0, 'SAF': 819.0, 'RAP': 863.0, 'GEG': 810.0, 'AEX': 349.0, 'HYA': 2650.0, 'VPS': 464.0, 'BOS': 264.0, 'EWR': 2433.0, 'JNU': 1769.0, 'TYR': 652.0, 'ABR': 643.0, 'SBP': 264.0, 'MOT': 1325.0, 'TUS': 1508.0, 'OGG': 3196.0, 'JMS': 1509.0, 'UST': 1373.0, 'XNA': 589.0, 'CLD': 195.0, 'SYR': 1093.0, 'CAK': 482.0, 'VCT': 282.0, 'PFN': 417.0, 'PSP': 219.0, 'MDW': 606.0, 'IAH': 159.0, 'PIA': 802.0, 'ACY': 538.0, 'CEC': 1101.0, 'STL': 317.0, 'GST': 1810.0, 'ONT': 1749.0, 'SGF': 454.0, 'PHL': 267.0, 'MIA': 835.0, 'LBB': 972.0, 'FNT': 419.0, 'HLN': 990.0, 'LFT': 1328.0, 'TWF': 763.0, 'FAR': 1134.0, 'BIL': 971.0, 'MSY': 1169.0, 'GUC': 898.0, 'EFD': 187.0, 'BIS': 1284.0, 'SBN': 636.0, 'STX': 1747.0, 'COU': 642.0, 'MIB': 714.0, 'IDA': 776.0, 'HTS': 655.0, 'BJI': 456.0, 'DCA': 250.0, 'EYW': 1264.0, 'SMF': 942.0, 'SGU': 457.0, 'RKS': 749.0, 'SUN': 810.0, 'MSN': 685.0, 'MFR': 523.0, 'ALO': 954.0, 'DVL': 1574.0, 'FLG': 538.0, 'FLL': 977.0, 'FCA': 1119.0, 'CAE': 639.0, 'SCE': 574.0, 'ABE': 965.0, 'BGM': 360.0, 'WYS': 861.0, 'RSW': 604.0, 'HNL': 100.0, 'AZA': 1531.0, 'MEI': 481.0, 'LAX': 109.0, 'MVY': 534.0, 'DRT': 498.0, 'TEX': 806.0, 'LRD': 1657.0, 'BRO': 1640.0, 'PHF': 467.0, 'STT': 1705.0, 'MKE': 635.0, 'HPN': 1278.0, 'ILE': 1148.0, 'BHM': 757.0, 'MBS': 480.0, 'HVN': 917.0, 'DSM': 980.0, 'TVC': 715.0, 'CIU': 666.0, 'LGB': 489.0, 'BWI': 210.0, 'CYS': 1739.0, 'SJC': 1619.0, 'DAY': 555.0, 'MYR': 765.0, 'LGA': 254.0, 'CMX': 1259.0, 'ILG': 823.0, 'ESC': 688.0, 'BUR': 2256.0, 'VEL': 720.0, 'RIC': 467.0, 'MTJ': 852.0, 'SHV': 393.0, 'SIT': 1721.0, 'PNS': 648.0, 'BQN': 1782.0, 'FAT': 1867.0, 'APF': 931.0, 'KSM': 3423.0, 'DTW': 382.0, 'FAY': 864.0, 'MLB': 1148.0, 'PAH': 610.0, 'BTR': 454.0, 'MHT': 244.0, 'MLI': 667.0, 'TYS': 362.0, 'CMI': 1253.0, 'YAK': 1967.0, 'WRG': 1151.0, 'PUB': 1045.0, 'GPT': 535.0, 'LWB': 353.0, 'JLN': 1353.0, 'GSP': 400.0, 'ART': 886.0, 'PSG': 1653.0, 'SWF': 328.0, 'TLH': 817.0, 'SPS': 1139.0, 'OTZ': 3529.0, 'FLO': 965.0, 'MSO': 1024.0, 'GCC': 998.0, 'IAG': 1415.0, 'LBE': 1161.0, 'CNY': 772.0, 'EVV': 419.0, 'GGG': 1166.0, 'PPG': 2699.0, 'OXR': 158.0, 'IPL': 517.0, 'GTF': 1051.0, 'TOL': 411.0, 'ANC': 2981.0, 'CMH': 253.0, 'ABQ': 677.0, 'BRW': 2896.0, 'LIH': 2701.0, 'IMT': 643.0, 'RDD': 2045.0, 'CLT': 746.0, 'SNA': 2064.0, 'MAF': 1046.0, 'ASE': 581.0, 'LAS': 258.0, 'CWA': 963.0, 'OME': 3520.0, 'SUX': 1285.0, 'TXK': 1207.0, 'CRP': 1519.0, 'CLL': 1399.0, 'LWS': 1049.0, 'PIE': 1101.0, 'MFE': 1571.0, 'AZO': 560.0, 'GUM': 3901.0, 'SJU': 1659.0, 'BUF': 1482.0, 'LIT': 453.0, 'ROA': 405.0, 'BTV': 1105.0, 'VLD': 900.0, 'GTR': 347.0, 'ROC': 254.0, 'PHX': 419.0, 'SJT': 1254.0, 'MGM': 839.0, 'APN': 580.0, 'IYK': 232.0, 'CIC': 1999.0, 'EAU': 1174.0, 'PSE': 1832.0, 'TRI': 441.0, 'DFW': 1026.0, 'COD': 1937.0, 'PIT': 328.0, 'PIB': 550.0, 'GFK': 1490.0, 'BQK': 930.0, 'LAN': 456.0, 'CID': 419.0, 'BMI': 792.0, 'KOA': 4212.0, 'DAL': 1208.0, 'OTH': 1832.0, 'RHI': 576.0, 'OAK': 1836.0, 'BDL': 1798.0, 'SFO': 1846.0, 'ILM': 825.0, 'ADK': 4173.0, 'BET': 3380.0, 'HSV': 389.0, 'DBQ': 415.0, 'JAX': 513.0, 'IAD': 441.0, 'BGR': 878.0, 'ABI': 1184.0, 'RST': 985.0, 'ELP': 1154.0, 'OMA': 747.0, 'MRY': 1729.0, 'GRI': 1587.0, 'LAR': 1049.0, 'TPA': 549.0, 'GRB': 632.0, 'DEN': 936.0, 'LSE': 1121.0, 'KTN': 1344.0, 'MKK': 3242.0, 'CHS': 595.0, 'ISP': 475.0, 'CLE': 214.0, 'GRK': 1160.0, 'ORH': 1091.0, 'EUG': 1028.0, 'CHA': 784.0, 'MEM': 981.0, 'VIS': 1903.0, 'RNO': 1884.0, 'IND': 515.0, 'BPT': 1442.0, 'SBA': 198.0, 'CDV': 3527.0, 'CSG': 775.0, 'AKN': 3270.0, 'DAB': 814.0, 'ACT': 1107.0, 'ALB': 1204.0, 'MCI': 650.0, 'PWM': 438.0, 'STC': 662.0, 'ORF': 816.0, 'SRQ': 944.0, 'FAI': 2393.0, 'SPI': 957.0, 'COS': 700.0, 'ABY': 837.0, 'SDF': 860.0, 'MMH': 2464.0, 'TTN': 572.0, 'MDT': 393.0, 'MOB': 679.0, 'JFK': 2454.0, 'SAV': 293.0, 'GNV': 992.0, 'ACV': 2718.0, 'LYH': 1081.0, 'MOD': 1924.0, 'DLG': 3310.0, 'ADQ': 3234.0, 'MLU': 795.0, 'SCC': 2766.0, 'OAJ': 937.0, 'BLI': 1867.0, 'FSM': 945.0, 'AVP': 201.0, 'LEX': 386.0, 'DLH': 923.0}\n",
      "average_mode: 1065.1542857142856\n"
     ]
    }
   ],
   "source": [
    "# Weighted dijkstra\n",
    "weighted_field = 'flight_distance'\n",
    "method = \"dijkstra\"\n",
    "\n",
    "w_dijk_all_path_len = dict(\n",
    "    nx.shortest_path_length(\n",
    "        flightGraph, \n",
    "        weight=weighted_field, \n",
    "        method=method\n",
    "        )\n",
    "    )\n",
    "\n",
    "w_dijk_all_path_len_prepped = {\n",
    "    outer_key: {inner_key: value for inner_key, value in inner_dict.items() if inner_key != outer_key}\n",
    "    for outer_key, inner_dict in w_dijk_all_path_len.items()\n",
    "}\n",
    "\n",
    "w_dijk_all_path_len_prepped\n",
    "\n",
    "# Print Results\n",
    "print(f\"Analysis for Unweighted {method.title()} Shortest Path\")\n",
    "analysis_all_flights_all_orig_all_dest(w_dijk_all_path_len_prepped, id_to_airport_code_mapping_dict)"
   ]
  },
  {
   "cell_type": "markdown",
   "metadata": {},
   "source": [
    "#### Results for Source Target Bellman-Ford's Weighted Shortest Path Algorithm"
   ]
  },
  {
   "cell_type": "code",
   "execution_count": 19,
   "metadata": {},
   "outputs": [
    {
     "name": "stdout",
     "output_type": "stream",
     "text": [
      "Analysis for Unweighted Bellman-Ford Shortest Path\n",
      "average_min_length: 188.22285714285715\n",
      "average_max_length: 7787.705714285714\n",
      "max_length: 9935.0\n",
      "mean_per_key: {'FWA': np.float64(1229.7392550143265), 'BZN': np.float64(1487.3295128939828), 'RDM': np.float64(1776.1919770773638), 'BKG': np.float64(1247.7048710601719), 'MQT': np.float64(1369.4555873925501), 'JAC': np.float64(1453.888252148997), 'MSP': np.float64(1210.054441260745), 'HIB': np.float64(1382.432664756447), 'AUS': np.float64(1329.5845272206304), 'HDN': np.float64(1315.3724928366762), 'MAZ': np.float64(2697.8997134670485), 'ANI': np.float64(3466.223495702006), 'CDC': np.float64(1584.6332378223497), 'AMA': np.float64(1308.6389684813753), 'PSC': np.float64(1714.0601719197707), 'PVD': np.float64(1686.9856733524355), 'AGS': np.float64(1380.5100286532952), 'AVL': np.float64(1330.2521489971348), 'CVG': np.float64(1215.5558739255014), 'PLN': np.float64(1432.0315186246419), 'PBI': np.float64(1678.9942693409741), 'LMT': np.float64(1967.9283667621776), 'BTM': np.float64(1763.919770773639), 'CPR': np.float64(1411.10888252149), 'ITH': np.float64(1536.0114613180515), 'UTM': np.float64(1631.220630372493), 'CRW': np.float64(1307.1432664756446), 'YUM': np.float64(1634.595988538682), 'DHN': np.float64(1454.727793696275), 'ATL': np.float64(1285.214899713467), 'MKG': np.float64(1296.7507163323783), 'JAN': np.float64(1282.1489971346705), 'LCH': np.float64(1429.8997134670487), 'DIK': np.float64(1485.9255014326648), 'LNY': np.float64(3953.478510028653), 'EWN': np.float64(1716.974212034384), 'ROW': np.float64(1474.8853868194842), 'ITO': np.float64(3902.9255014326645), 'ELM': np.float64(1509.8710601719197), 'MWH': np.float64(1944.429799426934), 'HOB': np.float64(1817.080229226361), 'MCO': np.float64(1563.2836676217764), 'EGE': np.float64(1336.896848137536), 'SLC': np.float64(1407.942693409742), 'CHO': np.float64(1426.1060171919771), 'ECP': np.float64(1406.733524355301), 'ORD': np.float64(1179.0888252148998), 'ISN': np.float64(1558.7879656160458), 'SAN': np.float64(1693.137535816619), 'PDX': np.float64(1790.4641833810888), 'GSO': np.float64(1372.1977077363897), 'PIH': np.float64(1557.512893982808), 'MCN': np.float64(1363.9885386819485), 'BNA': np.float64(1214.5300859598854), 'SEA': np.float64(1803.8338108882522), 'SAT': np.float64(1369.8767908309455), 'SMX': np.float64(1801.8252148997135), 'FSD': np.float64(1246.9369627507162), 'BRD': np.float64(1322.9684813753581), 'HOU': np.float64(1333.6561604584526), 'EKO': np.float64(1566.8796561604584), 'ERI': np.float64(1368.5444126074499), 'GRR': np.float64(1240.6876790830945), 'BFL': np.float64(1722.6446991404011), 'SPN': np.float64(7835.042857142857), 'INL': np.float64(1462.7220630372492), 'DUT': np.float64(3690.4126074498568), 'ATW': np.float64(1242.054441260745), 'HRL': np.float64(1542.4527220630373), 'BOI': np.float64(1572.6934097421204), 'ACK': np.float64(1757.919770773639), 'GJT': np.float64(1351.9598853868195), 'LNK': np.float64(1238.487106017192), 'PBG': np.float64(2277.8538681948426), 'RDU': np.float64(1415.2034383954156), 'DRO': np.float64(1406.1690544412606), 'SAF': np.float64(1413.323782234957), 'RAP': np.float64(1349.8424068767908), 'GEG': np.float64(1689.2636103151863), 'AEX': np.float64(1317.0229226361032), 'HYA': np.float64(1764.96), 'VPS': np.float64(1405.4383954154728), 'BOS': np.float64(1706.3381088825215), 'EWR': np.float64(1559.5730659025787), 'JNU': np.float64(2599.833810888252), 'TYR': np.float64(1299.5042979942693), 'ABR': np.float64(1466.3180515759311), 'SBP': np.float64(1808.0372492836677), 'MOT': np.float64(1472.6647564469913), 'TUS': np.float64(1533.083094555874), 'OGG': np.float64(3881.679083094556), 'JMS': np.float64(1808.9054441260746), 'UST': np.float64(2403.5501432664755), 'XNA': np.float64(1192.7621776504297), 'CLD': np.float64(1783.6418338108883), 'SYR': np.float64(1516.6045845272206), 'CAK': np.float64(1307.945558739255), 'VCT': np.float64(1440.163323782235), 'PFN': np.float64(1444.8338108882522), 'PSP': np.float64(1644.6189111747851), 'MDW': np.float64(1201.9140401146133), 'IAH': np.float64(1317.5157593123208), 'PIA': np.float64(1181.272206303725), 'ACY': np.float64(1604.9914040114613), 'CEC': np.float64(1945.9083094555874), 'STL': np.float64(1157.352435530086), 'GST': np.float64(2640.7163323782233), 'ONT': np.float64(1672.0028653295128), 'SGF': np.float64(1186.4785100286533), 'PHL': np.float64(1511.9598853868195), 'MIA': np.float64(1712.7421203438396), 'LBB': np.float64(1326.7765042979943), 'FNT': np.float64(1281.8424068767908), 'HLN': np.float64(1550.9971346704872), 'LFT': np.float64(1355.323782234957), 'TWF': np.float64(1582.4412607449856), 'FAR': np.float64(1345.2005730659025), 'BIL': np.float64(1446.5157593123208), 'MSY': np.float64(1353.1318051575931), 'GUC': np.float64(1332.1260744985673), 'EFD': np.float64(1345.43553008596), 'BIS': np.float64(1393.7249283667622), 'SBN': np.float64(1213.512893982808), 'STX': np.float64(2711.7621776504297), 'COU': np.float64(1311.292263610315), 'MIB': np.float64(1665.7449856733524), 'IDA': np.float64(1493.9541547277936), 'HTS': np.float64(1303.0716332378224), 'BJI': np.float64(1408.4842406876792), 'DCA': np.float64(1448.458452722063), 'EYW': np.float64(1749.650429799427), 'SMF': np.float64(1747.3209169054442), 'SGU': np.float64(1559.1260744985673), 'RKS': np.float64(1385.836676217765), 'SUN': np.float64(1595.0458452722064), 'MSN': np.float64(1199.2005730659025), 'MFR': np.float64(1818.5616045845272), 'ALO': np.float64(1274.1833810888252), 'DVL': np.float64(1873.7191977077364), 'FLG': np.float64(1633.7163323782236), 'FLL': np.float64(1703.8252148997135), 'FCA': np.float64(1646.0744985673352), 'CAE': np.float64(1382.4928366762178), 'SCE': np.float64(1445.8510028653295), 'ABE': np.float64(1514.538681948424), 'BGM': np.float64(1521.0085959885387), 'WYS': np.float64(1680.160458452722), 'RSW': np.float64(1642.1661891117478), 'HNL': np.float64(3938.0143266475643), 'AZA': np.float64(1834.1260744985673), 'MEI': np.float64(1366.4154727793696), 'LAX': np.float64(1697.888252148997), 'MVY': np.float64(1735.297994269341), 'DRT': np.float64(1655.5444126074499), 'TEX': np.float64(1900.948424068768), 'LRD': np.float64(1569.4383954154728), 'BRO': np.float64(1612.4555873925501), 'PHF': np.float64(1519.6446991404011), 'STT': np.float64(2674.9856733524357), 'MKE': np.float64(1203.266475644699), 'HPN': np.float64(1584.4126074498568), 'ILE': np.float64(1343.214899713467), 'BHM': np.float64(1262.4727793696275), 'MBS': np.float64(1296.67335243553), 'HVN': np.float64(1816.6418338108883), 'DSM': np.float64(1173.621776504298), 'TVC': np.float64(1303.5530085959886), 'CIU': np.float64(1546.727793696275), 'LGB': np.float64(1724.779369627507), 'BWI': np.float64(1459.0114613180515), 'CYS': np.float64(1941.2893982808023), 'SJC': np.float64(1779.189111747851), 'DAY': np.float64(1232.3982808022922), 'MYR': np.float64(1469.3667621776503), 'LGA': np.float64(1574.2005730659025), 'CMX': np.float64(1391.7650429799428), 'ILG': np.float64(1623.0085959885387), 'ESC': np.float64(1568.6647564469913), 'BUR': np.float64(1721.3839541547277), 'VEL': np.float64(1539.56446991404), 'RIC': np.float64(1451.5873925501432), 'MTJ': np.float64(1338.3094555873924), 'SHV': np.float64(1258.7736389684815), 'SIT': np.float64(2563.4355300859597), 'PNS': np.float64(1373.7306590257879), 'BQN': np.float64(2636.7679083094554), 'FAT': np.float64(1700.4842406876792), 'APF': np.float64(1808.4670487106018), 'KSM': np.float64(3341.404011461318), 'DTW': np.float64(1263.541547277937), 'FAY': np.float64(1462.7478510028652), 'MLB': np.float64(1635.0458452722064), 'PAH': np.float64(1520.10888252149), 'BTR': np.float64(1336.1919770773638), 'MHT': np.float64(1703.9856733524355), 'MLI': np.float64(1177.1174785100286), 'TYS': np.float64(1270.3438395415474), 'CMI': np.float64(1246.0429799426934), 'YAK': np.float64(2771.6876790830947), 'WRG': np.float64(2473.859598853868), 'PUB': np.float64(1349.5186246418339), 'GPT': np.float64(1366.220630372493), 'LWB': np.float64(1402.9340974212034), 'JLN': np.float64(1556.3954154727794), 'GSP': np.float64(1324.0601719197707), 'ART': np.float64(1795.3180515759311), 'PSG': np.float64(2501.3954154727794), 'SWF': np.float64(1596.7449856733524), 'TLH': np.float64(1422.974212034384), 'SPS': np.float64(1343.0085959885387), 'OTZ': np.float64(3444.521489971347), 'FLO': np.float64(1557.432664756447), 'MSO': np.float64(1587.2005730659025), 'GCC': np.float64(1494.9140401146133), 'IAG': np.float64(2117.4097421203437), 'LBE': np.float64(1550.8939828080229), 'CNY': np.float64(1591.4154727793696), 'EVV': np.float64(1240.1404011461318), 'GGG': np.float64(1369.9312320916906), 'PPG': np.float64(6529.567335243553), 'OXR': np.float64(1746.7478510028652), 'IPL': np.float64(1667.246418338109), 'GTF': np.float64(1550.836676217765), 'TOL': np.float64(1260.948424068768), 'ANC': np.float64(2900.6819484240687), 'CMH': np.float64(1264.1318051575931), 'ABQ': np.float64(1350.2177650429799), 'BRW': np.float64(3426.6590257879657), 'LIH': np.float64(3997.206303724928), 'IMT': np.float64(1465.2292263610316), 'RDD': np.float64(1979.349570200573), 'CLT': np.float64(1346.8137535816618), 'SNA': np.float64(1688.89111747851), 'MAF': np.float64(1360.9684813753581), 'ASE': np.float64(1311.9627507163323), 'LAS': np.float64(1550.6332378223497), 'CWA': np.float64(1255.6848137535817), 'OME': np.float64(3435.547277936963), 'SUX': np.float64(1291.733524355301), 'TXK': np.float64(1400.6160458452723), 'CRP': np.float64(1495.080229226361), 'CLL': np.float64(1340.2865329512895), 'LWS': np.float64(1867.621776504298), 'PIE': np.float64(1957.8022922636103), 'MFE': np.float64(1569.7908309455588), 'AZO': np.float64(1235.0916905444126), 'GUM': np.float64(7728.1232091690545), 'SJU': np.float64(2622.117478510029), 'BUF': np.float64(1422.1232091690545), 'LIT': np.float64(1210.0744985673352), 'ROA': np.float64(1368.6189111747851), 'BTV': np.float64(1672.5100286532952), 'VLD': np.float64(1492.6189111747851), 'GTR': np.float64(1275.1862464183382), 'ROC': np.float64(1462.2263610315185), 'PHX': np.float64(1515.057306590258), 'SJT': np.float64(1450.1919770773638), 'MGM': np.float64(1328.5300859598854), 'APN': np.float64(1377.194842406877), 'IYK': np.float64(1820.5358166189112), 'CIC': np.float64(1933.4813753581661), 'EAU': np.float64(1330.6790830945558), 'PSE': np.float64(2707.2893982808023), 'TRI': np.float64(1334.3553008595989), 'DFW': np.float64(1230.3323782234957), 'COD': np.float64(1519.10888252149), 'PIT': np.float64(1334.4126074498568), 'PIB': np.float64(1395.942693409742), 'GFK': np.float64(1429.5873925501432), 'BQK': np.float64(1522.5329512893982), 'LAN': np.float64(1264.0429799426934), 'CID': np.float64(1182.0859598853867), 'BMI': np.float64(1203.9541547277936), 'KOA': np.float64(3911.3409742120343), 'DAL': np.float64(1263.4011461318053), 'OTH': np.float64(1936.8710601719197), 'RHI': np.float64(1398.4212034383954), 'OAK': np.float64(1796.7679083094556), 'BDL': np.float64(1635.4383954154728), 'SFO': np.float64(1780.919770773639), 'ILM': np.float64(1515.2779369627508), 'ADK': np.float64(4089.2664756446993), 'BET': np.float64(3298.5386819484243), 'HSV': np.float64(1242.2607449856735), 'DBQ': np.float64(1325.6676217765043), 'JAX': np.float64(1475.1661891117478), 'IAD': np.float64(1430.6103151862465), 'BGR': np.float64(1859.1002865329513), 'ABI': np.float64(1385.8853868194842), 'RST': np.float64(1233.9799426934098), 'ELP': np.float64(1436.3381088825215), 'OMA': np.float64(1185.5329512893982), 'MRY': np.float64(1800.4842406876792), 'GRI': np.float64(1789.7249283667622), 'LAR': np.float64(1353.5071633237822), 'TPA': np.float64(1554.4154727793696), 'GRB': np.float64(1254.2951289398281), 'DEN': np.float64(1240.8309455587394), 'LSE': np.float64(1237.6704871060172), 'KTN': np.float64(2401.323782234957), 'MKK': np.float64(3927.106017191977), 'CHS': np.float64(1445.4441260744986), 'ISP': np.float64(1626.404011461318), 'CLE': np.float64(1295.4555873925501), 'GRK': np.float64(1343.6045845272206), 'ORH': np.float64(1701.1547277936963), 'EUG': np.float64(1835.8424068767908), 'CHA': np.float64(1275.9770773638968), 'MEM': np.float64(1195.9713467048712), 'VIS': np.float64(1732.836676217765), 'RNO': np.float64(1674.5214899713467), 'IND': np.float64(1195.1747851002865), 'BPT': np.float64(1389.2521489971348), 'SBA': np.float64(1750.9885386819485), 'CDV': np.float64(2937.3581661891117), 'CSG': np.float64(1351.624641833811), 'AKN': np.float64(3185.6618911174787), 'DAB': np.float64(1621.7994269340975), 'ACT': np.float64(1308.753581661891), 'ALB': np.float64(1599.5329512893982), 'MCI': np.float64(1168.7621776504297), 'PWM': np.float64(1763.2435530085959), 'STC': np.float64(1571.9598853868195), 'ORF': np.float64(1503.779369627507), 'SRQ': np.float64(1584.9541547277936), 'FAI': np.float64(2929.484240687679), 'SPI': np.float64(1315.512893982808), 'COS': np.float64(1259.2578796561604), 'ABY': np.float64(1429.7994269340975), 'SDF': np.float64(1208.1461318051577), 'MMH': np.float64(1895.4240687679082), 'TTN': np.float64(1604.8452722063037), 'MDT': np.float64(1462.0429799426934), 'MOB': np.float64(1351.647564469914), 'JFK': np.float64(1573.4555873925501), 'SAV': np.float64(1432.942693409742), 'GNV': np.float64(1564.2063037249284), 'ACV': np.float64(1891.8223495702007), 'LYH': np.float64(1673.1002865329513), 'MOD': np.float64(1858.6962750716332), 'DLG': np.float64(3225.6361031518622), 'ADQ': np.float64(3152.9570200573066), 'MLU': np.float64(1269.9770773638968), 'SCC': np.float64(3298.9856733524357), 'OAJ': np.float64(1534.8997134670487), 'BLI': np.float64(1886.8252148997135), 'FSM': np.float64(1297.595988538682), 'AVP': np.float64(1510.3008595988538), 'LEX': np.float64(1231.6045845272206), 'DLH': np.float64(1322.429799426934)}\n",
      "average_of_means: 1711.7668522074732\n",
      "std_dev_per_key: {'FWA': np.float64(1017.9794066744172), 'BZN': np.float64(720.27949268441), 'RDM': np.float64(784.1175540076679), 'BKG': np.float64(889.8650401548201), 'MQT': np.float64(940.6562522995694), 'JAC': np.float64(752.7270700284921), 'MSP': np.float64(856.9926660718314), 'HIB': np.float64(859.1173748703224), 'AUS': np.float64(880.2567852042544), 'HDN': np.float64(756.6617295707096), 'MAZ': np.float64(1196.8547456588963), 'ANI': np.float64(892.8387562183583), 'CDC': np.float64(782.1057335037814), 'AMA': np.float64(791.8418638074266), 'PSC': np.float64(743.3653086152814), 'PVD': np.float64(1145.6546769263539), 'AGS': np.float64(1119.7468466647979), 'AVL': np.float64(1110.7461053872382), 'CVG': np.float64(1047.0479311317479), 'PLN': np.float64(984.5427031115154), 'PBI': np.float64(1132.0173842010329), 'LMT': np.float64(829.2646675528189), 'BTM': np.float64(781.0967305307281), 'CPR': np.float64(758.038703381087), 'ITH': np.float64(1080.7214081558154), 'UTM': np.float64(1092.83683314225), 'CRW': np.float64(1088.6337311870118), 'YUM': np.float64(782.110824035017), 'DHN': np.float64(1092.360595631956), 'ATL': np.float64(1091.8253726500982), 'MKG': np.float64(971.0546821561128), 'JAN': np.float64(991.9065839128178), 'LCH': np.float64(918.6652013221476), 'DIK': np.float64(803.9261146948511), 'LNY': np.float64(945.3565951243255), 'EWN': np.float64(1093.03842012697), 'ROW': np.float64(770.2301955902939), 'ITO': np.float64(914.6196699075352), 'ELM': np.float64(1082.664813313752), 'MWH': np.float64(766.0874727115164), 'HOB': np.float64(925.3794354644278), 'MCO': np.float64(1123.68932745353), 'EGE': np.float64(762.0246938642039), 'SLC': np.float64(779.4856633028932), 'CHO': np.float64(1116.894337037779), 'ECP': np.float64(1056.060924777417), 'ORD': np.float64(970.6646620192214), 'ISN': np.float64(806.5306690290208), 'SAN': np.float64(802.4035337289041), 'PDX': np.float64(778.9762711097987), 'GSO': np.float64(1131.6778290497052), 'PIH': np.float64(780.2201680158818), 'MCN': np.float64(1092.0835845953202), 'BNA': np.float64(1027.9086049341645), 'SEA': np.float64(765.1729253044709), 'SAT': np.float64(867.681836804129), 'SMX': np.float64(822.4865234142258), 'FSD': np.float64(830.9992545539889), 'BRD': np.float64(858.371838952263), 'HOU': np.float64(924.0351472793703), 'EKO': np.float64(773.6165078879022), 'ERI': np.float64(1067.035985946799), 'GRR': np.float64(994.2892192178186), 'BFL': np.float64(804.3425440709698), 'SPN': np.float64(1057.3008064435223), 'INL': np.float64(860.1609965250818), 'DUT': np.float64(888.1293959916163), 'ATW': np.float64(926.7408244894601), 'HRL': np.float64(887.7403697574956), 'BOI': np.float64(760.1805776175428), 'ACK': np.float64(1152.6369713975917), 'GJT': np.float64(762.4933828232679), 'LNK': np.float64(822.9913137790752), 'PBG': np.float64(1145.5090503248564), 'RDU': np.float64(1140.790939308692), 'DRO': np.float64(771.8753685674337), 'SAF': np.float64(762.1409454074076), 'RAP': np.float64(774.6777171329295), 'GEG': np.float64(729.055513641396), 'AEX': np.float64(945.5064406306177), 'HYA': np.float64(1143.6215900625273), 'VPS': np.float64(1038.874192180693), 'BOS': np.float64(1145.449577161701), 'EWR': np.float64(1148.5078638952727), 'JNU': np.float64(889.5554093193824), 'TYR': np.float64(896.2788773103823), 'ABR': np.float64(857.9211959727743), 'SBP': np.float64(826.9534041951288), 'MOT': np.float64(786.1522556013679), 'TUS': np.float64(767.6035655095499), 'OGG': np.float64(940.5181344321442), 'JMS': np.float64(783.1714561583148), 'UST': np.float64(1089.4301214882928), 'XNA': np.float64(890.314746284701), 'CLD': np.float64(818.938533452734), 'SYR': np.float64(1103.519206995605), 'CAK': np.float64(1070.6942930839095), 'VCT': np.float64(924.202845065289), 'PFN': np.float64(1044.0762692681033), 'PSP': np.float64(798.9563362688501), 'MDW': np.float64(956.6101525777937), 'IAH': np.float64(923.7238190485934), 'PIA': np.float64(939.6039267075483), 'ACY': np.float64(1107.9598135086749), 'CEC': np.float64(814.1468772430742), 'STL': np.float64(942.4112031322618), 'GST': np.float64(889.8959742768325), 'ONT': np.float64(811.0475998120235), 'SGF': np.float64(906.3637970664632), 'PHL': np.float64(1149.3882781130133), 'MIA': np.float64(1129.2484566137598), 'LBB': np.float64(803.7801032295247), 'FNT': np.float64(1020.6666038127336), 'HLN': np.float64(730.36305882727), 'LFT': np.float64(952.9046627607592), 'TWF': np.float64(780.334462943207), 'FAR': np.float64(820.5226302208506), 'BIL': np.float64(727.4831069894906), 'MSY': np.float64(985.2523711092492), 'GUC': np.float64(763.0344384795446), 'EFD': np.float64(923.8370243516049), 'BIS': np.float64(791.6236906523654), 'SBN': np.float64(991.4715051557209), 'STX': np.float64(1199.0772565697196), 'COU': np.float64(972.9045017864336), 'MIB': np.float64(858.4901390941236), 'IDA': np.float64(756.7862591407733), 'HTS': np.float64(1067.3987785555137), 'BJI': np.float64(857.7310663196638), 'DCA': np.float64(1138.0342885739863), 'EYW': np.float64(1106.0295691737335), 'SMF': np.float64(817.1246359346342), 'SGU': np.float64(770.5343668300931), 'RKS': np.float64(757.4135367082849), 'SUN': np.float64(763.9261865707861), 'MSN': np.float64(926.699235277783), 'MFR': np.float64(801.4960186934053), 'ALO': np.float64(888.2286552582088), 'DVL': np.float64(783.5894897746626), 'FLG': np.float64(779.6243069157263), 'FLL': np.float64(1131.007634947602), 'FCA': np.float64(716.516845486159), 'CAE': np.float64(1129.7966107905636), 'SCE': np.float64(1094.575837634289), 'ABE': np.float64(1135.0667510353737), 'BGM': np.float64(1105.7273079662407), 'WYS': np.float64(780.7601560303195), 'RSW': np.float64(1111.7817914279792), 'HNL': np.float64(951.9377205802464), 'AZA': np.float64(778.3686975832385), 'MEI': np.float64(1005.847329521238), 'LAX': np.float64(818.4404637296539), 'MVY': np.float64(1151.5738389764194), 'DRT': np.float64(924.9297232834467), 'TEX': np.float64(780.8656959825248), 'LRD': np.float64(910.417426735679), 'BRO': np.float64(919.8832748949901), 'PHF': np.float64(1135.9453505241108), 'STT': np.float64(1199.56717711106), 'MKE': np.float64(957.0058731855555), 'HPN': np.float64(1145.9762952594785), 'ILE': np.float64(894.4904824306893), 'BHM': np.float64(1042.9216991042404), 'MBS': np.float64(1005.4411094308111), 'HVN': np.float64(1031.118776809394), 'DSM': np.float64(868.2336415815281), 'TVC': np.float64(962.4043468554416), 'CIU': np.float64(1038.0410180383476), 'LGB': np.float64(786.8301025939631), 'BWI': np.float64(1140.572238565915), 'CYS': np.float64(887.8570959557022), 'SJC': np.float64(818.733478397796), 'DAY': np.float64(1043.6721093067954), 'MYR': np.float64(1143.2835096934973), 'LGA': np.float64(1149.1554416663655), 'CMX': np.float64(886.0547188816869), 'ILG': np.float64(1060.8060742410648), 'ESC': np.float64(1038.099781790139), 'BUR': np.float64(790.5289305996483), 'VEL': np.float64(780.1364398326776), 'RIC': np.float64(1143.49646103635), 'MTJ': np.float64(763.5978077323357), 'SHV': np.float64(922.122093360965), 'SIT': np.float64(880.4779826522187), 'PNS': np.float64(1040.499732099158), 'BQN': np.float64(1154.9145097928283), 'FAT': np.float64(814.8448639651848), 'APF': np.float64(1129.6538619276619), 'KSM': np.float64(885.5807154274062), 'DTW': np.float64(1037.1617522946076), 'FAY': np.float64(1129.4852008514204), 'MLB': np.float64(1130.235580669911), 'PAH': np.float64(971.6813594807516), 'BTR': np.float64(974.1486388609587), 'MHT': np.float64(1135.2934550243422), 'MLI': np.float64(920.8667092622325), 'TYS': np.float64(1075.1328094668745), 'CMI': np.float64(992.0213342794693), 'YAK': np.float64(906.6962588949181), 'WRG': np.float64(870.4926479882288), 'PUB': np.float64(776.7787040703735), 'GPT': np.float64(1002.8653076299629), 'LWB': np.float64(1123.7097019355956), 'JLN': np.float64(886.9736405677885), 'GSP': np.float64(1109.494215720591), 'ART': np.float64(972.2490479111367), 'PSG': np.float64(876.8179402704579), 'SWF': np.float64(1119.5746407580148), 'TLH': np.float64(1081.4816944800496), 'SPS': np.float64(886.2753408895018), 'OTZ': np.float64(894.5495338154036), 'FLO': np.float64(1092.647775987948), 'MSO': np.float64(717.1699313877971), 'GCC': np.float64(759.8916968171849), 'IAG': np.float64(1145.1784215621954), 'LBE': np.float64(998.3704302416941), 'CNY': np.float64(780.3750416343833), 'EVV': np.float64(1029.6045338122938), 'GGG': np.float64(886.3716586929052), 'PPG': np.float64(972.3311952222631), 'OXR': np.float64(818.7274663858417), 'IPL': np.float64(784.7630905773053), 'GTF': np.float64(716.5343760122682), 'TOL': np.float64(1033.7373748155958), 'ANC': np.float64(881.7091465937249), 'CMH': np.float64(1061.9696841880957), 'ABQ': np.float64(768.8068034314309), 'BRW': np.float64(853.9187073768908), 'LIH': np.float64(950.4623986209842), 'IMT': np.float64(859.4539341545802), 'RDD': np.float64(832.2196704034371), 'CLT': np.float64(1128.1704474216124), 'SNA': np.float64(812.7349135607056), 'MAF': np.float64(805.226873035266), 'ASE': np.float64(763.0013021949391), 'LAS': np.float64(790.9338122023435), 'CWA': np.float64(900.1362891546177), 'OME': np.float64(894.455635494544), 'SUX': np.float64(826.4871153946484), 'TXK': np.float64(891.5307632734133), 'CRP': np.float64(917.9504230821094), 'CLL': np.float64(908.8691347742457), 'LWS': np.float64(781.4772948660207), 'PIE': np.float64(960.63329660134), 'MFE': np.float64(894.6998756136562), 'AZO': np.float64(999.2866095282818), 'GUM': np.float64(974.9094435971559), 'SJU': np.float64(1196.3844986960878), 'BUF': np.float64(1079.5057100093125), 'LIT': np.float64(940.0721030431004), 'ROA': np.float64(1119.7715028826888), 'BTV': np.float64(1116.3446633959197), 'VLD': np.float64(1092.469802898042), 'GTR': np.float64(1001.2375964897606), 'ROC': np.float64(1087.8459079917166), 'PHX': np.float64(778.9875231259283), 'SJT': np.float64(890.3934903902482), 'MGM': np.float64(1046.9217956607386), 'APN': np.float64(977.9040254305849), 'IYK': np.float64(819.1447437305285), 'CIC': np.float64(831.9655277341342), 'EAU': np.float64(904.9998022088256), 'PSE': np.float64(1145.9231908066865), 'TRI': np.float64(1096.5584583403936), 'DFW': np.float64(885.8464610540395), 'COD': np.float64(756.639107409159), 'PIT': np.float64(1094.0012003268996), 'PIB': np.float64(981.1626266159027), 'GFK': np.float64(835.2684838243799), 'BQK': np.float64(1092.5533287372489), 'LAN': np.float64(1010.5845259613913), 'CID': np.float64(895.1706844035291), 'BMI': np.float64(945.0593032838871), 'KOA': np.float64(936.9289166801138), 'DAL': np.float64(864.6031831404975), 'OTH': np.float64(809.9128808038549), 'RHI': np.float64(859.1490177041742), 'OAK': np.float64(800.750647473092), 'BDL': np.float64(1137.4175292695681), 'SFO': np.float64(831.0670321348213), 'ILM': np.float64(1134.44525407747), 'ADK': np.float64(890.5854875600779), 'BET': np.float64(885.2039616163611), 'HSV': np.float64(1038.0225708111964), 'DBQ': np.float64(971.1442036638106), 'JAX': np.float64(1118.587092777773), 'IAD': np.float64(1135.2223303226663), 'BGR': np.float64(1139.8772058357304), 'ABI': np.float64(887.9985276703004), 'RST': np.float64(870.0101749225491), 'ELP': np.float64(773.2335745129132), 'OMA': np.float64(841.8437788892983), 'MRY': np.float64(823.2513275537302), 'GRI': np.float64(887.5668901595623), 'LAR': np.float64(776.7953697791276), 'TPA': np.float64(1105.3207248334154), 'GRB': np.float64(931.4386207920093), 'DEN': np.float64(776.3016299765598), 'LSE': np.float64(884.5899785229319), 'KTN': np.float64(853.7070996955035), 'MKK': np.float64(942.8193546301572), 'CHS': np.float64(1136.65809633633), 'ISP': np.float64(1143.0638890892242), 'CLE': np.float64(1062.6122142821248), 'GRK': np.float64(895.0207748908097), 'ORH': np.float64(1129.267777123298), 'EUG': np.float64(795.0264819297311), 'CHA': np.float64(1062.3338876609528), 'MEM': np.float64(981.10812403193), 'VIS': np.float64(820.8614206385129), 'RNO': np.float64(802.9953435384821), 'IND': np.float64(1011.0168054545319), 'BPT': np.float64(920.8736660985153), 'SBA': np.float64(823.6599987646075), 'CDV': np.float64(926.4364920072566), 'CSG': np.float64(1080.3874395626322), 'AKN': np.float64(892.9453566919334), 'DAB': np.float64(1109.2436153369829), 'ACT': np.float64(891.2713542783061), 'ALB': np.float64(1125.7374162252806), 'MCI': np.float64(869.0849010407638), 'PWM': np.float64(1142.3932631174036), 'STC': np.float64(971.8055618109772), 'ORF': np.float64(1155.0999857632257), 'SRQ': np.float64(1104.2334935209117), 'FAI': np.float64(839.9603537569194), 'SPI': np.float64(976.2840478556205), 'COS': np.float64(773.815846966646), 'ABY': np.float64(1092.2866710735004), 'SDF': np.float64(1031.524617230285), 'MMH': np.float64(828.3560846482043), 'TTN': np.float64(1086.8923598256063), 'MDT': np.float64(1128.2861668789924), 'MOB': np.float64(1023.666078214007), 'JFK': np.float64(1142.1664561890996), 'SAV': np.float64(1125.6902636968384), 'GNV': np.float64(1102.3539818399147), 'ACV': np.float64(812.9176695673222), 'LYH': np.float64(1092.937716618287), 'MOD': np.float64(831.5353180202659), 'DLG': np.float64(893.1232548654057), 'ADQ': np.float64(883.9867985687581), 'MLU': np.float64(955.112795536012), 'SCC': np.float64(850.2915241330542), 'OAJ': np.float64(1130.102142466244), 'BLI': np.float64(761.6325557418932), 'FSM': np.float64(924.1810934596441), 'AVP': np.float64(1125.1144474224336), 'LEX': np.float64(1050.6827517346687), 'DLH': np.float64(866.1594272311161)}\n",
      "average_std_dev: 943.8637685353629\n",
      "mode_per_key: {'FWA': 748.0, 'BZN': 1854.0, 'RDM': 2444.0, 'BKG': 766.0, 'MQT': 731.0, 'JAC': 872.0, 'MSP': 596.0, 'HIB': 770.0, 'AUS': 955.0, 'HDN': 1687.0, 'MAZ': 1735.0, 'ANI': 3936.0, 'CDC': 2113.0, 'AMA': 997.0, 'PSC': 2398.0, 'PVD': 144.0, 'AGS': 946.0, 'AVL': 753.0, 'CVG': 411.0, 'PLN': 625.0, 'PBI': 1160.0, 'LMT': 1902.0, 'BTM': 945.0, 'CPR': 908.0, 'ITH': 706.0, 'UTM': 1039.0, 'CRW': 628.0, 'YUM': 1747.0, 'DHN': 862.0, 'ATL': 692.0, 'MKG': 858.0, 'JAN': 691.0, 'LCH': 1147.0, 'DIK': 738.0, 'LNY': 3269.0, 'EWN': 1125.0, 'ROW': 1461.0, 'ITO': 2558.0, 'ELM': 543.0, 'MWH': 1248.0, 'HOB': 1426.0, 'MCO': 653.0, 'EGE': 1312.0, 'SLC': 588.0, 'CHO': 518.0, 'ECP': 796.0, 'ORD': 740.0, 'ISN': 1531.0, 'SAN': 446.0, 'PDX': 2537.0, 'GSO': 365.0, 'PIH': 738.0, 'MCN': 771.0, 'BNA': 328.0, 'SEA': 1107.0, 'SAT': 843.0, 'SMX': 1804.0, 'FSD': 1056.0, 'BRD': 710.0, 'HOU': 937.0, 'EKO': 1458.0, 'ERI': 1016.0, 'GRR': 1550.0, 'BFL': 1679.0, 'SPN': 6486.0, 'INL': 851.0, 'DUT': 4159.0, 'ATW': 678.0, 'HRL': 456.0, 'BOI': 692.0, 'ACK': 1018.0, 'GJT': 438.0, 'LNK': 986.0, 'PBG': 1576.0, 'RDU': 501.0, 'DRO': 844.0, 'SAF': 819.0, 'RAP': 863.0, 'GEG': 2034.0, 'AEX': 691.0, 'HYA': 2650.0, 'VPS': 600.0, 'BOS': 752.0, 'EWR': 2433.0, 'JNU': 3237.0, 'TYR': 1128.0, 'ABR': 853.0, 'SBP': 1377.0, 'MOT': 1355.0, 'TUS': 1508.0, 'OGG': 3196.0, 'JMS': 1597.0, 'UST': 1502.0, 'XNA': 715.0, 'CLD': 423.0, 'SYR': 1093.0, 'CAK': 482.0, 'VCT': 1048.0, 'PFN': 695.0, 'PSP': 1840.0, 'MDW': 937.0, 'IAH': 925.0, 'PIA': 802.0, 'ACY': 913.0, 'CEC': 1937.0, 'STL': 317.0, 'GST': 3278.0, 'ONT': 2228.0, 'SGF': 528.0, 'PHL': 992.0, 'MIA': 835.0, 'LBB': 1300.0, 'FNT': 491.0, 'HLN': 990.0, 'LFT': 1328.0, 'TWF': 763.0, 'FAR': 1453.0, 'BIL': 2001.0, 'MSY': 1169.0, 'GUC': 898.0, 'EFD': 953.0, 'BIS': 1284.0, 'SBN': 636.0, 'STX': 1879.0, 'COU': 843.0, 'MIB': 1053.0, 'IDA': 776.0, 'HTS': 655.0, 'BJI': 795.0, 'DCA': 634.0, 'EYW': 1264.0, 'SMF': 1442.0, 'SGU': 457.0, 'RKS': 749.0, 'SUN': 1327.0, 'MSN': 707.0, 'MFR': 683.0, 'ALO': 954.0, 'DVL': 1662.0, 'FLG': 1706.0, 'FLL': 977.0, 'FCA': 1224.0, 'CAE': 639.0, 'SCE': 574.0, 'ABE': 965.0, 'BGM': 506.0, 'WYS': 861.0, 'RSW': 892.0, 'HNL': 2556.0, 'AZA': 1619.0, 'MEI': 1068.0, 'LAX': 337.0, 'MVY': 714.0, 'DRT': 1264.0, 'TEX': 1974.0, 'LRD': 1657.0, 'BRO': 1640.0, 'PHF': 467.0, 'STT': 1846.0, 'MKE': 635.0, 'HPN': 1278.0, 'ILE': 1156.0, 'BHM': 757.0, 'MBS': 480.0, 'HVN': 1046.0, 'DSM': 980.0, 'TVC': 715.0, 'CIU': 666.0, 'LGB': 1933.0, 'BWI': 787.0, 'CYS': 1739.0, 'SJC': 2416.0, 'DAY': 555.0, 'MYR': 765.0, 'LGA': 292.0, 'CMX': 1259.0, 'ILG': 823.0, 'ESC': 688.0, 'BUR': 2256.0, 'VEL': 720.0, 'RIC': 642.0, 'MTJ': 852.0, 'SHV': 418.0, 'SIT': 3189.0, 'PNS': 648.0, 'BQN': 1782.0, 'FAT': 1998.0, 'APF': 931.0, 'KSM': 3809.0, 'DTW': 382.0, 'FAY': 864.0, 'MLB': 1148.0, 'PAH': 1082.0, 'BTR': 454.0, 'MHT': 737.0, 'MLI': 751.0, 'TYS': 362.0, 'CMI': 1253.0, 'YAK': 3150.0, 'WRG': 3090.0, 'PUB': 1133.0, 'GPT': 1688.0, 'LWB': 448.0, 'JLN': 1353.0, 'GSP': 845.0, 'ART': 1358.0, 'PSG': 3121.0, 'SWF': 328.0, 'TLH': 817.0, 'SPS': 1139.0, 'OTZ': 3915.0, 'FLO': 965.0, 'MSO': 1024.0, 'GCC': 998.0, 'IAG': 1415.0, 'LBE': 1161.0, 'CNY': 772.0, 'EVV': 606.0, 'GGG': 1166.0, 'PPG': 5155.0, 'OXR': 386.0, 'IPL': 517.0, 'GTF': 1051.0, 'TOL': 411.0, 'ANC': 3367.0, 'CMH': 802.0, 'ABQ': 677.0, 'BRW': 3875.0, 'LIH': 2701.0, 'IMT': 853.0, 'RDD': 2142.0, 'CLT': 746.0, 'SNA': 2064.0, 'MAF': 1290.0, 'ASE': 701.0, 'LAS': 258.0, 'CWA': 963.0, 'OME': 3906.0, 'SUX': 1285.0, 'TXK': 1207.0, 'CRP': 1615.0, 'CLL': 1399.0, 'LWS': 1049.0, 'PIE': 2151.0, 'MFE': 1571.0, 'AZO': 560.0, 'GUM': 6357.0, 'SJU': 1659.0, 'BUF': 1482.0, 'LIT': 453.0, 'ROA': 405.0, 'BTV': 1105.0, 'VLD': 900.0, 'GTR': 604.0, 'ROC': 254.0, 'PHX': 1587.0, 'SJT': 1254.0, 'MGM': 839.0, 'APN': 580.0, 'IYK': 460.0, 'CIC': 2096.0, 'EAU': 1174.0, 'PSE': 1832.0, 'TRI': 441.0, 'DFW': 1026.0, 'COD': 1937.0, 'PIT': 328.0, 'PIB': 869.0, 'GFK': 1490.0, 'BQK': 930.0, 'LAN': 456.0, 'CID': 419.0, 'BMI': 833.0, 'KOA': 4212.0, 'DAL': 1208.0, 'OTH': 2707.0, 'RHI': 786.0, 'OAK': 1836.0, 'BDL': 1798.0, 'SFO': 1943.0, 'ILM': 825.0, 'ADK': 4559.0, 'BET': 3766.0, 'HSV': 595.0, 'DBQ': 887.0, 'JAX': 833.0, 'IAD': 441.0, 'BGR': 878.0, 'ABI': 1184.0, 'RST': 985.0, 'ELP': 1236.0, 'OMA': 878.0, 'MRY': 1729.0, 'GRI': 1587.0, 'LAR': 1137.0, 'TPA': 1237.0, 'GRB': 669.0, 'DEN': 1024.0, 'LSE': 1641.0, 'KTN': 3008.0, 'MKK': 3242.0, 'CHS': 595.0, 'ISP': 859.0, 'CLE': 425.0, 'GRK': 1160.0, 'ORH': 1091.0, 'EUG': 2542.0, 'CHA': 784.0, 'MEM': 981.0, 'VIS': 2034.0, 'RNO': 2082.0, 'IND': 515.0, 'BPT': 1442.0, 'SBA': 262.0, 'CDV': 3527.0, 'CSG': 775.0, 'AKN': 3656.0, 'DAB': 814.0, 'ACT': 1115.0, 'ALB': 1204.0, 'MCI': 1021.0, 'PWM': 1297.0, 'STC': 1134.0, 'ORF': 835.0, 'SRQ': 944.0, 'FAI': 2542.0, 'SPI': 957.0, 'COS': 833.0, 'ABY': 837.0, 'SDF': 860.0, 'MMH': 2464.0, 'TTN': 701.0, 'MDT': 1284.0, 'MOB': 679.0, 'JFK': 2454.0, 'SAV': 722.0, 'GNV': 992.0, 'ACV': 2718.0, 'LYH': 1081.0, 'MOD': 2021.0, 'DLG': 3696.0, 'ADQ': 3620.0, 'MLU': 795.0, 'SCC': 3745.0, 'OAJ': 937.0, 'BLI': 1867.0, 'FSM': 945.0, 'AVP': 694.0, 'LEX': 602.0, 'DLH': 923.0}\n",
      "average_mode: 1307.4942857142858\n"
     ]
    }
   ],
   "source": [
    "# Weighted bellman-ford\n",
    "weighted_field = \"flight_distance\"\n",
    "method = \"bellman-ford\"\n",
    "\n",
    "w_bf_all_path_len = dict(nx.shortest_path_length(flightGraph, source=None, target=None, weight=weighted_field, method=method))\n",
    "\n",
    "w_bf_all_path_len_prepped = {\n",
    "    outer_key: {inner_key: value for inner_key, value in inner_dict.items() if inner_key != outer_key}\n",
    "    for outer_key, inner_dict in w_bf_all_path_len.items()\n",
    "}\n",
    "\n",
    "# Print Results\n",
    "print(f\"Analysis for Unweighted {method.title()} Shortest Path\")\n",
    "analysis_all_flights_all_orig_all_dest(w_bf_all_path_len_prepped, id_to_airport_code_mapping_dict)"
   ]
  }
 ],
 "metadata": {
  "kernelspec": {
   "display_name": "Python 3",
   "language": "python",
   "name": "python3"
  },
  "language_info": {
   "codemirror_mode": {
    "name": "ipython",
    "version": 3
   },
   "file_extension": ".py",
   "mimetype": "text/x-python",
   "name": "python",
   "nbconvert_exporter": "python",
   "pygments_lexer": "ipython3",
   "version": "3.11.4"
  }
 },
 "nbformat": 4,
 "nbformat_minor": 2
}
