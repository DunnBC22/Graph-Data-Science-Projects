{
 "cells": [
  {
   "cell_type": "markdown",
   "metadata": {},
   "source": [
    "## Graph Analytics with ArangoDB (Python-Arango Library)"
   ]
  },
  {
   "cell_type": "markdown",
   "metadata": {},
   "source": [
    "## Install Required Libraries"
   ]
  },
  {
   "cell_type": "code",
   "execution_count": 1,
   "metadata": {},
   "outputs": [
    {
     "name": "stdout",
     "output_type": "stream",
     "text": [
      "Requirement already satisfied: pip in /Library/Frameworks/Python.framework/Versions/3.11/lib/python3.11/site-packages (25.0)\n"
     ]
    }
   ],
   "source": [
    "!pip3 install --upgrade pip"
   ]
  },
  {
   "cell_type": "code",
   "execution_count": 2,
   "metadata": {},
   "outputs": [
    {
     "name": "stdout",
     "output_type": "stream",
     "text": [
      "Requirement already satisfied: python-arango in /Library/Frameworks/Python.framework/Versions/3.11/lib/python3.11/site-packages (8.1.2)\n",
      "Requirement already satisfied: urllib3>=1.26.0 in /Library/Frameworks/Python.framework/Versions/3.11/lib/python3.11/site-packages (from python-arango) (2.2.3)\n",
      "Requirement already satisfied: requests in /Library/Frameworks/Python.framework/Versions/3.11/lib/python3.11/site-packages (from python-arango) (2.32.3)\n",
      "Requirement already satisfied: requests-toolbelt in /Library/Frameworks/Python.framework/Versions/3.11/lib/python3.11/site-packages (from python-arango) (1.0.0)\n",
      "Requirement already satisfied: PyJWT in /Library/Frameworks/Python.framework/Versions/3.11/lib/python3.11/site-packages (from python-arango) (2.10.0)\n",
      "Requirement already satisfied: setuptools>=42 in /Library/Frameworks/Python.framework/Versions/3.11/lib/python3.11/site-packages (from python-arango) (65.5.0)\n",
      "Requirement already satisfied: importlib-metadata>=4.7.1 in /Library/Frameworks/Python.framework/Versions/3.11/lib/python3.11/site-packages (from python-arango) (8.5.0)\n",
      "Requirement already satisfied: packaging>=23.1 in /Users/briandunn/Library/Python/3.11/lib/python/site-packages (from python-arango) (24.2)\n",
      "Requirement already satisfied: zipp>=3.20 in /Library/Frameworks/Python.framework/Versions/3.11/lib/python3.11/site-packages (from importlib-metadata>=4.7.1->python-arango) (3.21.0)\n",
      "Requirement already satisfied: charset-normalizer<4,>=2 in /Library/Frameworks/Python.framework/Versions/3.11/lib/python3.11/site-packages (from requests->python-arango) (3.4.0)\n",
      "Requirement already satisfied: idna<4,>=2.5 in /Library/Frameworks/Python.framework/Versions/3.11/lib/python3.11/site-packages (from requests->python-arango) (3.10)\n",
      "Requirement already satisfied: certifi>=2017.4.17 in /Library/Frameworks/Python.framework/Versions/3.11/lib/python3.11/site-packages (from requests->python-arango) (2024.8.30)\n",
      "Note: you may need to restart the kernel to use updated packages.\n",
      "Requirement already satisfied: networkx in /Library/Frameworks/Python.framework/Versions/3.11/lib/python3.11/site-packages (3.4.2)\n",
      "Note: you may need to restart the kernel to use updated packages.\n",
      "Requirement already satisfied: numpy in /Library/Frameworks/Python.framework/Versions/3.11/lib/python3.11/site-packages (2.1.3)\n",
      "Note: you may need to restart the kernel to use updated packages.\n",
      "Requirement already satisfied: scipy in /Library/Frameworks/Python.framework/Versions/3.11/lib/python3.11/site-packages (1.14.1)\n",
      "Requirement already satisfied: numpy<2.3,>=1.23.5 in /Library/Frameworks/Python.framework/Versions/3.11/lib/python3.11/site-packages (from scipy) (2.1.3)\n",
      "Note: you may need to restart the kernel to use updated packages.\n",
      "Requirement already satisfied: tabulate in /Library/Frameworks/Python.framework/Versions/3.11/lib/python3.11/site-packages (0.9.0)\n",
      "Note: you may need to restart the kernel to use updated packages.\n",
      "Requirement already satisfied: geopandas in /Library/Frameworks/Python.framework/Versions/3.11/lib/python3.11/site-packages (1.0.1)\n",
      "Requirement already satisfied: numpy>=1.22 in /Library/Frameworks/Python.framework/Versions/3.11/lib/python3.11/site-packages (from geopandas) (2.1.3)\n",
      "Requirement already satisfied: pyogrio>=0.7.2 in /Library/Frameworks/Python.framework/Versions/3.11/lib/python3.11/site-packages (from geopandas) (0.10.0)\n",
      "Requirement already satisfied: packaging in /Users/briandunn/Library/Python/3.11/lib/python/site-packages (from geopandas) (24.2)\n",
      "Requirement already satisfied: pandas>=1.4.0 in /Library/Frameworks/Python.framework/Versions/3.11/lib/python3.11/site-packages (from geopandas) (2.2.3)\n",
      "Requirement already satisfied: pyproj>=3.3.0 in /Library/Frameworks/Python.framework/Versions/3.11/lib/python3.11/site-packages (from geopandas) (3.7.0)\n",
      "Requirement already satisfied: shapely>=2.0.0 in /Library/Frameworks/Python.framework/Versions/3.11/lib/python3.11/site-packages (from geopandas) (2.0.6)\n",
      "Requirement already satisfied: python-dateutil>=2.8.2 in /Users/briandunn/Library/Python/3.11/lib/python/site-packages (from pandas>=1.4.0->geopandas) (2.9.0.post0)\n",
      "Requirement already satisfied: pytz>=2020.1 in /Library/Frameworks/Python.framework/Versions/3.11/lib/python3.11/site-packages (from pandas>=1.4.0->geopandas) (2024.2)\n",
      "Requirement already satisfied: tzdata>=2022.7 in /Library/Frameworks/Python.framework/Versions/3.11/lib/python3.11/site-packages (from pandas>=1.4.0->geopandas) (2024.2)\n",
      "Requirement already satisfied: certifi in /Library/Frameworks/Python.framework/Versions/3.11/lib/python3.11/site-packages (from pyogrio>=0.7.2->geopandas) (2024.8.30)\n",
      "Requirement already satisfied: six>=1.5 in /Users/briandunn/Library/Python/3.11/lib/python/site-packages (from python-dateutil>=2.8.2->pandas>=1.4.0->geopandas) (1.16.0)\n",
      "Note: you may need to restart the kernel to use updated packages.\n"
     ]
    }
   ],
   "source": [
    "%pip install python-arango\n",
    "%pip install networkx\n",
    "%pip install numpy\n",
    "%pip install scipy\n",
    "%pip install tabulate\n",
    "%pip install geopandas"
   ]
  },
  {
   "cell_type": "markdown",
   "metadata": {},
   "source": [
    "## Library Imports"
   ]
  },
  {
   "cell_type": "code",
   "execution_count": 3,
   "metadata": {},
   "outputs": [],
   "source": [
    "import sys, csv, statistics\n",
    "\n",
    "from arango import ArangoClient\n",
    "import networkx as nx\n",
    "import pkg_resources\n",
    "\n",
    "import numpy as np\n",
    "import scipy\n",
    "from tabulate import tabulate\n",
    "import geopandas as gpd"
   ]
  },
  {
   "cell_type": "markdown",
   "metadata": {},
   "source": [
    "## Library Versions"
   ]
  },
  {
   "cell_type": "code",
   "execution_count": 4,
   "metadata": {},
   "outputs": [
    {
     "name": "stdout",
     "output_type": "stream",
     "text": [
      " Software & Library Versions \n",
      "----------------|------------\n",
      "         Python | 3.11.4\n",
      "  Arango Client | 8.1.2\n",
      "       NetworkX | 3.4.2\n",
      "          NumPy | 2.1.3\n",
      "          SciPy | 1.14.1\n"
     ]
    }
   ],
   "source": [
    "l = 15\n",
    "r = 14\n",
    "\n",
    "arango_version = pkg_resources.get_distribution(\"python-arango\").version\n",
    "\n",
    "print(\"Software & Library Versions\".center(l+r))\n",
    "print('-'* (l + 1) + '|' + '-' * (r - 2))\n",
    "print('Python'.rjust(l), '|', sys.version[0:6])\n",
    "print('Arango Client'.rjust(l), '|', arango_version)\n",
    "print('NetworkX'.rjust(l), '|', nx.__version__)\n",
    "print('NumPy'.rjust(l), '|', np.__version__)\n",
    "print('SciPy'.rjust(l), '|', scipy.__version__)"
   ]
  },
  {
   "cell_type": "markdown",
   "metadata": {},
   "source": [
    "## Import Dataset"
   ]
  },
  {
   "cell_type": "code",
   "execution_count": 5,
   "metadata": {},
   "outputs": [],
   "source": [
    "# Connect to ArangoDB\n",
    "client = ArangoClient()\n",
    "db = client.db('_system', username='root', password='testpassword')\n",
    "\n",
    "# Access collections\n",
    "nodes = db.collection('airports')\n",
    "edges = db.collection('flights')\n",
    "\n",
    "# Fetch graph data\n",
    "graph_data = {\n",
    "    'nodes': list(nodes.all()),\n",
    "    'edges': list(edges.all())\n",
    "}\n",
    "\n",
    "flightGraph = nx.MultiDiGraph()\n",
    "\n",
    "# Add nodes\n",
    "for node in graph_data['nodes']:\n",
    "    flightGraph.add_node(node['_key'], **node)\n",
    "\n",
    "# Add edges\n",
    "for edge in graph_data['edges']:\n",
    "    flightGraph.add_edge(\n",
    "        edge['_from'].split('/')[-1],\n",
    "        edge['_to'].split('/')[-1],\n",
    "        **edge\n",
    "    )"
   ]
  },
  {
   "cell_type": "markdown",
   "metadata": {},
   "source": [
    "## Some Introductory Commands"
   ]
  },
  {
   "cell_type": "markdown",
   "metadata": {},
   "source": [
    "### Show Number of Airports"
   ]
  },
  {
   "cell_type": "code",
   "execution_count": 6,
   "metadata": {},
   "outputs": [
    {
     "name": "stdout",
     "output_type": "stream",
     "text": [
      "[{'NumberOfAirports': 365}]\n"
     ]
    }
   ],
   "source": [
    "query = \"\"\"\n",
    "FOR airport IN airports\n",
    "    COLLECT WITH COUNT INTO numAirports\n",
    "RETURN { NumberOfAirports: numAirports }\n",
    "\"\"\"\n",
    "result = db.aql.execute(query)\n",
    "print(list(result))"
   ]
  },
  {
   "cell_type": "markdown",
   "metadata": {},
   "source": [
    "### Show the Number of Flights"
   ]
  },
  {
   "cell_type": "code",
   "execution_count": 7,
   "metadata": {},
   "outputs": [
    {
     "name": "stdout",
     "output_type": "stream",
     "text": [
      "[{'NumberOfFlights': 992298}]\n"
     ]
    }
   ],
   "source": [
    "query = \"\"\"\n",
    "FOR flight IN flights\n",
    "    COLLECT WITH COUNT INTO numFlights\n",
    "RETURN { NumberOfFlights: numFlights }\n",
    "\"\"\"\n",
    "result = db.aql.execute(query)\n",
    "\n",
    "print(list(result))"
   ]
  },
  {
   "cell_type": "markdown",
   "metadata": {},
   "source": [
    "### Add Airline Details for Each Airline Code (Relationship)"
   ]
  },
  {
   "cell_type": "code",
   "execution_count": 8,
   "metadata": {},
   "outputs": [],
   "source": [
    "# Load CSV file\n",
    "with open('../import/airlines.csv', 'r') as file:\n",
    "    reader = csv.DictReader(file)\n",
    "    for row in reader:\n",
    "        query = \"\"\"\n",
    "        FOR flight IN flights\n",
    "            FILTER flight.airline_id == @airline_id\n",
    "            UPDATE flight WITH {\n",
    "                airline_name: @airline_name,\n",
    "                airline_code: @airline_code\n",
    "            } IN flights\n",
    "        \"\"\"\n",
    "        db.aql.execute(query, bind_vars={\n",
    "            'airline_id': row['airline_id'],\n",
    "            'airline_name': row['airline_name'],\n",
    "            'airline_code': row['airline_code']\n",
    "        })"
   ]
  },
  {
   "cell_type": "markdown",
   "metadata": {},
   "source": [
    "### Add Airport Name, City, & State For Each Airport (Node)"
   ]
  },
  {
   "cell_type": "code",
   "execution_count": 9,
   "metadata": {},
   "outputs": [],
   "source": [
    "with open('../import/airports.csv', 'r') as file:\n",
    "    reader = csv.DictReader(file)\n",
    "    for row in reader:\n",
    "        query = \"\"\"\n",
    "        FOR airport IN airports\n",
    "            FILTER airport.unique_id == @unique_id\n",
    "            UPDATE airport WITH {\n",
    "                airport_code: @airport_code,\n",
    "                airport_name: @airport_name,\n",
    "                airport_city: @city_name,\n",
    "                airportState_code: @state,\n",
    "                airportState_name: @state_name\n",
    "            } IN airports\n",
    "        \"\"\"\n",
    "        db.aql.execute(query, bind_vars={\n",
    "            'unique_id': row['unique_id'],\n",
    "            'airport_code': row['airport_code'],\n",
    "            'airport_name': row['airport_name'],\n",
    "            'city_name': row['city_name'],\n",
    "            'state': row['state'],\n",
    "            'state_name': row['state_name']\n",
    "        })"
   ]
  },
  {
   "cell_type": "markdown",
   "metadata": {},
   "source": [
    "## Utility Functions"
   ]
  },
  {
   "cell_type": "markdown",
   "metadata": {},
   "source": [
    "#### Find Node ID Based On Value of Attribute"
   ]
  },
  {
   "cell_type": "code",
   "execution_count": 10,
   "metadata": {},
   "outputs": [],
   "source": [
    "def convert_attr_value_to_node_id(graph, attribute_name, attribute_value):\n",
    "    \"\"\"\n",
    "    Find the node in the graph that matches the given attribute value.\n",
    "    \n",
    "    Args:\n",
    "        graph (nx.Graph): The NetworkX graph.\n",
    "        attribute_name (str): The name of the attribute to search by.\n",
    "        attribute_value (str): The value of the attribute to match.\n",
    "        \n",
    "    Returns:\n",
    "        The ID of the node that matches the given attribute value, or None if not found.\n",
    "    \"\"\"\n",
    "    for node, attributes in graph.nodes(data=True):\n",
    "        if attributes.get(attribute_name) == attribute_value:\n",
    "            return node # Return node ID\n",
    "    return None"
   ]
  },
  {
   "cell_type": "markdown",
   "metadata": {},
   "source": [
    "#### Find Value of Attribute Based On Node ID"
   ]
  },
  {
   "cell_type": "code",
   "execution_count": 11,
   "metadata": {},
   "outputs": [],
   "source": [
    "def convert_node_id_to_attr_value(data, mapping_dict, attribute_name):\n",
    "    \"\"\"\n",
    "    Replace keys in a list of tuples with the corresponding attribute values from a mapping dictionary.\n",
    "    \n",
    "    Args:\n",
    "        data (list of tuples): The input list containing (key, value) pairs.\n",
    "        mapping_dict (dict): A dictionary where keys are node/airport IDs and values are dictionaries of attributes.\n",
    "        attribute_name (str): The name of the attribute to replace the key with.\n",
    "        \n",
    "    Returns:\n",
    "        list: A list of tuples where the keys are replaced with the specified attribute values.\n",
    "    \"\"\"\n",
    "    if not isinstance(data, list) or not all(isinstance(item, tuple) and len(item) == 2 for item in data):\n",
    "        raise ValueError(\"Data must be a list of (key, value) tuples.\")\n",
    "    \n",
    "    if not isinstance(mapping_dict, dict):\n",
    "        raise ValueError(\"Mapping dictionary must be a valid dictionary.\")\n",
    "    \n",
    "    if not isinstance(attribute_name, str):\n",
    "        raise ValueError(\"Attribute name must be a string.\")\n",
    "    \n",
    "    # Replace keys with the specified attribute value\n",
    "    updated_data = []\n",
    "    for key, value in data:\n",
    "        attribute_value = mapping_dict.get(key, {}).get(attribute_name, key)  # Default is original key if attribute is missing\n",
    "        updated_data.append((attribute_value, value))\n",
    "    \n",
    "    return updated_data"
   ]
  },
  {
   "cell_type": "markdown",
   "metadata": {},
   "source": [
    "### Functions to Create Maps Between Ids & Attribute Values"
   ]
  },
  {
   "cell_type": "code",
   "execution_count": 12,
   "metadata": {},
   "outputs": [
    {
     "name": "stdout",
     "output_type": "stream",
     "text": [
      "{'179': 'FWA', '181': 'BZN', '183': 'RDM', '185': 'BKG', '187': 'MQT', '189': 'JAC', '191': 'MSP', '193': 'HIB', '195': 'UCA', '197': 'AUS', '199': 'HDN', '201': 'MAZ', '203': 'ANI', '205': 'CDC', '207': 'AMA', '209': 'PSC', '211': 'PVD', '213': 'AGS', '215': 'AVL', '217': 'CVG', '219': 'PLN', '221': 'PBI', '223': 'LMT', '225': 'BTM', '227': 'CPR', '229': 'ITH', '231': 'UTM', '233': 'CRW', '235': 'YUM', '237': 'DHN', '239': 'ATL', '241': 'MKG', '243': 'JAN', '245': 'LCH', '247': 'DIK', '249': 'LNY', '251': 'EWN', '253': 'ROW', '255': 'ITO', '257': 'ELM', '259': 'MWH', '261': 'HOB', '263': 'MCO', '265': 'EGE', '267': 'SLC', '269': 'CHO', '271': 'ECP', '273': 'ORD', '275': 'ISN', '277': 'SAN', '279': 'PDX', '281': 'GSO', '283': 'PIH', '285': 'MCN', '287': 'BNA', '289': 'SEA', '291': 'SAT', '293': 'SMX', '295': 'FSD', '297': 'BRD', '299': 'HOU', '301': 'EKO', '303': 'ERI', '305': 'GRR', '307': 'BFL', '309': 'SPN', '311': 'TUL', '313': 'INL', '315': 'DUT', '317': 'ATW', '319': 'HRL', '321': 'BOI', '323': 'ACK', '325': 'GJT', '327': 'LNK', '329': 'PBG', '331': 'RDU', '333': 'DRO', '335': 'SAF', '337': 'RAP', '339': 'GEG', '341': 'FOE', '343': 'AEX', '345': 'HYA', '347': 'VPS', '349': 'BOS', '351': 'EWR', '353': 'JNU', '355': 'RFD', '357': 'TYR', '359': 'ABR', '361': 'SBP', '363': 'MOT', '365': 'TUS', '367': 'OGG', '369': 'JMS', '371': 'UST', '373': 'XNA', '375': 'CLD', '377': 'SYR', '379': 'CAK', '381': 'VCT', '383': 'PFN', '385': 'PSP', '387': 'MDW', '389': 'IAH', '391': 'PIA', '393': 'ACY', '395': 'CEC', '397': 'HYS', '399': 'STL', '401': 'GST', '403': 'ONT', '405': 'OKC', '407': 'SGF', '409': 'PHL', '411': 'MIA', '413': 'LBB', '415': 'FNT', '417': 'HLN', '419': 'LFT', '421': 'TWF', '423': 'FAR', '425': 'BIL', '427': 'MSY', '429': 'GUC', '431': 'EFD', '433': 'BIS', '435': 'SBN', '437': 'STX', '439': 'COU', '441': 'MIB', '443': 'IDA', '445': 'HTS', '447': 'BJI', '449': 'DCA', '451': 'EYW', '453': 'SMF', '455': 'SGU', '457': 'RKS', '459': 'SUN', '461': 'MSN', '463': 'MFR', '465': 'ALO', '467': 'DVL', '469': 'FLG', '471': 'FLL', '473': 'FCA', '475': 'CAE', '477': 'SCE', '479': 'ABE', '481': 'BGM', '483': 'WYS', '485': 'RSW', '487': 'HNL', '489': 'AZA', '491': 'MEI', '493': 'LAX', '495': 'MVY', '497': 'DRT', '499': 'TEX', '501': 'LRD', '503': 'BRO', '505': 'PHF', '507': 'STT', '509': 'MKE', '511': 'HPN', '513': 'ILE', '515': 'BHM', '517': 'MBS', '519': 'HVN', '521': 'DSM', '523': 'TVC', '525': 'CIU', '527': 'LGB', '529': 'BWI', '531': 'CYS', '533': 'SJC', '535': 'DAY', '537': 'MYR', '539': 'LGA', '541': 'CMX', '543': 'ILG', '545': 'ESC', '547': 'BUR', '549': 'LAW', '551': 'VEL', '553': 'RIC', '555': 'ISO', '557': 'MTJ', '559': 'SHV', '561': 'SIT', '563': 'GCK', '565': 'PNS', '567': 'BQN', '569': 'FAT', '571': 'APF', '573': 'KSM', '575': 'DTW', '577': 'FAY', '579': 'MLB', '581': 'PAH', '583': 'BTR', '585': 'MHT', '587': 'MLI', '589': 'TYS', '591': 'CMI', '593': 'YAK', '595': 'WRG', '597': 'PUB', '599': 'GPT', '601': 'LWB', '603': 'JLN', '605': 'GSP', '607': 'ART', '609': 'PSG', '611': 'SHD', '613': 'SWF', '615': 'TLH', '617': 'SPS', '619': 'OTZ', '621': 'FLO', '623': 'MSO', '625': 'GCC', '627': 'IAG', '629': 'LBE', '631': 'CNY', '633': 'EVV', '635': 'GGG', '637': 'PPG', '639': 'OXR', '641': 'IPL', '643': 'GTF', '645': 'TOL', '647': 'ANC', '649': 'CMH', '651': 'ABQ', '653': 'BRW', '655': 'LIH', '657': 'ROP', '659': 'IMT', '661': 'RDD', '663': 'CLT', '665': 'SNA', '667': 'MAF', '669': 'ASE', '671': 'LAS', '673': 'CWA', '675': 'OME', '677': 'SUX', '679': 'TXK', '681': 'CRP', '683': 'ROR', '685': 'CLL', '687': 'LWS', '689': 'PIE', '691': 'MFE', '693': 'AZO', '695': 'GUM', '697': 'SJU', '699': 'BUF', '701': 'LIT', '703': 'ROA', '705': 'MHK', '707': 'BTV', '709': 'VLD', '711': 'GTR', '713': 'ROC', '715': 'PHX', '717': 'SJT', '719': 'MGM', '721': 'APN', '723': 'IYK', '725': 'CIC', '727': 'EAU', '729': 'PSE', '731': 'TRI', '733': 'DFW', '735': 'COD', '737': 'PIT', '739': 'PIB', '741': 'GFK', '743': 'BQK', '745': 'LAN', '747': 'CID', '749': 'BMI', '751': 'KOA', '753': 'DAL', '755': 'OTH', '757': 'RHI', '759': 'OAK', '761': 'BDL', '763': 'SFO', '765': 'ILM', '767': 'ADK', '769': 'BET', '771': 'HSV', '773': 'DBQ', '775': 'JAX', '777': 'IAD', '779': 'BGR', '781': 'ABI', '783': 'RST', '785': 'ELP', '787': 'OMA', '789': 'MRY', '791': 'GRI', '793': 'LAR', '795': 'TPA', '797': 'GRB', '799': 'DEN', '801': 'LSE', '803': 'KTN', '805': 'MKK', '807': 'CHS', '809': 'ISP', '811': 'CLE', '813': 'ICT', '815': 'GRK', '817': 'ORH', '819': 'EUG', '821': 'CHA', '823': 'MEM', '825': 'VIS', '827': 'RNO', '829': 'IND', '831': 'BPT', '833': 'SBA', '835': 'CDV', '837': 'CSG', '839': 'AKN', '841': 'DAB', '843': 'ACT', '845': 'ALB', '847': 'MCI', '849': 'PWM', '851': 'STC', '853': 'ORF', '855': 'SRQ', '857': 'FAI', '859': 'SPI', '861': 'COS', '863': 'ABY', '865': 'SDF', '867': 'MMH', '869': 'TTN', '871': 'MDT', '873': 'MOB', '875': 'JFK', '877': 'SAV', '879': 'DET', '881': 'GNV', '883': 'ACV', '885': 'LYH', '887': 'MOD', '889': 'DLG', '891': 'ADQ', '893': 'MLU', '895': 'SCC', '897': 'OAJ', '899': 'BLI', '901': 'FSM', '903': 'AVP', '905': 'LEX', '907': 'DLH'}\n",
      "365\n"
     ]
    }
   ],
   "source": [
    "# Function to create a map of node_id's as the keys and as the values\n",
    "\n",
    "def create_airport_code_dict(G):\n",
    "    \"\"\"\n",
    "    Extracts a dictionary mapping node IDs to their respective airport_code attributes from a NetworkX graph.\n",
    "    \n",
    "    Args:\n",
    "        G (networkx.Graph): A NetworkX graph with nodes containing an 'airport_code' attribute.\n",
    "        \n",
    "    Returns:\n",
    "        dict: A dictionary with node IDs as keys and airport_code as values.\n",
    "    \"\"\"\n",
    "    # Initialize an empty dictionary\n",
    "    airport_code_dict = {}\n",
    "\n",
    "    # Iterate over nodes and their attributes\n",
    "    for node, attributes in G.nodes(data=True):\n",
    "        airport_code = attributes.get('airport_code')  # Get airport_code attribute\n",
    "        if airport_code:  # Only include if airport_code attribute exists\n",
    "            airport_code_dict[node] = airport_code  # Map node ID to airport_code\n",
    "\n",
    "    return airport_code_dict\n",
    "\n",
    "### --------------------------------------------------------------------\n",
    "# Example output:\n",
    "\n",
    "# {\n",
    "#     1: \"JFK\",\n",
    "#     2: \"LAX\"\n",
    "# }\n",
    "### --------------------------------------------------------------------\n",
    "\n",
    "id_to_airport_code_mapping_dict = create_airport_code_dict(flightGraph)\n",
    "\n",
    "print(id_to_airport_code_mapping_dict)\n",
    "print(len(id_to_airport_code_mapping_dict))"
   ]
  },
  {
   "cell_type": "markdown",
   "metadata": {},
   "source": [
    "### Convert Dictionary Keys From Node Id's to Airport Codes"
   ]
  },
  {
   "cell_type": "code",
   "execution_count": 13,
   "metadata": {},
   "outputs": [],
   "source": [
    "# Convert each & every KEY from node_id to the airport_code value\n",
    "\n",
    "def convert_output_keys_to_airport_codes(\n",
    "    nx_output_dict, \n",
    "    node_to_airport_code_dict=id_to_airport_code_mapping_dict):\n",
    "    \"\"\"\n",
    "    Converts the keys of a NetworkX output dictionary from node IDs to airport codes.\n",
    "    \n",
    "    Args:\n",
    "        nx_output_dict (dict): A dictionary output from NetworkX with node IDs as keys.\n",
    "        node_to_airport_code_dict (dict): A dictionary mapping node IDs to airport codes.\n",
    "    \n",
    "    Returns:\n",
    "        dict: A dictionary with airport codes as keys and the original values preserved.\n",
    "    \"\"\"\n",
    "    converted_dict = {}\n",
    "    \n",
    "    for node_id, value in nx_output_dict.items():\n",
    "        # Get the airport code for the given node ID\n",
    "        airport_code = node_to_airport_code_dict.get(\n",
    "            node_id, \n",
    "            f\"({node_id})\"\n",
    "            )\n",
    "        \n",
    "        # Add to the new dictionary\n",
    "        converted_dict[airport_code] = value\n",
    "\n",
    "    return converted_dict\n",
    "\n",
    "# Example Use:\n",
    "# converted_dict = convert_output_keys_to_airport_codes(nx_output_dict, id_to_airport_code_mapping_dict)\n",
    "\n",
    "# Example Output:\n",
    "# {\n",
    "#     \"JFK\": 3,\n",
    "#     \"LAX\": 5,\n",
    "#     \"ORD\": 2\n",
    "# }"
   ]
  },
  {
   "cell_type": "code",
   "execution_count": 14,
   "metadata": {},
   "outputs": [],
   "source": [
    "# handle instances of the value being inputted as a single instance\n",
    "\n",
    "def convert_single_instance(\n",
    "    node_id, \n",
    "    node_to_airport_code_dict\n",
    "    ):\n",
    "    \n",
    "    \"\"\"\n",
    "    Convert a single node_id (integer) to its corresponding airport_code.\n",
    "    \"\"\"\n",
    "    return node_to_airport_code_dict.get(node_id, node_id)"
   ]
  },
  {
   "cell_type": "code",
   "execution_count": 15,
   "metadata": {},
   "outputs": [],
   "source": [
    "# handle instances of the value being inputted as a list \n",
    "\n",
    "def convert_list(\n",
    "    node_id_list, \n",
    "    node_to_airport_code_dict\n",
    "    ):\n",
    "    \n",
    "    \"\"\"\n",
    "    Convert a list of node_ids (including nested lists) to their corresponding airport_codes.\n",
    "    \"\"\"\n",
    "    converted_list = []\n",
    "    for item in node_id_list:\n",
    "        if isinstance(item, list):\n",
    "            # Recursively process nested lists\n",
    "            converted_list.append(convert_list(item, node_to_airport_code_dict))\n",
    "        else:\n",
    "            # Convert single elements\n",
    "            converted_list.append(node_to_airport_code_dict.get(item, item))\n",
    "    return converted_list"
   ]
  },
  {
   "cell_type": "code",
   "execution_count": 16,
   "metadata": {},
   "outputs": [],
   "source": [
    "# handle instances of the value being inputted as a tuple \n",
    "\n",
    "def convert_tuple(\n",
    "    node_id_tuple, \n",
    "    node_to_airport_code_dict\n",
    "    ):\n",
    "    \n",
    "    \"\"\"\n",
    "    Convert a tuple of node_ids to their corresponding airport_codes.\n",
    "    \"\"\"\n",
    "    return tuple(node_to_airport_code_dict.get(node_id, node_id) for node_id in node_id_tuple)"
   ]
  },
  {
   "cell_type": "code",
   "execution_count": 17,
   "metadata": {},
   "outputs": [],
   "source": [
    "# handle instances of the value being inputted as a set\n",
    "\n",
    "def convert_set(\n",
    "    node_id_set, \n",
    "    node_to_airport_code_dict\n",
    "    ):\n",
    "    \n",
    "    \"\"\"\n",
    "    Convert a set of node_ids to their corresponding airport_codes.\n",
    "    \"\"\"\n",
    "    return {node_to_airport_code_dict.get(node_id, node_id) for node_id in node_id_set}"
   ]
  },
  {
   "cell_type": "code",
   "execution_count": 18,
   "metadata": {},
   "outputs": [],
   "source": [
    "# handle instances of the value being inputted as a dictionary\n",
    "\n",
    "def convert_dict(\n",
    "    node_id_dict, \n",
    "    node_to_airport_code_dict\n",
    "    ):\n",
    "    \n",
    "    \"\"\"\n",
    "    Convert a dictionary with node_ids in values to their corresponding airport_codes.\n",
    "    \"\"\"\n",
    "    return {\n",
    "        key: convert_values(\n",
    "                value, \n",
    "                node_to_airport_code_dict\n",
    "                ) \n",
    "        for key, value in node_id_dict.items()}"
   ]
  },
  {
   "cell_type": "markdown",
   "metadata": {},
   "source": [
    "### Single Function to Handle All Dictionary Value Input Types"
   ]
  },
  {
   "cell_type": "code",
   "execution_count": 19,
   "metadata": {},
   "outputs": [],
   "source": [
    "def convert_values(\n",
    "    value, \n",
    "    node_to_airport_code_dict\n",
    "    ):\n",
    "    \"\"\"\n",
    "    Dynamically determine the type of input value and convert it appropriately.\n",
    "    \"\"\"\n",
    "    if isinstance(value, int):\n",
    "        return convert_single_instance(\n",
    "            value, \n",
    "            node_to_airport_code_dict\n",
    "            )\n",
    "    elif isinstance(value, list):\n",
    "        return convert_list(\n",
    "            value, \n",
    "            node_to_airport_code_dict\n",
    "            )\n",
    "    elif isinstance(value, tuple):\n",
    "        return convert_tuple(\n",
    "            value, \n",
    "            node_to_airport_code_dict\n",
    "            )\n",
    "    elif isinstance(value, set):\n",
    "        return convert_set(\n",
    "            value, \n",
    "            node_to_airport_code_dict\n",
    "            )\n",
    "    elif isinstance(value, dict):\n",
    "        return convert_dict(\n",
    "            value, \n",
    "            node_to_airport_code_dict\n",
    "            )\n",
    "    else:\n",
    "        # If value doesn't match any known type, return it as is\n",
    "        return value"
   ]
  },
  {
   "cell_type": "markdown",
   "metadata": {},
   "source": [
    "### Function(s) To Modify Output Format"
   ]
  },
  {
   "cell_type": "markdown",
   "metadata": {},
   "source": [
    "#### Create Function to Return Statisics About Path Lengths (Dictionary Input)"
   ]
  },
  {
   "cell_type": "code",
   "execution_count": 20,
   "metadata": {},
   "outputs": [],
   "source": [
    "def retrieve_path_stats(\n",
    "    path_lengths\n",
    "    ):\n",
    "    \n",
    "    \"\"\"\n",
    "    Analyze the values in a dictionary of path lengths.\n",
    "\n",
    "    Parameters:\n",
    "        path_lengths (dict): A dictionary where keys are nodes and values are path lengths.\n",
    "\n",
    "    Returns:\n",
    "        dict: A dictionary with max, mean, and count of the path lengths.\n",
    "    \"\"\"\n",
    "    if not path_lengths:\n",
    "        return {\n",
    "            \"min\": None,\n",
    "            \"max\": None, \n",
    "            \"mean\": None, \n",
    "            \"count\": 0,\n",
    "            \"std Dev\": None,\n",
    "            \"harm_mean\": None,\n",
    "            \"geo_mean\": None,\n",
    "            \"quants\": None,\n",
    "            \"mode\": None\n",
    "        }\n",
    "\n",
    "    # Filter out non-numeric values from the list (e.g., lists, strings, etc.)\n",
    "    values = [v for v in path_lengths.values() if isinstance(v, (int, float))]\n",
    "\n",
    "    if not values: # Handle case where no valid numeric values exist\n",
    "        return {\n",
    "            \"min\": None,\n",
    "            \"max\": None, \n",
    "            \"mean\": None, \n",
    "            \"count\": 0,\n",
    "            \"std Dev\": None,\n",
    "            \"harmonic_mean\": None,\n",
    "            \"geometric_mean\": None,\n",
    "            \"quants\": None,\n",
    "            \"mode\": None\n",
    "        }\n",
    "\n",
    "    # Ensure all values are positive for geometric mean calculation\n",
    "    positive_values = [v for v in values if v > 0]\n",
    "\n",
    "    min_value = min(values)\n",
    "    max_value = max(values)\n",
    "    mean_value = statistics.mean(values)\n",
    "    count = len(values)\n",
    "    pop_st_dev = statistics.pstdev(values)  # This is the population standard deviation\n",
    "    harm_mean = statistics.harmonic_mean(values)\n",
    "\n",
    "    # Calculate the geometric mean if there are positive values\n",
    "    if positive_values:\n",
    "        geo_mean = statistics.geometric_mean(positive_values)\n",
    "    else:\n",
    "        geo_mean = None  # No valid positive values for geometric mean\n",
    "\n",
    "    quants = statistics.quantiles(values, n=5)\n",
    "\n",
    "    try:\n",
    "        modes = statistics.mode(values)\n",
    "    except statistics.StatisticsError:\n",
    "        modes = None  # In case there are no unique modes\n",
    "\n",
    "    return {\n",
    "        \"min\": min_value,\n",
    "        \"max\": max_value, \n",
    "        \"mean\": mean_value, \n",
    "        \"count\": count, \n",
    "        \"std Dev\": pop_st_dev,\n",
    "        \"harmonic_mean\": harm_mean,\n",
    "        \"geometric_mean\": geo_mean,\n",
    "        \"quants\": quants,\n",
    "        \"mode\": modes\n",
    "    }"
   ]
  },
  {
   "cell_type": "markdown",
   "metadata": {},
   "source": [
    "#### Function to Sort Dictionary in Order Based on Value & Return Top N Key/Value Pairs"
   ]
  },
  {
   "cell_type": "code",
   "execution_count": 21,
   "metadata": {},
   "outputs": [],
   "source": [
    "def get_top_n_from_sorted_dict(\n",
    "    input_dict, \n",
    "    n, \n",
    "    desc_order=True\n",
    "    ):\n",
    "    \"\"\"\n",
    "    Sort dictionary by its values in descending order & return top n key-value pairs.\n",
    "    \n",
    "    Args:\n",
    "        input_dict (dict): The dictionary to sort.\n",
    "        n (int): The number of top key-value pairs to return.\n",
    "        desc (bool): True for sorting in descending order. False for ascending order.\n",
    "        \n",
    "    Returns:\n",
    "        list: A list of tuples containing top n key-value pairs, sorted by value.\n",
    "    \"\"\"\n",
    "    \n",
    "    if not isinstance(input_dict, dict):\n",
    "        raise ValueError(\"Input must be a dictionary.\")\n",
    "    if not isinstance(n, int) or n <= 0:\n",
    "        raise ValueError(\"The number of top items (n) must be a positive integer.\")\n",
    "    if not isinstance(desc_order, bool) or n <= 0:\n",
    "        raise ValueError(\"desc_order blue be a boolean value.\")\n",
    "    \n",
    "    # Sort dictionary by values in descending order & extract top n items\n",
    "    sorted_items = sorted(\n",
    "        input_dict.items(), \n",
    "        key=lambda item: item[1], \n",
    "        reverse=desc_order\n",
    "        )\n",
    "    \n",
    "    return sorted_items[:n]"
   ]
  },
  {
   "cell_type": "markdown",
   "metadata": {},
   "source": [
    "### Other Utility Function(s)"
   ]
  },
  {
   "cell_type": "markdown",
   "metadata": {},
   "source": [
    "#### Convert 'flight_distance' Attribute Values From String to Integer Values"
   ]
  },
  {
   "cell_type": "code",
   "execution_count": 22,
   "metadata": {},
   "outputs": [],
   "source": [
    "# Convert 'flight_distance' attribute values from String to integer values\n",
    "for u, v, d in flightGraph.edges(data=True):\n",
    "    if 'flight_distance' in d:\n",
    "        try:\n",
    "            d['flight_distance'] = int(float(d['flight_distance']))  # Convert to float first, then integer\n",
    "        except ValueError:\n",
    "            print(f\"Invalid flight_distance on edge ({u}, {v}): {d['flight_distance']}\")\n",
    "            d['flight_distance'] = 0  # Default value for invalid data"
   ]
  },
  {
   "cell_type": "markdown",
   "metadata": {},
   "source": [
    "## Actual Analytics"
   ]
  },
  {
   "cell_type": "markdown",
   "metadata": {},
   "source": [
    "#### Variables That Are Used Through Shortest Path Analysis"
   ]
  },
  {
   "cell_type": "code",
   "execution_count": 23,
   "metadata": {},
   "outputs": [
    {
     "name": "stdout",
     "output_type": "stream",
     "text": [
      "source: 509\n",
      "target: 417\n",
      "source_airport_code: MKE\n",
      "target_airport_code: HLN\n"
     ]
    }
   ],
   "source": [
    "source = convert_attr_value_to_node_id(\n",
    "    flightGraph, \n",
    "    \"airport_code\", \n",
    "    \"MKE\"\n",
    "    )\n",
    "\n",
    "target = convert_attr_value_to_node_id(\n",
    "    flightGraph, \n",
    "    \"airport_code\", \n",
    "    \"HLN\"\n",
    "    )\n",
    "\n",
    "print(\"source:\", source)\n",
    "print(\"target:\", target)\n",
    "\n",
    "# Get airport_code values for source & target nodes using their id\n",
    "source_airport_code = id_to_airport_code_mapping_dict.get(source, source)\n",
    "target_airport_code = id_to_airport_code_mapping_dict.get(target, target)\n",
    "\n",
    "print(\"source_airport_code:\", source_airport_code)\n",
    "print(\"target_airport_code:\", target_airport_code)"
   ]
  },
  {
   "cell_type": "markdown",
   "metadata": {},
   "source": [
    "### Shortest Paths (Unweighted Using Dijkstra's Algorithm)"
   ]
  },
  {
   "cell_type": "code",
   "execution_count": 24,
   "metadata": {},
   "outputs": [
    {
     "name": "stderr",
     "output_type": "stream",
     "text": [
      "<class 'networkx.utils.decorators.argmap'> compilation 40:3: FutureWarning: \n",
      "\n",
      "single_target_shortest_path_length will return a dict instead of\n",
      "an iterator in version 3.5\n"
     ]
    }
   ],
   "source": [
    "method_used = 'dijkstra'\n",
    "\n",
    "mke_hln_has_path = nx.has_path(\n",
    "    flightGraph, \n",
    "    source, \n",
    "    target\n",
    "    )\n",
    "\n",
    "# Unweighted Dijkstra's Algorithms\n",
    "dijk_unw_shortest_paths = convert_list(\n",
    "    nx.shortest_path(\n",
    "        flightGraph, \n",
    "        source, \n",
    "        target, \n",
    "        weight=None, \n",
    "        method=method_used\n",
    "        ), \n",
    "    id_to_airport_code_mapping_dict\n",
    "    )\n",
    "\n",
    "dijk_unw_all_shortest_paths = convert_list(\n",
    "    [\n",
    "        p for p in nx.all_shortest_paths(\n",
    "            flightGraph, \n",
    "            source, \n",
    "            target, \n",
    "            weight=None, \n",
    "            method=method_used\n",
    "            )\n",
    "        ], \n",
    "    id_to_airport_code_mapping_dict\n",
    "    )\n",
    "\n",
    "dijk_unw_shortest_path_len = nx.shortest_path_length(\n",
    "    flightGraph, \n",
    "    source, \n",
    "    target, \n",
    "    weight=None, \n",
    "    method=method_used\n",
    "    )\n",
    "\n",
    "dijk_unw_single_source = nx.single_source_shortest_path(\n",
    "    flightGraph, \n",
    "    source, \n",
    "    cutoff=None\n",
    "    )\n",
    "\n",
    "dijk_unw_single_source = convert_output_keys_to_airport_codes(\n",
    "    convert_values(\n",
    "        dijk_unw_single_source, \n",
    "        id_to_airport_code_mapping_dict\n",
    "        ), \n",
    "    id_to_airport_code_mapping_dict\n",
    "    )\n",
    "\n",
    "dijk_unw_single_source = {\n",
    "    key: value for key, value in dijk_unw_single_source.items() \n",
    "        if key != source_airport_code\n",
    "    } # removes source airport_code from results\n",
    "\n",
    "\n",
    "dijk_unw_single_source_shortest_path_len = nx.single_source_shortest_path_length(\n",
    "    flightGraph, \n",
    "    source, \n",
    "    cutoff=None\n",
    "    )\n",
    "\n",
    "dijk_unw_single_source_shortest_path_len = convert_output_keys_to_airport_codes(\n",
    "    convert_values(\n",
    "        dijk_unw_single_source_shortest_path_len, \n",
    "        id_to_airport_code_mapping_dict\n",
    "        ), \n",
    "    id_to_airport_code_mapping_dict\n",
    "    )\n",
    "\n",
    "dijk_unw_single_source_shortest_path_len = {\n",
    "    key: value for key, value in dijk_unw_single_source_shortest_path_len.items() \n",
    "        if key != source_airport_code\n",
    "    } # removes source airport_code from results\n",
    "\n",
    "dijk_unw_single_target_shortest_paths = nx.single_target_shortest_path(\n",
    "    flightGraph, \n",
    "    target, \n",
    "    cutoff=None\n",
    "    )\n",
    "\n",
    "dijk_unw_single_target_shortest_paths = convert_output_keys_to_airport_codes(\n",
    "    convert_values(\n",
    "        dijk_unw_single_target_shortest_paths, \n",
    "        id_to_airport_code_mapping_dict\n",
    "        ), \n",
    "    id_to_airport_code_mapping_dict\n",
    "    )\n",
    "\n",
    "dijk_unw_single_target_shortest_paths = {\n",
    "    key: value for key, value in dijk_unw_single_target_shortest_paths.items() \n",
    "        if key != target_airport_code\n",
    "    } # removes target airport_code from results\n",
    "\n",
    "dijk_unw_single_target_shortest_paths_len = dict(\n",
    "    nx.single_target_shortest_path_length(\n",
    "        flightGraph, \n",
    "        target, \n",
    "        cutoff=None\n",
    "        )\n",
    "    )\n",
    "\n",
    "dijk_unw_single_target_shortest_paths_len = convert_output_keys_to_airport_codes(\n",
    "    convert_values(\n",
    "        dijk_unw_single_target_shortest_paths_len, \n",
    "        id_to_airport_code_mapping_dict\n",
    "        ), \n",
    "    id_to_airport_code_mapping_dict\n",
    "    )\n",
    "\n",
    "dijk_unw_single_target_shortest_paths_len = {\n",
    "    key: value for key, value in dijk_unw_single_target_shortest_paths_len.items() \n",
    "        if key != target_airport_code\n",
    "        } # removes the target airport_code from the results\n",
    "\n",
    "# Other conversions that are required for printing\n",
    "dijk_unw_single_source_shortest_path_len_rps = retrieve_path_stats(\n",
    "    dijk_unw_single_source_shortest_path_len\n",
    "    )\n",
    "\n",
    "dijk_unw_single_target_shortest_paths_len_rps = retrieve_path_stats(\n",
    "    dijk_unw_single_target_shortest_paths_len\n",
    "    )"
   ]
  },
  {
   "cell_type": "markdown",
   "metadata": {},
   "source": [
    "#### Print Results for Unweighted Dijkstra's Algorithm"
   ]
  },
  {
   "cell_type": "code",
   "execution_count": 25,
   "metadata": {},
   "outputs": [
    {
     "name": "stdout",
     "output_type": "stream",
     "text": [
      "The following functions for this block/cell of code use Dijkstra's Algorithm & are unweighted.\n",
      "\n",
      "There IS a path between MKE & HLN.\n",
      "It is 2 flights.\n",
      "These are the airports (in order) for that flight path: ['MKE', 'SLC', 'HLN'].\n",
      "There is/are 3 shortest paths, which are:\n",
      "[['MKE', 'MSP', 'HLN'], ['MKE', 'DEN', 'HLN'], ['MKE', 'SLC', 'HLN']].\n",
      "\n",
      "Here is some data about the shortest paths between MKE & other airports.\n",
      "There are paths from MKE to 349 other airports (not including itself).\n",
      "Here are the descriptive statistics for flights from MKE:\n",
      "{'min': 1, 'max': 4, 'mean': 1.9340974212034383, 'count': 349, 'std Dev': 0.4772300709850288, 'harmonic_mean': 1.7882152006831769, 'geometric_mean': 1.8673789437144497, 'quants': [2.0, 2.0, 2.0, 2.0], 'mode': 2}\n",
      "There is/are 349 shortest paths, which are:\n",
      "{'CVG': ['MKE', 'CVG'], 'ATL': ['MKE', 'ATL'], 'JFK': ['MKE', 'JFK'], 'MSP': ['MKE', 'MSP'], 'BOS': ['MKE', 'BOS'], 'DCA': ['MKE', 'DCA'], 'MCO': ['MKE', 'MCO'], 'TPA': ['MKE', 'TPA'], 'LGA': ['MKE', 'LGA'], 'DSM': ['MKE', 'DSM'], 'FLL': ['MKE', 'FLL'], 'LAS': ['MKE', 'LAS'], 'SFO': ['MKE', 'SFO'], 'SRQ': ['MKE', 'SRQ'], 'LAX': ['MKE', 'LAX'], 'RSW': ['MKE', 'RSW'], 'BWI': ['MKE', 'BWI'], 'SEA': ['MKE', 'SEA'], 'DEN': ['MKE', 'DEN'], 'PHX': ['MKE', 'PHX'], 'CAK': ['MKE', 'CAK'], 'MSY': ['MKE', 'MSY'], 'STL': ['MKE', 'STL'], 'DFW': ['MKE', 'DFW'], 'SAN': ['MKE', 'SAN'], 'BKG': ['MKE', 'BKG'], 'ORD': ['MKE', 'ORD'], 'MCI': ['MKE', 'MCI'], 'DAL': ['MKE', 'DAL'], 'CLE': ['MKE', 'CLE'], 'EWR': ['MKE', 'EWR'], 'IAH': ['MKE', 'IAH'], 'DTW': ['MKE', 'DTW'], 'MEM': ['MKE', 'MEM'], 'MSN': ['MKE', 'MSN'], 'BNA': ['MKE', 'BNA'], 'PIT': ['MKE', 'PIT'], 'OMA': ['MKE', 'OMA'], 'IND': ['MKE', 'IND'], 'CMH': ['MKE', 'CMH'], 'FNT': ['MKE', 'FNT'], 'GRR': ['MKE', 'GRR'], 'PHL': ['MKE', 'PHL'], 'ATW': ['MKE', 'ATW'], 'DAY': ['MKE', 'DAY'], 'GRB': ['MKE', 'GRB'], 'SLC': ['MKE', 'SLC'], 'CLT': ['MKE', 'CLT'], 'IAD': ['MKE', 'IAD'], 'MQT': ['MKE', 'MQT'], 'XNA': ['MKE', 'CVG', 'XNA'], 'MDT': ['MKE', 'CVG', 'MDT'], 'SDF': ['MKE', 'CVG', 'SDF'], 'RDU': ['MKE', 'CVG', 'RDU'], 'HTS': ['MKE', 'CVG', 'HTS'], 'GSO': ['MKE', 'CVG', 'GSO'], 'JAX': ['MKE', 'CVG', 'JAX'], 'RIC': ['MKE', 'CVG', 'RIC'], 'BDL': ['MKE', 'CVG', 'BDL'], 'LEX': ['MKE', 'CVG', 'LEX'], 'ORF': ['MKE', 'CVG', 'ORF'], 'ALB': ['MKE', 'CVG', 'ALB'], 'BHM': ['MKE', 'CVG', 'BHM'], 'CID': ['MKE', 'CVG', 'CID'], 'SAV': ['MKE', 'CVG', 'SAV'], 'FSD': ['MKE', 'CVG', 'FSD'], 'PBI': ['MKE', 'CVG', 'PBI'], 'HSV': ['MKE', 'CVG', 'HSV'], 'CHS': ['MKE', 'CVG', 'CHS'], 'PFN': ['MKE', 'CVG', 'PFN'], 'EVV': ['MKE', 'CVG', 'EVV'], 'FWA': ['MKE', 'CVG', 'FWA'], 'MYR': ['MKE', 'CVG', 'MYR'], 'JAN': ['MKE', 'CVG', 'JAN'], 'HVN': ['MKE', 'CVG', 'HVN'], 'SGF': ['MKE', 'CVG', 'SGF'], 'SWF': ['MKE', 'CVG', 'SWF'], 'ROC': ['MKE', 'CVG', 'ROC'], 'BGM': ['MKE', 'CVG', 'BGM'], 'CAE': ['MKE', 'CVG', 'CAE'], 'ISP': ['MKE', 'CVG', 'ISP'], 'MLI': ['MKE', 'CVG', 'MLI'], 'SBN': ['MKE', 'CVG', 'SBN'], 'BTV': ['MKE', 'CVG', 'BTV'], 'GSP': ['MKE', 'CVG', 'GSP'], 'ABE': ['MKE', 'CVG', 'ABE'], 'TYS': ['MKE', 'CVG', 'TYS'], 'TOL': ['MKE', 'CVG', 'TOL'], 'SHV': ['MKE', 'CVG', 'SHV'], 'AUS': ['MKE', 'CVG', 'AUS'], 'SAT': ['MKE', 'CVG', 'SAT'], 'HPN': ['MKE', 'CVG', 'HPN'], 'BGR': ['MKE', 'CVG', 'BGR'], 'MDW': ['MKE', 'CVG', 'MDW'], 'BIL': ['MKE', 'CVG', 'BIL'], 'COS': ['MKE', 'CVG', 'COS'], 'ROA': ['MKE', 'CVG', 'ROA'], 'HOU': ['MKE', 'CVG', 'HOU'], 'TLH': ['MKE', 'CVG', 'TLH'], 'ACY': ['MKE', 'CVG', 'ACY'], 'SYR': ['MKE', 'CVG', 'SYR'], 'BUF': ['MKE', 'CVG', 'BUF'], 'CHA': ['MKE', 'CVG', 'CHA'], 'ERI': ['MKE', 'CVG', 'ERI'], 'LIT': ['MKE', 'CVG', 'LIT'], 'CRW': ['MKE', 'CVG', 'CRW'], 'MHT': ['MKE', 'CVG', 'MHT'], 'AVL': ['MKE', 'CVG', 'AVL'], 'AVP': ['MKE', 'CVG', 'AVP'], 'LAN': ['MKE', 'CVG', 'LAN'], 'AZO': ['MKE', 'CVG', 'AZO'], 'DAB': ['MKE', 'CVG', 'DAB'], 'TRI': ['MKE', 'CVG', 'TRI'], 'CHO': ['MKE', 'CVG', 'CHO'], 'SCE': ['MKE', 'CVG', 'SCE'], 'MIA': ['MKE', 'CVG', 'MIA'], 'PVD': ['MKE', 'CVG', 'PVD'], 'MLB': ['MKE', 'CVG', 'MLB'], 'PWM': ['MKE', 'CVG', 'PWM'], 'VPS': ['MKE', 'CVG', 'VPS'], 'PDX': ['MKE', 'CVG', 'PDX'], 'TUS': ['MKE', 'CVG', 'TUS'], 'ABQ': ['MKE', 'CVG', 'ABQ'], 'SJU': ['MKE', 'CVG', 'SJU'], 'SNA': ['MKE', 'CVG', 'SNA'], 'ONT': ['MKE', 'CVG', 'ONT'], 'HNL': ['MKE', 'CVG', 'HNL'], 'SJC': ['MKE', 'CVG', 'SJC'], 'CMI': ['MKE', 'CVG', 'CMI'], 'TTN': ['MKE', 'CVG', 'TTN'], 'AGS': ['MKE', 'ATL', 'AGS'], 'DHN': ['MKE', 'ATL', 'DHN'], 'MOB': ['MKE', 'ATL', 'MOB'], 'PNS': ['MKE', 'ATL', 'PNS'], 'BMI': ['MKE', 'ATL', 'BMI'], 'PHF': ['MKE', 'ATL', 'PHF'], 'GPT': ['MKE', 'ATL', 'GPT'], 'UTM': ['MKE', 'ATL', 'UTM'], 'OAK': ['MKE', 'ATL', 'OAK'], 'STT': ['MKE', 'ATL', 'STT'], 'EYW': ['MKE', 'ATL', 'EYW'], 'ELP': ['MKE', 'ATL', 'ELP'], 'ILM': ['MKE', 'ATL', 'ILM'], 'FAY': ['MKE', 'ATL', 'FAY'], 'SMF': ['MKE', 'ATL', 'SMF'], 'ECP': ['MKE', 'ATL', 'ECP'], 'HDN': ['MKE', 'ATL', 'HDN'], 'EGE': ['MKE', 'ATL', 'EGE'], 'GNV': ['MKE', 'ATL', 'GNV'], 'BTR': ['MKE', 'ATL', 'BTR'], 'MTJ': ['MKE', 'ATL', 'MTJ'], 'ANC': ['MKE', 'ATL', 'ANC'], 'MGM': ['MKE', 'ATL', 'MGM'], 'MLU': ['MKE', 'ATL', 'MLU'], 'GUC': ['MKE', 'ATL', 'GUC'], 'JAC': ['MKE', 'ATL', 'JAC'], 'LFT': ['MKE', 'ATL', 'LFT'], 'BZN': ['MKE', 'ATL', 'BZN'], 'PSP': ['MKE', 'ATL', 'PSP'], 'STX': ['MKE', 'ATL', 'STX'], 'CSG': ['MKE', 'ATL', 'CSG'], 'RNO': ['MKE', 'ATL', 'RNO'], 'GRK': ['MKE', 'ATL', 'GRK'], 'GTR': ['MKE', 'ATL', 'GTR'], 'BQK': ['MKE', 'ATL', 'BQK'], 'EWN': ['MKE', 'ATL', 'EWN'], 'ABY': ['MKE', 'ATL', 'ABY'], 'VLD': ['MKE', 'ATL', 'VLD'], 'PIA': ['MKE', 'ATL', 'PIA'], 'OAJ': ['MKE', 'ATL', 'OAJ'], 'FSM': ['MKE', 'ATL', 'FSM'], 'AEX': ['MKE', 'ATL', 'AEX'], 'MEI': ['MKE', 'ATL', 'MEI'], 'COU': ['MKE', 'ATL', 'COU'], 'MFE': ['MKE', 'ATL', 'MFE'], 'LWB': ['MKE', 'ATL', 'LWB'], 'LNK': ['MKE', 'ATL', 'LNK'], 'LYH': ['MKE', 'ATL', 'LYH'], 'RST': ['MKE', 'ATL', 'RST'], 'FAR': ['MKE', 'ATL', 'FAR'], 'MCN': ['MKE', 'ATL', 'MCN'], 'CRP': ['MKE', 'ATL', 'CRP'], 'FLO': ['MKE', 'ATL', 'FLO'], 'ASE': ['MKE', 'ATL', 'ASE'], 'LGB': ['MKE', 'ATL', 'LGB'], 'ILG': ['MKE', 'ATL', 'ILG'], 'ACK': ['MKE', 'JFK', 'ACK'], 'BQN': ['MKE', 'JFK', 'BQN'], 'BUR': ['MKE', 'JFK', 'BUR'], 'PSE': ['MKE', 'JFK', 'PSE'], 'MVY': ['MKE', 'JFK', 'MVY'], 'ORH': ['MKE', 'JFK', 'ORH'], 'GEG': ['MKE', 'MSP', 'GEG'], 'TVC': ['MKE', 'MSP', 'TVC'], 'MSO': ['MKE', 'MSP', 'MSO'], 'BIS': ['MKE', 'MSP', 'BIS'], 'BOI': ['MKE', 'MSP', 'BOI'], 'HRL': ['MKE', 'MSP', 'HRL'], 'RAP': ['MKE', 'MSP', 'RAP'], 'DLH': ['MKE', 'MSP', 'DLH'], 'FAI': ['MKE', 'MSP', 'FAI'], 'FCA': ['MKE', 'MSP', 'FCA'], 'MOT': ['MKE', 'MSP', 'MOT'], 'GFK': ['MKE', 'MSP', 'GFK'], 'SUX': ['MKE', 'MSP', 'SUX'], 'PSC': ['MKE', 'MSP', 'PSC'], 'RHI': ['MKE', 'MSP', 'RHI'], 'ISN': ['MKE', 'MSP', 'ISN'], 'BJI': ['MKE', 'MSP', 'BJI'], 'BRD': ['MKE', 'MSP', 'BRD'], 'IMT': ['MKE', 'MSP', 'IMT'], 'LSE': ['MKE', 'MSP', 'LSE'], 'GTF': ['MKE', 'MSP', 'GTF'], 'HIB': ['MKE', 'MSP', 'HIB'], 'MBS': ['MKE', 'MSP', 'MBS'], 'INL': ['MKE', 'MSP', 'INL'], 'ABR': ['MKE', 'MSP', 'ABR'], 'DIK': ['MKE', 'MSP', 'DIK'], 'HLN': ['MKE', 'MSP', 'HLN'], 'APN': ['MKE', 'MSP', 'APN'], 'CWA': ['MKE', 'MSP', 'CWA'], 'ALO': ['MKE', 'MSP', 'ALO'], 'CMX': ['MKE', 'MSP', 'CMX'], 'IDA': ['MKE', 'MSP', 'IDA'], 'MIB': ['MKE', 'MSP', 'MIB'], 'LBE': ['MKE', 'MCO', 'LBE'], 'SHD': ['MKE', 'MCO', 'SHD'], 'PIE': ['MKE', 'LGA', 'PIE'], 'IAG': ['MKE', 'FLL', 'IAG'], 'PBG': ['MKE', 'FLL', 'PBG'], 'FAT': ['MKE', 'LAS', 'FAT'], 'SBA': ['MKE', 'LAS', 'SBA'], 'MAF': ['MKE', 'LAS', 'MAF'], 'LBB': ['MKE', 'LAS', 'LBB'], 'AMA': ['MKE', 'LAS', 'AMA'], 'BLI': ['MKE', 'LAS', 'BLI'], 'OGG': ['MKE', 'LAS', 'OGG'], 'MRY': ['MKE', 'SFO', 'MRY'], 'MFR': ['MKE', 'SFO', 'MFR'], 'SBP': ['MKE', 'SFO', 'SBP'], 'ACV': ['MKE', 'SFO', 'ACV'], 'EUG': ['MKE', 'SFO', 'EUG'], 'CIC': ['MKE', 'SFO', 'CIC'], 'RDD': ['MKE', 'SFO', 'RDD'], 'MOD': ['MKE', 'SFO', 'MOD'], 'RDM': ['MKE', 'SFO', 'RDM'], 'CEC': ['MKE', 'SFO', 'CEC'], 'BFL': ['MKE', 'SFO', 'BFL'], 'LMT': ['MKE', 'SFO', 'LMT'], 'OTH': ['MKE', 'SFO', 'OTH'], 'SMX': ['MKE', 'SFO', 'SMX'], 'SUN': ['MKE', 'SFO', 'SUN'], 'MMH': ['MKE', 'SFO', 'MMH'], 'KOA': ['MKE', 'SFO', 'KOA'], 'LIH': ['MKE', 'SFO', 'LIH'], 'ITO': ['MKE', 'SFO', 'ITO'], 'YUM': ['MKE', 'LAX', 'YUM'], 'CLD': ['MKE', 'LAX', 'CLD'], 'OXR': ['MKE', 'LAX', 'OXR'], 'SGU': ['MKE', 'LAX', 'SGU'], 'IYK': ['MKE', 'LAX', 'IYK'], 'IPL': ['MKE', 'LAX', 'IPL'], 'VIS': ['MKE', 'LAX', 'VIS'], 'SAF': ['MKE', 'LAX', 'SAF'], 'ROW': ['MKE', 'LAX', 'ROW'], 'JNU': ['MKE', 'SEA', 'JNU'], 'KTN': ['MKE', 'SEA', 'KTN'], 'SIT': ['MKE', 'SEA', 'SIT'], 'MWH': ['MKE', 'SEA', 'MWH'], 'COD': ['MKE', 'DEN', 'COD'], 'CPR': ['MKE', 'DEN', 'CPR'], 'GJT': ['MKE', 'DEN', 'GJT'], 'GCC': ['MKE', 'DEN', 'GCC'], 'DRO': ['MKE', 'DEN', 'DRO'], 'RKS': ['MKE', 'DEN', 'RKS'], 'JMS': ['MKE', 'DEN', 'JMS'], 'LAR': ['MKE', 'DEN', 'LAR'], 'PUB': ['MKE', 'DEN', 'PUB'], 'RFD': ['MKE', 'DEN', 'RFD'], 'AZA': ['MKE', 'DEN', 'AZA'], 'FLG': ['MKE', 'PHX', 'FLG'], 'TEX': ['MKE', 'PHX', 'TEX'], 'BRO': ['MKE', 'DFW', 'BRO'], 'BPT': ['MKE', 'DFW', 'BPT'], 'SJT': ['MKE', 'DFW', 'SJT'], 'LRD': ['MKE', 'DFW', 'LRD'], 'ACT': ['MKE', 'DFW', 'ACT'], 'GGG': ['MKE', 'DFW', 'GGG'], 'CLL': ['MKE', 'DFW', 'CLL'], 'TXK': ['MKE', 'DFW', 'TXK'], 'SPS': ['MKE', 'DFW', 'SPS'], 'SPI': ['MKE', 'DFW', 'SPI'], 'JLN': ['MKE', 'DFW', 'JLN'], 'TYR': ['MKE', 'DFW', 'TYR'], 'ILE': ['MKE', 'DFW', 'ILE'], 'LCH': ['MKE', 'DFW', 'LCH'], 'ABI': ['MKE', 'DFW', 'ABI'], 'GRI': ['MKE', 'DFW', 'GRI'], 'CYS': ['MKE', 'DFW', 'CYS'], 'ELM': ['MKE', 'ORD', 'ELM'], 'MKG': ['MKE', 'ORD', 'MKG'], 'PAH': ['MKE', 'ORD', 'PAH'], 'EAU': ['MKE', 'ORD', 'EAU'], 'STC': ['MKE', 'ORD', 'STC'], 'UST': ['MKE', 'ORD', 'UST'], 'DBQ': ['MKE', 'ORD', 'DBQ'], 'ART': ['MKE', 'ORD', 'ART'], 'EFD': ['MKE', 'IAH', 'EFD'], 'VCT': ['MKE', 'IAH', 'VCT'], 'HOB': ['MKE', 'IAH', 'HOB'], 'DRT': ['MKE', 'IAH', 'DRT'], 'CIU': ['MKE', 'DTW', 'CIU'], 'PLN': ['MKE', 'DTW', 'PLN'], 'ESC': ['MKE', 'DTW', 'ESC'], 'ITH': ['MKE', 'DTW', 'ITH'], 'TWF': ['MKE', 'SLC', 'TWF'], 'BTM': ['MKE', 'SLC', 'BTM'], 'EKO': ['MKE', 'SLC', 'EKO'], 'WYS': ['MKE', 'SLC', 'WYS'], 'LWS': ['MKE', 'SLC', 'LWS'], 'CDC': ['MKE', 'SLC', 'CDC'], 'PIH': ['MKE', 'SLC', 'PIH'], 'CNY': ['MKE', 'SLC', 'CNY'], 'VEL': ['MKE', 'SLC', 'VEL'], 'APF': ['MKE', 'CVG', 'MIA', 'APF'], 'MAZ': ['MKE', 'CVG', 'SJU', 'MAZ'], 'GUM': ['MKE', 'CVG', 'HNL', 'GUM'], 'PPG': ['MKE', 'CVG', 'HNL', 'PPG'], 'LNY': ['MKE', 'CVG', 'HNL', 'LNY'], 'OME': ['MKE', 'ATL', 'ANC', 'OME'], 'BET': ['MKE', 'ATL', 'ANC', 'BET'], 'OTZ': ['MKE', 'ATL', 'ANC', 'OTZ'], 'SCC': ['MKE', 'ATL', 'ANC', 'SCC'], 'CDV': ['MKE', 'ATL', 'ANC', 'CDV'], 'ADQ': ['MKE', 'ATL', 'ANC', 'ADQ'], 'AKN': ['MKE', 'ATL', 'ANC', 'AKN'], 'DUT': ['MKE', 'ATL', 'ANC', 'DUT'], 'DLG': ['MKE', 'ATL', 'ANC', 'DLG'], 'ANI': ['MKE', 'ATL', 'ANC', 'ANI'], 'ADK': ['MKE', 'ATL', 'ANC', 'ADK'], 'BRW': ['MKE', 'ATL', 'ANC', 'BRW'], 'PIB': ['MKE', 'ATL', 'MEI', 'PIB'], 'PSG': ['MKE', 'SEA', 'JNU', 'PSG'], 'YAK': ['MKE', 'SEA', 'JNU', 'YAK'], 'GST': ['MKE', 'SEA', 'JNU', 'GST'], 'WRG': ['MKE', 'SEA', 'KTN', 'WRG'], 'DVL': ['MKE', 'DEN', 'JMS', 'DVL'], 'MKK': ['MKE', 'CVG', 'HNL', 'LNY', 'MKK'], 'KSM': ['MKE', 'ATL', 'ANC', 'ANI', 'KSM']}.\n",
      "\n",
      "Here is some data about the shortest paths between other airports & HLN.\n",
      "There are paths from {'SLC': 1, 'FCA': 1, 'GTF': 1, 'MSP': 1, 'DEN': 1, 'BIL': 1, 'OMA': 2, 'STL': 2, 'SEA': 2, 'SBA': 2, 'PHX': 2, 'ABQ': 2, 'BWI': 2, 'BOI': 2, 'LAS': 2, 'LAX': 2, 'MCI': 2, 'HOU': 2, 'OAK': 2, 'PDX': 2, 'SMF': 2, 'RNO': 2, 'SAN': 2, 'GEG': 2, 'SNA': 2, 'MDW': 2, 'DAL': 2, 'IAH': 2, 'ATL': 2, 'ORD': 2, 'AUS': 2, 'ANC': 2, 'BZN': 2, 'BOS': 2, 'DFW': 2, 'LGB': 2, 'OGG': 2, 'JAC': 2, 'IND': 2, 'IDA': 2, 'HNL': 2, 'JFK': 2, 'EWR': 2, 'ONT': 2, 'MCO': 2, 'MSY': 2, 'BNA': 2, 'PSC': 2, 'PSP': 2, 'MSO': 2, 'PHL': 2, 'SAT': 2, 'SFO': 2, 'RDU': 2, 'TUS': 2, 'IAD': 2, 'TPA': 2, 'DCA': 2, 'SJC': 2, 'MEM': 2, 'FAT': 2, 'FLL': 2, 'DTW': 2, 'CVG': 2, 'COS': 2, 'CLT': 2, 'MIA': 2, 'RDM': 2, 'ACV': 2, 'ASE': 2, 'CPR': 2, 'CDC': 2, 'BTM': 2, 'BUR': 2, 'LWS': 2, 'MSN': 2, 'MFR': 2, 'HDN': 2, 'MTJ': 2, 'CNY': 2, 'MOT': 2, 'PIH': 2, 'RKS': 2, 'RAP': 2, 'SGU': 2, 'SUN': 2, 'VEL': 2, 'TWF': 2, 'WYS': 2, 'BIS': 2, 'GUC': 2, 'GJT': 2, 'GCC': 2, 'FAR': 2, 'EUG': 2, 'EKO': 2, 'ELP': 2, 'COD': 2, 'DSM': 2, 'MKE': 2, 'ATW': 2, 'JAX': 2, 'PIT': 2, 'GRB': 2, 'GRR': 2, 'CMH': 2, 'DAY': 2, 'XNA': 2, 'DLH': 2, 'PVD': 2, 'CLE': 2, 'BUF': 2, 'SDF': 2, 'BDL': 2, 'LGA': 2, 'ORF': 2, 'FSD': 2, 'SYR': 2, 'SJU': 2, 'ALB': 2, 'HRL': 2, 'RSW': 2, 'FAI': 2, 'GFK': 2, 'EGE': 2, 'BHM': 2, 'MLI': 2, 'RIC': 2, 'RST': 2, 'ROC': 2, 'TYS': 2, 'BJI': 2, 'APN': 2, 'CID': 2, 'ABR': 2, 'BRD': 2, 'LAN': 2, 'LSE': 2, 'LNK': 2, 'AZO': 2, 'IMT': 2, 'INL': 2, 'HIB': 2, 'PIA': 2, 'RHI': 2, 'MBS': 2, 'SBN': 2, 'TVC': 2, 'ISN': 2, 'BMI': 2, 'FWA': 2, 'DIK': 2, 'FNT': 2, 'LEX': 2, 'CWA': 2, 'SGF': 2, 'SUX': 2, 'ALO': 2, 'AVL': 2, 'MDT': 2, 'CMX': 2, 'GSO': 2, 'MHT': 2, 'MIB': 2, 'HPN': 2, 'TTN': 2, 'DRO': 2, 'CAK': 2, 'AMA': 2, 'LIT': 2, 'HSV': 2, 'LBB': 2, 'LFT': 2, 'SHV': 2, 'SAF': 2, 'BFL': 2, 'LAR': 2, 'JMS': 2, 'MRY': 2, 'MAF': 2, 'DVL': 2, 'PUB': 2, 'KOA': 2, 'LIH': 2, 'BLI': 2, 'BKG': 2, 'PHF': 2, 'AZA': 2, 'ILG': 2, 'PBI': 2, 'JAN': 3, 'SRQ': 3, 'JNU': 3, 'KTN': 3, 'SIT': 3, 'CHS': 3, 'MWH': 3, 'TEX': 3, 'YUM': 3, 'SBP': 3, 'FLG': 3, 'ROW': 3, 'BTV': 3, 'PWM': 3, 'ISP': 3, 'GSP': 3, 'ECP': 3, 'MYR': 3, 'ROA': 3, 'SWF': 3, 'PIE': 3, 'LBE': 3, 'CLD': 3, 'IYK': 3, 'OXR': 3, 'VIS': 3, 'SMX': 3, 'IPL': 3, 'ITO': 3, 'PNS': 3, 'CRP': 3, 'LMT': 3, 'OTH': 3, 'CEC': 3, 'MMH': 3, 'BTR': 3, 'BPT': 3, 'AGS': 3, 'CRW': 3, 'AEX': 3, 'BRO': 3, 'GRK': 3, 'LRD': 3, 'LCH': 3, 'EFD': 3, 'HOB': 3, 'MOB': 3, 'MFE': 3, 'MLU': 3, 'SJT': 3, 'TLH': 3, 'TXK': 3, 'VCT': 3, 'VPS': 3, 'SAV': 3, 'GPT': 3, 'CLL': 3, 'ILE': 3, 'CAE': 3, 'ABI': 3, 'ACY': 3, 'TYR': 3, 'DRT': 3, 'ACT': 3, 'ABE': 3, 'MLB': 3, 'TOL': 3, 'AVP': 3, 'EVV': 3, 'CHO': 3, 'MGM': 3, 'UTM': 3, 'TRI': 3, 'EYW': 3, 'PFN': 3, 'ILM': 3, 'GNV': 3, 'FAY': 3, 'CHA': 3, 'STT': 3, 'CSG': 3, 'DAB': 3, 'STX': 3, 'ABY': 3, 'HTS': 3, 'BQK': 3, 'LWB': 3, 'OAJ': 3, 'LYH': 3, 'MCN': 3, 'EWN': 3, 'SCE': 3, 'VLD': 3, 'MEI': 3, 'FSM': 3, 'DHN': 3, 'FLO': 3, 'GTR': 3, 'COU': 3, 'SPI': 3, 'ELM': 3, 'ERI': 3, 'MKG': 3, 'PAH': 3, 'STC': 3, 'EAU': 3, 'HVN': 3, 'CMI': 3, 'MQT': 3, 'ART': 3, 'ORH': 3, 'DBQ': 3, 'BET': 3, 'BRW': 3, 'ADK': 3, 'AKN': 3, 'ADQ': 3, 'OTZ': 3, 'OME': 3, 'KSM': 3, 'DUT': 3, 'DLG': 3, 'CDV': 3, 'SCC': 3, 'BGR': 3, 'ACK': 3, 'MVY': 3, 'JLN': 3, 'PIB': 3, 'SPS': 3, 'GGG': 3, 'GRI': 3, 'CYS': 3, 'MKK': 3, 'GUM': 3, 'PPG': 3, 'BQN': 3, 'HYA': 3, 'PSE': 3, 'BGM': 3, 'MOD': 3, 'RDD': 3, 'CIC': 3, 'IAG': 3, 'PBG': 3, 'ITH': 3, 'PLN': 3, 'CIU': 3, 'ESC': 3, 'APF': 3, 'MAZ': 3, 'UST': 3, 'PSG': 4, 'YAK': 4, 'GST': 4, 'WRG': 4, 'ANI': 4, 'LNY': 4, 'SPN': 4} other airports to HLN (not including itself).\n",
      "Here are the descriptive statistics for flights arriving at HLN:\n",
      "{'min': 1, 'max': 4, 'mean': 2.458452722063037, 'count': 349, 'std Dev': 0.5681306108909044, 'harmonic_mean': 2.3202216066481993, 'geometric_mean': 2.3910330929722945, 'quants': [2.0, 2.0, 3.0, 3.0], 'mode': 2}\n",
      "There is/are 349 shortest paths, which are:\n",
      "{'SLC': ['SLC', 'HLN'], 'FCA': ['FCA', 'HLN'], 'GTF': ['GTF', 'HLN'], 'MSP': ['MSP', 'HLN'], 'DEN': ['DEN', 'HLN'], 'BIL': ['BIL', 'HLN'], 'OMA': ['OMA', 'SLC', 'HLN'], 'STL': ['STL', 'SLC', 'HLN'], 'SEA': ['SEA', 'SLC', 'HLN'], 'SBA': ['SBA', 'SLC', 'HLN'], 'PHX': ['PHX', 'SLC', 'HLN'], 'ABQ': ['ABQ', 'SLC', 'HLN'], 'BWI': ['BWI', 'SLC', 'HLN'], 'BOI': ['BOI', 'SLC', 'HLN'], 'LAS': ['LAS', 'SLC', 'HLN'], 'LAX': ['LAX', 'SLC', 'HLN'], 'MCI': ['MCI', 'SLC', 'HLN'], 'HOU': ['HOU', 'SLC', 'HLN'], 'OAK': ['OAK', 'SLC', 'HLN'], 'PDX': ['PDX', 'SLC', 'HLN'], 'SMF': ['SMF', 'SLC', 'HLN'], 'RNO': ['RNO', 'SLC', 'HLN'], 'SAN': ['SAN', 'SLC', 'HLN'], 'GEG': ['GEG', 'SLC', 'HLN'], 'SNA': ['SNA', 'SLC', 'HLN'], 'MDW': ['MDW', 'SLC', 'HLN'], 'DAL': ['DAL', 'SLC', 'HLN'], 'IAH': ['IAH', 'SLC', 'HLN'], 'ATL': ['ATL', 'SLC', 'HLN'], 'ORD': ['ORD', 'SLC', 'HLN'], 'AUS': ['AUS', 'SLC', 'HLN'], 'ANC': ['ANC', 'SLC', 'HLN'], 'BZN': ['BZN', 'SLC', 'HLN'], 'BOS': ['BOS', 'SLC', 'HLN'], 'DFW': ['DFW', 'SLC', 'HLN'], 'LGB': ['LGB', 'SLC', 'HLN'], 'OGG': ['OGG', 'SLC', 'HLN'], 'JAC': ['JAC', 'SLC', 'HLN'], 'IND': ['IND', 'SLC', 'HLN'], 'IDA': ['IDA', 'SLC', 'HLN'], 'HNL': ['HNL', 'SLC', 'HLN'], 'JFK': ['JFK', 'SLC', 'HLN'], 'EWR': ['EWR', 'SLC', 'HLN'], 'ONT': ['ONT', 'SLC', 'HLN'], 'MCO': ['MCO', 'SLC', 'HLN'], 'MSY': ['MSY', 'SLC', 'HLN'], 'BNA': ['BNA', 'SLC', 'HLN'], 'PSC': ['PSC', 'SLC', 'HLN'], 'PSP': ['PSP', 'SLC', 'HLN'], 'MSO': ['MSO', 'SLC', 'HLN'], 'PHL': ['PHL', 'SLC', 'HLN'], 'SAT': ['SAT', 'SLC', 'HLN'], 'SFO': ['SFO', 'SLC', 'HLN'], 'RDU': ['RDU', 'SLC', 'HLN'], 'TUS': ['TUS', 'SLC', 'HLN'], 'IAD': ['IAD', 'SLC', 'HLN'], 'TPA': ['TPA', 'SLC', 'HLN'], 'DCA': ['DCA', 'SLC', 'HLN'], 'SJC': ['SJC', 'SLC', 'HLN'], 'MEM': ['MEM', 'SLC', 'HLN'], 'FAT': ['FAT', 'SLC', 'HLN'], 'FLL': ['FLL', 'SLC', 'HLN'], 'DTW': ['DTW', 'SLC', 'HLN'], 'CVG': ['CVG', 'SLC', 'HLN'], 'COS': ['COS', 'SLC', 'HLN'], 'CLT': ['CLT', 'SLC', 'HLN'], 'MIA': ['MIA', 'SLC', 'HLN'], 'RDM': ['RDM', 'SLC', 'HLN'], 'ACV': ['ACV', 'SLC', 'HLN'], 'ASE': ['ASE', 'SLC', 'HLN'], 'CPR': ['CPR', 'SLC', 'HLN'], 'CDC': ['CDC', 'SLC', 'HLN'], 'BTM': ['BTM', 'SLC', 'HLN'], 'BUR': ['BUR', 'SLC', 'HLN'], 'LWS': ['LWS', 'SLC', 'HLN'], 'MSN': ['MSN', 'SLC', 'HLN'], 'MFR': ['MFR', 'SLC', 'HLN'], 'HDN': ['HDN', 'SLC', 'HLN'], 'MTJ': ['MTJ', 'SLC', 'HLN'], 'CNY': ['CNY', 'SLC', 'HLN'], 'MOT': ['MOT', 'SLC', 'HLN'], 'PIH': ['PIH', 'SLC', 'HLN'], 'RKS': ['RKS', 'SLC', 'HLN'], 'RAP': ['RAP', 'SLC', 'HLN'], 'SGU': ['SGU', 'SLC', 'HLN'], 'SUN': ['SUN', 'SLC', 'HLN'], 'VEL': ['VEL', 'SLC', 'HLN'], 'TWF': ['TWF', 'SLC', 'HLN'], 'WYS': ['WYS', 'SLC', 'HLN'], 'BIS': ['BIS', 'SLC', 'HLN'], 'GUC': ['GUC', 'SLC', 'HLN'], 'GJT': ['GJT', 'SLC', 'HLN'], 'GCC': ['GCC', 'SLC', 'HLN'], 'FAR': ['FAR', 'SLC', 'HLN'], 'EUG': ['EUG', 'SLC', 'HLN'], 'EKO': ['EKO', 'SLC', 'HLN'], 'ELP': ['ELP', 'SLC', 'HLN'], 'COD': ['COD', 'SLC', 'HLN'], 'DSM': ['DSM', 'SLC', 'HLN'], 'MKE': ['MKE', 'SLC', 'HLN'], 'ATW': ['ATW', 'MSP', 'HLN'], 'JAX': ['JAX', 'MSP', 'HLN'], 'PIT': ['PIT', 'MSP', 'HLN'], 'GRB': ['GRB', 'MSP', 'HLN'], 'GRR': ['GRR', 'MSP', 'HLN'], 'CMH': ['CMH', 'MSP', 'HLN'], 'DAY': ['DAY', 'MSP', 'HLN'], 'XNA': ['XNA', 'MSP', 'HLN'], 'DLH': ['DLH', 'MSP', 'HLN'], 'PVD': ['PVD', 'MSP', 'HLN'], 'CLE': ['CLE', 'MSP', 'HLN'], 'BUF': ['BUF', 'MSP', 'HLN'], 'SDF': ['SDF', 'MSP', 'HLN'], 'BDL': ['BDL', 'MSP', 'HLN'], 'LGA': ['LGA', 'MSP', 'HLN'], 'ORF': ['ORF', 'MSP', 'HLN'], 'FSD': ['FSD', 'MSP', 'HLN'], 'SYR': ['SYR', 'MSP', 'HLN'], 'SJU': ['SJU', 'MSP', 'HLN'], 'ALB': ['ALB', 'MSP', 'HLN'], 'HRL': ['HRL', 'MSP', 'HLN'], 'RSW': ['RSW', 'MSP', 'HLN'], 'FAI': ['FAI', 'MSP', 'HLN'], 'GFK': ['GFK', 'MSP', 'HLN'], 'EGE': ['EGE', 'MSP', 'HLN'], 'BHM': ['BHM', 'MSP', 'HLN'], 'MLI': ['MLI', 'MSP', 'HLN'], 'RIC': ['RIC', 'MSP', 'HLN'], 'RST': ['RST', 'MSP', 'HLN'], 'ROC': ['ROC', 'MSP', 'HLN'], 'TYS': ['TYS', 'MSP', 'HLN'], 'BJI': ['BJI', 'MSP', 'HLN'], 'APN': ['APN', 'MSP', 'HLN'], 'CID': ['CID', 'MSP', 'HLN'], 'ABR': ['ABR', 'MSP', 'HLN'], 'BRD': ['BRD', 'MSP', 'HLN'], 'LAN': ['LAN', 'MSP', 'HLN'], 'LSE': ['LSE', 'MSP', 'HLN'], 'LNK': ['LNK', 'MSP', 'HLN'], 'AZO': ['AZO', 'MSP', 'HLN'], 'IMT': ['IMT', 'MSP', 'HLN'], 'INL': ['INL', 'MSP', 'HLN'], 'HIB': ['HIB', 'MSP', 'HLN'], 'PIA': ['PIA', 'MSP', 'HLN'], 'RHI': ['RHI', 'MSP', 'HLN'], 'MBS': ['MBS', 'MSP', 'HLN'], 'SBN': ['SBN', 'MSP', 'HLN'], 'TVC': ['TVC', 'MSP', 'HLN'], 'ISN': ['ISN', 'MSP', 'HLN'], 'BMI': ['BMI', 'MSP', 'HLN'], 'FWA': ['FWA', 'MSP', 'HLN'], 'DIK': ['DIK', 'MSP', 'HLN'], 'FNT': ['FNT', 'MSP', 'HLN'], 'LEX': ['LEX', 'MSP', 'HLN'], 'CWA': ['CWA', 'MSP', 'HLN'], 'SGF': ['SGF', 'MSP', 'HLN'], 'SUX': ['SUX', 'MSP', 'HLN'], 'ALO': ['ALO', 'MSP', 'HLN'], 'AVL': ['AVL', 'MSP', 'HLN'], 'MDT': ['MDT', 'MSP', 'HLN'], 'CMX': ['CMX', 'MSP', 'HLN'], 'GSO': ['GSO', 'MSP', 'HLN'], 'MHT': ['MHT', 'MSP', 'HLN'], 'MIB': ['MIB', 'MSP', 'HLN'], 'HPN': ['HPN', 'MSP', 'HLN'], 'TTN': ['TTN', 'MSP', 'HLN'], 'DRO': ['DRO', 'DEN', 'HLN'], 'CAK': ['CAK', 'DEN', 'HLN'], 'AMA': ['AMA', 'DEN', 'HLN'], 'LIT': ['LIT', 'DEN', 'HLN'], 'HSV': ['HSV', 'DEN', 'HLN'], 'LBB': ['LBB', 'DEN', 'HLN'], 'LFT': ['LFT', 'DEN', 'HLN'], 'SHV': ['SHV', 'DEN', 'HLN'], 'SAF': ['SAF', 'DEN', 'HLN'], 'BFL': ['BFL', 'DEN', 'HLN'], 'LAR': ['LAR', 'DEN', 'HLN'], 'JMS': ['JMS', 'DEN', 'HLN'], 'MRY': ['MRY', 'DEN', 'HLN'], 'MAF': ['MAF', 'DEN', 'HLN'], 'DVL': ['DVL', 'DEN', 'HLN'], 'PUB': ['PUB', 'DEN', 'HLN'], 'KOA': ['KOA', 'DEN', 'HLN'], 'LIH': ['LIH', 'DEN', 'HLN'], 'BLI': ['BLI', 'DEN', 'HLN'], 'BKG': ['BKG', 'DEN', 'HLN'], 'PHF': ['PHF', 'DEN', 'HLN'], 'AZA': ['AZA', 'DEN', 'HLN'], 'ILG': ['ILG', 'DEN', 'HLN'], 'PBI': ['PBI', 'DEN', 'HLN'], 'JAN': ['JAN', 'STL', 'SLC', 'HLN'], 'SRQ': ['SRQ', 'STL', 'SLC', 'HLN'], 'JNU': ['JNU', 'SEA', 'SLC', 'HLN'], 'KTN': ['KTN', 'SEA', 'SLC', 'HLN'], 'SIT': ['SIT', 'SEA', 'SLC', 'HLN'], 'CHS': ['CHS', 'SEA', 'SLC', 'HLN'], 'MWH': ['MWH', 'SEA', 'SLC', 'HLN'], 'TEX': ['TEX', 'PHX', 'SLC', 'HLN'], 'YUM': ['YUM', 'PHX', 'SLC', 'HLN'], 'SBP': ['SBP', 'PHX', 'SLC', 'HLN'], 'FLG': ['FLG', 'PHX', 'SLC', 'HLN'], 'ROW': ['ROW', 'PHX', 'SLC', 'HLN'], 'BTV': ['BTV', 'BWI', 'SLC', 'HLN'], 'PWM': ['PWM', 'BWI', 'SLC', 'HLN'], 'ISP': ['ISP', 'BWI', 'SLC', 'HLN'], 'GSP': ['GSP', 'BWI', 'SLC', 'HLN'], 'ECP': ['ECP', 'BWI', 'SLC', 'HLN'], 'MYR': ['MYR', 'BWI', 'SLC', 'HLN'], 'ROA': ['ROA', 'BWI', 'SLC', 'HLN'], 'SWF': ['SWF', 'BWI', 'SLC', 'HLN'], 'PIE': ['PIE', 'LAS', 'SLC', 'HLN'], 'LBE': ['LBE', 'LAS', 'SLC', 'HLN'], 'CLD': ['CLD', 'LAX', 'SLC', 'HLN'], 'IYK': ['IYK', 'LAX', 'SLC', 'HLN'], 'OXR': ['OXR', 'LAX', 'SLC', 'HLN'], 'VIS': ['VIS', 'LAX', 'SLC', 'HLN'], 'SMX': ['SMX', 'LAX', 'SLC', 'HLN'], 'IPL': ['IPL', 'LAX', 'SLC', 'HLN'], 'ITO': ['ITO', 'LAX', 'SLC', 'HLN'], 'PNS': ['PNS', 'HOU', 'SLC', 'HLN'], 'CRP': ['CRP', 'HOU', 'SLC', 'HLN'], 'LMT': ['LMT', 'PDX', 'SLC', 'HLN'], 'OTH': ['OTH', 'PDX', 'SLC', 'HLN'], 'CEC': ['CEC', 'SMF', 'SLC', 'HLN'], 'MMH': ['MMH', 'SAN', 'SLC', 'HLN'], 'BTR': ['BTR', 'IAH', 'SLC', 'HLN'], 'BPT': ['BPT', 'IAH', 'SLC', 'HLN'], 'AGS': ['AGS', 'IAH', 'SLC', 'HLN'], 'CRW': ['CRW', 'IAH', 'SLC', 'HLN'], 'AEX': ['AEX', 'IAH', 'SLC', 'HLN'], 'BRO': ['BRO', 'IAH', 'SLC', 'HLN'], 'GRK': ['GRK', 'IAH', 'SLC', 'HLN'], 'LRD': ['LRD', 'IAH', 'SLC', 'HLN'], 'LCH': ['LCH', 'IAH', 'SLC', 'HLN'], 'EFD': ['EFD', 'IAH', 'SLC', 'HLN'], 'HOB': ['HOB', 'IAH', 'SLC', 'HLN'], 'MOB': ['MOB', 'IAH', 'SLC', 'HLN'], 'MFE': ['MFE', 'IAH', 'SLC', 'HLN'], 'MLU': ['MLU', 'IAH', 'SLC', 'HLN'], 'SJT': ['SJT', 'IAH', 'SLC', 'HLN'], 'TLH': ['TLH', 'IAH', 'SLC', 'HLN'], 'TXK': ['TXK', 'IAH', 'SLC', 'HLN'], 'VCT': ['VCT', 'IAH', 'SLC', 'HLN'], 'VPS': ['VPS', 'IAH', 'SLC', 'HLN'], 'SAV': ['SAV', 'IAH', 'SLC', 'HLN'], 'GPT': ['GPT', 'IAH', 'SLC', 'HLN'], 'CLL': ['CLL', 'IAH', 'SLC', 'HLN'], 'ILE': ['ILE', 'IAH', 'SLC', 'HLN'], 'CAE': ['CAE', 'IAH', 'SLC', 'HLN'], 'ABI': ['ABI', 'IAH', 'SLC', 'HLN'], 'ACY': ['ACY', 'IAH', 'SLC', 'HLN'], 'TYR': ['TYR', 'IAH', 'SLC', 'HLN'], 'DRT': ['DRT', 'IAH', 'SLC', 'HLN'], 'ACT': ['ACT', 'IAH', 'SLC', 'HLN'], 'ABE': ['ABE', 'ATL', 'SLC', 'HLN'], 'MLB': ['MLB', 'ATL', 'SLC', 'HLN'], 'TOL': ['TOL', 'ATL', 'SLC', 'HLN'], 'AVP': ['AVP', 'ATL', 'SLC', 'HLN'], 'EVV': ['EVV', 'ATL', 'SLC', 'HLN'], 'CHO': ['CHO', 'ATL', 'SLC', 'HLN'], 'MGM': ['MGM', 'ATL', 'SLC', 'HLN'], 'UTM': ['UTM', 'ATL', 'SLC', 'HLN'], 'TRI': ['TRI', 'ATL', 'SLC', 'HLN'], 'EYW': ['EYW', 'ATL', 'SLC', 'HLN'], 'PFN': ['PFN', 'ATL', 'SLC', 'HLN'], 'ILM': ['ILM', 'ATL', 'SLC', 'HLN'], 'GNV': ['GNV', 'ATL', 'SLC', 'HLN'], 'FAY': ['FAY', 'ATL', 'SLC', 'HLN'], 'CHA': ['CHA', 'ATL', 'SLC', 'HLN'], 'STT': ['STT', 'ATL', 'SLC', 'HLN'], 'CSG': ['CSG', 'ATL', 'SLC', 'HLN'], 'DAB': ['DAB', 'ATL', 'SLC', 'HLN'], 'STX': ['STX', 'ATL', 'SLC', 'HLN'], 'ABY': ['ABY', 'ATL', 'SLC', 'HLN'], 'HTS': ['HTS', 'ATL', 'SLC', 'HLN'], 'BQK': ['BQK', 'ATL', 'SLC', 'HLN'], 'LWB': ['LWB', 'ATL', 'SLC', 'HLN'], 'OAJ': ['OAJ', 'ATL', 'SLC', 'HLN'], 'LYH': ['LYH', 'ATL', 'SLC', 'HLN'], 'MCN': ['MCN', 'ATL', 'SLC', 'HLN'], 'EWN': ['EWN', 'ATL', 'SLC', 'HLN'], 'SCE': ['SCE', 'ATL', 'SLC', 'HLN'], 'VLD': ['VLD', 'ATL', 'SLC', 'HLN'], 'MEI': ['MEI', 'ATL', 'SLC', 'HLN'], 'FSM': ['FSM', 'ATL', 'SLC', 'HLN'], 'DHN': ['DHN', 'ATL', 'SLC', 'HLN'], 'FLO': ['FLO', 'ATL', 'SLC', 'HLN'], 'GTR': ['GTR', 'ATL', 'SLC', 'HLN'], 'COU': ['COU', 'ATL', 'SLC', 'HLN'], 'SPI': ['SPI', 'ORD', 'SLC', 'HLN'], 'ELM': ['ELM', 'ORD', 'SLC', 'HLN'], 'ERI': ['ERI', 'ORD', 'SLC', 'HLN'], 'MKG': ['MKG', 'ORD', 'SLC', 'HLN'], 'PAH': ['PAH', 'ORD', 'SLC', 'HLN'], 'STC': ['STC', 'ORD', 'SLC', 'HLN'], 'EAU': ['EAU', 'ORD', 'SLC', 'HLN'], 'HVN': ['HVN', 'ORD', 'SLC', 'HLN'], 'CMI': ['CMI', 'ORD', 'SLC', 'HLN'], 'MQT': ['MQT', 'ORD', 'SLC', 'HLN'], 'ART': ['ART', 'ORD', 'SLC', 'HLN'], 'ORH': ['ORH', 'ORD', 'SLC', 'HLN'], 'DBQ': ['DBQ', 'ORD', 'SLC', 'HLN'], 'BET': ['BET', 'ANC', 'SLC', 'HLN'], 'BRW': ['BRW', 'ANC', 'SLC', 'HLN'], 'ADK': ['ADK', 'ANC', 'SLC', 'HLN'], 'AKN': ['AKN', 'ANC', 'SLC', 'HLN'], 'ADQ': ['ADQ', 'ANC', 'SLC', 'HLN'], 'OTZ': ['OTZ', 'ANC', 'SLC', 'HLN'], 'OME': ['OME', 'ANC', 'SLC', 'HLN'], 'KSM': ['KSM', 'ANC', 'SLC', 'HLN'], 'DUT': ['DUT', 'ANC', 'SLC', 'HLN'], 'DLG': ['DLG', 'ANC', 'SLC', 'HLN'], 'CDV': ['CDV', 'ANC', 'SLC', 'HLN'], 'SCC': ['SCC', 'ANC', 'SLC', 'HLN'], 'BGR': ['BGR', 'BOS', 'SLC', 'HLN'], 'ACK': ['ACK', 'BOS', 'SLC', 'HLN'], 'MVY': ['MVY', 'BOS', 'SLC', 'HLN'], 'JLN': ['JLN', 'DFW', 'SLC', 'HLN'], 'PIB': ['PIB', 'DFW', 'SLC', 'HLN'], 'SPS': ['SPS', 'DFW', 'SLC', 'HLN'], 'GGG': ['GGG', 'DFW', 'SLC', 'HLN'], 'GRI': ['GRI', 'DFW', 'SLC', 'HLN'], 'CYS': ['CYS', 'DFW', 'SLC', 'HLN'], 'MKK': ['MKK', 'OGG', 'SLC', 'HLN'], 'GUM': ['GUM', 'HNL', 'SLC', 'HLN'], 'PPG': ['PPG', 'HNL', 'SLC', 'HLN'], 'BQN': ['BQN', 'JFK', 'SLC', 'HLN'], 'HYA': ['HYA', 'JFK', 'SLC', 'HLN'], 'PSE': ['PSE', 'JFK', 'SLC', 'HLN'], 'BGM': ['BGM', 'PHL', 'SLC', 'HLN'], 'MOD': ['MOD', 'SFO', 'SLC', 'HLN'], 'RDD': ['RDD', 'SFO', 'SLC', 'HLN'], 'CIC': ['CIC', 'SFO', 'SLC', 'HLN'], 'IAG': ['IAG', 'FLL', 'SLC', 'HLN'], 'PBG': ['PBG', 'FLL', 'SLC', 'HLN'], 'ITH': ['ITH', 'DTW', 'SLC', 'HLN'], 'PLN': ['PLN', 'DTW', 'SLC', 'HLN'], 'CIU': ['CIU', 'DTW', 'SLC', 'HLN'], 'ESC': ['ESC', 'DTW', 'SLC', 'HLN'], 'APF': ['APF', 'MIA', 'SLC', 'HLN'], 'MAZ': ['MAZ', 'SJU', 'MSP', 'HLN'], 'UST': ['UST', 'TTN', 'MSP', 'HLN'], 'PSG': ['PSG', 'JNU', 'SEA', 'SLC', 'HLN'], 'YAK': ['YAK', 'JNU', 'SEA', 'SLC', 'HLN'], 'GST': ['GST', 'JNU', 'SEA', 'SLC', 'HLN'], 'WRG': ['WRG', 'KTN', 'SEA', 'SLC', 'HLN'], 'ANI': ['ANI', 'KSM', 'ANC', 'SLC', 'HLN'], 'LNY': ['LNY', 'MKK', 'OGG', 'SLC', 'HLN'], 'SPN': ['SPN', 'GUM', 'HNL', 'SLC', 'HLN']}.\n",
      "\n"
     ]
    }
   ],
   "source": [
    "# shortest paths for single source to single target\n",
    "print(\"The following functions for this block/cell of code use Dijkstra's Algorithm & are unweighted.\\n\")\n",
    "if not mke_hln_has_path:\n",
    "    print(f\"There is NOT a path between {source_airport_code} & {target_airport_code}.\")\n",
    "else:\n",
    "    print(f\"\"\"There IS a path between {source_airport_code} & {target_airport_code}.\n",
    "It is {dijk_unw_shortest_path_len} flights.\n",
    "These are the airports (in order) for that flight path: {dijk_unw_shortest_paths}.\n",
    "There is/are {len(dijk_unw_shortest_paths)} shortest paths, which are:\n",
    "{dijk_unw_all_shortest_paths}.\n",
    "\"\"\")\n",
    "\n",
    "# Output for single source shortest paths\n",
    "\n",
    "print(f\"\"\"Here is some data about the shortest paths between {source_airport_code} & other airports.\n",
    "There are paths from {source_airport_code} to {len(dijk_unw_single_source)} other airports (not including itself).\n",
    "Here are the descriptive statistics for flights from {source_airport_code}:\n",
    "{dijk_unw_single_source_shortest_path_len_rps}\n",
    "There is/are {len(dijk_unw_single_source)} shortest paths, which are:\n",
    "{dijk_unw_single_source}.\n",
    "\"\"\")\n",
    "\n",
    "# output for the single target shortest paths\n",
    "print(f\"\"\"Here is some data about the shortest paths between other airports & {target_airport_code}.\n",
    "There are paths from {dijk_unw_single_target_shortest_paths_len} other airports to {target_airport_code} (not including itself).\n",
    "Here are the descriptive statistics for flights arriving at {target_airport_code}:\n",
    "{dijk_unw_single_target_shortest_paths_len_rps}\n",
    "There is/are {len(dijk_unw_single_target_shortest_paths)} shortest paths, which are:\n",
    "{dijk_unw_single_target_shortest_paths}.\n",
    "\"\"\")"
   ]
  },
  {
   "cell_type": "markdown",
   "metadata": {},
   "source": [
    "### Shortest Paths (Unweighted Using Bellman-Ford's Algorithm)"
   ]
  },
  {
   "cell_type": "code",
   "execution_count": 26,
   "metadata": {},
   "outputs": [],
   "source": [
    "method_used = 'bellman-ford'\n",
    "\n",
    "bf_unw_shortest_paths = convert_list(\n",
    "    nx.shortest_path(\n",
    "        flightGraph, \n",
    "        source, \n",
    "        target, \n",
    "        weight=None,\n",
    "        method=method_used\n",
    "        ), \n",
    "    id_to_airport_code_mapping_dict\n",
    "    )\n",
    "\n",
    "bf_unw_all_shortest_paths = convert_list(\n",
    "    [\n",
    "        p for p in nx.all_shortest_paths(\n",
    "            flightGraph, \n",
    "            source, \n",
    "            target, \n",
    "            weight=None, \n",
    "            method=method_used\n",
    "            )\n",
    "        ], \n",
    "    id_to_airport_code_mapping_dict\n",
    "    )\n",
    "\n",
    "bf_unw_shortest_path_len = nx.shortest_path_length(\n",
    "    flightGraph, \n",
    "    source, \n",
    "    target, \n",
    "    weight=None, \n",
    "    method=method_used\n",
    "    )\n",
    "\n",
    "bf_unw_single_source = nx.single_source_shortest_path(\n",
    "    flightGraph, \n",
    "    source, \n",
    "    cutoff=None\n",
    "    )\n",
    "\n",
    "bf_unw_single_source = convert_output_keys_to_airport_codes(\n",
    "    convert_values(\n",
    "        bf_unw_single_source, \n",
    "        id_to_airport_code_mapping_dict\n",
    "        ), \n",
    "    id_to_airport_code_mapping_dict\n",
    "    )\n",
    "\n",
    "bf_unw_single_source = {\n",
    "    key: value for key, value in bf_unw_single_source.items() \n",
    "        if key != source_airport_code\n",
    "    } # removes source airport_code from results\n",
    "\n",
    "bf_unw_single_source_shortest_path_len = nx.single_source_shortest_path_length(\n",
    "    flightGraph, \n",
    "    source, \n",
    "    cutoff=None\n",
    "    )\n",
    "\n",
    "bf_unw_single_source_shortest_path_len = convert_output_keys_to_airport_codes(\n",
    "    convert_values(\n",
    "        bf_unw_single_source_shortest_path_len, \n",
    "        id_to_airport_code_mapping_dict\n",
    "        ), \n",
    "    id_to_airport_code_mapping_dict\n",
    "    )\n",
    "\n",
    "bf_unw_single_source_shortest_path_len = {\n",
    "    key: value for key, value in bf_unw_single_source_shortest_path_len.items() \n",
    "        if key != source_airport_code\n",
    "    } # removes source airport_code from results\n",
    "\n",
    "bf_unw_single_target_shortest_paths = nx.single_target_shortest_path(\n",
    "    flightGraph, \n",
    "    target, \n",
    "    cutoff=None\n",
    "    )\n",
    "\n",
    "bf_unw_single_target_shortest_paths = convert_output_keys_to_airport_codes(\n",
    "    convert_values(\n",
    "        bf_unw_single_target_shortest_paths, \n",
    "        id_to_airport_code_mapping_dict\n",
    "        ), \n",
    "    id_to_airport_code_mapping_dict\n",
    "    )\n",
    "\n",
    "bf_unw_single_target_shortest_paths = {\n",
    "    key: value for key, value in bf_unw_single_target_shortest_paths.items() \n",
    "        if key != target_airport_code\n",
    "    } # removes target airport_code from results\n",
    "\n",
    "bf_unw_single_target_shortest_paths_len = dict(\n",
    "    nx.single_target_shortest_path_length(\n",
    "        flightGraph, \n",
    "        target, \n",
    "        cutoff=None\n",
    "        )\n",
    "    )\n",
    "\n",
    "bf_unw_single_target_shortest_paths_len = convert_output_keys_to_airport_codes(\n",
    "    convert_values(\n",
    "        bf_unw_single_target_shortest_paths_len, \n",
    "        id_to_airport_code_mapping_dict\n",
    "        ), \n",
    "    id_to_airport_code_mapping_dict\n",
    "    )\n",
    "\n",
    "bf_unw_single_target_shortest_paths_len = {\n",
    "    key: value for key, value in bf_unw_single_target_shortest_paths_len.items() \n",
    "        if key != target_airport_code\n",
    "    } # removes target airport_code from results\n",
    "\n",
    "# Other conversions that are required for the printing\n",
    "bf_unw_single_source_shortest_path_len_rps = retrieve_path_stats(\n",
    "    bf_unw_single_source_shortest_path_len\n",
    "    )\n",
    "\n",
    "bf_unw_single_target_shortest_paths_len_rps = retrieve_path_stats(\n",
    "    bf_unw_single_target_shortest_paths_len\n",
    "    )"
   ]
  },
  {
   "cell_type": "code",
   "execution_count": 27,
   "metadata": {},
   "outputs": [
    {
     "name": "stdout",
     "output_type": "stream",
     "text": [
      "The following functions for this block/cell of code use Bellman-Ford's Algorithm & are unweighted.\n",
      "\n",
      "There IS a path between MKE & HLN.\n",
      "It is 2 flights.\n",
      "These are the airports (in order) for that flight path: ['MKE', 'SLC', 'HLN'].\n",
      "There is/are 3 shortest paths, which are: [['MKE', 'MSP', 'HLN'], ['MKE', 'DEN', 'HLN'], ['MKE', 'SLC', 'HLN']].\n",
      "\n",
      "Here is some data about the shortest paths between MKE & other airports.\n",
      "There are paths from MKE to 349 other airports (not including itself).\n",
      "Here are the descriptive statistics for flights from MKE:\n",
      "{'min': 1, 'max': 4, 'mean': 1.9340974212034383, 'count': 349, 'std Dev': 0.4772300709850288, 'harmonic_mean': 1.7882152006831769, 'geometric_mean': 1.8673789437144497, 'quants': [2.0, 2.0, 2.0, 2.0], 'mode': 2}\n",
      "There is/are 349 shortest paths, which are: {'CVG': ['MKE', 'CVG'], 'ATL': ['MKE', 'ATL'], 'JFK': ['MKE', 'JFK'], 'MSP': ['MKE', 'MSP'], 'BOS': ['MKE', 'BOS'], 'DCA': ['MKE', 'DCA'], 'MCO': ['MKE', 'MCO'], 'TPA': ['MKE', 'TPA'], 'LGA': ['MKE', 'LGA'], 'DSM': ['MKE', 'DSM'], 'FLL': ['MKE', 'FLL'], 'LAS': ['MKE', 'LAS'], 'SFO': ['MKE', 'SFO'], 'SRQ': ['MKE', 'SRQ'], 'LAX': ['MKE', 'LAX'], 'RSW': ['MKE', 'RSW'], 'BWI': ['MKE', 'BWI'], 'SEA': ['MKE', 'SEA'], 'DEN': ['MKE', 'DEN'], 'PHX': ['MKE', 'PHX'], 'CAK': ['MKE', 'CAK'], 'MSY': ['MKE', 'MSY'], 'STL': ['MKE', 'STL'], 'DFW': ['MKE', 'DFW'], 'SAN': ['MKE', 'SAN'], 'BKG': ['MKE', 'BKG'], 'ORD': ['MKE', 'ORD'], 'MCI': ['MKE', 'MCI'], 'DAL': ['MKE', 'DAL'], 'CLE': ['MKE', 'CLE'], 'EWR': ['MKE', 'EWR'], 'IAH': ['MKE', 'IAH'], 'DTW': ['MKE', 'DTW'], 'MEM': ['MKE', 'MEM'], 'MSN': ['MKE', 'MSN'], 'BNA': ['MKE', 'BNA'], 'PIT': ['MKE', 'PIT'], 'OMA': ['MKE', 'OMA'], 'IND': ['MKE', 'IND'], 'CMH': ['MKE', 'CMH'], 'FNT': ['MKE', 'FNT'], 'GRR': ['MKE', 'GRR'], 'PHL': ['MKE', 'PHL'], 'ATW': ['MKE', 'ATW'], 'DAY': ['MKE', 'DAY'], 'GRB': ['MKE', 'GRB'], 'SLC': ['MKE', 'SLC'], 'CLT': ['MKE', 'CLT'], 'IAD': ['MKE', 'IAD'], 'MQT': ['MKE', 'MQT'], 'XNA': ['MKE', 'CVG', 'XNA'], 'MDT': ['MKE', 'CVG', 'MDT'], 'SDF': ['MKE', 'CVG', 'SDF'], 'RDU': ['MKE', 'CVG', 'RDU'], 'HTS': ['MKE', 'CVG', 'HTS'], 'GSO': ['MKE', 'CVG', 'GSO'], 'JAX': ['MKE', 'CVG', 'JAX'], 'RIC': ['MKE', 'CVG', 'RIC'], 'BDL': ['MKE', 'CVG', 'BDL'], 'LEX': ['MKE', 'CVG', 'LEX'], 'ORF': ['MKE', 'CVG', 'ORF'], 'ALB': ['MKE', 'CVG', 'ALB'], 'BHM': ['MKE', 'CVG', 'BHM'], 'CID': ['MKE', 'CVG', 'CID'], 'SAV': ['MKE', 'CVG', 'SAV'], 'FSD': ['MKE', 'CVG', 'FSD'], 'PBI': ['MKE', 'CVG', 'PBI'], 'HSV': ['MKE', 'CVG', 'HSV'], 'CHS': ['MKE', 'CVG', 'CHS'], 'PFN': ['MKE', 'CVG', 'PFN'], 'EVV': ['MKE', 'CVG', 'EVV'], 'FWA': ['MKE', 'CVG', 'FWA'], 'MYR': ['MKE', 'CVG', 'MYR'], 'JAN': ['MKE', 'CVG', 'JAN'], 'HVN': ['MKE', 'CVG', 'HVN'], 'SGF': ['MKE', 'CVG', 'SGF'], 'SWF': ['MKE', 'CVG', 'SWF'], 'ROC': ['MKE', 'CVG', 'ROC'], 'BGM': ['MKE', 'CVG', 'BGM'], 'CAE': ['MKE', 'CVG', 'CAE'], 'ISP': ['MKE', 'CVG', 'ISP'], 'MLI': ['MKE', 'CVG', 'MLI'], 'SBN': ['MKE', 'CVG', 'SBN'], 'BTV': ['MKE', 'CVG', 'BTV'], 'GSP': ['MKE', 'CVG', 'GSP'], 'ABE': ['MKE', 'CVG', 'ABE'], 'TYS': ['MKE', 'CVG', 'TYS'], 'TOL': ['MKE', 'CVG', 'TOL'], 'SHV': ['MKE', 'CVG', 'SHV'], 'AUS': ['MKE', 'CVG', 'AUS'], 'SAT': ['MKE', 'CVG', 'SAT'], 'HPN': ['MKE', 'CVG', 'HPN'], 'BGR': ['MKE', 'CVG', 'BGR'], 'MDW': ['MKE', 'CVG', 'MDW'], 'BIL': ['MKE', 'CVG', 'BIL'], 'COS': ['MKE', 'CVG', 'COS'], 'ROA': ['MKE', 'CVG', 'ROA'], 'HOU': ['MKE', 'CVG', 'HOU'], 'TLH': ['MKE', 'CVG', 'TLH'], 'ACY': ['MKE', 'CVG', 'ACY'], 'SYR': ['MKE', 'CVG', 'SYR'], 'BUF': ['MKE', 'CVG', 'BUF'], 'CHA': ['MKE', 'CVG', 'CHA'], 'ERI': ['MKE', 'CVG', 'ERI'], 'LIT': ['MKE', 'CVG', 'LIT'], 'CRW': ['MKE', 'CVG', 'CRW'], 'MHT': ['MKE', 'CVG', 'MHT'], 'AVL': ['MKE', 'CVG', 'AVL'], 'AVP': ['MKE', 'CVG', 'AVP'], 'LAN': ['MKE', 'CVG', 'LAN'], 'AZO': ['MKE', 'CVG', 'AZO'], 'DAB': ['MKE', 'CVG', 'DAB'], 'TRI': ['MKE', 'CVG', 'TRI'], 'CHO': ['MKE', 'CVG', 'CHO'], 'SCE': ['MKE', 'CVG', 'SCE'], 'MIA': ['MKE', 'CVG', 'MIA'], 'PVD': ['MKE', 'CVG', 'PVD'], 'MLB': ['MKE', 'CVG', 'MLB'], 'PWM': ['MKE', 'CVG', 'PWM'], 'VPS': ['MKE', 'CVG', 'VPS'], 'PDX': ['MKE', 'CVG', 'PDX'], 'TUS': ['MKE', 'CVG', 'TUS'], 'ABQ': ['MKE', 'CVG', 'ABQ'], 'SJU': ['MKE', 'CVG', 'SJU'], 'SNA': ['MKE', 'CVG', 'SNA'], 'ONT': ['MKE', 'CVG', 'ONT'], 'HNL': ['MKE', 'CVG', 'HNL'], 'SJC': ['MKE', 'CVG', 'SJC'], 'CMI': ['MKE', 'CVG', 'CMI'], 'TTN': ['MKE', 'CVG', 'TTN'], 'AGS': ['MKE', 'ATL', 'AGS'], 'DHN': ['MKE', 'ATL', 'DHN'], 'MOB': ['MKE', 'ATL', 'MOB'], 'PNS': ['MKE', 'ATL', 'PNS'], 'BMI': ['MKE', 'ATL', 'BMI'], 'PHF': ['MKE', 'ATL', 'PHF'], 'GPT': ['MKE', 'ATL', 'GPT'], 'UTM': ['MKE', 'ATL', 'UTM'], 'OAK': ['MKE', 'ATL', 'OAK'], 'STT': ['MKE', 'ATL', 'STT'], 'EYW': ['MKE', 'ATL', 'EYW'], 'ELP': ['MKE', 'ATL', 'ELP'], 'ILM': ['MKE', 'ATL', 'ILM'], 'FAY': ['MKE', 'ATL', 'FAY'], 'SMF': ['MKE', 'ATL', 'SMF'], 'ECP': ['MKE', 'ATL', 'ECP'], 'HDN': ['MKE', 'ATL', 'HDN'], 'EGE': ['MKE', 'ATL', 'EGE'], 'GNV': ['MKE', 'ATL', 'GNV'], 'BTR': ['MKE', 'ATL', 'BTR'], 'MTJ': ['MKE', 'ATL', 'MTJ'], 'ANC': ['MKE', 'ATL', 'ANC'], 'MGM': ['MKE', 'ATL', 'MGM'], 'MLU': ['MKE', 'ATL', 'MLU'], 'GUC': ['MKE', 'ATL', 'GUC'], 'JAC': ['MKE', 'ATL', 'JAC'], 'LFT': ['MKE', 'ATL', 'LFT'], 'BZN': ['MKE', 'ATL', 'BZN'], 'PSP': ['MKE', 'ATL', 'PSP'], 'STX': ['MKE', 'ATL', 'STX'], 'CSG': ['MKE', 'ATL', 'CSG'], 'RNO': ['MKE', 'ATL', 'RNO'], 'GRK': ['MKE', 'ATL', 'GRK'], 'GTR': ['MKE', 'ATL', 'GTR'], 'BQK': ['MKE', 'ATL', 'BQK'], 'EWN': ['MKE', 'ATL', 'EWN'], 'ABY': ['MKE', 'ATL', 'ABY'], 'VLD': ['MKE', 'ATL', 'VLD'], 'PIA': ['MKE', 'ATL', 'PIA'], 'OAJ': ['MKE', 'ATL', 'OAJ'], 'FSM': ['MKE', 'ATL', 'FSM'], 'AEX': ['MKE', 'ATL', 'AEX'], 'MEI': ['MKE', 'ATL', 'MEI'], 'COU': ['MKE', 'ATL', 'COU'], 'MFE': ['MKE', 'ATL', 'MFE'], 'LWB': ['MKE', 'ATL', 'LWB'], 'LNK': ['MKE', 'ATL', 'LNK'], 'LYH': ['MKE', 'ATL', 'LYH'], 'RST': ['MKE', 'ATL', 'RST'], 'FAR': ['MKE', 'ATL', 'FAR'], 'MCN': ['MKE', 'ATL', 'MCN'], 'CRP': ['MKE', 'ATL', 'CRP'], 'FLO': ['MKE', 'ATL', 'FLO'], 'ASE': ['MKE', 'ATL', 'ASE'], 'LGB': ['MKE', 'ATL', 'LGB'], 'ILG': ['MKE', 'ATL', 'ILG'], 'ACK': ['MKE', 'JFK', 'ACK'], 'BQN': ['MKE', 'JFK', 'BQN'], 'BUR': ['MKE', 'JFK', 'BUR'], 'PSE': ['MKE', 'JFK', 'PSE'], 'MVY': ['MKE', 'JFK', 'MVY'], 'ORH': ['MKE', 'JFK', 'ORH'], 'GEG': ['MKE', 'MSP', 'GEG'], 'TVC': ['MKE', 'MSP', 'TVC'], 'MSO': ['MKE', 'MSP', 'MSO'], 'BIS': ['MKE', 'MSP', 'BIS'], 'BOI': ['MKE', 'MSP', 'BOI'], 'HRL': ['MKE', 'MSP', 'HRL'], 'RAP': ['MKE', 'MSP', 'RAP'], 'DLH': ['MKE', 'MSP', 'DLH'], 'FAI': ['MKE', 'MSP', 'FAI'], 'FCA': ['MKE', 'MSP', 'FCA'], 'MOT': ['MKE', 'MSP', 'MOT'], 'GFK': ['MKE', 'MSP', 'GFK'], 'SUX': ['MKE', 'MSP', 'SUX'], 'PSC': ['MKE', 'MSP', 'PSC'], 'RHI': ['MKE', 'MSP', 'RHI'], 'ISN': ['MKE', 'MSP', 'ISN'], 'BJI': ['MKE', 'MSP', 'BJI'], 'BRD': ['MKE', 'MSP', 'BRD'], 'IMT': ['MKE', 'MSP', 'IMT'], 'LSE': ['MKE', 'MSP', 'LSE'], 'GTF': ['MKE', 'MSP', 'GTF'], 'HIB': ['MKE', 'MSP', 'HIB'], 'MBS': ['MKE', 'MSP', 'MBS'], 'INL': ['MKE', 'MSP', 'INL'], 'ABR': ['MKE', 'MSP', 'ABR'], 'DIK': ['MKE', 'MSP', 'DIK'], 'HLN': ['MKE', 'MSP', 'HLN'], 'APN': ['MKE', 'MSP', 'APN'], 'CWA': ['MKE', 'MSP', 'CWA'], 'ALO': ['MKE', 'MSP', 'ALO'], 'CMX': ['MKE', 'MSP', 'CMX'], 'IDA': ['MKE', 'MSP', 'IDA'], 'MIB': ['MKE', 'MSP', 'MIB'], 'LBE': ['MKE', 'MCO', 'LBE'], 'SHD': ['MKE', 'MCO', 'SHD'], 'PIE': ['MKE', 'LGA', 'PIE'], 'IAG': ['MKE', 'FLL', 'IAG'], 'PBG': ['MKE', 'FLL', 'PBG'], 'FAT': ['MKE', 'LAS', 'FAT'], 'SBA': ['MKE', 'LAS', 'SBA'], 'MAF': ['MKE', 'LAS', 'MAF'], 'LBB': ['MKE', 'LAS', 'LBB'], 'AMA': ['MKE', 'LAS', 'AMA'], 'BLI': ['MKE', 'LAS', 'BLI'], 'OGG': ['MKE', 'LAS', 'OGG'], 'MRY': ['MKE', 'SFO', 'MRY'], 'MFR': ['MKE', 'SFO', 'MFR'], 'SBP': ['MKE', 'SFO', 'SBP'], 'ACV': ['MKE', 'SFO', 'ACV'], 'EUG': ['MKE', 'SFO', 'EUG'], 'CIC': ['MKE', 'SFO', 'CIC'], 'RDD': ['MKE', 'SFO', 'RDD'], 'MOD': ['MKE', 'SFO', 'MOD'], 'RDM': ['MKE', 'SFO', 'RDM'], 'CEC': ['MKE', 'SFO', 'CEC'], 'BFL': ['MKE', 'SFO', 'BFL'], 'LMT': ['MKE', 'SFO', 'LMT'], 'OTH': ['MKE', 'SFO', 'OTH'], 'SMX': ['MKE', 'SFO', 'SMX'], 'SUN': ['MKE', 'SFO', 'SUN'], 'MMH': ['MKE', 'SFO', 'MMH'], 'KOA': ['MKE', 'SFO', 'KOA'], 'LIH': ['MKE', 'SFO', 'LIH'], 'ITO': ['MKE', 'SFO', 'ITO'], 'YUM': ['MKE', 'LAX', 'YUM'], 'CLD': ['MKE', 'LAX', 'CLD'], 'OXR': ['MKE', 'LAX', 'OXR'], 'SGU': ['MKE', 'LAX', 'SGU'], 'IYK': ['MKE', 'LAX', 'IYK'], 'IPL': ['MKE', 'LAX', 'IPL'], 'VIS': ['MKE', 'LAX', 'VIS'], 'SAF': ['MKE', 'LAX', 'SAF'], 'ROW': ['MKE', 'LAX', 'ROW'], 'JNU': ['MKE', 'SEA', 'JNU'], 'KTN': ['MKE', 'SEA', 'KTN'], 'SIT': ['MKE', 'SEA', 'SIT'], 'MWH': ['MKE', 'SEA', 'MWH'], 'COD': ['MKE', 'DEN', 'COD'], 'CPR': ['MKE', 'DEN', 'CPR'], 'GJT': ['MKE', 'DEN', 'GJT'], 'GCC': ['MKE', 'DEN', 'GCC'], 'DRO': ['MKE', 'DEN', 'DRO'], 'RKS': ['MKE', 'DEN', 'RKS'], 'JMS': ['MKE', 'DEN', 'JMS'], 'LAR': ['MKE', 'DEN', 'LAR'], 'PUB': ['MKE', 'DEN', 'PUB'], 'RFD': ['MKE', 'DEN', 'RFD'], 'AZA': ['MKE', 'DEN', 'AZA'], 'FLG': ['MKE', 'PHX', 'FLG'], 'TEX': ['MKE', 'PHX', 'TEX'], 'BRO': ['MKE', 'DFW', 'BRO'], 'BPT': ['MKE', 'DFW', 'BPT'], 'SJT': ['MKE', 'DFW', 'SJT'], 'LRD': ['MKE', 'DFW', 'LRD'], 'ACT': ['MKE', 'DFW', 'ACT'], 'GGG': ['MKE', 'DFW', 'GGG'], 'CLL': ['MKE', 'DFW', 'CLL'], 'TXK': ['MKE', 'DFW', 'TXK'], 'SPS': ['MKE', 'DFW', 'SPS'], 'SPI': ['MKE', 'DFW', 'SPI'], 'JLN': ['MKE', 'DFW', 'JLN'], 'TYR': ['MKE', 'DFW', 'TYR'], 'ILE': ['MKE', 'DFW', 'ILE'], 'LCH': ['MKE', 'DFW', 'LCH'], 'ABI': ['MKE', 'DFW', 'ABI'], 'GRI': ['MKE', 'DFW', 'GRI'], 'CYS': ['MKE', 'DFW', 'CYS'], 'ELM': ['MKE', 'ORD', 'ELM'], 'MKG': ['MKE', 'ORD', 'MKG'], 'PAH': ['MKE', 'ORD', 'PAH'], 'EAU': ['MKE', 'ORD', 'EAU'], 'STC': ['MKE', 'ORD', 'STC'], 'UST': ['MKE', 'ORD', 'UST'], 'DBQ': ['MKE', 'ORD', 'DBQ'], 'ART': ['MKE', 'ORD', 'ART'], 'EFD': ['MKE', 'IAH', 'EFD'], 'VCT': ['MKE', 'IAH', 'VCT'], 'HOB': ['MKE', 'IAH', 'HOB'], 'DRT': ['MKE', 'IAH', 'DRT'], 'CIU': ['MKE', 'DTW', 'CIU'], 'PLN': ['MKE', 'DTW', 'PLN'], 'ESC': ['MKE', 'DTW', 'ESC'], 'ITH': ['MKE', 'DTW', 'ITH'], 'TWF': ['MKE', 'SLC', 'TWF'], 'BTM': ['MKE', 'SLC', 'BTM'], 'EKO': ['MKE', 'SLC', 'EKO'], 'WYS': ['MKE', 'SLC', 'WYS'], 'LWS': ['MKE', 'SLC', 'LWS'], 'CDC': ['MKE', 'SLC', 'CDC'], 'PIH': ['MKE', 'SLC', 'PIH'], 'CNY': ['MKE', 'SLC', 'CNY'], 'VEL': ['MKE', 'SLC', 'VEL'], 'APF': ['MKE', 'CVG', 'MIA', 'APF'], 'MAZ': ['MKE', 'CVG', 'SJU', 'MAZ'], 'GUM': ['MKE', 'CVG', 'HNL', 'GUM'], 'PPG': ['MKE', 'CVG', 'HNL', 'PPG'], 'LNY': ['MKE', 'CVG', 'HNL', 'LNY'], 'OME': ['MKE', 'ATL', 'ANC', 'OME'], 'BET': ['MKE', 'ATL', 'ANC', 'BET'], 'OTZ': ['MKE', 'ATL', 'ANC', 'OTZ'], 'SCC': ['MKE', 'ATL', 'ANC', 'SCC'], 'CDV': ['MKE', 'ATL', 'ANC', 'CDV'], 'ADQ': ['MKE', 'ATL', 'ANC', 'ADQ'], 'AKN': ['MKE', 'ATL', 'ANC', 'AKN'], 'DUT': ['MKE', 'ATL', 'ANC', 'DUT'], 'DLG': ['MKE', 'ATL', 'ANC', 'DLG'], 'ANI': ['MKE', 'ATL', 'ANC', 'ANI'], 'ADK': ['MKE', 'ATL', 'ANC', 'ADK'], 'BRW': ['MKE', 'ATL', 'ANC', 'BRW'], 'PIB': ['MKE', 'ATL', 'MEI', 'PIB'], 'PSG': ['MKE', 'SEA', 'JNU', 'PSG'], 'YAK': ['MKE', 'SEA', 'JNU', 'YAK'], 'GST': ['MKE', 'SEA', 'JNU', 'GST'], 'WRG': ['MKE', 'SEA', 'KTN', 'WRG'], 'DVL': ['MKE', 'DEN', 'JMS', 'DVL'], 'MKK': ['MKE', 'CVG', 'HNL', 'LNY', 'MKK'], 'KSM': ['MKE', 'ATL', 'ANC', 'ANI', 'KSM']}.\n",
      "\n",
      "Here is some data about the shortest paths between other airports & HLN.\n",
      "There are paths from {'SLC': 1, 'FCA': 1, 'GTF': 1, 'MSP': 1, 'DEN': 1, 'BIL': 1, 'OMA': 2, 'STL': 2, 'SEA': 2, 'SBA': 2, 'PHX': 2, 'ABQ': 2, 'BWI': 2, 'BOI': 2, 'LAS': 2, 'LAX': 2, 'MCI': 2, 'HOU': 2, 'OAK': 2, 'PDX': 2, 'SMF': 2, 'RNO': 2, 'SAN': 2, 'GEG': 2, 'SNA': 2, 'MDW': 2, 'DAL': 2, 'IAH': 2, 'ATL': 2, 'ORD': 2, 'AUS': 2, 'ANC': 2, 'BZN': 2, 'BOS': 2, 'DFW': 2, 'LGB': 2, 'OGG': 2, 'JAC': 2, 'IND': 2, 'IDA': 2, 'HNL': 2, 'JFK': 2, 'EWR': 2, 'ONT': 2, 'MCO': 2, 'MSY': 2, 'BNA': 2, 'PSC': 2, 'PSP': 2, 'MSO': 2, 'PHL': 2, 'SAT': 2, 'SFO': 2, 'RDU': 2, 'TUS': 2, 'IAD': 2, 'TPA': 2, 'DCA': 2, 'SJC': 2, 'MEM': 2, 'FAT': 2, 'FLL': 2, 'DTW': 2, 'CVG': 2, 'COS': 2, 'CLT': 2, 'MIA': 2, 'RDM': 2, 'ACV': 2, 'ASE': 2, 'CPR': 2, 'CDC': 2, 'BTM': 2, 'BUR': 2, 'LWS': 2, 'MSN': 2, 'MFR': 2, 'HDN': 2, 'MTJ': 2, 'CNY': 2, 'MOT': 2, 'PIH': 2, 'RKS': 2, 'RAP': 2, 'SGU': 2, 'SUN': 2, 'VEL': 2, 'TWF': 2, 'WYS': 2, 'BIS': 2, 'GUC': 2, 'GJT': 2, 'GCC': 2, 'FAR': 2, 'EUG': 2, 'EKO': 2, 'ELP': 2, 'COD': 2, 'DSM': 2, 'MKE': 2, 'ATW': 2, 'JAX': 2, 'PIT': 2, 'GRB': 2, 'GRR': 2, 'CMH': 2, 'DAY': 2, 'XNA': 2, 'DLH': 2, 'PVD': 2, 'CLE': 2, 'BUF': 2, 'SDF': 2, 'BDL': 2, 'LGA': 2, 'ORF': 2, 'FSD': 2, 'SYR': 2, 'SJU': 2, 'ALB': 2, 'HRL': 2, 'RSW': 2, 'FAI': 2, 'GFK': 2, 'EGE': 2, 'BHM': 2, 'MLI': 2, 'RIC': 2, 'RST': 2, 'ROC': 2, 'TYS': 2, 'BJI': 2, 'APN': 2, 'CID': 2, 'ABR': 2, 'BRD': 2, 'LAN': 2, 'LSE': 2, 'LNK': 2, 'AZO': 2, 'IMT': 2, 'INL': 2, 'HIB': 2, 'PIA': 2, 'RHI': 2, 'MBS': 2, 'SBN': 2, 'TVC': 2, 'ISN': 2, 'BMI': 2, 'FWA': 2, 'DIK': 2, 'FNT': 2, 'LEX': 2, 'CWA': 2, 'SGF': 2, 'SUX': 2, 'ALO': 2, 'AVL': 2, 'MDT': 2, 'CMX': 2, 'GSO': 2, 'MHT': 2, 'MIB': 2, 'HPN': 2, 'TTN': 2, 'DRO': 2, 'CAK': 2, 'AMA': 2, 'LIT': 2, 'HSV': 2, 'LBB': 2, 'LFT': 2, 'SHV': 2, 'SAF': 2, 'BFL': 2, 'LAR': 2, 'JMS': 2, 'MRY': 2, 'MAF': 2, 'DVL': 2, 'PUB': 2, 'KOA': 2, 'LIH': 2, 'BLI': 2, 'BKG': 2, 'PHF': 2, 'AZA': 2, 'ILG': 2, 'PBI': 2, 'JAN': 3, 'SRQ': 3, 'JNU': 3, 'KTN': 3, 'SIT': 3, 'CHS': 3, 'MWH': 3, 'TEX': 3, 'YUM': 3, 'SBP': 3, 'FLG': 3, 'ROW': 3, 'BTV': 3, 'PWM': 3, 'ISP': 3, 'GSP': 3, 'ECP': 3, 'MYR': 3, 'ROA': 3, 'SWF': 3, 'PIE': 3, 'LBE': 3, 'CLD': 3, 'IYK': 3, 'OXR': 3, 'VIS': 3, 'SMX': 3, 'IPL': 3, 'ITO': 3, 'PNS': 3, 'CRP': 3, 'LMT': 3, 'OTH': 3, 'CEC': 3, 'MMH': 3, 'BTR': 3, 'BPT': 3, 'AGS': 3, 'CRW': 3, 'AEX': 3, 'BRO': 3, 'GRK': 3, 'LRD': 3, 'LCH': 3, 'EFD': 3, 'HOB': 3, 'MOB': 3, 'MFE': 3, 'MLU': 3, 'SJT': 3, 'TLH': 3, 'TXK': 3, 'VCT': 3, 'VPS': 3, 'SAV': 3, 'GPT': 3, 'CLL': 3, 'ILE': 3, 'CAE': 3, 'ABI': 3, 'ACY': 3, 'TYR': 3, 'DRT': 3, 'ACT': 3, 'ABE': 3, 'MLB': 3, 'TOL': 3, 'AVP': 3, 'EVV': 3, 'CHO': 3, 'MGM': 3, 'UTM': 3, 'TRI': 3, 'EYW': 3, 'PFN': 3, 'ILM': 3, 'GNV': 3, 'FAY': 3, 'CHA': 3, 'STT': 3, 'CSG': 3, 'DAB': 3, 'STX': 3, 'ABY': 3, 'HTS': 3, 'BQK': 3, 'LWB': 3, 'OAJ': 3, 'LYH': 3, 'MCN': 3, 'EWN': 3, 'SCE': 3, 'VLD': 3, 'MEI': 3, 'FSM': 3, 'DHN': 3, 'FLO': 3, 'GTR': 3, 'COU': 3, 'SPI': 3, 'ELM': 3, 'ERI': 3, 'MKG': 3, 'PAH': 3, 'STC': 3, 'EAU': 3, 'HVN': 3, 'CMI': 3, 'MQT': 3, 'ART': 3, 'ORH': 3, 'DBQ': 3, 'BET': 3, 'BRW': 3, 'ADK': 3, 'AKN': 3, 'ADQ': 3, 'OTZ': 3, 'OME': 3, 'KSM': 3, 'DUT': 3, 'DLG': 3, 'CDV': 3, 'SCC': 3, 'BGR': 3, 'ACK': 3, 'MVY': 3, 'JLN': 3, 'PIB': 3, 'SPS': 3, 'GGG': 3, 'GRI': 3, 'CYS': 3, 'MKK': 3, 'GUM': 3, 'PPG': 3, 'BQN': 3, 'HYA': 3, 'PSE': 3, 'BGM': 3, 'MOD': 3, 'RDD': 3, 'CIC': 3, 'IAG': 3, 'PBG': 3, 'ITH': 3, 'PLN': 3, 'CIU': 3, 'ESC': 3, 'APF': 3, 'MAZ': 3, 'UST': 3, 'PSG': 4, 'YAK': 4, 'GST': 4, 'WRG': 4, 'ANI': 4, 'LNY': 4, 'SPN': 4} other airports to HLN (not including itself).\n",
      "Here are the descriptive statistics for flights arriving at HLN:\n",
      "{'min': 1, 'max': 4, 'mean': 2.458452722063037, 'count': 349, 'std Dev': 0.5681306108909044, 'harmonic_mean': 2.3202216066481993, 'geometric_mean': 2.3910330929722945, 'quants': [2.0, 2.0, 3.0, 3.0], 'mode': 2}\n",
      "There is/are 349 shortest paths, which are: {'SLC': ['SLC', 'HLN'], 'FCA': ['FCA', 'HLN'], 'GTF': ['GTF', 'HLN'], 'MSP': ['MSP', 'HLN'], 'DEN': ['DEN', 'HLN'], 'BIL': ['BIL', 'HLN'], 'OMA': ['OMA', 'SLC', 'HLN'], 'STL': ['STL', 'SLC', 'HLN'], 'SEA': ['SEA', 'SLC', 'HLN'], 'SBA': ['SBA', 'SLC', 'HLN'], 'PHX': ['PHX', 'SLC', 'HLN'], 'ABQ': ['ABQ', 'SLC', 'HLN'], 'BWI': ['BWI', 'SLC', 'HLN'], 'BOI': ['BOI', 'SLC', 'HLN'], 'LAS': ['LAS', 'SLC', 'HLN'], 'LAX': ['LAX', 'SLC', 'HLN'], 'MCI': ['MCI', 'SLC', 'HLN'], 'HOU': ['HOU', 'SLC', 'HLN'], 'OAK': ['OAK', 'SLC', 'HLN'], 'PDX': ['PDX', 'SLC', 'HLN'], 'SMF': ['SMF', 'SLC', 'HLN'], 'RNO': ['RNO', 'SLC', 'HLN'], 'SAN': ['SAN', 'SLC', 'HLN'], 'GEG': ['GEG', 'SLC', 'HLN'], 'SNA': ['SNA', 'SLC', 'HLN'], 'MDW': ['MDW', 'SLC', 'HLN'], 'DAL': ['DAL', 'SLC', 'HLN'], 'IAH': ['IAH', 'SLC', 'HLN'], 'ATL': ['ATL', 'SLC', 'HLN'], 'ORD': ['ORD', 'SLC', 'HLN'], 'AUS': ['AUS', 'SLC', 'HLN'], 'ANC': ['ANC', 'SLC', 'HLN'], 'BZN': ['BZN', 'SLC', 'HLN'], 'BOS': ['BOS', 'SLC', 'HLN'], 'DFW': ['DFW', 'SLC', 'HLN'], 'LGB': ['LGB', 'SLC', 'HLN'], 'OGG': ['OGG', 'SLC', 'HLN'], 'JAC': ['JAC', 'SLC', 'HLN'], 'IND': ['IND', 'SLC', 'HLN'], 'IDA': ['IDA', 'SLC', 'HLN'], 'HNL': ['HNL', 'SLC', 'HLN'], 'JFK': ['JFK', 'SLC', 'HLN'], 'EWR': ['EWR', 'SLC', 'HLN'], 'ONT': ['ONT', 'SLC', 'HLN'], 'MCO': ['MCO', 'SLC', 'HLN'], 'MSY': ['MSY', 'SLC', 'HLN'], 'BNA': ['BNA', 'SLC', 'HLN'], 'PSC': ['PSC', 'SLC', 'HLN'], 'PSP': ['PSP', 'SLC', 'HLN'], 'MSO': ['MSO', 'SLC', 'HLN'], 'PHL': ['PHL', 'SLC', 'HLN'], 'SAT': ['SAT', 'SLC', 'HLN'], 'SFO': ['SFO', 'SLC', 'HLN'], 'RDU': ['RDU', 'SLC', 'HLN'], 'TUS': ['TUS', 'SLC', 'HLN'], 'IAD': ['IAD', 'SLC', 'HLN'], 'TPA': ['TPA', 'SLC', 'HLN'], 'DCA': ['DCA', 'SLC', 'HLN'], 'SJC': ['SJC', 'SLC', 'HLN'], 'MEM': ['MEM', 'SLC', 'HLN'], 'FAT': ['FAT', 'SLC', 'HLN'], 'FLL': ['FLL', 'SLC', 'HLN'], 'DTW': ['DTW', 'SLC', 'HLN'], 'CVG': ['CVG', 'SLC', 'HLN'], 'COS': ['COS', 'SLC', 'HLN'], 'CLT': ['CLT', 'SLC', 'HLN'], 'MIA': ['MIA', 'SLC', 'HLN'], 'RDM': ['RDM', 'SLC', 'HLN'], 'ACV': ['ACV', 'SLC', 'HLN'], 'ASE': ['ASE', 'SLC', 'HLN'], 'CPR': ['CPR', 'SLC', 'HLN'], 'CDC': ['CDC', 'SLC', 'HLN'], 'BTM': ['BTM', 'SLC', 'HLN'], 'BUR': ['BUR', 'SLC', 'HLN'], 'LWS': ['LWS', 'SLC', 'HLN'], 'MSN': ['MSN', 'SLC', 'HLN'], 'MFR': ['MFR', 'SLC', 'HLN'], 'HDN': ['HDN', 'SLC', 'HLN'], 'MTJ': ['MTJ', 'SLC', 'HLN'], 'CNY': ['CNY', 'SLC', 'HLN'], 'MOT': ['MOT', 'SLC', 'HLN'], 'PIH': ['PIH', 'SLC', 'HLN'], 'RKS': ['RKS', 'SLC', 'HLN'], 'RAP': ['RAP', 'SLC', 'HLN'], 'SGU': ['SGU', 'SLC', 'HLN'], 'SUN': ['SUN', 'SLC', 'HLN'], 'VEL': ['VEL', 'SLC', 'HLN'], 'TWF': ['TWF', 'SLC', 'HLN'], 'WYS': ['WYS', 'SLC', 'HLN'], 'BIS': ['BIS', 'SLC', 'HLN'], 'GUC': ['GUC', 'SLC', 'HLN'], 'GJT': ['GJT', 'SLC', 'HLN'], 'GCC': ['GCC', 'SLC', 'HLN'], 'FAR': ['FAR', 'SLC', 'HLN'], 'EUG': ['EUG', 'SLC', 'HLN'], 'EKO': ['EKO', 'SLC', 'HLN'], 'ELP': ['ELP', 'SLC', 'HLN'], 'COD': ['COD', 'SLC', 'HLN'], 'DSM': ['DSM', 'SLC', 'HLN'], 'MKE': ['MKE', 'SLC', 'HLN'], 'ATW': ['ATW', 'MSP', 'HLN'], 'JAX': ['JAX', 'MSP', 'HLN'], 'PIT': ['PIT', 'MSP', 'HLN'], 'GRB': ['GRB', 'MSP', 'HLN'], 'GRR': ['GRR', 'MSP', 'HLN'], 'CMH': ['CMH', 'MSP', 'HLN'], 'DAY': ['DAY', 'MSP', 'HLN'], 'XNA': ['XNA', 'MSP', 'HLN'], 'DLH': ['DLH', 'MSP', 'HLN'], 'PVD': ['PVD', 'MSP', 'HLN'], 'CLE': ['CLE', 'MSP', 'HLN'], 'BUF': ['BUF', 'MSP', 'HLN'], 'SDF': ['SDF', 'MSP', 'HLN'], 'BDL': ['BDL', 'MSP', 'HLN'], 'LGA': ['LGA', 'MSP', 'HLN'], 'ORF': ['ORF', 'MSP', 'HLN'], 'FSD': ['FSD', 'MSP', 'HLN'], 'SYR': ['SYR', 'MSP', 'HLN'], 'SJU': ['SJU', 'MSP', 'HLN'], 'ALB': ['ALB', 'MSP', 'HLN'], 'HRL': ['HRL', 'MSP', 'HLN'], 'RSW': ['RSW', 'MSP', 'HLN'], 'FAI': ['FAI', 'MSP', 'HLN'], 'GFK': ['GFK', 'MSP', 'HLN'], 'EGE': ['EGE', 'MSP', 'HLN'], 'BHM': ['BHM', 'MSP', 'HLN'], 'MLI': ['MLI', 'MSP', 'HLN'], 'RIC': ['RIC', 'MSP', 'HLN'], 'RST': ['RST', 'MSP', 'HLN'], 'ROC': ['ROC', 'MSP', 'HLN'], 'TYS': ['TYS', 'MSP', 'HLN'], 'BJI': ['BJI', 'MSP', 'HLN'], 'APN': ['APN', 'MSP', 'HLN'], 'CID': ['CID', 'MSP', 'HLN'], 'ABR': ['ABR', 'MSP', 'HLN'], 'BRD': ['BRD', 'MSP', 'HLN'], 'LAN': ['LAN', 'MSP', 'HLN'], 'LSE': ['LSE', 'MSP', 'HLN'], 'LNK': ['LNK', 'MSP', 'HLN'], 'AZO': ['AZO', 'MSP', 'HLN'], 'IMT': ['IMT', 'MSP', 'HLN'], 'INL': ['INL', 'MSP', 'HLN'], 'HIB': ['HIB', 'MSP', 'HLN'], 'PIA': ['PIA', 'MSP', 'HLN'], 'RHI': ['RHI', 'MSP', 'HLN'], 'MBS': ['MBS', 'MSP', 'HLN'], 'SBN': ['SBN', 'MSP', 'HLN'], 'TVC': ['TVC', 'MSP', 'HLN'], 'ISN': ['ISN', 'MSP', 'HLN'], 'BMI': ['BMI', 'MSP', 'HLN'], 'FWA': ['FWA', 'MSP', 'HLN'], 'DIK': ['DIK', 'MSP', 'HLN'], 'FNT': ['FNT', 'MSP', 'HLN'], 'LEX': ['LEX', 'MSP', 'HLN'], 'CWA': ['CWA', 'MSP', 'HLN'], 'SGF': ['SGF', 'MSP', 'HLN'], 'SUX': ['SUX', 'MSP', 'HLN'], 'ALO': ['ALO', 'MSP', 'HLN'], 'AVL': ['AVL', 'MSP', 'HLN'], 'MDT': ['MDT', 'MSP', 'HLN'], 'CMX': ['CMX', 'MSP', 'HLN'], 'GSO': ['GSO', 'MSP', 'HLN'], 'MHT': ['MHT', 'MSP', 'HLN'], 'MIB': ['MIB', 'MSP', 'HLN'], 'HPN': ['HPN', 'MSP', 'HLN'], 'TTN': ['TTN', 'MSP', 'HLN'], 'DRO': ['DRO', 'DEN', 'HLN'], 'CAK': ['CAK', 'DEN', 'HLN'], 'AMA': ['AMA', 'DEN', 'HLN'], 'LIT': ['LIT', 'DEN', 'HLN'], 'HSV': ['HSV', 'DEN', 'HLN'], 'LBB': ['LBB', 'DEN', 'HLN'], 'LFT': ['LFT', 'DEN', 'HLN'], 'SHV': ['SHV', 'DEN', 'HLN'], 'SAF': ['SAF', 'DEN', 'HLN'], 'BFL': ['BFL', 'DEN', 'HLN'], 'LAR': ['LAR', 'DEN', 'HLN'], 'JMS': ['JMS', 'DEN', 'HLN'], 'MRY': ['MRY', 'DEN', 'HLN'], 'MAF': ['MAF', 'DEN', 'HLN'], 'DVL': ['DVL', 'DEN', 'HLN'], 'PUB': ['PUB', 'DEN', 'HLN'], 'KOA': ['KOA', 'DEN', 'HLN'], 'LIH': ['LIH', 'DEN', 'HLN'], 'BLI': ['BLI', 'DEN', 'HLN'], 'BKG': ['BKG', 'DEN', 'HLN'], 'PHF': ['PHF', 'DEN', 'HLN'], 'AZA': ['AZA', 'DEN', 'HLN'], 'ILG': ['ILG', 'DEN', 'HLN'], 'PBI': ['PBI', 'DEN', 'HLN'], 'JAN': ['JAN', 'STL', 'SLC', 'HLN'], 'SRQ': ['SRQ', 'STL', 'SLC', 'HLN'], 'JNU': ['JNU', 'SEA', 'SLC', 'HLN'], 'KTN': ['KTN', 'SEA', 'SLC', 'HLN'], 'SIT': ['SIT', 'SEA', 'SLC', 'HLN'], 'CHS': ['CHS', 'SEA', 'SLC', 'HLN'], 'MWH': ['MWH', 'SEA', 'SLC', 'HLN'], 'TEX': ['TEX', 'PHX', 'SLC', 'HLN'], 'YUM': ['YUM', 'PHX', 'SLC', 'HLN'], 'SBP': ['SBP', 'PHX', 'SLC', 'HLN'], 'FLG': ['FLG', 'PHX', 'SLC', 'HLN'], 'ROW': ['ROW', 'PHX', 'SLC', 'HLN'], 'BTV': ['BTV', 'BWI', 'SLC', 'HLN'], 'PWM': ['PWM', 'BWI', 'SLC', 'HLN'], 'ISP': ['ISP', 'BWI', 'SLC', 'HLN'], 'GSP': ['GSP', 'BWI', 'SLC', 'HLN'], 'ECP': ['ECP', 'BWI', 'SLC', 'HLN'], 'MYR': ['MYR', 'BWI', 'SLC', 'HLN'], 'ROA': ['ROA', 'BWI', 'SLC', 'HLN'], 'SWF': ['SWF', 'BWI', 'SLC', 'HLN'], 'PIE': ['PIE', 'LAS', 'SLC', 'HLN'], 'LBE': ['LBE', 'LAS', 'SLC', 'HLN'], 'CLD': ['CLD', 'LAX', 'SLC', 'HLN'], 'IYK': ['IYK', 'LAX', 'SLC', 'HLN'], 'OXR': ['OXR', 'LAX', 'SLC', 'HLN'], 'VIS': ['VIS', 'LAX', 'SLC', 'HLN'], 'SMX': ['SMX', 'LAX', 'SLC', 'HLN'], 'IPL': ['IPL', 'LAX', 'SLC', 'HLN'], 'ITO': ['ITO', 'LAX', 'SLC', 'HLN'], 'PNS': ['PNS', 'HOU', 'SLC', 'HLN'], 'CRP': ['CRP', 'HOU', 'SLC', 'HLN'], 'LMT': ['LMT', 'PDX', 'SLC', 'HLN'], 'OTH': ['OTH', 'PDX', 'SLC', 'HLN'], 'CEC': ['CEC', 'SMF', 'SLC', 'HLN'], 'MMH': ['MMH', 'SAN', 'SLC', 'HLN'], 'BTR': ['BTR', 'IAH', 'SLC', 'HLN'], 'BPT': ['BPT', 'IAH', 'SLC', 'HLN'], 'AGS': ['AGS', 'IAH', 'SLC', 'HLN'], 'CRW': ['CRW', 'IAH', 'SLC', 'HLN'], 'AEX': ['AEX', 'IAH', 'SLC', 'HLN'], 'BRO': ['BRO', 'IAH', 'SLC', 'HLN'], 'GRK': ['GRK', 'IAH', 'SLC', 'HLN'], 'LRD': ['LRD', 'IAH', 'SLC', 'HLN'], 'LCH': ['LCH', 'IAH', 'SLC', 'HLN'], 'EFD': ['EFD', 'IAH', 'SLC', 'HLN'], 'HOB': ['HOB', 'IAH', 'SLC', 'HLN'], 'MOB': ['MOB', 'IAH', 'SLC', 'HLN'], 'MFE': ['MFE', 'IAH', 'SLC', 'HLN'], 'MLU': ['MLU', 'IAH', 'SLC', 'HLN'], 'SJT': ['SJT', 'IAH', 'SLC', 'HLN'], 'TLH': ['TLH', 'IAH', 'SLC', 'HLN'], 'TXK': ['TXK', 'IAH', 'SLC', 'HLN'], 'VCT': ['VCT', 'IAH', 'SLC', 'HLN'], 'VPS': ['VPS', 'IAH', 'SLC', 'HLN'], 'SAV': ['SAV', 'IAH', 'SLC', 'HLN'], 'GPT': ['GPT', 'IAH', 'SLC', 'HLN'], 'CLL': ['CLL', 'IAH', 'SLC', 'HLN'], 'ILE': ['ILE', 'IAH', 'SLC', 'HLN'], 'CAE': ['CAE', 'IAH', 'SLC', 'HLN'], 'ABI': ['ABI', 'IAH', 'SLC', 'HLN'], 'ACY': ['ACY', 'IAH', 'SLC', 'HLN'], 'TYR': ['TYR', 'IAH', 'SLC', 'HLN'], 'DRT': ['DRT', 'IAH', 'SLC', 'HLN'], 'ACT': ['ACT', 'IAH', 'SLC', 'HLN'], 'ABE': ['ABE', 'ATL', 'SLC', 'HLN'], 'MLB': ['MLB', 'ATL', 'SLC', 'HLN'], 'TOL': ['TOL', 'ATL', 'SLC', 'HLN'], 'AVP': ['AVP', 'ATL', 'SLC', 'HLN'], 'EVV': ['EVV', 'ATL', 'SLC', 'HLN'], 'CHO': ['CHO', 'ATL', 'SLC', 'HLN'], 'MGM': ['MGM', 'ATL', 'SLC', 'HLN'], 'UTM': ['UTM', 'ATL', 'SLC', 'HLN'], 'TRI': ['TRI', 'ATL', 'SLC', 'HLN'], 'EYW': ['EYW', 'ATL', 'SLC', 'HLN'], 'PFN': ['PFN', 'ATL', 'SLC', 'HLN'], 'ILM': ['ILM', 'ATL', 'SLC', 'HLN'], 'GNV': ['GNV', 'ATL', 'SLC', 'HLN'], 'FAY': ['FAY', 'ATL', 'SLC', 'HLN'], 'CHA': ['CHA', 'ATL', 'SLC', 'HLN'], 'STT': ['STT', 'ATL', 'SLC', 'HLN'], 'CSG': ['CSG', 'ATL', 'SLC', 'HLN'], 'DAB': ['DAB', 'ATL', 'SLC', 'HLN'], 'STX': ['STX', 'ATL', 'SLC', 'HLN'], 'ABY': ['ABY', 'ATL', 'SLC', 'HLN'], 'HTS': ['HTS', 'ATL', 'SLC', 'HLN'], 'BQK': ['BQK', 'ATL', 'SLC', 'HLN'], 'LWB': ['LWB', 'ATL', 'SLC', 'HLN'], 'OAJ': ['OAJ', 'ATL', 'SLC', 'HLN'], 'LYH': ['LYH', 'ATL', 'SLC', 'HLN'], 'MCN': ['MCN', 'ATL', 'SLC', 'HLN'], 'EWN': ['EWN', 'ATL', 'SLC', 'HLN'], 'SCE': ['SCE', 'ATL', 'SLC', 'HLN'], 'VLD': ['VLD', 'ATL', 'SLC', 'HLN'], 'MEI': ['MEI', 'ATL', 'SLC', 'HLN'], 'FSM': ['FSM', 'ATL', 'SLC', 'HLN'], 'DHN': ['DHN', 'ATL', 'SLC', 'HLN'], 'FLO': ['FLO', 'ATL', 'SLC', 'HLN'], 'GTR': ['GTR', 'ATL', 'SLC', 'HLN'], 'COU': ['COU', 'ATL', 'SLC', 'HLN'], 'SPI': ['SPI', 'ORD', 'SLC', 'HLN'], 'ELM': ['ELM', 'ORD', 'SLC', 'HLN'], 'ERI': ['ERI', 'ORD', 'SLC', 'HLN'], 'MKG': ['MKG', 'ORD', 'SLC', 'HLN'], 'PAH': ['PAH', 'ORD', 'SLC', 'HLN'], 'STC': ['STC', 'ORD', 'SLC', 'HLN'], 'EAU': ['EAU', 'ORD', 'SLC', 'HLN'], 'HVN': ['HVN', 'ORD', 'SLC', 'HLN'], 'CMI': ['CMI', 'ORD', 'SLC', 'HLN'], 'MQT': ['MQT', 'ORD', 'SLC', 'HLN'], 'ART': ['ART', 'ORD', 'SLC', 'HLN'], 'ORH': ['ORH', 'ORD', 'SLC', 'HLN'], 'DBQ': ['DBQ', 'ORD', 'SLC', 'HLN'], 'BET': ['BET', 'ANC', 'SLC', 'HLN'], 'BRW': ['BRW', 'ANC', 'SLC', 'HLN'], 'ADK': ['ADK', 'ANC', 'SLC', 'HLN'], 'AKN': ['AKN', 'ANC', 'SLC', 'HLN'], 'ADQ': ['ADQ', 'ANC', 'SLC', 'HLN'], 'OTZ': ['OTZ', 'ANC', 'SLC', 'HLN'], 'OME': ['OME', 'ANC', 'SLC', 'HLN'], 'KSM': ['KSM', 'ANC', 'SLC', 'HLN'], 'DUT': ['DUT', 'ANC', 'SLC', 'HLN'], 'DLG': ['DLG', 'ANC', 'SLC', 'HLN'], 'CDV': ['CDV', 'ANC', 'SLC', 'HLN'], 'SCC': ['SCC', 'ANC', 'SLC', 'HLN'], 'BGR': ['BGR', 'BOS', 'SLC', 'HLN'], 'ACK': ['ACK', 'BOS', 'SLC', 'HLN'], 'MVY': ['MVY', 'BOS', 'SLC', 'HLN'], 'JLN': ['JLN', 'DFW', 'SLC', 'HLN'], 'PIB': ['PIB', 'DFW', 'SLC', 'HLN'], 'SPS': ['SPS', 'DFW', 'SLC', 'HLN'], 'GGG': ['GGG', 'DFW', 'SLC', 'HLN'], 'GRI': ['GRI', 'DFW', 'SLC', 'HLN'], 'CYS': ['CYS', 'DFW', 'SLC', 'HLN'], 'MKK': ['MKK', 'OGG', 'SLC', 'HLN'], 'GUM': ['GUM', 'HNL', 'SLC', 'HLN'], 'PPG': ['PPG', 'HNL', 'SLC', 'HLN'], 'BQN': ['BQN', 'JFK', 'SLC', 'HLN'], 'HYA': ['HYA', 'JFK', 'SLC', 'HLN'], 'PSE': ['PSE', 'JFK', 'SLC', 'HLN'], 'BGM': ['BGM', 'PHL', 'SLC', 'HLN'], 'MOD': ['MOD', 'SFO', 'SLC', 'HLN'], 'RDD': ['RDD', 'SFO', 'SLC', 'HLN'], 'CIC': ['CIC', 'SFO', 'SLC', 'HLN'], 'IAG': ['IAG', 'FLL', 'SLC', 'HLN'], 'PBG': ['PBG', 'FLL', 'SLC', 'HLN'], 'ITH': ['ITH', 'DTW', 'SLC', 'HLN'], 'PLN': ['PLN', 'DTW', 'SLC', 'HLN'], 'CIU': ['CIU', 'DTW', 'SLC', 'HLN'], 'ESC': ['ESC', 'DTW', 'SLC', 'HLN'], 'APF': ['APF', 'MIA', 'SLC', 'HLN'], 'MAZ': ['MAZ', 'SJU', 'MSP', 'HLN'], 'UST': ['UST', 'TTN', 'MSP', 'HLN'], 'PSG': ['PSG', 'JNU', 'SEA', 'SLC', 'HLN'], 'YAK': ['YAK', 'JNU', 'SEA', 'SLC', 'HLN'], 'GST': ['GST', 'JNU', 'SEA', 'SLC', 'HLN'], 'WRG': ['WRG', 'KTN', 'SEA', 'SLC', 'HLN'], 'ANI': ['ANI', 'KSM', 'ANC', 'SLC', 'HLN'], 'LNY': ['LNY', 'MKK', 'OGG', 'SLC', 'HLN'], 'SPN': ['SPN', 'GUM', 'HNL', 'SLC', 'HLN']}.\n",
      "\n"
     ]
    }
   ],
   "source": [
    "# shortest paths for single source to single target\n",
    "print(\"The following functions for this block/cell of code use Bellman-Ford's Algorithm & are unweighted.\\n\")\n",
    "if not mke_hln_has_path:\n",
    "    print(f\"There is NOT a path between {source_airport_code} & {target_airport_code}.\")\n",
    "else:\n",
    "    print(f\"\"\"There IS a path between {source_airport_code} & {target_airport_code}.\n",
    "It is {bf_unw_shortest_path_len} flights.\n",
    "These are the airports (in order) for that flight path: {bf_unw_shortest_paths}.\n",
    "There is/are {len(bf_unw_shortest_paths)} shortest paths, which are: {bf_unw_all_shortest_paths}.\n",
    "\"\"\")\n",
    "\n",
    "# output for the single source shortest paths\n",
    "print(f\"\"\"Here is some data about the shortest paths between {source_airport_code} & other airports.\n",
    "There are paths from {source_airport_code} to {len(bf_unw_single_source)} other airports (not including itself).\n",
    "Here are the descriptive statistics for flights from {source_airport_code}:\n",
    "{bf_unw_single_source_shortest_path_len_rps}\n",
    "There is/are {len(bf_unw_single_source)} shortest paths, which are: {bf_unw_single_source}.\n",
    "\"\"\")\n",
    "\n",
    "# output for the single target shortest paths\n",
    "print(f\"\"\"Here is some data about the shortest paths between other airports & {target_airport_code}.\n",
    "There are paths from {bf_unw_single_target_shortest_paths_len} other airports to {target_airport_code} (not including itself).\n",
    "Here are the descriptive statistics for flights arriving at {target_airport_code}:\n",
    "{bf_unw_single_target_shortest_paths_len_rps}\n",
    "There is/are {len(bf_unw_single_target_shortest_paths)} shortest paths, which are: {bf_unw_single_target_shortest_paths}.\n",
    "\"\"\")"
   ]
  },
  {
   "cell_type": "markdown",
   "metadata": {},
   "source": [
    "#### Shortest Paths (flight_distance Weighted Using Dijkstra's Algorithm)"
   ]
  },
  {
   "cell_type": "code",
   "execution_count": 28,
   "metadata": {},
   "outputs": [
    {
     "name": "stdout",
     "output_type": "stream",
     "text": [
      "- The following functions for this block/cell of code use Dijkstra's Algorithm & are weighted using the flight_distance attribute.\n",
      "- The shortest (weighted using the flight_distance attribute) path from MKE to HLN is 2 flights \n",
      "    and the flight path (including the origin and destination airports) is: ['MKE', 'MSP', 'HLN']. \n",
      "- The flight distance of the shortest path is 1210 miles.\n",
      "- There is/are only 1 shortest flight patterns/paths between MKE & HLN.\n",
      "\n"
     ]
    }
   ],
   "source": [
    "weighted_field = \"flight_distance\"\n",
    "method_used = 'dijkstra'\n",
    "\n",
    "### Dijkstra weighted algorithms\n",
    "dijk_w_shortest_paths = convert_list(\n",
    "    nx.shortest_path(\n",
    "        flightGraph, \n",
    "        source, \n",
    "        target, \n",
    "        weight=weighted_field, \n",
    "        method=method_used\n",
    "        ), \n",
    "    id_to_airport_code_mapping_dict\n",
    "    )\n",
    "\n",
    "dijk_w_all_shortest_paths = convert_list(\n",
    "    [\n",
    "        p for p in nx.all_shortest_paths(\n",
    "            flightGraph, \n",
    "            source, \n",
    "            target, \n",
    "            weight=weighted_field, \n",
    "            method=method_used\n",
    "            )\n",
    "        ], \n",
    "    id_to_airport_code_mapping_dict\n",
    "    )\n",
    "\n",
    "dijk_w_shortest_path_len = nx.shortest_path_length(\n",
    "    flightGraph, \n",
    "    source, \n",
    "    target, \n",
    "    weight=weighted_field, \n",
    "    method=method_used\n",
    "    )\n",
    "\n",
    "# Print Results\n",
    "# shortest paths for single source to single target\n",
    "print(f\"\"\"- The following functions for this block/cell of code use Dijkstra's Algorithm & are weighted using the {weighted_field} attribute.\n",
    "- The shortest (weighted using the flight_distance attribute) path from {source_airport_code} to {target_airport_code} is {len(dijk_w_shortest_paths) - 1} flights \n",
    "    and the flight path (including the origin and destination airports) is: {dijk_w_shortest_paths}. \n",
    "- The flight distance of the shortest path is {dijk_w_shortest_path_len} miles.\n",
    "- There is/are only {len(dijk_w_all_shortest_paths)} shortest flight patterns/paths between {source_airport_code} & {target_airport_code}.\n",
    "\"\"\")"
   ]
  },
  {
   "cell_type": "markdown",
   "metadata": {},
   "source": [
    "#### Shortest Paths (flight_distance Weighted Using Bellman-Ford's Algorithm)"
   ]
  },
  {
   "cell_type": "code",
   "execution_count": 29,
   "metadata": {},
   "outputs": [
    {
     "name": "stdout",
     "output_type": "stream",
     "text": [
      "- The following functions for this block/cell of code use Bellman-Ford's Algorithm & are weighted using the flight_distance attribute.\n",
      "- The shortest (weighted using the flight_distance attribute) path from MKE to HLN is 2 \n",
      "    flights and the flight path (including the origin and destination airports) is: ['MKE', 'MSP', 'HLN']. \n",
      "- The flight distance of the shortest path is 1210 miles.\n",
      "- There is/are only 1 shortest flight patterns/paths between MKE & HLN.\n",
      "\n"
     ]
    }
   ],
   "source": [
    "weighted_field = \"flight_distance\"\n",
    "method_used = 'bellman-ford'\n",
    "\n",
    "### Bellman Ford weighted algorithms\n",
    "bf_w_shortest_paths = convert_list(\n",
    "    nx.shortest_path(\n",
    "        flightGraph, \n",
    "        source, \n",
    "        target, \n",
    "        weight=weighted_field, \n",
    "        method=method_used\n",
    "        ), \n",
    "    id_to_airport_code_mapping_dict\n",
    "    )\n",
    "\n",
    "bf_w_all_shortest_paths = convert_list(\n",
    "    [\n",
    "        p for p in nx.all_shortest_paths(\n",
    "            flightGraph, \n",
    "            source, \n",
    "            target, \n",
    "            weight=weighted_field, \n",
    "            method=method_used\n",
    "            )\n",
    "        ], \n",
    "    id_to_airport_code_mapping_dict\n",
    "    )\n",
    "\n",
    "bf_w_shortest_path_len = nx.shortest_path_length(\n",
    "    flightGraph, \n",
    "    source, \n",
    "    target, \n",
    "    weight=weighted_field, \n",
    "    method=method_used\n",
    "    )\n",
    "\n",
    "# Print Results\n",
    "# shortest paths for single source to single target\n",
    "print(f\"\"\"- The following functions for this block/cell of code use Bellman-Ford's Algorithm & are weighted using the {weighted_field} attribute.\n",
    "- The shortest (weighted using the flight_distance attribute) path from {source_airport_code} to {target_airport_code} is {len(bf_w_shortest_paths) - 1} \n",
    "    flights and the flight path (including the origin and destination airports) is: {bf_w_shortest_paths}. \n",
    "- The flight distance of the shortest path is {bf_w_shortest_path_len} miles.\n",
    "- There is/are only {len(bf_w_all_shortest_paths)} shortest flight patterns/paths between {source_airport_code} & {target_airport_code}.\n",
    "\"\"\")"
   ]
  },
  {
   "cell_type": "markdown",
   "metadata": {},
   "source": [
    "#### s_metric\n",
    "- s_metric"
   ]
  },
  {
   "cell_type": "code",
   "execution_count": 30,
   "metadata": {},
   "outputs": [
    {
     "name": "stdout",
     "output_type": "stream",
     "text": [
      "The S Metric valuefor this graph is 1324914433835075.0\n"
     ]
    }
   ],
   "source": [
    "s_metric = nx.s_metric(flightGraph)\n",
    "\n",
    "print(f\"The S Metric valuefor this graph is {s_metric}\")"
   ]
  },
  {
   "cell_type": "markdown",
   "metadata": {},
   "source": [
    "#### Structural Holes\n",
    "- constraint\n",
    "- effective_size\n",
    "- local_constraint"
   ]
  },
  {
   "cell_type": "code",
   "execution_count": 35,
   "metadata": {},
   "outputs": [
    {
     "name": "stdout",
     "output_type": "stream",
     "text": [
      "Struct Hole Constraint:  {'FWA': 0.16539374788845443, 'BZN': 0.11130580625301997, 'RDM': 0.21879024961206556, 'BKG': 0.1085620989963449, 'MQT': 0.2352561267552961, 'JAC': 0.11899272447976846, 'MSP': 0.0346568064793995, 'HIB': 0.698161865569273, 'UCA': nan, 'AUS': 0.04970018629717188, 'HDN': 0.10745229126473382, 'MAZ': 1.0, 'ANI': 0.820018378257964, 'CDC': 0.6961446619936278, 'AMA': 0.16355305186715255, 'PSC': 0.2020523792640574, 'PVD': 0.059167165518603765, 'AGS': 0.19583571171732778, 'AVL': 0.09767644799853284, 'CVG': 0.03939144510471137, 'PLN': 0.6981480977171395, 'PBI': 0.06001622551721327, 'LMT': 0.5149723230255285, 'BTM': 1.0, 'CPR': 0.5085006302943753, 'ITH': 0.46751433753813254, 'UTM': 1.0, 'CRW': 0.09917189620543568, 'YUM': 0.42807977862164415, 'DHN': 1.0, 'ATL': 0.03110697919341483, 'MKG': 1.0, 'JAN': 0.09210724367996573, 'LCH': 0.5068326558765741, 'DIK': 0.5071420387674336, 'LNY': 0.5, 'EWN': 1.0, 'ROW': 0.3462573707881752, 'ITO': 0.2716908439244813, 'ELM': 0.356892807901228, 'MWH': 1.0, 'HOB': 1.0, 'MCO': 0.04151981740921616, 'EGE': 0.08311735542342442, 'SLC': 0.03790772399762684, 'CHO': 0.18131756218205447, 'ECP': 0.137741127909426, 'ORD': 0.03262886947725675, 'ISN': 0.3430208520598552, 'SAN': 0.048517520808291456, 'PDX': 0.05302366873074333, 'GSO': 0.06050560628863785, 'PIH': 1.0, 'MCN': 1.0, 'BNA': 0.04766909014025589, 'SEA': 0.0419158170340175, 'SAT': 0.05481843980764746, 'SMX': 0.511287400934948, 'FSD': 0.13830440383183415, 'BRD': 0.698161865569273, 'HOU': 0.04914851393852726, 'EKO': 0.5239374666984095, 'ERI': 0.26218767885136995, 'GRR': 0.06640632148135221, 'BFL': 0.16421357240191892, 'SPN': 1.0, 'TUL': nan, 'INL': 0.6699710409998476, 'DUT': 1.0, 'ATW': 0.15811241638949572, 'HRL': 0.1676117262623515, 'BOI': 0.09171791859962256, 'ACK': 0.23285192057330142, 'GJT': 0.2137923650289865, 'LNK': 0.19161472527414286, 'PBG': 0.534150808111588, 'RDU': 0.05092677688255106, 'DRO': 0.262252313406101, 'SAF': 0.34399177498451367, 'RAP': 0.21186202051914255, 'GEG': 0.10805119651086813, 'FOE': nan, 'AEX': 0.27162482056016374, 'HYA': 1.0, 'VPS': 0.21248083208432292, 'BOS': 0.04449663591965309, 'EWR': 0.03937535983209082, 'JNU': 0.19500774263271559, 'RFD': nan, 'TYR': 0.4278041716871066, 'ABR': 1.0, 'SBP': 0.2678360775994259, 'MOT': 0.3442370087458154, 'TUS': 0.07382450985655278, 'OGG': 0.08240519251154031, 'JMS': 0.6961538411759148, 'UST': 0.5859025444817911, 'XNA': 0.08406267667035765, 'CLD': 1.0, 'SYR': 0.07734214080860309, 'CAK': 0.08230469592568494, 'VCT': 1.0, 'PFN': 0.2768117079025848, 'PSP': 0.0852182195851799, 'MDW': 0.0421063511044485, 'IAH': 0.03732155860254024, 'PIA': 0.14007597060684043, 'ACY': 0.10828938359317965, 'CEC': 0.47875306517167016, 'HYS': nan, 'STL': 0.04308698313921961, 'GST': 1.0, 'ONT': 0.06961132858392775, 'OKC': nan, 'SGF': 0.12856629934351585, 'PHL': 0.045474391019965955, 'MIA': 0.04661748120521294, 'LBB': 0.14150289928398785, 'FNT': 0.08959655035632912, 'HLN': 0.3012464207462754, 'LFT': 0.20787855937510613, 'TWF': 1.0, 'FAR': 0.17858144099156967, 'BIL': 0.19812016251778802, 'MSY': 0.050780312180442155, 'GUC': 0.22103420912927613, 'EFD': 1.0, 'BIS': 0.21186202051914255, 'SBN': 0.12831856655347715, 'STX': 0.2201084275939091, 'COU': 0.2221976515357557, 'MIB': 1.0, 'IDA': 0.24332127128442624, 'HTS': 0.34425015874997833, 'BJI': 1.0, 'DCA': 0.04676258972893138, 'EYW': 0.22197469957619703, 'SMF': 0.06079153298218283, 'SGU': 0.3397101107408606, 'RKS': 0.5149981253449354, 'SUN': 0.3461773451449997, 'MSN': 0.07940322644272667, 'MFR': 0.22388753115562451, 'ALO': 0.5067203972085891, 'DVL': 0.8919278164115028, 'FLG': 1.0, 'FLL': 0.04479774245727489, 'FCA': 0.24369752019204358, 'CAE': 0.08985269428329926, 'SCE': 0.21252913409829505, 'ABE': 0.10666722018745443, 'BGM': 0.21673471855204612, 'WYS': 1.0, 'RSW': 0.05478209522543972, 'HNL': 0.058241172881342965, 'AZA': 1.0, 'MEI': 0.3545341879273662, 'LAX': 0.038717938251815104, 'MVY': 0.513177861676077, 'DRT': 1.0, 'TEX': 1.0, 'LRD': 0.5068326558765741, 'BRO': 0.5068326558765741, 'PHF': 0.1474992472066097, 'STT': 0.11209850417612957, 'MKE': 0.050207583117526926, 'HPN': 0.08325404219707416, 'ILE': 0.5068326558765741, 'BHM': 0.0582674636821059, 'MBS': 0.27526506098900705, 'HVN': 0.3853738585121781, 'DSM': 0.07023124789453118, 'TVC': 0.20787602036442848, 'CIU': 1.0, 'LGB': 0.0802810346646994, 'BWI': 0.04433880052535939, 'CYS': 1.0, 'SJC': 0.05685650476895832, 'DAY': 0.06459724416544131, 'MYR': 0.08510742066625512, 'LGA': 0.04510821685337939, 'CMX': 0.5067203972085891, 'ILG': 0.19561764903630208, 'ESC': 1.0, 'BUR': 0.1037635518277184, 'LAW': nan, 'VEL': 1.0, 'RIC': 0.06632577871003315, 'ISO': nan, 'MTJ': 0.11749274277565398, 'SHV': 0.11589800139455246, 'SIT': 0.4668844754848615, 'GCK': nan, 'PNS': 0.09742154951696454, 'BQN': 0.21884067963188103, 'FAT': 0.1055097719209866, 'APF': 1.0, 'KSM': 0.820018378257964, 'DTW': 0.03742514604029204, 'FAY': 0.3429334037239118, 'MLB': 0.1735370278686208, 'PAH': 1.0, 'BTR': 0.1667910425306278, 'MHT': 0.06690158433721939, 'MLI': 0.11879562000051731, 'TYS': 0.0733211169559075, 'CMI': 0.2604011268259347, 'YAK': 0.5, 'WRG': 0.5, 'PUB': 1.0, 'GPT': 0.18346238795180142, 'LWB': 0.2949931663102281, 'JLN': 1.0, 'GSP': 0.0740756995536316, 'ART': 1.0, 'PSG': 0.4314795918367348, 'SHD': nan, 'SWF': 0.10344515505222622, 'TLH': 0.11389077104264765, 'SPS': 1.0, 'OTZ': 0.8276481398975273, 'FLO': 1.0, 'MSO': 0.15863036859421398, 'GCC': 0.5149981253449354, 'IAG': 0.534150808111588, 'LBE': 0.1668207940268324, 'CNY': 1.0, 'EVV': 0.13484366930935898, 'GGG': 1.0, 'PPG': 1.0, 'OXR': 1.0, 'IPL': 0.4298841884713186, 'GTF': 0.27847631488271263, 'TOL': 0.21525409326987102, 'ANC': 0.05030682866907308, 'CMH': 0.054668180745717374, 'ABQ': 0.05973945512084993, 'BRW': 0.6014058833437419, 'LIH': 0.12738294351605345, 'ROP': nan, 'IMT': 0.8162174211248285, 'RDD': 1.0, 'CLT': 0.041267474756220626, 'SNA': 0.06180018361117179, 'MAF': 0.14609603140570077, 'ASE': 0.1395312940537995, 'LAS': 0.04150901096981769, 'CWA': 0.33502988871271694, 'OME': 0.8276481398975273, 'SUX': 0.3423813003398417, 'TXK': 0.5068326558765741, 'CRP': 0.26443252489891256, 'ROR': nan, 'CLL': 0.5068326558765741, 'LWS': 1.0, 'PIE': 0.16854111512169126, 'MFE': 0.21657152045582007, 'AZO': 0.19648878680067072, 'GUM': 0.5555555555555556, 'SJU': 0.05823631039784859, 'BUF': 0.06528890586555697, 'LIT': 0.07405085482443657, 'ROA': 0.13311676237231157, 'MHK': nan, 'BTV': 0.08893746101589826, 'VLD': 1.0, 'GTR': 0.3341839172905631, 'ROC': 0.07339511390935212, 'PHX': 0.041030882767123786, 'SJT': 0.5068326558765741, 'MGM': 0.2415470635749153, 'APN': 0.477989590898698, 'IYK': 1.0, 'CIC': 1.0, 'EAU': 0.6436279760837607, 'PSE': 0.5115918771969645, 'TRI': 0.21184286101848498, 'DFW': 0.03440431415271479, 'COD': 0.5085006302943753, 'PIT': 0.043523855655026755, 'PIB': 0.6972092554728255, 'GFK': 0.5071420387674336, 'BQK': 1.0, 'LAN': 0.19034982045759744, 'CID': 0.12467484534645534, 'BMI': 0.15533967733458706, 'KOA': 0.11793779048309527, 'DAL': 0.04879211957839034, 'OTH': 0.5149723230255285, 'RHI': 0.8162174211248285, 'OAK': 0.05829169461792903, 'BDL': 0.0568713707216353, 'SFO': 0.039764450888765096, 'ILM': 0.26302765597568584, 'ADK': 0.7647741392539787, 'BET': 1.0, 'HSV': 0.08156691792465809, 'DBQ': 1.0, 'JAX': 0.057092774681296365, 'IAD': 0.04241094695706776, 'BGR': 0.13018626261317146, 'ABI': 0.5068326558765741, 'RST': 0.264997159581278, 'ELP': 0.089827759078733, 'OMA': 0.06426242599422, 'MRY': 0.2656545031758937, 'GRI': 1.0, 'LAR': 1.0, 'TPA': 0.04683872364374188, 'GRB': 0.15678244288262824, 'DEN': 0.03332482009469121, 'LSE': 0.33206720181125604, 'KTN': 0.3733950431660977, 'MKK': 0.5, 'CHS': 0.06508499783183856, 'ISP': 0.08317490553614972, 'CLE': 0.04667900804934197, 'ICT': nan, 'GRK': 0.34193792397652456, 'ORH': 0.26647341847144645, 'EUG': 0.22388753115562451, 'CHA': 0.15638465663034304, 'MEM': 0.044256705414827936, 'VIS': 0.5410770684245352, 'RNO': 0.07081681040400856, 'IND': 0.052177494509555104, 'BPT': 0.5068326558765741, 'SBA': 0.12012603862252863, 'CDV': 0.5, 'CSG': 0.505932113933667, 'AKN': 0.7523912774436278, 'DAB': 0.16758826916349356, 'ACT': 0.5068326558765741, 'ALB': 0.07132552958585876, 'MCI': 0.05003364146047461, 'PWM': 0.07953584087315328, 'STC': 1.0, 'ORF': 0.06294332123546441, 'SRQ': 0.06803674952000457, 'FAI': 0.23855498758193727, 'SPI': 0.5061182108355062, 'COS': 0.07077489616332558, 'ABY': 1.0, 'SDF': 0.06019360067903193, 'MMH': 0.3600729809948966, 'TTN': 0.0816265294884989, 'MDT': 0.09886440413616697, 'MOB': 0.14649631595034332, 'JFK': 0.04029662384500986, 'SAV': 0.08708805630024204, 'DET': nan, 'GNV': 0.5108163752766556, 'ACV': 0.36769313056721165, 'LYH': 1.0, 'MOD': 1.0, 'DLG': 0.7551481398975273, 'ADQ': 1.0, 'MLU': 0.16849056656679248, 'SCC': 0.6014058833437419, 'OAJ': 0.5076476853949392, 'BLI': 0.24640767999600338, 'FSM': 0.3436941244648478, 'AVP': 0.13729741337556095, 'LEX': 0.08128537876212741, 'DLH': 0.34263098154003135}\n",
      "Top 12 Struct Hole Constraint:  [('UCA', nan), ('MAZ', 1.0), ('BTM', 1.0), ('UTM', 1.0), ('DHN', 1.0), ('MKG', 1.0), ('EWN', 1.0), ('MWH', 1.0), ('HOB', 1.0), ('PIH', 1.0), ('MCN', 1.0), ('SPN', 1.0)]\n",
      "Bottom 12 Struct Hole Constraint:  [('ATL', 0.03110697919341483), ('MSP', 0.0346568064793995), ('SLC', 0.03790772399762684), ('CVG', 0.03939144510471137), ('MCO', 0.04151981740921616), ('AUS', 0.04970018629717188), ('PVD', 0.059167165518603765), ('PBI', 0.06001622551721327), ('EGE', 0.08311735542342442), ('JAN', 0.09210724367996573), ('AVL', 0.09767644799853284), ('CRW', 0.09917189620543568)]\n",
      "\n",
      "Struct Hole Effective Size {'FWA': 1.5, 'BZN': 2.1818181818181803, 'RDM': 0.9999999999999998, 'BKG': 4.166666666666668, 'MQT': 2.3333333333333335, 'JAC': 1.8500000000000012, 'MSP': 106.84444444444439, 'HIB': 1.0, 'UCA': nan, 'AUS': 15.282828282828266, 'HDN': 0.9999999999999979, 'MAZ': 1.0, 'ANI': 1.25, 'CDC': 1.0, 'AMA': 1.5714285714285723, 'PSC': 1.0000000000000004, 'PVD': 5.7578125, 'AGS': 1.0, 'AVL': 1.4000000000000017, 'CVG': 95.43700787401575, 'PLN': 1.0, 'PBI': 8.055555555555546, 'LMT': 1.0, 'BTM': 1.0, 'CPR': 1.0, 'ITH': 1.0, 'UTM': 1.0, 'CRW': 1.4615384615384635, 'YUM': 1.6666666666666667, 'DHN': 1.0, 'ATL': 152.66011235955062, 'MKG': 1.0, 'JAN': 5.797297297297296, 'LCH': 1.0, 'DIK': 1.0, 'LNY': 2.0, 'EWN': 1.0, 'ROW': 1.0, 'ITO': 1.0, 'ELM': 1.5, 'MWH': 1.0, 'HOB': 1.0, 'MCO': 62.07591623036646, 'EGE': 1.6896551724137918, 'SLC': 74.29797979797975, 'CHO': 1.0000000000000004, 'ECP': 0.9999999999999992, 'ORD': 140.43862275449095, 'ISN': 1.0, 'SAN': 21.80803571428569, 'PDX': 27.96396396396396, 'GSO': 4.656716417910464, 'PIH': 1.0, 'MCN': 1.0, 'BNA': 23.112903225806484, 'SEA': 41.37837837837842, 'SAT': 5.246666666666692, 'SMX': 1.0, 'FSD': 1.0, 'BRD': 1.0, 'HOU': 22.439252336448597, 'EKO': 1.0, 'ERI': 1.0, 'GRR': 1.5217391304347918, 'BFL': 1.000000000000001, 'SPN': 1.0, 'TUL': nan, 'INL': 1.6666666666666667, 'DUT': 1.0, 'ATW': 1.000000000000001, 'HRL': 1.5714285714285723, 'BOI': 2.599999999999997, 'ACK': 2.25, 'GJT': 0.9999999999999998, 'LNK': 1.0000000000000002, 'PBG': 1.0, 'RDU': 15.108490566037736, 'DRO': 1.0, 'SAF': 1.0, 'RAP': 0.9999999999999998, 'GEG': 2.714285714285718, 'FOE': nan, 'AEX': 2.1818181818181817, 'HYA': 1.0, 'VPS': 0.9999999999999998, 'BOS': 36.54761904761904, 'EWR': 65.28030303030306, 'JNU': 6.375, 'RFD': nan, 'TYR': 0.9999999999999998, 'ABR': 1.0, 'SBP': 1.5, 'MOT': 1.0, 'TUS': 3.4222222222222287, 'OGG': 7.914893617021284, 'JMS': 1.5, 'UST': 1.0, 'XNA': 1.4000000000000021, 'CLD': 1.0, 'SYR': 2.2499999999999947, 'CAK': 1.6666666666666727, 'VCT': 1.0, 'PFN': 1.0000000000000004, 'PSP': 1.9393939393939452, 'MDW': 41.9874213836478, 'IAH': 105.88703703703696, 'PIA': 1.2222222222222208, 'ACY': 2.166666666666666, 'CEC': 1.0, 'HYS': nan, 'STL': 45.065868263473085, 'GST': 1.0, 'ONT': 2.7653061224489712, 'OKC': nan, 'SGF': 0.9999999999999992, 'PHL': 36.39261744966446, 'MIA': 26.714285714285754, 'LBB': 1.8888888888888877, 'FNT': 1.7931034482758592, 'HLN': 1.0000000000000004, 'LFT': 2.0000000000000004, 'TWF': 1.0, 'FAR': 1.0000000000000004, 'BIL': 3.2222222222222214, 'MSY': 11.030927835051529, 'GUC': 1.0, 'EFD': 1.0, 'BIS': 0.9999999999999998, 'SBN': 0.9999999999999992, 'STX': 0.9999999999999996, 'COU': 1.0, 'MIB': 1.0, 'IDA': 1.0, 'HTS': 1.0, 'BJI': 1.0, 'DCA': 28.5296296296296, 'EYW': 0.9999999999999998, 'SMF': 10.735714285714277, 'SGU': 1.8571428571428572, 'RKS': 1.0, 'SUN': 1.0, 'MSN': 3.029411764705881, 'MFR': 0.9999999999999997, 'ALO': 1.0, 'DVL': 1.0, 'FLG': 1.0, 'FLL': 37.262411347517705, 'FCA': 2.2, 'CAE': 1.5535714285714324, 'SCE': 0.9999999999999998, 'ABE': 2.0769230769230784, 'BGM': 0.9999999999999998, 'WYS': 1.0, 'RSW': 16.153409090909104, 'HNL': 13.695652173913041, 'AZA': 1.0, 'MEI': 2.25, 'LAX': 62.771505376344095, 'MVY': 1.0, 'DRT': 1.0, 'TEX': 1.0, 'LRD': 1.0, 'BRO': 1.0, 'PHF': 1.0000000000000007, 'STT': 2.3076923076923093, 'MKE': 19.083333333333325, 'HPN': 2.6285714285714255, 'ILE': 1.0, 'BHM': 10.936619718309874, 'MBS': 1.0000000000000004, 'HVN': 0.9999999999999998, 'DSM': 2.6904761904761862, 'TVC': 1.9999999999999996, 'CIU': 1.0, 'LGB': 2.8378378378378377, 'BWI': 38.42903225806452, 'CYS': 1.0, 'SJC': 15.042682926829254, 'DAY': 2.0196078431372673, 'MYR': 7.526315789473687, 'LGA': 47.911764705882355, 'CMX': 1.0, 'ILG': 0.9999999999999998, 'ESC': 1.0, 'BUR': 1.6153846153846179, 'LAW': nan, 'VEL': 1.0, 'RIC': 1.5000000000000089, 'ISO': nan, 'MTJ': 1.5526315789473681, 'SHV': 3.9800000000000013, 'SIT': 1.8571428571428572, 'GCK': nan, 'PNS': 4.870967741935486, 'BQN': 1.3999999999999997, 'FAT': 3.7241379310344804, 'APF': 1.0, 'KSM': 1.25, 'DTW': 105.87084870848705, 'FAY': 1.0, 'MLB': 1.416666666666667, 'PAH': 1.0, 'BTR': 2.029411764705882, 'MHT': 2.887755102040808, 'MLI': 1.5454545454545436, 'TYS': 1.1081081081081061, 'CMI': 1.0, 'YAK': 2.0, 'WRG': 2.0, 'PUB': 1.0, 'GPT': 1.0000000000000004, 'LWB': 1.25, 'JLN': 1.0, 'GSP': 2.463414634146335, 'ART': 1.0, 'PSG': 2.4000000000000004, 'SHD': nan, 'SWF': 2.666666666666666, 'TLH': 1.142857142857144, 'SPS': 1.0, 'OTZ': 1.0, 'FLO': 1.0, 'MSO': 2.4375, 'GCC': 1.0, 'IAG': 1.0, 'LBE': 2.846153846153846, 'CNY': 1.0, 'EVV': 0.9999999999999992, 'GGG': 1.0, 'PPG': 1.0, 'OXR': 1.0, 'IPL': 1.6666666666666667, 'GTF': 1.714285714285715, 'TOL': 1.0000000000000004, 'ANC': 24.992537313432845, 'CMH': 5.7341772151898525, 'ABQ': 9.537313432835834, 'BRW': 1.0, 'LIH': 1.4545454545454528, 'ROP': nan, 'IMT': 1.0, 'RDD': 1.0, 'CLT': 68.65384615384617, 'SNA': 8.68382352941176, 'MAF': 1.444444444444443, 'ASE': 1.0, 'LAS': 46.335329341317376, 'CWA': 2.0, 'OME': 1.0, 'SUX': 1.0, 'TXK': 1.0, 'CRP': 1.0, 'ROR': nan, 'CLL': 1.0, 'LWS': 1.0, 'PIE': 2.1538461538461537, 'MFE': 0.9999999999999998, 'AZO': 1.2307692307692306, 'GUM': 2.0, 'SJU': 6.899999999999999, 'BUF': 3.1818181818181763, 'LIT': 2.4499999999999957, 'ROA': 2.473684210526316, 'MHK': nan, 'BTV': 1.8387096774193608, 'VLD': 1.0, 'GTR': 1.0, 'ROC': 2.1818181818181888, 'PHX': 49.32544378698228, 'SJT': 1.0, 'MGM': 1.3333333333333335, 'APN': 1.666666666666667, 'IYK': 1.0, 'CIC': 1.0, 'EAU': 1.0, 'PSE': 1.0, 'TRI': 0.9999999999999998, 'DFW': 135.33695652173915, 'COD': 1.0, 'PIT': 56.249999999999986, 'PIB': 1.0, 'GFK': 1.0, 'BQK': 1.0, 'LAN': 1.2857142857142867, 'CID': 0.9999999999999984, 'BMI': 1.000000000000001, 'KOA': 3.115384615384616, 'DAL': 21.98571428571427, 'OTH': 1.0, 'RHI': 1.0, 'OAK': 15.481012658227831, 'BDL': 5.633333333333357, 'SFO': 58.54970760233918, 'ILM': 1.0, 'ADK': 1.0, 'BET': 1.0, 'HSV': 2.871428571428568, 'DBQ': 1.0, 'JAX': 8.924050632911378, 'IAD': 49.9766081871345, 'BGR': 3.3684210526315788, 'ABI': 1.0, 'RST': 1.3333333333333335, 'ELP': 3.9999999999999982, 'OMA': 3.7692307692307807, 'MRY': 1.0, 'GRI': 1.0, 'LAR': 1.0, 'TPA': 33.353571428571435, 'GRB': 2.0, 'DEN': 121.47440273037545, 'LSE': 1.0000000000000004, 'KTN': 2.5, 'MKK': 2.0, 'CHS': 5.1034482758620765, 'ISP': 2.3333333333333286, 'CLE': 38.4046052631579, 'ICT': nan, 'GRK': 1.0, 'ORH': 1.0, 'EUG': 0.9999999999999997, 'CHA': 1.000000000000001, 'MEM': 57.13276836158189, 'VIS': 1.0, 'RNO': 6.731481481481492, 'IND': 9.703296703296694, 'BPT': 1.0, 'SBA': 1.3333333333333335, 'CDV': 2.0, 'CSG': 1.0, 'AKN': 1.5999999999999999, 'DAB': 1.333333333333334, 'ACT': 1.0, 'ALB': 2.291666666666675, 'MCI': 10.13265306122446, 'PWM': 4.035714285714282, 'STC': 1.0, 'ORF': 2.838983050847446, 'SRQ': 2.000000000000008, 'FAI': 3.8571428571428577, 'SPI': 1.0, 'COS': 1.6829268292682853, 'ABY': 1.0, 'SDF': 3.101694915254228, 'MMH': 1.0, 'TTN': 3.8235294117647047, 'MDT': 1.4074074074074074, 'MOB': 2.818181818181817, 'JFK': 46.63836477987422, 'SAV': 2.4242424242424296, 'DET': nan, 'GNV': 1.0, 'ACV': 1.5, 'LYH': 1.0, 'MOD': 1.0, 'DLG': 1.0, 'ADQ': 1.0, 'MLU': 2.911764705882353, 'SCC': 1.0, 'OAJ': 1.0, 'BLI': 1.0, 'FSM': 1.0, 'AVP': 1.1764705882352935, 'LEX': 1.999999999999997, 'DLH': 1.0}\n",
      "Top 12 Struct Hole Effective Sizes:  [('UCA', nan), ('ATL', 152.66011235955062), ('ORD', 140.43862275449095), ('MSP', 106.84444444444439), ('CVG', 95.43700787401575), ('SLC', 74.29797979797975), ('MCO', 62.07591623036646), ('SEA', 41.37837837837842), ('AUS', 15.282828282828266), ('PBI', 8.055555555555546), ('JAN', 5.797297297297296), ('PVD', 5.7578125)]\n",
      "Bottom 12 Struct Hole Effective Sizes:  [('HDN', 0.9999999999999979), ('ECP', 0.9999999999999992), ('RDM', 0.9999999999999998), ('GJT', 0.9999999999999998), ('RAP', 0.9999999999999998), ('VPS', 0.9999999999999998), ('TYR', 0.9999999999999998), ('HIB', 1.0), ('MAZ', 1.0), ('CDC', 1.0), ('AGS', 1.0), ('PLN', 1.0)]\n",
      "\n",
      "Struct Hole Local Constraint:  2.2766662267722e-07\n"
     ]
    }
   ],
   "source": [
    "source = convert_attr_value_to_node_id(\n",
    "    flightGraph, \n",
    "    \"airport_code\",\n",
    "    \"MKE\"\n",
    "    )\n",
    "\n",
    "target = convert_attr_value_to_node_id(\n",
    "    flightGraph, \n",
    "    \"airport_code\", \n",
    "    \"HLN\"\n",
    "    )\n",
    "\n",
    "struct_hole_constraint = nx.constraint(flightGraph)\n",
    "\n",
    "struct_hole_effective_size = nx.effective_size(flightGraph)\n",
    "\n",
    "struct_hole_local_constraint = nx.local_constraint(\n",
    "    flightGraph, \n",
    "    source, \n",
    "    target\n",
    "    )\n",
    "\n",
    "# Convert Resulting Dictionary Keys From Integers (ids) to String (airport codes)\n",
    "struct_hole_constraint = convert_output_keys_to_airport_codes(\n",
    "    struct_hole_constraint, \n",
    "    id_to_airport_code_mapping_dict\n",
    "    )\n",
    "\n",
    "struct_hole_effective_size = convert_output_keys_to_airport_codes(\n",
    "    struct_hole_effective_size,\n",
    "    id_to_airport_code_mapping_dict\n",
    "    )\n",
    "\n",
    "print(\"Struct Hole Constraint: \", struct_hole_constraint) # return both top & bottom 12 airport codes & their constraint values\n",
    "\n",
    "struct_hole_constraint_top_n = sorted(struct_hole_constraint.items(), key=lambda x: x[1], reverse=True)[:12]\n",
    "\n",
    "struct_hole_constraint_bottom_n = sorted(struct_hole_constraint.items(), key=lambda x: x[1], reverse=False)[:12]\n",
    "\n",
    "print(\"Top 12 Struct Hole Constraint: \", struct_hole_constraint_top_n)\n",
    "print(\"Bottom 12 Struct Hole Constraint: \", struct_hole_constraint_bottom_n)\n",
    "\n",
    "print()\n",
    "print(\"Struct Hole Effective Size\", struct_hole_effective_size) # return both top & bottom 12 airport codes & their effective size values\n",
    "\n",
    "struct_hole_effective_size_top_n = sorted(\n",
    "    struct_hole_effective_size.items(), \n",
    "    key=lambda x: x[1], \n",
    "    reverse=True\n",
    "    )[:12]\n",
    "\n",
    "struct_hole_effective_size_bottom_n = sorted(\n",
    "    struct_hole_effective_size.items(), \n",
    "    key=lambda x: x[1], \n",
    "    reverse=False\n",
    "    )[:12]\n",
    "\n",
    "print(\"Top 12 Struct Hole Effective Sizes: \", struct_hole_effective_size_top_n)\n",
    "print(\"Bottom 12 Struct Hole Effective Sizes: \", struct_hole_effective_size_bottom_n)\n",
    "print()\n",
    "print(\"Struct Hole Local Constraint: \", struct_hole_local_constraint)"
   ]
  }
 ],
 "metadata": {
  "kernelspec": {
   "display_name": "Python 3",
   "language": "python",
   "name": "python3"
  },
  "language_info": {
   "codemirror_mode": {
    "name": "ipython",
    "version": 3
   },
   "file_extension": ".py",
   "mimetype": "text/x-python",
   "name": "python",
   "nbconvert_exporter": "python",
   "pygments_lexer": "ipython3",
   "version": "3.11.4"
  }
 },
 "nbformat": 4,
 "nbformat_minor": 2
}
