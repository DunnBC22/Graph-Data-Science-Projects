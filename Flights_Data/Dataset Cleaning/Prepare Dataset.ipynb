{
 "cells": [
  {
   "cell_type": "markdown",
   "metadata": {},
   "source": [
    "## Clean Up CSV File of Data and Convert it to Star Schema \n",
    "\n",
    "###### *(or at least get it closer to star schema)"
   ]
  },
  {
   "cell_type": "markdown",
   "metadata": {},
   "source": [
    "### Install Python Libraries as Necessary"
   ]
  },
  {
   "cell_type": "code",
   "execution_count": 1,
   "metadata": {},
   "outputs": [],
   "source": [
    "# %pip install ipykernel\n",
    "# %pip install polars"
   ]
  },
  {
   "cell_type": "markdown",
   "metadata": {},
   "source": [
    "### Import Statements"
   ]
  },
  {
   "cell_type": "code",
   "execution_count": 2,
   "metadata": {},
   "outputs": [
    {
     "name": "stdout",
     "output_type": "stream",
     "text": [
      "Polars Version: 1.12.0\n",
      "Python Version: 3.11.4\n"
     ]
    }
   ],
   "source": [
    "import polars as pl\n",
    "import sys\n",
    "\n",
    "print(\"Polars Version:\", pl.__version__)\n",
    "print(\"Python Version:\", sys.version[:6])"
   ]
  },
  {
   "cell_type": "markdown",
   "metadata": {},
   "source": [
    "### Define the Schema (for the Polars LazyFrame/DataFrame)"
   ]
  },
  {
   "cell_type": "code",
   "execution_count": 3,
   "metadata": {},
   "outputs": [
    {
     "data": {
      "text/plain": [
       "Schema([('TRANSACTIONID', Int64),\n",
       "        ('FLIGHTDATE', Int64),\n",
       "        ('AIRLINECODE', String),\n",
       "        ('AIRLINENAME', String),\n",
       "        ('TAILNUM', String),\n",
       "        ('FLIGHTNUM', Int64),\n",
       "        ('ORIGINAIRPORTCODE', String),\n",
       "        ('ORIGAIRPORTNAME', String),\n",
       "        ('ORIGINCITYNAME', String),\n",
       "        ('ORIGINSTATE', String),\n",
       "        ('ORIGINSTATENAME', String),\n",
       "        ('DESTAIRPORTCODE', String),\n",
       "        ('DESTAIRPORTNAME', String),\n",
       "        ('DESTCITYNAME', String),\n",
       "        ('DESTSTATE', String),\n",
       "        ('DESTSTATENAME', String),\n",
       "        ('CRSDEPTIME', Int32),\n",
       "        ('DEPTIME', Int32),\n",
       "        ('DEPDELAY', Int32),\n",
       "        ('TAXIOUT', Int32),\n",
       "        ('WHEELSOFF', Int32),\n",
       "        ('WHEELSON', Int32),\n",
       "        ('TAXIIN', Int32),\n",
       "        ('RSARRTIME', Int32),\n",
       "        ('ARRTIME', Int32),\n",
       "        ('ARRDELAY', Int16),\n",
       "        ('CRSELAPSEDTIME', Int32),\n",
       "        ('ACTUALELAPSEDTIME', Int32),\n",
       "        ('CANCELLED', String),\n",
       "        ('DIVERTED', String),\n",
       "        ('DISTANCE', String)])"
      ]
     },
     "execution_count": 3,
     "metadata": {},
     "output_type": "execute_result"
    }
   ],
   "source": [
    "schema = pl.Schema(\n",
    "    {\n",
    "        \"TRANSACTIONID\": pl.Int64(),\n",
    "        \"FLIGHTDATE\": pl.Int64(),\n",
    "        \"AIRLINECODE\": pl.String(),\n",
    "        \"AIRLINENAME\": pl.String(),\n",
    "        \"TAILNUM\": pl.String(),\n",
    "        \"FLIGHTNUM\": pl.Int64(),\n",
    "        \"ORIGINAIRPORTCODE\": pl.String(),\n",
    "        \"ORIGAIRPORTNAME\": pl.String(),\n",
    "        \"ORIGINCITYNAME\": pl.String(),\n",
    "        \"ORIGINSTATE\": pl.String(),\n",
    "        \"ORIGINSTATENAME\": pl.String(),\n",
    "        \"DESTAIRPORTCODE\": pl.String(),\n",
    "        \"DESTAIRPORTNAME\": pl.String(),\n",
    "        \"DESTCITYNAME\": pl.String(),\n",
    "        \"DESTSTATE\": pl.String(),\n",
    "        \"DESTSTATENAME\": pl.String(),\n",
    "        \"CRSDEPTIME\": pl.Int32(),\n",
    "        \"DEPTIME\": pl.Int32(),\n",
    "        \"DEPDELAY\": pl.Int32(),\n",
    "        \"TAXIOUT\": pl.Int32(),\n",
    "        \"WHEELSOFF\": pl.Int32(),\n",
    "        \"WHEELSON\": pl.Int32(),\n",
    "        \"TAXIIN\": pl.Int32(),\n",
    "        \"RSARRTIME\": pl.Int32(),\n",
    "        \"ARRTIME\": pl.Int32(),\n",
    "        \"ARRDELAY\": pl.Int16(),\n",
    "        \"CRSELAPSEDTIME\": pl.Int32(),\n",
    "        \"ACTUALELAPSEDTIME\": pl.Int32(),\n",
    "        \"CANCELLED\": pl.String(),\n",
    "        \"DIVERTED\": pl.String(),\n",
    "        \"DISTANCE\": pl.String()\n",
    "    }\n",
    ")\n",
    "\n",
    "schema"
   ]
  },
  {
   "cell_type": "markdown",
   "metadata": {},
   "source": [
    "### Import Data From CSV File into Polars LazyFrame"
   ]
  },
  {
   "cell_type": "code",
   "execution_count": 4,
   "metadata": {},
   "outputs": [],
   "source": [
    "file_location = \"flights.txt\"\n",
    "\n",
    "lf = pl.scan_csv(\n",
    "    source = file_location,\n",
    "    schema=schema,\n",
    "    separator=\"|\"\n",
    "    )"
   ]
  },
  {
   "cell_type": "markdown",
   "metadata": {},
   "source": [
    "### Get a Quick View of Dataset"
   ]
  },
  {
   "cell_type": "code",
   "execution_count": 5,
   "metadata": {},
   "outputs": [
    {
     "data": {
      "text/html": [
       "<div><style>\n",
       ".dataframe > thead > tr,\n",
       ".dataframe > tbody > tr {\n",
       "  text-align: right;\n",
       "  white-space: pre-wrap;\n",
       "}\n",
       "</style>\n",
       "<small>shape: (1_191_805, 31)</small><table border=\"1\" class=\"dataframe\"><thead><tr><th>TRANSACTIONID</th><th>FLIGHTDATE</th><th>AIRLINECODE</th><th>AIRLINENAME</th><th>TAILNUM</th><th>FLIGHTNUM</th><th>ORIGINAIRPORTCODE</th><th>ORIGAIRPORTNAME</th><th>ORIGINCITYNAME</th><th>ORIGINSTATE</th><th>ORIGINSTATENAME</th><th>DESTAIRPORTCODE</th><th>DESTAIRPORTNAME</th><th>DESTCITYNAME</th><th>DESTSTATE</th><th>DESTSTATENAME</th><th>CRSDEPTIME</th><th>DEPTIME</th><th>DEPDELAY</th><th>TAXIOUT</th><th>WHEELSOFF</th><th>WHEELSON</th><th>TAXIIN</th><th>RSARRTIME</th><th>ARRTIME</th><th>ARRDELAY</th><th>CRSELAPSEDTIME</th><th>ACTUALELAPSEDTIME</th><th>CANCELLED</th><th>DIVERTED</th><th>DISTANCE</th></tr><tr><td>i64</td><td>i64</td><td>str</td><td>str</td><td>str</td><td>i64</td><td>str</td><td>str</td><td>str</td><td>str</td><td>str</td><td>str</td><td>str</td><td>str</td><td>str</td><td>str</td><td>i32</td><td>i32</td><td>i32</td><td>i32</td><td>i32</td><td>i32</td><td>i32</td><td>i32</td><td>i32</td><td>i16</td><td>i32</td><td>i32</td><td>str</td><td>str</td><td>str</td></tr></thead><tbody><tr><td>54548800</td><td>20020101</td><td>&quot;WN&quot;</td><td>&quot;Southwest Airlines Co.: WN&quot;</td><td>&quot;N103@@&quot;</td><td>1425</td><td>&quot;ABQ&quot;</td><td>&quot;AlbuquerqueNM: Albuquerque Int…</td><td>&quot;Albuquerque&quot;</td><td>&quot;NM&quot;</td><td>&quot;New Mexico&quot;</td><td>&quot;DAL&quot;</td><td>&quot;DallasTX: Dallas Love Field&quot;</td><td>&quot;Dallas&quot;</td><td>&quot;TX&quot;</td><td>&quot;Texas&quot;</td><td>1425</td><td>1425</td><td>0</td><td>8</td><td>1433</td><td>1648</td><td>4</td><td>1655</td><td>1652</td><td>-3</td><td>90</td><td>87</td><td>&quot;F&quot;</td><td>&quot;False&quot;</td><td>&quot;580 miles&quot;</td></tr><tr><td>55872300</td><td>20020101</td><td>&quot;CO&quot;</td><td>&quot;Continental Air Lines Inc.: CO&quot;</td><td>&quot;N83872&quot;</td><td>150</td><td>&quot;ABQ&quot;</td><td>&quot;AlbuquerqueNM: Albuquerque Int…</td><td>&quot;Albuquerque&quot;</td><td>&quot;NM&quot;</td><td>&quot;New Mexico&quot;</td><td>&quot;IAH&quot;</td><td>&quot;HoustonTX: George Bush Interco…</td><td>&quot;Houston&quot;</td><td>&quot;TX&quot;</td><td>&quot;Texas&quot;</td><td>1130</td><td>1136</td><td>6</td><td>12</td><td>1148</td><td>1419</td><td>16</td><td>1426</td><td>1435</td><td>9</td><td>116</td><td>119</td><td>&quot;False&quot;</td><td>&quot;F&quot;</td><td>&quot;744 miles&quot;</td></tr><tr><td>54388800</td><td>20020101</td><td>&quot;WN&quot;</td><td>&quot;Southwest Airlines Co.: WN&quot;</td><td>&quot;N334@@&quot;</td><td>249</td><td>&quot;ABQ&quot;</td><td>&quot;AlbuquerqueNM: Albuquerque Int…</td><td>&quot;Albuquerque&quot;</td><td>&quot;NM&quot;</td><td>&quot;New Mexico&quot;</td><td>&quot;MCI&quot;</td><td>&quot;Kansas CityMO: Kansas City Int…</td><td>&quot;Kansas City&quot;</td><td>&quot;MO&quot;</td><td>&quot;Missouri&quot;</td><td>1215</td><td>1338</td><td>83</td><td>7</td><td>1345</td><td>1618</td><td>2</td><td>1500</td><td>1620</td><td>80</td><td>105</td><td>102</td><td>&quot;F&quot;</td><td>&quot;False&quot;</td><td>&quot;718 miles&quot;</td></tr><tr><td>54486500</td><td>20020101</td><td>&quot;WN&quot;</td><td>&quot;Southwest Airlines Co.: WN&quot;</td><td>&quot;N699@@&quot;</td><td>902</td><td>&quot;ABQ&quot;</td><td>&quot;AlbuquerqueNM: Albuquerque Int…</td><td>&quot;Albuquerque&quot;</td><td>&quot;NM&quot;</td><td>&quot;New Mexico&quot;</td><td>&quot;LAS&quot;</td><td>&quot;Las VegasNV: McCarran Internat…</td><td>&quot;Las Vegas&quot;</td><td>&quot;NV&quot;</td><td>&quot;Nevada&quot;</td><td>1925</td><td>1925</td><td>0</td><td>5</td><td>1930</td><td>1947</td><td>1</td><td>1950</td><td>1948</td><td>-2</td><td>85</td><td>83</td><td>&quot;0&quot;</td><td>&quot;0&quot;</td><td>&quot;487 miles&quot;</td></tr><tr><td>55878700</td><td>20020103</td><td>&quot;CO&quot;</td><td>&quot;Continental Air Lines Inc.: CO&quot;</td><td>&quot;N58606&quot;</td><td>234</td><td>&quot;ABQ&quot;</td><td>&quot;AlbuquerqueNM: Albuquerque Int…</td><td>&quot;Albuquerque&quot;</td><td>&quot;NM&quot;</td><td>&quot;New Mexico&quot;</td><td>&quot;IAH&quot;</td><td>&quot;HoustonTX: George Bush Interco…</td><td>&quot;Houston&quot;</td><td>&quot;TX&quot;</td><td>&quot;Texas&quot;</td><td>1455</td><td>1453</td><td>-2</td><td>11</td><td>1504</td><td>1742</td><td>5</td><td>1750</td><td>1747</td><td>-3</td><td>115</td><td>114</td><td>&quot;F&quot;</td><td>&quot;False&quot;</td><td>&quot;744 miles&quot;</td></tr><tr><td>&hellip;</td><td>&hellip;</td><td>&hellip;</td><td>&hellip;</td><td>&hellip;</td><td>&hellip;</td><td>&hellip;</td><td>&hellip;</td><td>&hellip;</td><td>&hellip;</td><td>&hellip;</td><td>&hellip;</td><td>&hellip;</td><td>&hellip;</td><td>&hellip;</td><td>&hellip;</td><td>&hellip;</td><td>&hellip;</td><td>&hellip;</td><td>&hellip;</td><td>&hellip;</td><td>&hellip;</td><td>&hellip;</td><td>&hellip;</td><td>&hellip;</td><td>&hellip;</td><td>&hellip;</td><td>&hellip;</td><td>&hellip;</td><td>&hellip;</td><td>&hellip;</td></tr><tr><td>126750200</td><td>20130106</td><td>&quot;EV&quot;</td><td>&quot;ExpressJet Airlines Inc.: EV&quot;</td><td>&quot;N683BR&quot;</td><td>5272</td><td>&quot;ATL&quot;</td><td>&quot;AtlantaGA: Hartsfield-Jackson …</td><td>&quot;Atlanta&quot;</td><td>&quot;GA&quot;</td><td>&quot;Georgia&quot;</td><td>&quot;DAL&quot;</td><td>&quot;DallasTX: Dallas Love Field&quot;</td><td>&quot;Dallas&quot;</td><td>&quot;TX&quot;</td><td>&quot;Texas&quot;</td><td>1357</td><td>1348</td><td>-9</td><td>22</td><td>1410</td><td>1500</td><td>3</td><td>1523</td><td>1503</td><td>-20</td><td>146</td><td>135</td><td>&quot;0&quot;</td><td>&quot;0&quot;</td><td>&quot;721 miles&quot;</td></tr><tr><td>127294500</td><td>20130106</td><td>&quot;DL&quot;</td><td>&quot;Delta Air Lines Inc.: DL&quot;</td><td>&quot;N949DL&quot;</td><td>1711</td><td>&quot;ATL&quot;</td><td>&quot;AtlantaGA: Hartsfield-Jackson …</td><td>&quot;Atlanta&quot;</td><td>&quot;GA&quot;</td><td>&quot;Georgia&quot;</td><td>&quot;DFW&quot;</td><td>&quot;Dallas/Fort WorthTX: Dallas/Fo…</td><td>&quot;Dallas/Fort Worth&quot;</td><td>&quot;TX&quot;</td><td>&quot;Texas&quot;</td><td>2150</td><td>2147</td><td>-3</td><td>23</td><td>2210</td><td>2307</td><td>10</td><td>2321</td><td>2317</td><td>-4</td><td>151</td><td>150</td><td>&quot;False&quot;</td><td>&quot;F&quot;</td><td>&quot;731 miles&quot;</td></tr><tr><td>127294900</td><td>20130106</td><td>&quot;DL&quot;</td><td>&quot;Delta Air Lines Inc.: DL&quot;</td><td>&quot;N907DE&quot;</td><td>1810</td><td>&quot;ATL&quot;</td><td>&quot;AtlantaGA: Hartsfield-Jackson …</td><td>&quot;Atlanta&quot;</td><td>&quot;GA&quot;</td><td>&quot;Georgia&quot;</td><td>&quot;DFW&quot;</td><td>&quot;Dallas/Fort WorthTX: Dallas/Fo…</td><td>&quot;Dallas/Fort Worth&quot;</td><td>&quot;TX&quot;</td><td>&quot;Texas&quot;</td><td>1617</td><td>1617</td><td>0</td><td>18</td><td>1635</td><td>1728</td><td>9</td><td>1750</td><td>1737</td><td>-13</td><td>153</td><td>140</td><td>&quot;F&quot;</td><td>&quot;False&quot;</td><td>&quot;731 miles&quot;</td></tr><tr><td>126594900</td><td>20130106</td><td>&quot;EV&quot;</td><td>&quot;ExpressJet Airlines Inc.: EV&quot;</td><td>&quot;N855AS&quot;</td><td>5208</td><td>&quot;ATL&quot;</td><td>&quot;AtlantaGA: Hartsfield-Jackson …</td><td>&quot;Atlanta&quot;</td><td>&quot;GA&quot;</td><td>&quot;Georgia&quot;</td><td>&quot;FWA&quot;</td><td>&quot;Fort WayneIN: Fort Wayne Inter…</td><td>&quot;Fort Wayne&quot;</td><td>&quot;IN&quot;</td><td>&quot;Indiana&quot;</td><td>1516</td><td>1514</td><td>-2</td><td>21</td><td>1535</td><td>1651</td><td>4</td><td>1658</td><td>1655</td><td>-3</td><td>102</td><td>101</td><td>&quot;False&quot;</td><td>&quot;F&quot;</td><td>&quot;508 miles&quot;</td></tr><tr><td>126620300</td><td>20130106</td><td>&quot;EV&quot;</td><td>&quot;ExpressJet Airlines Inc.: EV&quot;</td><td>&quot;N138EV&quot;</td><td>5549</td><td>&quot;ATL&quot;</td><td>&quot;AtlantaGA: Hartsfield-Jackson …</td><td>&quot;Atlanta&quot;</td><td>&quot;GA&quot;</td><td>&quot;Georgia&quot;</td><td>&quot;GSO&quot;</td><td>&quot;Greensboro/High PointNC: Piedm…</td><td>&quot;Greensboro/High Point&quot;</td><td>&quot;NC&quot;</td><td>&quot;North Carolina&quot;</td><td>1452</td><td>1458</td><td>6</td><td>27</td><td>1525</td><td>1611</td><td>4</td><td>1609</td><td>1615</td><td>6</td><td>77</td><td>77</td><td>&quot;False&quot;</td><td>&quot;False&quot;</td><td>&quot;306 miles&quot;</td></tr></tbody></table></div>"
      ],
      "text/plain": [
       "shape: (1_191_805, 31)\n",
       "┌───────────┬───────────┬───────────┬───────────┬───┬───────────┬───────────┬──────────┬───────────┐\n",
       "│ TRANSACTI ┆ FLIGHTDAT ┆ AIRLINECO ┆ AIRLINENA ┆ … ┆ ACTUALELA ┆ CANCELLED ┆ DIVERTED ┆ DISTANCE  │\n",
       "│ ONID      ┆ E         ┆ DE        ┆ ME        ┆   ┆ PSEDTIME  ┆ ---       ┆ ---      ┆ ---       │\n",
       "│ ---       ┆ ---       ┆ ---       ┆ ---       ┆   ┆ ---       ┆ str       ┆ str      ┆ str       │\n",
       "│ i64       ┆ i64       ┆ str       ┆ str       ┆   ┆ i32       ┆           ┆          ┆           │\n",
       "╞═══════════╪═══════════╪═══════════╪═══════════╪═══╪═══════════╪═══════════╪══════════╪═══════════╡\n",
       "│ 54548800  ┆ 20020101  ┆ WN        ┆ Southwest ┆ … ┆ 87        ┆ F         ┆ False    ┆ 580 miles │\n",
       "│           ┆           ┆           ┆ Airlines  ┆   ┆           ┆           ┆          ┆           │\n",
       "│           ┆           ┆           ┆ Co.: WN   ┆   ┆           ┆           ┆          ┆           │\n",
       "│ 55872300  ┆ 20020101  ┆ CO        ┆ Continent ┆ … ┆ 119       ┆ False     ┆ F        ┆ 744 miles │\n",
       "│           ┆           ┆           ┆ al Air    ┆   ┆           ┆           ┆          ┆           │\n",
       "│           ┆           ┆           ┆ Lines     ┆   ┆           ┆           ┆          ┆           │\n",
       "│           ┆           ┆           ┆ Inc.: CO  ┆   ┆           ┆           ┆          ┆           │\n",
       "│ 54388800  ┆ 20020101  ┆ WN        ┆ Southwest ┆ … ┆ 102       ┆ F         ┆ False    ┆ 718 miles │\n",
       "│           ┆           ┆           ┆ Airlines  ┆   ┆           ┆           ┆          ┆           │\n",
       "│           ┆           ┆           ┆ Co.: WN   ┆   ┆           ┆           ┆          ┆           │\n",
       "│ 54486500  ┆ 20020101  ┆ WN        ┆ Southwest ┆ … ┆ 83        ┆ 0         ┆ 0        ┆ 487 miles │\n",
       "│           ┆           ┆           ┆ Airlines  ┆   ┆           ┆           ┆          ┆           │\n",
       "│           ┆           ┆           ┆ Co.: WN   ┆   ┆           ┆           ┆          ┆           │\n",
       "│ 55878700  ┆ 20020103  ┆ CO        ┆ Continent ┆ … ┆ 114       ┆ F         ┆ False    ┆ 744 miles │\n",
       "│           ┆           ┆           ┆ al Air    ┆   ┆           ┆           ┆          ┆           │\n",
       "│           ┆           ┆           ┆ Lines     ┆   ┆           ┆           ┆          ┆           │\n",
       "│           ┆           ┆           ┆ Inc.: CO  ┆   ┆           ┆           ┆          ┆           │\n",
       "│ …         ┆ …         ┆ …         ┆ …         ┆ … ┆ …         ┆ …         ┆ …        ┆ …         │\n",
       "│ 126750200 ┆ 20130106  ┆ EV        ┆ ExpressJe ┆ … ┆ 135       ┆ 0         ┆ 0        ┆ 721 miles │\n",
       "│           ┆           ┆           ┆ t         ┆   ┆           ┆           ┆          ┆           │\n",
       "│           ┆           ┆           ┆ Airlines  ┆   ┆           ┆           ┆          ┆           │\n",
       "│           ┆           ┆           ┆ Inc.: EV  ┆   ┆           ┆           ┆          ┆           │\n",
       "│ 127294500 ┆ 20130106  ┆ DL        ┆ Delta Air ┆ … ┆ 150       ┆ False     ┆ F        ┆ 731 miles │\n",
       "│           ┆           ┆           ┆ Lines     ┆   ┆           ┆           ┆          ┆           │\n",
       "│           ┆           ┆           ┆ Inc.: DL  ┆   ┆           ┆           ┆          ┆           │\n",
       "│ 127294900 ┆ 20130106  ┆ DL        ┆ Delta Air ┆ … ┆ 140       ┆ F         ┆ False    ┆ 731 miles │\n",
       "│           ┆           ┆           ┆ Lines     ┆   ┆           ┆           ┆          ┆           │\n",
       "│           ┆           ┆           ┆ Inc.: DL  ┆   ┆           ┆           ┆          ┆           │\n",
       "│ 126594900 ┆ 20130106  ┆ EV        ┆ ExpressJe ┆ … ┆ 101       ┆ False     ┆ F        ┆ 508 miles │\n",
       "│           ┆           ┆           ┆ t         ┆   ┆           ┆           ┆          ┆           │\n",
       "│           ┆           ┆           ┆ Airlines  ┆   ┆           ┆           ┆          ┆           │\n",
       "│           ┆           ┆           ┆ Inc.: EV  ┆   ┆           ┆           ┆          ┆           │\n",
       "│ 126620300 ┆ 20130106  ┆ EV        ┆ ExpressJe ┆ … ┆ 77        ┆ False     ┆ False    ┆ 306 miles │\n",
       "│           ┆           ┆           ┆ t         ┆   ┆           ┆           ┆          ┆           │\n",
       "│           ┆           ┆           ┆ Airlines  ┆   ┆           ┆           ┆          ┆           │\n",
       "│           ┆           ┆           ┆ Inc.: EV  ┆   ┆           ┆           ┆          ┆           │\n",
       "└───────────┴───────────┴───────────┴───────────┴───┴───────────┴───────────┴──────────┴───────────┘"
      ]
     },
     "execution_count": 5,
     "metadata": {},
     "output_type": "execute_result"
    }
   ],
   "source": [
    "initial_df = lf.collect()\n",
    "\n",
    "initial_df"
   ]
  },
  {
   "cell_type": "markdown",
   "metadata": {},
   "source": [
    "### Gain Some High-Level Statistical Information About the Data"
   ]
  },
  {
   "cell_type": "code",
   "execution_count": 6,
   "metadata": {},
   "outputs": [
    {
     "data": {
      "text/html": [
       "<div><style>\n",
       ".dataframe > thead > tr,\n",
       ".dataframe > tbody > tr {\n",
       "  text-align: right;\n",
       "  white-space: pre-wrap;\n",
       "}\n",
       "</style>\n",
       "<small>shape: (9, 32)</small><table border=\"1\" class=\"dataframe\"><thead><tr><th>statistic</th><th>TRANSACTIONID</th><th>FLIGHTDATE</th><th>AIRLINECODE</th><th>AIRLINENAME</th><th>TAILNUM</th><th>FLIGHTNUM</th><th>ORIGINAIRPORTCODE</th><th>ORIGAIRPORTNAME</th><th>ORIGINCITYNAME</th><th>ORIGINSTATE</th><th>ORIGINSTATENAME</th><th>DESTAIRPORTCODE</th><th>DESTAIRPORTNAME</th><th>DESTCITYNAME</th><th>DESTSTATE</th><th>DESTSTATENAME</th><th>CRSDEPTIME</th><th>DEPTIME</th><th>DEPDELAY</th><th>TAXIOUT</th><th>WHEELSOFF</th><th>WHEELSON</th><th>TAXIIN</th><th>RSARRTIME</th><th>ARRTIME</th><th>ARRDELAY</th><th>CRSELAPSEDTIME</th><th>ACTUALELAPSEDTIME</th><th>CANCELLED</th><th>DIVERTED</th><th>DISTANCE</th></tr><tr><td>str</td><td>f64</td><td>f64</td><td>str</td><td>str</td><td>str</td><td>f64</td><td>str</td><td>str</td><td>str</td><td>str</td><td>str</td><td>str</td><td>str</td><td>str</td><td>str</td><td>str</td><td>f64</td><td>f64</td><td>f64</td><td>f64</td><td>f64</td><td>f64</td><td>f64</td><td>f64</td><td>f64</td><td>f64</td><td>f64</td><td>f64</td><td>str</td><td>str</td><td>str</td></tr></thead><tbody><tr><td>&quot;count&quot;</td><td>1.191805e6</td><td>1.191805e6</td><td>&quot;1191805&quot;</td><td>&quot;1191805&quot;</td><td>&quot;1034988&quot;</td><td>1.191805e6</td><td>&quot;1191805&quot;</td><td>&quot;1191805&quot;</td><td>&quot;1191805&quot;</td><td>&quot;1180963&quot;</td><td>&quot;1180963&quot;</td><td>&quot;1191805&quot;</td><td>&quot;1191805&quot;</td><td>&quot;1191805&quot;</td><td>&quot;1180967&quot;</td><td>&quot;1180967&quot;</td><td>1.191805e6</td><td>1.16347e6</td><td>1.16347e6</td><td>1.011833e6</td><td>1.011791e6</td><td>1.010225e6</td><td>1.01032e6</td><td>1.191805e6</td><td>1.161439e6</td><td>1.160545e6</td><td>1.191383e6</td><td>1.160545e6</td><td>&quot;1191805&quot;</td><td>&quot;1191805&quot;</td><td>&quot;1191805&quot;</td></tr><tr><td>&quot;null_count&quot;</td><td>0.0</td><td>0.0</td><td>&quot;0&quot;</td><td>&quot;0&quot;</td><td>&quot;156817&quot;</td><td>0.0</td><td>&quot;0&quot;</td><td>&quot;0&quot;</td><td>&quot;0&quot;</td><td>&quot;10842&quot;</td><td>&quot;10842&quot;</td><td>&quot;0&quot;</td><td>&quot;0&quot;</td><td>&quot;0&quot;</td><td>&quot;10838&quot;</td><td>&quot;10838&quot;</td><td>0.0</td><td>28335.0</td><td>28335.0</td><td>179972.0</td><td>180014.0</td><td>181580.0</td><td>181485.0</td><td>0.0</td><td>30366.0</td><td>31260.0</td><td>422.0</td><td>31260.0</td><td>&quot;0&quot;</td><td>&quot;0&quot;</td><td>&quot;0&quot;</td></tr><tr><td>&quot;mean&quot;</td><td>7.0687e7</td><td>2.0038e7</td><td>null</td><td>null</td><td>null</td><td>1641.100645</td><td>null</td><td>null</td><td>null</td><td>null</td><td>null</td><td>null</td><td>null</td><td>null</td><td>null</td><td>null</td><td>1326.644589</td><td>1341.898961</td><td>7.28634</td><td>15.336503</td><td>1363.798254</td><td>1486.797567</td><td>6.462265</td><td>1490.941551</td><td>1493.24412</td><td>4.836588</td><td>126.677038</td><td>124.487399</td><td>null</td><td>null</td><td>null</td></tr><tr><td>&quot;std&quot;</td><td>4.6780e7</td><td>75409.764506</td><td>null</td><td>null</td><td>null</td><td>1588.957597</td><td>null</td><td>null</td><td>null</td><td>null</td><td>null</td><td>null</td><td>null</td><td>null</td><td>null</td><td>null</td><td>477.674894</td><td>475.536395</td><td>29.746719</td><td>10.389719</td><td>478.143338</td><td>496.289963</td><td>8.397914</td><td>495.867298</td><td>497.000402</td><td>31.826196</td><td>69.911843</td><td>69.827749</td><td>null</td><td>null</td><td>null</td></tr><tr><td>&quot;min&quot;</td><td>100.0</td><td>1.9920101e7</td><td>&quot;9E&quot;</td><td>&quot;ATA Airlines d/b/a ATA: TZ&quot;</td><td>&quot;&#x27;144DA&quot;</td><td>1.0</td><td>&quot;ABE&quot;</td><td>&quot;AberdeenSD: Aberdeen Regional&quot;</td><td>&quot;Aberdeen&quot;</td><td>&quot;AK&quot;</td><td>&quot;Alabama&quot;</td><td>&quot;ABE&quot;</td><td>&quot;AberdeenSD: Aberdeen Regional&quot;</td><td>&quot;Aberdeen&quot;</td><td>&quot;AK&quot;</td><td>&quot;Alabama&quot;</td><td>0.0</td><td>1.0</td><td>-120.0</td><td>0.0</td><td>1.0</td><td>1.0</td><td>0.0</td><td>0.0</td><td>1.0</td><td>-95.0</td><td>14.0</td><td>6.0</td><td>&quot;0&quot;</td><td>&quot;0&quot;</td><td>&quot;100 miles&quot;</td></tr><tr><td>&quot;25%&quot;</td><td>2.97952e7</td><td>1.9970902e7</td><td>null</td><td>null</td><td>null</td><td>521.0</td><td>null</td><td>null</td><td>null</td><td>null</td><td>null</td><td>null</td><td>null</td><td>null</td><td>null</td><td>null</td><td>925.0</td><td>932.0</td><td>-3.0</td><td>10.0</td><td>947.0</td><td>1112.0</td><td>4.0</td><td>1115.0</td><td>1116.0</td><td>-10.0</td><td>75.0</td><td>73.0</td><td>null</td><td>null</td><td>null</td></tr><tr><td>&quot;50%&quot;</td><td>5.95903e7</td><td>2.0030102e7</td><td>null</td><td>null</td><td>null</td><td>1159.0</td><td>null</td><td>null</td><td>null</td><td>null</td><td>null</td><td>null</td><td>null</td><td>null</td><td>null</td><td>null</td><td>1325.0</td><td>1331.0</td><td>0.0</td><td>13.0</td><td>1345.0</td><td>1517.0</td><td>5.0</td><td>1520.0</td><td>1522.0</td><td>-2.0</td><td>108.0</td><td>106.0</td><td>null</td><td>null</td><td>null</td></tr><tr><td>&quot;75%&quot;</td><td>1.180231e8</td><td>2.0110525e7</td><td>null</td><td>null</td><td>null</td><td>2039.0</td><td>null</td><td>null</td><td>null</td><td>null</td><td>null</td><td>null</td><td>null</td><td>null</td><td>null</td><td>null</td><td>1725.0</td><td>1732.0</td><td>5.0</td><td>18.0</td><td>1748.0</td><td>1910.0</td><td>8.0</td><td>1911.0</td><td>1915.0</td><td>9.0</td><td>158.0</td><td>156.0</td><td>null</td><td>null</td><td>null</td></tr><tr><td>&quot;max&quot;</td><td>1.478182e8</td><td>2.0160531e7</td><td>&quot;YV&quot;</td><td>&quot;Virgin America: VX&quot;</td><td>&quot;n816ca&quot;</td><td>9899.0</td><td>&quot;YUM&quot;</td><td>&quot;YumaAZ: Yuma MCAS/Yuma Interna…</td><td>&quot;Yuma&quot;</td><td>&quot;WY&quot;</td><td>&quot;Wyoming&quot;</td><td>&quot;YUM&quot;</td><td>&quot;YumaAZ: Yuma MCAS/Yuma Interna…</td><td>&quot;Yuma&quot;</td><td>&quot;WY&quot;</td><td>&quot;Wyoming&quot;</td><td>2400.0</td><td>2400.0</td><td>1477.0</td><td>1439.0</td><td>2400.0</td><td>2400.0</td><td>1439.0</td><td>2400.0</td><td>2400.0</td><td>1473.0</td><td>705.0</td><td>700.0</td><td>&quot;True&quot;</td><td>&quot;True&quot;</td><td>&quot;999 miles&quot;</td></tr></tbody></table></div>"
      ],
      "text/plain": [
       "shape: (9, 32)\n",
       "┌───────────┬───────────┬───────────┬───────────┬───┬───────────┬───────────┬──────────┬───────────┐\n",
       "│ statistic ┆ TRANSACTI ┆ FLIGHTDAT ┆ AIRLINECO ┆ … ┆ ACTUALELA ┆ CANCELLED ┆ DIVERTED ┆ DISTANCE  │\n",
       "│ ---       ┆ ONID      ┆ E         ┆ DE        ┆   ┆ PSEDTIME  ┆ ---       ┆ ---      ┆ ---       │\n",
       "│ str       ┆ ---       ┆ ---       ┆ ---       ┆   ┆ ---       ┆ str       ┆ str      ┆ str       │\n",
       "│           ┆ f64       ┆ f64       ┆ str       ┆   ┆ f64       ┆           ┆          ┆           │\n",
       "╞═══════════╪═══════════╪═══════════╪═══════════╪═══╪═══════════╪═══════════╪══════════╪═══════════╡\n",
       "│ count     ┆ 1.191805e ┆ 1.191805e ┆ 1191805   ┆ … ┆ 1.160545e ┆ 1191805   ┆ 1191805  ┆ 1191805   │\n",
       "│           ┆ 6         ┆ 6         ┆           ┆   ┆ 6         ┆           ┆          ┆           │\n",
       "│ null_coun ┆ 0.0       ┆ 0.0       ┆ 0         ┆ … ┆ 31260.0   ┆ 0         ┆ 0        ┆ 0         │\n",
       "│ t         ┆           ┆           ┆           ┆   ┆           ┆           ┆          ┆           │\n",
       "│ mean      ┆ 7.0687e7  ┆ 2.0038e7  ┆ null      ┆ … ┆ 124.48739 ┆ null      ┆ null     ┆ null      │\n",
       "│           ┆           ┆           ┆           ┆   ┆ 9         ┆           ┆          ┆           │\n",
       "│ std       ┆ 4.6780e7  ┆ 75409.764 ┆ null      ┆ … ┆ 69.827749 ┆ null      ┆ null     ┆ null      │\n",
       "│           ┆           ┆ 506       ┆           ┆   ┆           ┆           ┆          ┆           │\n",
       "│ min       ┆ 100.0     ┆ 1.9920101 ┆ 9E        ┆ … ┆ 6.0       ┆ 0         ┆ 0        ┆ 100 miles │\n",
       "│           ┆           ┆ e7        ┆           ┆   ┆           ┆           ┆          ┆           │\n",
       "│ 25%       ┆ 2.97952e7 ┆ 1.9970902 ┆ null      ┆ … ┆ 73.0      ┆ null      ┆ null     ┆ null      │\n",
       "│           ┆           ┆ e7        ┆           ┆   ┆           ┆           ┆          ┆           │\n",
       "│ 50%       ┆ 5.95903e7 ┆ 2.0030102 ┆ null      ┆ … ┆ 106.0     ┆ null      ┆ null     ┆ null      │\n",
       "│           ┆           ┆ e7        ┆           ┆   ┆           ┆           ┆          ┆           │\n",
       "│ 75%       ┆ 1.180231e ┆ 2.0110525 ┆ null      ┆ … ┆ 156.0     ┆ null      ┆ null     ┆ null      │\n",
       "│           ┆ 8         ┆ e7        ┆           ┆   ┆           ┆           ┆          ┆           │\n",
       "│ max       ┆ 1.478182e ┆ 2.0160531 ┆ YV        ┆ … ┆ 700.0     ┆ True      ┆ True     ┆ 999 miles │\n",
       "│           ┆ 8         ┆ e7        ┆           ┆   ┆           ┆           ┆          ┆           │\n",
       "└───────────┴───────────┴───────────┴───────────┴───┴───────────┴───────────┴──────────┴───────────┘"
      ]
     },
     "execution_count": 6,
     "metadata": {},
     "output_type": "execute_result"
    }
   ],
   "source": [
    "lf.describe()"
   ]
  },
  {
   "cell_type": "markdown",
   "metadata": {},
   "source": [
    "### Retrieve count of Unique Values for Each Column"
   ]
  },
  {
   "cell_type": "code",
   "execution_count": 7,
   "metadata": {},
   "outputs": [
    {
     "name": "stderr",
     "output_type": "stream",
     "text": [
      "/var/folders/93/v_c2ph_17t97zdkzc4_ccjtw0000gn/T/ipykernel_30346/1427469590.py:2: PerformanceWarning: Determining the column names of a LazyFrame requires resolving its schema, which is a potentially expensive operation. Use `LazyFrame.collect_schema().names()` to get the column names without this warning.\n",
      "  [pl.col(col).n_unique().alias(f\"{col}_unique_count\") for col in lf.columns]\n"
     ]
    },
    {
     "name": "stdout",
     "output_type": "stream",
     "text": [
      "shape: (1, 31)\n",
      "┌─────┬─────┬─────┬─────┬─────┬─────┬─────┬─────┬─────┬─────┬─────┬─────┬─────┬─────┬─────┬─────┬─────┬─────┬─────┬─────┬─────┬─────┬─────┬─────┬─────┬─────┬─────┬─────┬─────┬─────┬─────┐\n",
      "│ TRA ┆ FLI ┆ AIR ┆ AIR ┆ TAI ┆ FLI ┆ ORI ┆ ORI ┆ ORI ┆ ORI ┆ ORI ┆ DES ┆ DES ┆ DES ┆ DES ┆ DES ┆ CRS ┆ DEP ┆ DEP ┆ TAX ┆ WHE ┆ WHE ┆ TAX ┆ RSA ┆ ARR ┆ ARR ┆ CRS ┆ ACT ┆ CAN ┆ DIV ┆ DIS │\n",
      "│ NSA ┆ GHT ┆ LIN ┆ LIN ┆ LNU ┆ GHT ┆ GIN ┆ GAI ┆ GIN ┆ GIN ┆ GIN ┆ TAI ┆ TAI ┆ TCI ┆ TST ┆ TST ┆ DEP ┆ TIM ┆ DEL ┆ IOU ┆ ELS ┆ ELS ┆ IIN ┆ RRT ┆ TIM ┆ DEL ┆ ELA ┆ UAL ┆ CEL ┆ ERT ┆ TAN │\n",
      "│ CTI ┆ DAT ┆ ECO ┆ ENA ┆ M_u ┆ NUM ┆ AIR ┆ RPO ┆ CIT ┆ STA ┆ STA ┆ RPO ┆ RPO ┆ TYN ┆ ATE ┆ ATE ┆ TIM ┆ E_u ┆ AY_ ┆ T_u ┆ OFF ┆ ON_ ┆ _un ┆ IME ┆ E_u ┆ AY_ ┆ PSE ┆ ELA ┆ LED ┆ ED_ ┆ CE_ │\n",
      "│ ONI ┆ E_u ┆ DE_ ┆ ME_ ┆ niq ┆ _un ┆ POR ┆ RTN ┆ YNA ┆ TE_ ┆ TEN ┆ RTC ┆ RTN ┆ AME ┆ _un ┆ NAM ┆ E_u ┆ niq ┆ uni ┆ niq ┆ _un ┆ uni ┆ iqu ┆ _un ┆ niq ┆ uni ┆ DTI ┆ PSE ┆ _un ┆ uni ┆ uni │\n",
      "│ D_u ┆ niq ┆ uni ┆ uni ┆ ue_ ┆ iqu ┆ TCO ┆ AME ┆ ME_ ┆ uni ┆ AME ┆ ODE ┆ AME ┆ _un ┆ iqu ┆ E_u ┆ niq ┆ ue_ ┆ que ┆ ue_ ┆ iqu ┆ que ┆ e_c ┆ iqu ┆ ue_ ┆ que ┆ ME_ ┆ DTI ┆ iqu ┆ que ┆ que │\n",
      "│ niq ┆ ue_ ┆ que ┆ que ┆ cou ┆ e_c ┆ DE_ ┆ _un ┆ uni ┆ que ┆ _un ┆ _un ┆ _un ┆ iqu ┆ e_c ┆ niq ┆ ue_ ┆ cou ┆ _co ┆ cou ┆ e_c ┆ _co ┆ oun ┆ e_c ┆ cou ┆ _co ┆ uni ┆ ME_ ┆ e_c ┆ _co ┆ _co │\n",
      "│ ue_ ┆ cou ┆ _co ┆ _co ┆ nt  ┆ oun ┆ uni ┆ iqu ┆ que ┆ _co ┆ iqu ┆ iqu ┆ iqu ┆ e_c ┆ oun ┆ ue_ ┆ cou ┆ nt  ┆ unt ┆ nt  ┆ oun ┆ unt ┆ t   ┆ oun ┆ nt  ┆ unt ┆ que ┆ uni ┆ oun ┆ unt ┆ unt │\n",
      "│ cou ┆ nt  ┆ unt ┆ unt ┆ --- ┆ t   ┆ que ┆ e_c ┆ _co ┆ unt ┆ e_c ┆ e_c ┆ e_c ┆ oun ┆ t   ┆ cou ┆ nt  ┆ --- ┆ --- ┆ --- ┆ t   ┆ --- ┆ --- ┆ t   ┆ --- ┆ --- ┆ _co ┆ que ┆ t   ┆ --- ┆ --- │\n",
      "│ nt  ┆ --- ┆ --- ┆ --- ┆ u32 ┆ --- ┆ _co ┆ oun ┆ unt ┆ --- ┆ oun ┆ oun ┆ oun ┆ t   ┆ --- ┆ nt  ┆ --- ┆ u32 ┆ u32 ┆ u32 ┆ --- ┆ u32 ┆ u32 ┆ --- ┆ u32 ┆ u32 ┆ unt ┆ _co ┆ --- ┆ u32 ┆ u32 │\n",
      "│ --- ┆ u32 ┆ u32 ┆ u32 ┆     ┆ u32 ┆ unt ┆ t   ┆ --- ┆ u32 ┆ t   ┆ t   ┆ t   ┆ --- ┆ u32 ┆ --- ┆ u32 ┆     ┆     ┆     ┆ u32 ┆     ┆     ┆ u32 ┆     ┆     ┆ --- ┆ unt ┆ u32 ┆     ┆     │\n",
      "│ u32 ┆     ┆     ┆     ┆     ┆     ┆ --- ┆ --- ┆ u32 ┆     ┆ --- ┆ --- ┆ --- ┆ u32 ┆     ┆ u32 ┆     ┆     ┆     ┆     ┆     ┆     ┆     ┆     ┆     ┆     ┆ u32 ┆ --- ┆     ┆     ┆     │\n",
      "│     ┆     ┆     ┆     ┆     ┆     ┆ u32 ┆ u32 ┆     ┆     ┆ u32 ┆ u32 ┆ u32 ┆     ┆     ┆     ┆     ┆     ┆     ┆     ┆     ┆     ┆     ┆     ┆     ┆     ┆     ┆ u32 ┆     ┆     ┆     │\n",
      "╞═════╪═════╪═════╪═════╪═════╪═════╪═════╪═════╪═════╪═════╪═════╪═════╪═════╪═════╪═════╪═════╪═════╪═════╪═════╪═════╪═════╪═════╪═════╪═════╪═════╪═════╪═════╪═════╪═════╪═════╪═════╡\n",
      "│ 119 ┆ 190 ┆ 26  ┆ 26  ┆ 138 ┆ 803 ┆ 363 ┆ 363 ┆ 344 ┆ 52  ┆ 52  ┆ 364 ┆ 364 ┆ 345 ┆ 52  ┆ 52  ┆ 134 ┆ 141 ┆ 692 ┆ 255 ┆ 140 ┆ 144 ┆ 190 ┆ 143 ┆ 144 ┆ 705 ┆ 600 ┆ 646 ┆ 6   ┆ 6   ┆ 170 │\n",
      "│ 180 ┆ 2   ┆     ┆     ┆ 70  ┆ 4   ┆     ┆     ┆     ┆     ┆     ┆     ┆     ┆     ┆     ┆     ┆ 4   ┆ 3   ┆     ┆     ┆ 7   ┆ 0   ┆     ┆ 3   ┆ 1   ┆     ┆     ┆     ┆     ┆     ┆ 6   │\n",
      "│ 5   ┆     ┆     ┆     ┆     ┆     ┆     ┆     ┆     ┆     ┆     ┆     ┆     ┆     ┆     ┆     ┆     ┆     ┆     ┆     ┆     ┆     ┆     ┆     ┆     ┆     ┆     ┆     ┆     ┆     ┆     │\n",
      "└─────┴─────┴─────┴─────┴─────┴─────┴─────┴─────┴─────┴─────┴─────┴─────┴─────┴─────┴─────┴─────┴─────┴─────┴─────┴─────┴─────┴─────┴─────┴─────┴─────┴─────┴─────┴─────┴─────┴─────┴─────┘\n"
     ]
    }
   ],
   "source": [
    "unique_counts_expr = lf.select(\n",
    "    [pl.col(col).n_unique().alias(f\"{col}_unique_count\") for col in lf.columns]\n",
    ")\n",
    "\n",
    "unique_counts = unique_counts_expr.collect()\n",
    "\n",
    "pl.Config.set_tbl_cols(len(unique_counts.columns))\n",
    "\n",
    "print(unique_counts)"
   ]
  },
  {
   "cell_type": "markdown",
   "metadata": {},
   "source": [
    "### Create DataFrame of All **Unique** Airports as Well as Their Names, Codes, & Locations (City, State Code, & State Name)"
   ]
  },
  {
   "cell_type": "code",
   "execution_count": 8,
   "metadata": {},
   "outputs": [
    {
     "name": "stdout",
     "output_type": "stream",
     "text": [
      "shape: (365, 6)\n",
      "┌─────────────┬─────────────────────────┬───────────────────────┬───────┬──────────────┬───────────┐\n",
      "│ AIRPORTCODE ┆ AIRPORTNAME             ┆ CITYNAME              ┆ STATE ┆ STATENAME    ┆ UNIQUE_ID │\n",
      "│ ---         ┆ ---                     ┆ ---                   ┆ ---   ┆ ---          ┆ ---       │\n",
      "│ str         ┆ str                     ┆ str                   ┆ str   ┆ str          ┆ i64       │\n",
      "╞═════════════╪═════════════════════════╪═══════════════════════╪═══════╪══════════════╪═══════════╡\n",
      "│ FWA         ┆ Fort WayneIN: Fort      ┆ Fort Wayne            ┆ IN    ┆ Indiana      ┆ 1         │\n",
      "│             ┆ Wayne Inter…            ┆                       ┆       ┆              ┆           │\n",
      "│ BZN         ┆ BozemanMT: Bozeman      ┆ Bozeman               ┆ MT    ┆ Montana      ┆ 2         │\n",
      "│             ┆ Yellowstone…            ┆                       ┆       ┆              ┆           │\n",
      "│ RDM         ┆ Bend/RedmondOR: Roberts ┆ Bend/Redmond          ┆ OR    ┆ Oregon       ┆ 3         │\n",
      "│             ┆ Field                   ┆                       ┆       ┆              ┆           │\n",
      "│ BKG         ┆ BransonMO: Branson      ┆ Branson               ┆ MO    ┆ Missouri     ┆ 4         │\n",
      "│             ┆ Airport                 ┆                       ┆       ┆              ┆           │\n",
      "│ MQT         ┆ MarquetteMI: Sawyer     ┆ Marquette             ┆ MI    ┆ Michigan     ┆ 5         │\n",
      "│             ┆ Internatio…             ┆                       ┆       ┆              ┆           │\n",
      "│ …           ┆ …                       ┆ …                     ┆ …     ┆ …            ┆ …         │\n",
      "│ BLI         ┆ BellinghamWA:           ┆ Bellingham            ┆ WA    ┆ Washington   ┆ 361       │\n",
      "│             ┆ Bellingham Inter…       ┆                       ┆       ┆              ┆           │\n",
      "│ FSM         ┆ Fort SmithAR: Fort      ┆ Fort Smith            ┆ AR    ┆ Arkansas     ┆ 362       │\n",
      "│             ┆ Smith Regio…            ┆                       ┆       ┆              ┆           │\n",
      "│ AVP         ┆ Scranton/Wilkes-BarrePA ┆ Scranton/Wilkes-Barre ┆ PA    ┆ Pennsylvania ┆ 363       │\n",
      "│             ┆ : Wilke…                ┆                       ┆       ┆              ┆           │\n",
      "│ LEX         ┆ LexingtonKY: Blue Grass ┆ Lexington             ┆ KY    ┆ Kentucky     ┆ 364       │\n",
      "│ DLH         ┆ DuluthMN: Duluth        ┆ Duluth                ┆ MN    ┆ Minnesota    ┆ 365       │\n",
      "│             ┆ International           ┆                       ┆       ┆              ┆           │\n",
      "└─────────────┴─────────────────────────┴───────────────────────┴───────┴──────────────┴───────────┘\n"
     ]
    }
   ],
   "source": [
    "# Extract these columns: ORIGINAIRPORTCODE, ORIGAIRPORTNAME, ORIGINCITYNAME, ORIGINSTATE, ORIGINSTATENAME\t\n",
    "# Then extract these columns:DESTAIRPORTCODE, DESTAIRPORTNAME, DESTCITYNAME, DESTSTATE, DESTSTATENAME\n",
    "# Combine the two dataframes, making sure to only keep the unique rows\n",
    "# add a column that will be the unique id\n",
    "\n",
    "# Step 1: Extract origin columns\n",
    "origin_df = lf.select([\n",
    "    pl.col(\"ORIGINAIRPORTCODE\").alias(\"AIRPORTCODE\"),\n",
    "    pl.col(\"ORIGAIRPORTNAME\").alias(\"AIRPORTNAME\"),\n",
    "    pl.col(\"ORIGINCITYNAME\").alias(\"CITYNAME\"),\n",
    "    pl.col(\"ORIGINSTATE\").alias(\"STATE\"),\n",
    "    pl.col(\"ORIGINSTATENAME\").alias(\"STATENAME\")\n",
    "])\n",
    "\n",
    "# Step 2: Extract destination columns\n",
    "destination_df = lf.select([\n",
    "    pl.col(\"DESTAIRPORTCODE\").alias(\"AIRPORTCODE\"),\n",
    "    pl.col(\"DESTAIRPORTNAME\").alias(\"AIRPORTNAME\"),\n",
    "    pl.col(\"DESTCITYNAME\").alias(\"CITYNAME\"),\n",
    "    pl.col(\"DESTSTATE\").alias(\"STATE\"),\n",
    "    pl.col(\"DESTSTATENAME\").alias(\"STATENAME\")\n",
    "])\n",
    "\n",
    "# Step 3: Combine origin and destination LazyFrames\n",
    "combined_lf = pl.concat([origin_df, destination_df])\n",
    "\n",
    "# Step 4: Keep only unique rows\n",
    "unique_lf = combined_lf.unique()\n",
    "\n",
    "# Step 5: Materialize LazyFrame and add a unique ID column\n",
    "unique_df = unique_lf.collect()  # Convert LazyFrame to DataFrame\n",
    "airports_df = unique_df.with_columns(\n",
    "    pl.arange(1, unique_df.height + 1).alias(\"UNIQUE_ID\")\n",
    ")\n",
    "\n",
    "# Output the final DataFrame\n",
    "print(airports_df)"
   ]
  },
  {
   "cell_type": "markdown",
   "metadata": {},
   "source": [
    "### Clean Up Values in Airport Names Feature"
   ]
  },
  {
   "cell_type": "code",
   "execution_count": 9,
   "metadata": {},
   "outputs": [],
   "source": [
    "airports_lf = airports_df.lazy()\n",
    "\n",
    "airports_lf = airports_lf.with_columns(\n",
    "    pl.col(\"AIRPORTNAME\").str.extract(r\":\\s*(.+)\", 1).alias(\"airport_name\")\n",
    ")"
   ]
  },
  {
   "cell_type": "markdown",
   "metadata": {},
   "source": [
    "### Update the Feature Names & Drop Unnecessary Feature(s)"
   ]
  },
  {
   "cell_type": "code",
   "execution_count": 10,
   "metadata": {},
   "outputs": [],
   "source": [
    "airports_lf = airports_lf.rename(\n",
    "    {\n",
    "        \"AIRPORTCODE\": \"airport_code\",\n",
    "        \"CITYNAME\": \"city_name\",\n",
    "        \"STATE\": \"state\",\n",
    "        \"STATENAME\": \"state_name\",\n",
    "        \"UNIQUE_ID\": \"unique_id\"\n",
    "    }\n",
    ")\n",
    "\n",
    "airports_lf = airports_lf.drop(\"AIRPORTNAME\")"
   ]
  },
  {
   "cell_type": "markdown",
   "metadata": {},
   "source": [
    "### Save DataFrame of All **Unique** Airports & Their Respective Data to CSV File For Later Use"
   ]
  },
  {
   "cell_type": "code",
   "execution_count": 11,
   "metadata": {},
   "outputs": [
    {
     "name": "stdout",
     "output_type": "stream",
     "text": [
      "airports_df saved to 'airports.csv'\n"
     ]
    }
   ],
   "source": [
    "# Save airports_lf to a CSV file\n",
    "\n",
    "airports_df = airports_lf.collect()\n",
    "airports_df.write_csv(\"../import/airports.csv\")\n",
    "print(\"airports_df saved to 'airports.csv'\")\n",
    "\n",
    "### *** this code may or may not be commented out because so I do not want\n",
    "### to run it repeatedlywhen working through the rest of the code ***"
   ]
  },
  {
   "cell_type": "code",
   "execution_count": 12,
   "metadata": {},
   "outputs": [
    {
     "data": {
      "text/html": [
       "<div><style>\n",
       ".dataframe > thead > tr,\n",
       ".dataframe > tbody > tr {\n",
       "  text-align: right;\n",
       "  white-space: pre-wrap;\n",
       "}\n",
       "</style>\n",
       "<small>shape: (365, 6)</small><table border=\"1\" class=\"dataframe\"><thead><tr><th>airport_code</th><th>city_name</th><th>state</th><th>state_name</th><th>unique_id</th><th>airport_name</th></tr><tr><td>str</td><td>str</td><td>str</td><td>str</td><td>i64</td><td>str</td></tr></thead><tbody><tr><td>&quot;FWA&quot;</td><td>&quot;Fort Wayne&quot;</td><td>&quot;IN&quot;</td><td>&quot;Indiana&quot;</td><td>1</td><td>&quot;Fort Wayne International&quot;</td></tr><tr><td>&quot;BZN&quot;</td><td>&quot;Bozeman&quot;</td><td>&quot;MT&quot;</td><td>&quot;Montana&quot;</td><td>2</td><td>&quot;Bozeman Yellowstone Internatio…</td></tr><tr><td>&quot;RDM&quot;</td><td>&quot;Bend/Redmond&quot;</td><td>&quot;OR&quot;</td><td>&quot;Oregon&quot;</td><td>3</td><td>&quot;Roberts Field&quot;</td></tr><tr><td>&quot;BKG&quot;</td><td>&quot;Branson&quot;</td><td>&quot;MO&quot;</td><td>&quot;Missouri&quot;</td><td>4</td><td>&quot;Branson Airport&quot;</td></tr><tr><td>&quot;MQT&quot;</td><td>&quot;Marquette&quot;</td><td>&quot;MI&quot;</td><td>&quot;Michigan&quot;</td><td>5</td><td>&quot;Sawyer International&quot;</td></tr><tr><td>&hellip;</td><td>&hellip;</td><td>&hellip;</td><td>&hellip;</td><td>&hellip;</td><td>&hellip;</td></tr><tr><td>&quot;BLI&quot;</td><td>&quot;Bellingham&quot;</td><td>&quot;WA&quot;</td><td>&quot;Washington&quot;</td><td>361</td><td>&quot;Bellingham International&quot;</td></tr><tr><td>&quot;FSM&quot;</td><td>&quot;Fort Smith&quot;</td><td>&quot;AR&quot;</td><td>&quot;Arkansas&quot;</td><td>362</td><td>&quot;Fort Smith Regional&quot;</td></tr><tr><td>&quot;AVP&quot;</td><td>&quot;Scranton/Wilkes-Barre&quot;</td><td>&quot;PA&quot;</td><td>&quot;Pennsylvania&quot;</td><td>363</td><td>&quot;Wilkes Barre Scranton Internat…</td></tr><tr><td>&quot;LEX&quot;</td><td>&quot;Lexington&quot;</td><td>&quot;KY&quot;</td><td>&quot;Kentucky&quot;</td><td>364</td><td>&quot;Blue Grass&quot;</td></tr><tr><td>&quot;DLH&quot;</td><td>&quot;Duluth&quot;</td><td>&quot;MN&quot;</td><td>&quot;Minnesota&quot;</td><td>365</td><td>&quot;Duluth International&quot;</td></tr></tbody></table></div>"
      ],
      "text/plain": [
       "shape: (365, 6)\n",
       "┌──────────────┬───────────────────────┬───────┬──────────────┬───────────┬────────────────────────┐\n",
       "│ airport_code ┆ city_name             ┆ state ┆ state_name   ┆ unique_id ┆ airport_name           │\n",
       "│ ---          ┆ ---                   ┆ ---   ┆ ---          ┆ ---       ┆ ---                    │\n",
       "│ str          ┆ str                   ┆ str   ┆ str          ┆ i64       ┆ str                    │\n",
       "╞══════════════╪═══════════════════════╪═══════╪══════════════╪═══════════╪════════════════════════╡\n",
       "│ FWA          ┆ Fort Wayne            ┆ IN    ┆ Indiana      ┆ 1         ┆ Fort Wayne             │\n",
       "│              ┆                       ┆       ┆              ┆           ┆ International          │\n",
       "│ BZN          ┆ Bozeman               ┆ MT    ┆ Montana      ┆ 2         ┆ Bozeman Yellowstone    │\n",
       "│              ┆                       ┆       ┆              ┆           ┆ Internatio…            │\n",
       "│ RDM          ┆ Bend/Redmond          ┆ OR    ┆ Oregon       ┆ 3         ┆ Roberts Field          │\n",
       "│ BKG          ┆ Branson               ┆ MO    ┆ Missouri     ┆ 4         ┆ Branson Airport        │\n",
       "│ MQT          ┆ Marquette             ┆ MI    ┆ Michigan     ┆ 5         ┆ Sawyer International   │\n",
       "│ …            ┆ …                     ┆ …     ┆ …            ┆ …         ┆ …                      │\n",
       "│ BLI          ┆ Bellingham            ┆ WA    ┆ Washington   ┆ 361       ┆ Bellingham             │\n",
       "│              ┆                       ┆       ┆              ┆           ┆ International          │\n",
       "│ FSM          ┆ Fort Smith            ┆ AR    ┆ Arkansas     ┆ 362       ┆ Fort Smith Regional    │\n",
       "│ AVP          ┆ Scranton/Wilkes-Barre ┆ PA    ┆ Pennsylvania ┆ 363       ┆ Wilkes Barre Scranton  │\n",
       "│              ┆                       ┆       ┆              ┆           ┆ Internat…              │\n",
       "│ LEX          ┆ Lexington             ┆ KY    ┆ Kentucky     ┆ 364       ┆ Blue Grass             │\n",
       "│ DLH          ┆ Duluth                ┆ MN    ┆ Minnesota    ┆ 365       ┆ Duluth International   │\n",
       "└──────────────┴───────────────────────┴───────┴──────────────┴───────────┴────────────────────────┘"
      ]
     },
     "execution_count": 12,
     "metadata": {},
     "output_type": "execute_result"
    }
   ],
   "source": [
    "airports_df"
   ]
  },
  {
   "cell_type": "markdown",
   "metadata": {},
   "source": [
    "### Convert Airports DataFrame to LazyFrame & Join it With the Main LazyFrame"
   ]
  },
  {
   "cell_type": "code",
   "execution_count": 13,
   "metadata": {},
   "outputs": [],
   "source": [
    "lf = lf.with_columns(\n",
    "    pl.col(\"AIRLINENAME\").str.extract(r\"([^:]+)\", 1).alias(\"airline_name_inter\")\n",
    ")"
   ]
  },
  {
   "cell_type": "code",
   "execution_count": 14,
   "metadata": {},
   "outputs": [
    {
     "name": "stdout",
     "output_type": "stream",
     "text": [
      "Schema([('TRANSACTIONID', Int64), ('FLIGHTDATE', Int64), ('AIRLINECODE', String), ('AIRLINENAME', String), ('TAILNUM', String), ('FLIGHTNUM', Int64), ('ORIGINAIRPORTCODE', String), ('ORIGAIRPORTNAME', String), ('ORIGINCITYNAME', String), ('ORIGINSTATE', String), ('ORIGINSTATENAME', String), ('DESTAIRPORTCODE', String), ('DESTAIRPORTNAME', String), ('DESTCITYNAME', String), ('DESTSTATE', String), ('DESTSTATENAME', String), ('CRSDEPTIME', Int32), ('DEPTIME', Int32), ('DEPDELAY', Int32), ('TAXIOUT', Int32), ('WHEELSOFF', Int32), ('WHEELSON', Int32), ('TAXIIN', Int32), ('RSARRTIME', Int32), ('ARRTIME', Int32), ('ARRDELAY', Int16), ('CRSELAPSEDTIME', Int32), ('ACTUALELAPSEDTIME', Int32), ('CANCELLED', String), ('DIVERTED', String), ('DISTANCE', String), ('airline_name_inter', String)])\n"
     ]
    },
    {
     "name": "stderr",
     "output_type": "stream",
     "text": [
      "/var/folders/93/v_c2ph_17t97zdkzc4_ccjtw0000gn/T/ipykernel_30346/4079516146.py:1: PerformanceWarning: Resolving the schema of a LazyFrame is a potentially expensive operation. Use `LazyFrame.collect_schema()` to get the schema without this warning.\n",
      "  print(lf.schema)\n"
     ]
    }
   ],
   "source": [
    "print(lf.schema)"
   ]
  },
  {
   "cell_type": "code",
   "execution_count": 15,
   "metadata": {},
   "outputs": [
    {
     "name": "stderr",
     "output_type": "stream",
     "text": [
      "/var/folders/93/v_c2ph_17t97zdkzc4_ccjtw0000gn/T/ipykernel_30346/551058863.py:3: PerformanceWarning: Resolving the schema of a LazyFrame is a potentially expensive operation. Use `LazyFrame.collect_schema()` to get the schema without this warning.\n",
      "  airports_lf_lazy.schema\n"
     ]
    },
    {
     "data": {
      "text/plain": [
       "Schema([('airport_code', String),\n",
       "        ('city_name', String),\n",
       "        ('state', String),\n",
       "        ('state_name', String),\n",
       "        ('unique_id', Int64),\n",
       "        ('airport_name', String)])"
      ]
     },
     "execution_count": 15,
     "metadata": {},
     "output_type": "execute_result"
    }
   ],
   "source": [
    "airports_lf_lazy = airports_df.lazy()\n",
    "\n",
    "airports_lf_lazy.schema"
   ]
  },
  {
   "cell_type": "code",
   "execution_count": 16,
   "metadata": {},
   "outputs": [],
   "source": [
    "airports_lf_lazy = airports_df.lazy()\n",
    "\n",
    "# Perform the first join on ORIGINAIRPORTCODE\n",
    "lf = lf.lazy()\n",
    "\n",
    "# First join for the origin airport\n",
    "lf = lf.join(airports_lf_lazy, left_on=\"ORIGINAIRPORTCODE\", right_on=\"airport_code\", how=\"left\") \\\n",
    "       .with_columns(pl.col(\"unique_id\").alias(\"origin_airport\"))\n",
    "\n",
    "# Now keep the joinable 'AIRPORTCODE' column from the first join to use it in the second join\n",
    "\n",
    "# Second join for the destination airport\n",
    "lf = lf.join(airports_lf_lazy, left_on=\"DESTAIRPORTCODE\", right_on=\"airport_code\", how=\"left\") \\\n",
    "       .with_columns(pl.col(\"unique_id\").alias(\"dest_airport\"))"
   ]
  },
  {
   "cell_type": "markdown",
   "metadata": {},
   "source": [
    "### Remove As Many Unnecessary columns As Possible"
   ]
  },
  {
   "cell_type": "code",
   "execution_count": 17,
   "metadata": {},
   "outputs": [],
   "source": [
    "### *** There are more columns that will be removed later, but this helps \n",
    "### to clean up the dataset and make it easier to work with it. ***\n",
    "\n",
    "cols_to_remove = [\n",
    "    \"ORIGAIRPORTNAME\",\n",
    "    \"ORIGINCITYNAME\",\n",
    "    \"ORIGINSTATE\",\n",
    "    \"ORIGINSTATENAME\",\n",
    "    \"DESTAIRPORTNAME\",\n",
    "    \"DESTCITYNAME\",\n",
    "    \"DESTSTATE\",\n",
    "    \"DESTSTATENAME\",\n",
    "    \"CRSDEPTIME\",\n",
    "    \"DEPDELAY\",\n",
    "    \"TAXIOUT\",\n",
    "    \"WHEELSOFF\",\n",
    "    \"WHEELSON\",\n",
    "    \"TAXIIN\",\n",
    "    \"RSARRTIME\",\n",
    "    \"ARRDELAY\",\n",
    "    \"CRSELAPSEDTIME\",\n",
    "    \"ACTUALELAPSEDTIME\",\n",
    "    \"CANCELLED\",\n",
    "    \"DIVERTED\"\n",
    "    ]\n",
    "\n",
    "lf = lf.drop(cols_to_remove)"
   ]
  },
  {
   "cell_type": "markdown",
   "metadata": {},
   "source": [
    "### Drop All Samples with Any Null Values In It"
   ]
  },
  {
   "cell_type": "code",
   "execution_count": 18,
   "metadata": {},
   "outputs": [],
   "source": [
    "lf = lf.drop_nulls()"
   ]
  },
  {
   "cell_type": "markdown",
   "metadata": {},
   "source": [
    "### Drop Additional Columns & Rename New Columns"
   ]
  },
  {
   "cell_type": "code",
   "execution_count": 19,
   "metadata": {},
   "outputs": [],
   "source": [
    "lf = lf.drop(\"origin_airport\", \"dest_airport\", \"ORIGINAIRPORTCODE\", \"DESTAIRPORTCODE\")\n",
    "\n",
    "lf = lf.rename(\n",
    "    {\n",
    "        \"unique_id\": \"origin_airport_id\",\n",
    "        \"unique_id_right\": \"dest_airport_id\"\n",
    "    }\n",
    ")"
   ]
  },
  {
   "cell_type": "markdown",
   "metadata": {},
   "source": [
    "### Replace Airline Codes, Names, & Locations With An Airline ID. "
   ]
  },
  {
   "cell_type": "code",
   "execution_count": 20,
   "metadata": {},
   "outputs": [],
   "source": [
    "lf = lf.with_columns(\n",
    "    pl.col(\"AIRLINENAME\").str.extract(r\"([^:]+)\", 1).alias(\"airline_name_inter\")\n",
    ")"
   ]
  },
  {
   "cell_type": "code",
   "execution_count": 21,
   "metadata": {},
   "outputs": [
    {
     "name": "stdout",
     "output_type": "stream",
     "text": [
      "shape: (26, 3)\n",
      "┌─────────────────────────────┬──────────────┬────────────┐\n",
      "│ airline_name                ┆ airline_code ┆ airline_id │\n",
      "│ ---                         ┆ ---          ┆ ---        │\n",
      "│ str                         ┆ str          ┆ i64        │\n",
      "╞═════════════════════════════╪══════════════╪════════════╡\n",
      "│ Comair Inc.                 ┆ OH           ┆ 1          │\n",
      "│ ATA Airlines d/b/a ATA      ┆ TZ           ┆ 2          │\n",
      "│ AirTran Airways Corporation ┆ FL           ┆ 3          │\n",
      "│ Mesa Airlines Inc.          ┆ YV           ┆ 4          │\n",
      "│ Southwest Airlines Co.      ┆ WN           ┆ 5          │\n",
      "│ …                           ┆ …            ┆ …          │\n",
      "│ Northwest Airlines Inc.     ┆ NW           ┆ 22         │\n",
      "│ Trans World Airways LLC     ┆ TW           ┆ 23         │\n",
      "│ Frontier Airlines Inc.      ┆ F9           ┆ 24         │\n",
      "│ Envoy Air                   ┆ MQ           ┆ 25         │\n",
      "│ Hawaiian Airlines Inc.      ┆ HA           ┆ 26         │\n",
      "└─────────────────────────────┴──────────────┴────────────┘\n"
     ]
    }
   ],
   "source": [
    "# First, clean up the extra (& duplicative) information in the airline name feature\n",
    "lf = lf.with_columns(\n",
    "    pl.col(\"AIRLINENAME\").str.extract(r\"([^:]+)\", 1).alias(\"airline_name_inter\")\n",
    ")\n",
    "\n",
    "# Step 1: Extract airlines columns\n",
    "airlines_df_start = lf.select([\n",
    "    pl.col(\"airline_name_inter\").alias(\"airline_name\"),\n",
    "    pl.col(\"AIRLINECODE\").alias(\"airline_code\")\n",
    "])\n",
    "\n",
    "# Step 2: Materialize LazyFrame and \n",
    "unique_airlines_lf = airlines_df_start.unique()\n",
    "\n",
    "# Step 3: Convert LazyFrame to DataFrame\n",
    "unique_airlines_df = unique_airlines_lf.collect()\n",
    "\n",
    "# Step 4: Add a unique ID column\n",
    "airlines_df = unique_airlines_df.with_columns(\n",
    "    pl.arange(1, unique_airlines_df.height + 1).alias(\"airline_id\")\n",
    ")\n",
    "\n",
    "# Output the final DataFrame\n",
    "print(airlines_df)"
   ]
  },
  {
   "cell_type": "markdown",
   "metadata": {},
   "source": [
    "### Save airlines codes, names, & ID in Separate File"
   ]
  },
  {
   "cell_type": "code",
   "execution_count": 22,
   "metadata": {},
   "outputs": [
    {
     "name": "stdout",
     "output_type": "stream",
     "text": [
      "airlines_df saved to 'import/airlines.csv'\n"
     ]
    }
   ],
   "source": [
    "airlines_df.write_csv(\"../import/airlines.csv\")\n",
    "print(\"airlines_df saved to 'import/airlines.csv'\")\n",
    "\n",
    "### *** this code may or may not be commented out because so I do not want\n",
    "### to run it repeatedlywhen working through the rest of the code ***"
   ]
  },
  {
   "cell_type": "markdown",
   "metadata": {},
   "source": [
    "### Insert Respective Airline ID (& Other Columns From Airlines Dataset) Into Main Dataset For Each Record"
   ]
  },
  {
   "cell_type": "code",
   "execution_count": 23,
   "metadata": {},
   "outputs": [],
   "source": [
    "# Ensure airlines_df is used for the airlines data\n",
    "airlines_lf = airlines_df.lazy()\n",
    "\n",
    "# Perform the join with proper column references\n",
    "lf = lf.join(\n",
    "    airlines_lf,\n",
    "    left_on=\"AIRLINECODE\",   # Column in the main LazyFrame (lf)\n",
    "    right_on=\"airline_code\", # Matching column in airlines_lf\n",
    "    how=\"left\"               # Keep all rows from lf\n",
    ")"
   ]
  },
  {
   "cell_type": "markdown",
   "metadata": {},
   "source": [
    "### Remove \" miles\" From End of Distance Feature For Each Record"
   ]
  },
  {
   "cell_type": "code",
   "execution_count": 24,
   "metadata": {},
   "outputs": [],
   "source": [
    "# remove \" miles\" for end of distance column, then convert data type to integer\n",
    "\n",
    "lf = lf.with_columns(\n",
    "    pl.col(\"DISTANCE\")\n",
    "    .str.replace(\" miles\", \"\")      # Remove the \" miles\" suffix\n",
    "    .cast(pl.Int32)                 # Convert resulting string to an integer\n",
    "    .alias(\"flight_distance\")\n",
    ")"
   ]
  },
  {
   "cell_type": "markdown",
   "metadata": {},
   "source": [
    "### Rename Column Names"
   ]
  },
  {
   "cell_type": "code",
   "execution_count": 25,
   "metadata": {},
   "outputs": [],
   "source": [
    "cols_to_rename = {\n",
    "    \"TRANSACTIONID\": \"index\",\n",
    "    \"FLIGHTDATE\": \"flight_date\",\n",
    "    \"TAILNUM\": \"tail_number\",\n",
    "    \"FLIGHTNUM\": \"flight_number\",\n",
    "    \"DEPTIME\": \"sched_departure_time\",\n",
    "    \"ARRTIME\": \"sched_arrival_time\",\n",
    "}\n",
    "\n",
    "lf = lf.rename(cols_to_rename)"
   ]
  },
  {
   "cell_type": "markdown",
   "metadata": {},
   "source": [
    "### Creating Departure & Arrival Datetime Features From Provided Features"
   ]
  },
  {
   "cell_type": "code",
   "execution_count": 26,
   "metadata": {},
   "outputs": [],
   "source": [
    "lf = lf.with_columns([\n",
    "    pl.datetime(\n",
    "        year=(pl.col(\"flight_date\") // 10_000).cast(pl.Int32),\n",
    "        month=((pl.col(\"flight_date\") % 10_000) // 100).cast(pl.Int32),\n",
    "        day=(pl.col(\"flight_date\") % 100).cast(pl.Int32),\n",
    "        hour=(pl.col(\"sched_departure_time\") // 100).cast(pl.Int32),\n",
    "        minute=(pl.col(\"sched_departure_time\") % 100).cast(pl.Int32),\n",
    "        second=pl.lit(0)\n",
    "    ).alias(\"departure_datetime\"),\n",
    "    pl.datetime(\n",
    "        year=(pl.col(\"flight_date\") // 10_000).cast(pl.Int32),\n",
    "        month=((pl.col(\"flight_date\") % 10_000) // 100).cast(pl.Int32),\n",
    "        day=(pl.col(\"flight_date\") % 100).cast(pl.Int32),\n",
    "        hour=(pl.col(\"sched_arrival_time\") // 100).cast(pl.Int32),\n",
    "        minute=(pl.col(\"sched_arrival_time\") % 100).cast(pl.Int32),\n",
    "        second=pl.lit(0)\n",
    "    ).alias(\"arrival_datetime\")\n",
    "])"
   ]
  },
  {
   "cell_type": "markdown",
   "metadata": {},
   "source": [
    "### Remove Additional Features"
   ]
  },
  {
   "cell_type": "code",
   "execution_count": 27,
   "metadata": {},
   "outputs": [],
   "source": [
    "cols_to_remove = [\n",
    "    \"flight_date\",\n",
    "    \"sched_departure_time\",\n",
    "    \"sched_arrival_time\",\n",
    "    \"AIRLINENAME\",\n",
    "    \"DISTANCE\",\n",
    "    \"AIRLINECODE\",\n",
    "    \"airline_name_inter\", \n",
    "    \"airline_name\"\n",
    "]\n",
    "\n",
    "lf = lf.drop(cols_to_remove)"
   ]
  },
  {
   "cell_type": "markdown",
   "metadata": {},
   "source": [
    "### Create DataFrame From LazyFrame Using Collect() Method & Drop Columns As Necessary & Drop Rows With Null Values in it"
   ]
  },
  {
   "cell_type": "code",
   "execution_count": 28,
   "metadata": {},
   "outputs": [
    {
     "data": {
      "text/html": [
       "<div><style>\n",
       ".dataframe > thead > tr,\n",
       ".dataframe > tbody > tr {\n",
       "  text-align: right;\n",
       "  white-space: pre-wrap;\n",
       "}\n",
       "</style>\n",
       "<small>shape: (992_298, 9)</small><table border=\"1\" class=\"dataframe\"><thead><tr><th>index</th><th>tail_number</th><th>flight_number</th><th>origin_airport_id</th><th>dest_airport_id</th><th>airline_id</th><th>flight_distance</th><th>departure_datetime</th><th>arrival_datetime</th></tr><tr><td>i64</td><td>str</td><td>i64</td><td>i64</td><td>i64</td><td>i64</td><td>i32</td><td>datetime[μs]</td><td>datetime[μs]</td></tr></thead><tbody><tr><td>54548800</td><td>&quot;N103@@&quot;</td><td>1425</td><td>237</td><td>288</td><td>5</td><td>580</td><td>2002-01-01 14:25:00</td><td>2002-01-01 16:52:00</td></tr><tr><td>55872300</td><td>&quot;N83872&quot;</td><td>150</td><td>237</td><td>106</td><td>21</td><td>744</td><td>2002-01-01 11:36:00</td><td>2002-01-01 14:35:00</td></tr><tr><td>54388800</td><td>&quot;N334@@&quot;</td><td>249</td><td>237</td><td>335</td><td>5</td><td>718</td><td>2002-01-01 13:38:00</td><td>2002-01-01 16:20:00</td></tr><tr><td>54486500</td><td>&quot;N699@@&quot;</td><td>902</td><td>237</td><td>247</td><td>5</td><td>487</td><td>2002-01-01 19:25:00</td><td>2002-01-01 19:48:00</td></tr><tr><td>55878700</td><td>&quot;N58606&quot;</td><td>234</td><td>237</td><td>106</td><td>21</td><td>744</td><td>2002-01-03 14:53:00</td><td>2002-01-03 17:47:00</td></tr><tr><td>&hellip;</td><td>&hellip;</td><td>&hellip;</td><td>&hellip;</td><td>&hellip;</td><td>&hellip;</td><td>&hellip;</td><td>&hellip;</td><td>&hellip;</td></tr><tr><td>126750200</td><td>&quot;N683BR&quot;</td><td>5272</td><td>31</td><td>288</td><td>9</td><td>721</td><td>2013-01-06 13:48:00</td><td>2013-01-06 15:03:00</td></tr><tr><td>127294500</td><td>&quot;N949DL&quot;</td><td>1711</td><td>31</td><td>278</td><td>7</td><td>731</td><td>2013-01-06 21:47:00</td><td>2013-01-06 23:17:00</td></tr><tr><td>127294900</td><td>&quot;N907DE&quot;</td><td>1810</td><td>31</td><td>278</td><td>7</td><td>731</td><td>2013-01-06 16:17:00</td><td>2013-01-06 17:37:00</td></tr><tr><td>126594900</td><td>&quot;N855AS&quot;</td><td>5208</td><td>31</td><td>1</td><td>9</td><td>508</td><td>2013-01-06 15:14:00</td><td>2013-01-06 16:55:00</td></tr><tr><td>126620300</td><td>&quot;N138EV&quot;</td><td>5549</td><td>31</td><td>52</td><td>9</td><td>306</td><td>2013-01-06 14:58:00</td><td>2013-01-06 16:15:00</td></tr></tbody></table></div>"
      ],
      "text/plain": [
       "shape: (992_298, 9)\n",
       "┌──────────┬──────────┬──────────┬──────────┬──────────┬──────────┬──────────┬──────────┬──────────┐\n",
       "│ index    ┆ tail_num ┆ flight_n ┆ origin_a ┆ dest_air ┆ airline_ ┆ flight_d ┆ departur ┆ arrival_ │\n",
       "│ ---      ┆ ber      ┆ umber    ┆ irport_i ┆ port_id  ┆ id       ┆ istance  ┆ e_dateti ┆ datetime │\n",
       "│ i64      ┆ ---      ┆ ---      ┆ d        ┆ ---      ┆ ---      ┆ ---      ┆ me       ┆ ---      │\n",
       "│          ┆ str      ┆ i64      ┆ ---      ┆ i64      ┆ i64      ┆ i32      ┆ ---      ┆ datetime │\n",
       "│          ┆          ┆          ┆ i64      ┆          ┆          ┆          ┆ datetime ┆ [μs]     │\n",
       "│          ┆          ┆          ┆          ┆          ┆          ┆          ┆ [μs]     ┆          │\n",
       "╞══════════╪══════════╪══════════╪══════════╪══════════╪══════════╪══════════╪══════════╪══════════╡\n",
       "│ 54548800 ┆ N103@@   ┆ 1425     ┆ 237      ┆ 288      ┆ 5        ┆ 580      ┆ 2002-01- ┆ 2002-01- │\n",
       "│          ┆          ┆          ┆          ┆          ┆          ┆          ┆ 01       ┆ 01       │\n",
       "│          ┆          ┆          ┆          ┆          ┆          ┆          ┆ 14:25:00 ┆ 16:52:00 │\n",
       "│ 55872300 ┆ N83872   ┆ 150      ┆ 237      ┆ 106      ┆ 21       ┆ 744      ┆ 2002-01- ┆ 2002-01- │\n",
       "│          ┆          ┆          ┆          ┆          ┆          ┆          ┆ 01       ┆ 01       │\n",
       "│          ┆          ┆          ┆          ┆          ┆          ┆          ┆ 11:36:00 ┆ 14:35:00 │\n",
       "│ 54388800 ┆ N334@@   ┆ 249      ┆ 237      ┆ 335      ┆ 5        ┆ 718      ┆ 2002-01- ┆ 2002-01- │\n",
       "│          ┆          ┆          ┆          ┆          ┆          ┆          ┆ 01       ┆ 01       │\n",
       "│          ┆          ┆          ┆          ┆          ┆          ┆          ┆ 13:38:00 ┆ 16:20:00 │\n",
       "│ 54486500 ┆ N699@@   ┆ 902      ┆ 237      ┆ 247      ┆ 5        ┆ 487      ┆ 2002-01- ┆ 2002-01- │\n",
       "│          ┆          ┆          ┆          ┆          ┆          ┆          ┆ 01       ┆ 01       │\n",
       "│          ┆          ┆          ┆          ┆          ┆          ┆          ┆ 19:25:00 ┆ 19:48:00 │\n",
       "│ 55878700 ┆ N58606   ┆ 234      ┆ 237      ┆ 106      ┆ 21       ┆ 744      ┆ 2002-01- ┆ 2002-01- │\n",
       "│          ┆          ┆          ┆          ┆          ┆          ┆          ┆ 03       ┆ 03       │\n",
       "│          ┆          ┆          ┆          ┆          ┆          ┆          ┆ 14:53:00 ┆ 17:47:00 │\n",
       "│ …        ┆ …        ┆ …        ┆ …        ┆ …        ┆ …        ┆ …        ┆ …        ┆ …        │\n",
       "│ 12675020 ┆ N683BR   ┆ 5272     ┆ 31       ┆ 288      ┆ 9        ┆ 721      ┆ 2013-01- ┆ 2013-01- │\n",
       "│ 0        ┆          ┆          ┆          ┆          ┆          ┆          ┆ 06       ┆ 06       │\n",
       "│          ┆          ┆          ┆          ┆          ┆          ┆          ┆ 13:48:00 ┆ 15:03:00 │\n",
       "│ 12729450 ┆ N949DL   ┆ 1711     ┆ 31       ┆ 278      ┆ 7        ┆ 731      ┆ 2013-01- ┆ 2013-01- │\n",
       "│ 0        ┆          ┆          ┆          ┆          ┆          ┆          ┆ 06       ┆ 06       │\n",
       "│          ┆          ┆          ┆          ┆          ┆          ┆          ┆ 21:47:00 ┆ 23:17:00 │\n",
       "│ 12729490 ┆ N907DE   ┆ 1810     ┆ 31       ┆ 278      ┆ 7        ┆ 731      ┆ 2013-01- ┆ 2013-01- │\n",
       "│ 0        ┆          ┆          ┆          ┆          ┆          ┆          ┆ 06       ┆ 06       │\n",
       "│          ┆          ┆          ┆          ┆          ┆          ┆          ┆ 16:17:00 ┆ 17:37:00 │\n",
       "│ 12659490 ┆ N855AS   ┆ 5208     ┆ 31       ┆ 1        ┆ 9        ┆ 508      ┆ 2013-01- ┆ 2013-01- │\n",
       "│ 0        ┆          ┆          ┆          ┆          ┆          ┆          ┆ 06       ┆ 06       │\n",
       "│          ┆          ┆          ┆          ┆          ┆          ┆          ┆ 15:14:00 ┆ 16:55:00 │\n",
       "│ 12662030 ┆ N138EV   ┆ 5549     ┆ 31       ┆ 52       ┆ 9        ┆ 306      ┆ 2013-01- ┆ 2013-01- │\n",
       "│ 0        ┆          ┆          ┆          ┆          ┆          ┆          ┆ 06       ┆ 06       │\n",
       "│          ┆          ┆          ┆          ┆          ┆          ┆          ┆ 14:58:00 ┆ 16:15:00 │\n",
       "└──────────┴──────────┴──────────┴──────────┴──────────┴──────────┴──────────┴──────────┴──────────┘"
      ]
     },
     "execution_count": 28,
     "metadata": {},
     "output_type": "execute_result"
    }
   ],
   "source": [
    "df = lf.collect()\n",
    "\n",
    "cols_to_drop = [\n",
    "    \"city_name\",\n",
    "    \"state\",\n",
    "    \"state_name\",\n",
    "    \"airport_name\",\n",
    "    \"city_name_right\",\n",
    "    \"state_right\",\n",
    "    \"state_name_right\",\n",
    "    \"airport_name_right\"\n",
    "]\n",
    "\n",
    "df = df.drop(cols_to_drop)\n",
    "\n",
    "df = df.drop_nulls()\n",
    "\n",
    "df"
   ]
  },
  {
   "cell_type": "markdown",
   "metadata": {},
   "source": [
    "### Gain Some Livel-Level Insights About Cleaned Dataset"
   ]
  },
  {
   "cell_type": "code",
   "execution_count": 29,
   "metadata": {},
   "outputs": [
    {
     "data": {
      "text/html": [
       "<div><style>\n",
       ".dataframe > thead > tr,\n",
       ".dataframe > tbody > tr {\n",
       "  text-align: right;\n",
       "  white-space: pre-wrap;\n",
       "}\n",
       "</style>\n",
       "<small>shape: (9, 10)</small><table border=\"1\" class=\"dataframe\"><thead><tr><th>statistic</th><th>index</th><th>tail_number</th><th>flight_number</th><th>origin_airport_id</th><th>dest_airport_id</th><th>airline_id</th><th>flight_distance</th><th>departure_datetime</th><th>arrival_datetime</th></tr><tr><td>str</td><td>f64</td><td>str</td><td>f64</td><td>f64</td><td>f64</td><td>f64</td><td>f64</td><td>str</td><td>str</td></tr></thead><tbody><tr><td>&quot;count&quot;</td><td>992298.0</td><td>&quot;992298&quot;</td><td>992298.0</td><td>992298.0</td><td>992298.0</td><td>992298.0</td><td>992298.0</td><td>&quot;992298&quot;</td><td>&quot;992298&quot;</td></tr><tr><td>&quot;null_count&quot;</td><td>0.0</td><td>&quot;0&quot;</td><td>0.0</td><td>0.0</td><td>0.0</td><td>0.0</td><td>0.0</td><td>&quot;0&quot;</td><td>&quot;0&quot;</td></tr><tr><td>&quot;mean&quot;</td><td>8.0362e7</td><td>null</td><td>1746.187129</td><td>166.563832</td><td>166.686402</td><td>12.573329</td><td>750.70478</td><td>&quot;2005-09-19 06:38:07.546604&quot;</td><td>&quot;2005-09-19 08:09:19.159526&quot;</td></tr><tr><td>&quot;std&quot;</td><td>4.2882e7</td><td>null</td><td>1650.733091</td><td>106.036002</td><td>105.987291</td><td>6.694946</td><td>574.33601</td><td>null</td><td>null</td></tr><tr><td>&quot;min&quot;</td><td>1.53362e7</td><td>&quot;&#x27;144DA&quot;</td><td>1.0</td><td>1.0</td><td>1.0</td><td>1.0</td><td>18.0</td><td>&quot;1995-01-01 06:00:00&quot;</td><td>&quot;1995-01-01 00:02:00&quot;</td></tr><tr><td>&quot;25%&quot;</td><td>4.14714e7</td><td>null</td><td>548.0</td><td>56.0</td><td>56.0</td><td>7.0</td><td>331.0</td><td>&quot;1999-09-16 09:45:00&quot;</td><td>&quot;1999-09-16 11:02:00&quot;</td></tr><tr><td>&quot;50%&quot;</td><td>6.77291e7</td><td>null</td><td>1234.0</td><td>158.0</td><td>158.0</td><td>10.0</td><td>592.0</td><td>&quot;2004-01-24 12:12:00&quot;</td><td>&quot;2004-01-24 14:15:00&quot;</td></tr><tr><td>&quot;75%&quot;</td><td>1.221044e8</td><td>null</td><td>2233.0</td><td>278.0</td><td>278.0</td><td>19.0</td><td>987.0</td><td>&quot;2012-01-28 13:18:00&quot;</td><td>&quot;2012-01-28 15:30:00&quot;</td></tr><tr><td>&quot;max&quot;</td><td>1.478182e8</td><td>&quot;n816ca&quot;</td><td>9899.0</td><td>365.0</td><td>365.0</td><td>26.0</td><td>4983.0</td><td>&quot;2016-05-31 23:56:00&quot;</td><td>&quot;2016-05-31 23:58:00&quot;</td></tr></tbody></table></div>"
      ],
      "text/plain": [
       "shape: (9, 10)\n",
       "┌─────────┬─────────┬─────────┬─────────┬─────────┬─────────┬─────────┬─────────┬─────────┬────────┐\n",
       "│ statist ┆ index   ┆ tail_nu ┆ flight_ ┆ origin_ ┆ dest_ai ┆ airline ┆ flight_ ┆ departu ┆ arriva │\n",
       "│ ic      ┆ ---     ┆ mber    ┆ number  ┆ airport ┆ rport_i ┆ _id     ┆ distanc ┆ re_date ┆ l_date │\n",
       "│ ---     ┆ f64     ┆ ---     ┆ ---     ┆ _id     ┆ d       ┆ ---     ┆ e       ┆ time    ┆ time   │\n",
       "│ str     ┆         ┆ str     ┆ f64     ┆ ---     ┆ ---     ┆ f64     ┆ ---     ┆ ---     ┆ ---    │\n",
       "│         ┆         ┆         ┆         ┆ f64     ┆ f64     ┆         ┆ f64     ┆ str     ┆ str    │\n",
       "╞═════════╪═════════╪═════════╪═════════╪═════════╪═════════╪═════════╪═════════╪═════════╪════════╡\n",
       "│ count   ┆ 992298. ┆ 992298  ┆ 992298. ┆ 992298. ┆ 992298. ┆ 992298. ┆ 992298. ┆ 992298  ┆ 992298 │\n",
       "│         ┆ 0       ┆         ┆ 0       ┆ 0       ┆ 0       ┆ 0       ┆ 0       ┆         ┆        │\n",
       "│ null_co ┆ 0.0     ┆ 0       ┆ 0.0     ┆ 0.0     ┆ 0.0     ┆ 0.0     ┆ 0.0     ┆ 0       ┆ 0      │\n",
       "│ unt     ┆         ┆         ┆         ┆         ┆         ┆         ┆         ┆         ┆        │\n",
       "│ mean    ┆ 8.0362e ┆ null    ┆ 1746.18 ┆ 166.563 ┆ 166.686 ┆ 12.5733 ┆ 750.704 ┆ 2005-09 ┆ 2005-0 │\n",
       "│         ┆ 7       ┆         ┆ 7129    ┆ 832     ┆ 402     ┆ 29      ┆ 78      ┆ -19 06: ┆ 9-19   │\n",
       "│         ┆         ┆         ┆         ┆         ┆         ┆         ┆         ┆ 38:07.5 ┆ 08:09: │\n",
       "│         ┆         ┆         ┆         ┆         ┆         ┆         ┆         ┆ 46604   ┆ 19.159 │\n",
       "│         ┆         ┆         ┆         ┆         ┆         ┆         ┆         ┆         ┆ 526    │\n",
       "│ std     ┆ 4.2882e ┆ null    ┆ 1650.73 ┆ 106.036 ┆ 105.987 ┆ 6.69494 ┆ 574.336 ┆ null    ┆ null   │\n",
       "│         ┆ 7       ┆         ┆ 3091    ┆ 002     ┆ 291     ┆ 6       ┆ 01      ┆         ┆        │\n",
       "│ min     ┆ 1.53362 ┆ '144DA  ┆ 1.0     ┆ 1.0     ┆ 1.0     ┆ 1.0     ┆ 18.0    ┆ 1995-01 ┆ 1995-0 │\n",
       "│         ┆ e7      ┆         ┆         ┆         ┆         ┆         ┆         ┆ -01 06: ┆ 1-01   │\n",
       "│         ┆         ┆         ┆         ┆         ┆         ┆         ┆         ┆ 00:00   ┆ 00:02: │\n",
       "│         ┆         ┆         ┆         ┆         ┆         ┆         ┆         ┆         ┆ 00     │\n",
       "│ 25%     ┆ 4.14714 ┆ null    ┆ 548.0   ┆ 56.0    ┆ 56.0    ┆ 7.0     ┆ 331.0   ┆ 1999-09 ┆ 1999-0 │\n",
       "│         ┆ e7      ┆         ┆         ┆         ┆         ┆         ┆         ┆ -16 09: ┆ 9-16   │\n",
       "│         ┆         ┆         ┆         ┆         ┆         ┆         ┆         ┆ 45:00   ┆ 11:02: │\n",
       "│         ┆         ┆         ┆         ┆         ┆         ┆         ┆         ┆         ┆ 00     │\n",
       "│ 50%     ┆ 6.77291 ┆ null    ┆ 1234.0  ┆ 158.0   ┆ 158.0   ┆ 10.0    ┆ 592.0   ┆ 2004-01 ┆ 2004-0 │\n",
       "│         ┆ e7      ┆         ┆         ┆         ┆         ┆         ┆         ┆ -24 12: ┆ 1-24   │\n",
       "│         ┆         ┆         ┆         ┆         ┆         ┆         ┆         ┆ 12:00   ┆ 14:15: │\n",
       "│         ┆         ┆         ┆         ┆         ┆         ┆         ┆         ┆         ┆ 00     │\n",
       "│ 75%     ┆ 1.22104 ┆ null    ┆ 2233.0  ┆ 278.0   ┆ 278.0   ┆ 19.0    ┆ 987.0   ┆ 2012-01 ┆ 2012-0 │\n",
       "│         ┆ 4e8     ┆         ┆         ┆         ┆         ┆         ┆         ┆ -28 13: ┆ 1-28   │\n",
       "│         ┆         ┆         ┆         ┆         ┆         ┆         ┆         ┆ 18:00   ┆ 15:30: │\n",
       "│         ┆         ┆         ┆         ┆         ┆         ┆         ┆         ┆         ┆ 00     │\n",
       "│ max     ┆ 1.47818 ┆ n816ca  ┆ 9899.0  ┆ 365.0   ┆ 365.0   ┆ 26.0    ┆ 4983.0  ┆ 2016-05 ┆ 2016-0 │\n",
       "│         ┆ 2e8     ┆         ┆         ┆         ┆         ┆         ┆         ┆ -31 23: ┆ 5-31   │\n",
       "│         ┆         ┆         ┆         ┆         ┆         ┆         ┆         ┆ 56:00   ┆ 23:58: │\n",
       "│         ┆         ┆         ┆         ┆         ┆         ┆         ┆         ┆         ┆ 00     │\n",
       "└─────────┴─────────┴─────────┴─────────┴─────────┴─────────┴─────────┴─────────┴─────────┴────────┘"
      ]
     },
     "execution_count": 29,
     "metadata": {},
     "output_type": "execute_result"
    }
   ],
   "source": [
    "df.describe()"
   ]
  },
  {
   "cell_type": "markdown",
   "metadata": {},
   "source": [
    "### Save Main Dataset to CSV File For Later Use"
   ]
  },
  {
   "cell_type": "code",
   "execution_count": 30,
   "metadata": {},
   "outputs": [],
   "source": [
    "df.write_csv(\n",
    "    \"../import/data.csv\", \n",
    "    include_header = True)\n",
    "\n",
    "### *** this code may or may not be commented out because so I do not want\n",
    "### to run it repeatedlywhen working through the rest of the code ***"
   ]
  },
  {
   "cell_type": "markdown",
   "metadata": {},
   "source": [
    "### Important Notes About This Project\n",
    "\n",
    "- The resulting datasets (& and the files that are saved to) are located in the import folder/directory."
   ]
  }
 ],
 "metadata": {
  "kernelspec": {
   "display_name": "Python 3",
   "language": "python",
   "name": "python3"
  },
  "language_info": {
   "codemirror_mode": {
    "name": "ipython",
    "version": 3
   },
   "file_extension": ".py",
   "mimetype": "text/x-python",
   "name": "python",
   "nbconvert_exporter": "python",
   "pygments_lexer": "ipython3",
   "version": "3.11.4"
  }
 },
 "nbformat": 4,
 "nbformat_minor": 2
}
